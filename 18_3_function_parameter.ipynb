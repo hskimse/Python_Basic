{
  "nbformat": 4,
  "nbformat_minor": 0,
  "metadata": {
    "kernelspec": {
      "display_name": "Python 3",
      "language": "python",
      "name": "python3"
    },
    "language_info": {
      "codemirror_mode": {
        "name": "ipython",
        "version": 3
      },
      "file_extension": ".py",
      "mimetype": "text/x-python",
      "name": "python",
      "nbconvert_exporter": "python",
      "pygments_lexer": "ipython3",
      "version": "3.7.6"
    },
    "colab": {
      "name": "18-3. function parameter.ipynb",
      "provenance": [],
      "include_colab_link": true
    }
  },
  "cells": [
    {
      "cell_type": "markdown",
      "metadata": {
        "id": "view-in-github",
        "colab_type": "text"
      },
      "source": [
        "<a href=\"https://colab.research.google.com/github/joohoshin/Python_Basic/blob/master/18_3_function_parameter.ipynb\" target=\"_parent\"><img src=\"https://colab.research.google.com/assets/colab-badge.svg\" alt=\"Open In Colab\"/></a>"
      ]
    },
    {
      "cell_type": "markdown",
      "metadata": {
        "collapsed": true,
        "id": "qTnPdXH8N0CS"
      },
      "source": [
        "# Function Parameter\n",
        "* 함수의 입력값에 대해서 좀 더 상세히 알아 봅시다\n",
        "* https://www.programiz.com/python-programming/function-argument"
      ]
    },
    {
      "cell_type": "markdown",
      "metadata": {
        "id": "zG2zccr1N0CU"
      },
      "source": [
        "* 함수의 입력 값은 변수명을 지정하지 않으면 앞에서부터 인식됩니다"
      ]
    },
    {
      "cell_type": "code",
      "metadata": {
        "id": "9gQbU4N7N0CV"
      },
      "source": [
        "def talk(name, say):\n",
        "    print(name, say)"
      ],
      "execution_count": null,
      "outputs": []
    },
    {
      "cell_type": "code",
      "metadata": {
        "id": "2EZa5ykeN0Cb",
        "outputId": "6ef5059f-29bf-4169-c6e6-fbb893bc3431",
        "colab": {
          "base_uri": "https://localhost:8080/"
        }
      },
      "source": [
        "talk('Mina', 'I love you')"
      ],
      "execution_count": null,
      "outputs": [
        {
          "output_type": "stream",
          "text": [
            "Mina I love you\n"
          ],
          "name": "stdout"
        }
      ]
    },
    {
      "cell_type": "markdown",
      "metadata": {
        "id": "VpsEFkMJN0Cg"
      },
      "source": [
        "* 어떤 입력 값인지를 정확히 적어줄 수도 있으며, 이때에는 순서가 바뀌어도 관계없습니다"
      ]
    },
    {
      "cell_type": "code",
      "metadata": {
        "id": "XFvMbd3RN0Ch",
        "outputId": "94db787b-29a1-46b7-8e62-613a569bbc4d",
        "colab": {
          "base_uri": "https://localhost:8080/"
        }
      },
      "source": [
        "talk(say='I love you', name = 'Mina')"
      ],
      "execution_count": null,
      "outputs": [
        {
          "output_type": "stream",
          "text": [
            "Mina I love you\n"
          ],
          "name": "stdout"
        }
      ]
    },
    {
      "cell_type": "markdown",
      "metadata": {
        "id": "FbEwpR4yN0Ck"
      },
      "source": [
        "* 입력값에 기본값을 지정할 수도 있으며, 이때에는 입력을 하지 않으면 기본값이 적용됩니다"
      ]
    },
    {
      "cell_type": "code",
      "metadata": {
        "id": "vAsygvYrN0Cl"
      },
      "source": [
        "def talk2(name, say='Nice to meet you'):\n",
        "    print(name, say)"
      ],
      "execution_count": null,
      "outputs": []
    },
    {
      "cell_type": "code",
      "metadata": {
        "id": "eFSRSvpjN0Cn",
        "outputId": "751d02e0-f3c1-4e71-9b0c-fdaafbe74294",
        "colab": {
          "base_uri": "https://localhost:8080/"
        }
      },
      "source": [
        "talk2('Mina')"
      ],
      "execution_count": null,
      "outputs": [
        {
          "output_type": "stream",
          "text": [
            "Mina Nice to meet you\n"
          ],
          "name": "stdout"
        }
      ]
    },
    {
      "cell_type": "code",
      "metadata": {
        "id": "cdA9TnefN0Cq",
        "outputId": "5c8e1815-f2c6-45ff-9f93-bb5c4dbb5c23",
        "colab": {
          "base_uri": "https://localhost:8080/"
        }
      },
      "source": [
        "talk2('Mina', 'I Love you')"
      ],
      "execution_count": null,
      "outputs": [
        {
          "output_type": "stream",
          "text": [
            "Mina I Love you\n"
          ],
          "name": "stdout"
        }
      ]
    },
    {
      "cell_type": "markdown",
      "metadata": {
        "id": "MLtudTFUN0Cs"
      },
      "source": [
        "* 기본값이 지정되지 않은 입력값은 넣지 않으면 오류가 발생합니다"
      ]
    },
    {
      "cell_type": "code",
      "metadata": {
        "id": "te7iXw8sN0Cu",
        "outputId": "861c3a9f-ca57-481b-85f8-e88fd8bfc10e",
        "colab": {
          "base_uri": "https://localhost:8080/",
          "height": 176
        }
      },
      "source": [
        "talk2()"
      ],
      "execution_count": null,
      "outputs": [
        {
          "output_type": "error",
          "ename": "TypeError",
          "evalue": "ignored",
          "traceback": [
            "\u001b[0;31m---------------------------------------------------------------------------\u001b[0m",
            "\u001b[0;31mTypeError\u001b[0m                                 Traceback (most recent call last)",
            "\u001b[0;32m<ipython-input-7-403540d34fef>\u001b[0m in \u001b[0;36m<module>\u001b[0;34m()\u001b[0m\n\u001b[0;32m----> 1\u001b[0;31m \u001b[0mtalk2\u001b[0m\u001b[0;34m(\u001b[0m\u001b[0;34m)\u001b[0m\u001b[0;34m\u001b[0m\u001b[0;34m\u001b[0m\u001b[0m\n\u001b[0m",
            "\u001b[0;31mTypeError\u001b[0m: talk2() missing 1 required positional argument: 'name'"
          ]
        }
      ]
    },
    {
      "cell_type": "markdown",
      "metadata": {
        "id": "rATvJTXuN0Cx"
      },
      "source": [
        "* Pandas sort_value 함수의 공식 문서를 살펴봅시다\n",
        "* https://pandas.pydata.org/pandas-docs/stable/reference/api/pandas.DataFrame.sort_values.html\n",
        "* DataFrame.sort_values(by, axis=0, ascending=True, inplace=False, kind='quicksort', na_position='last', ignore_index=False, key=None)"
      ]
    },
    {
      "cell_type": "markdown",
      "metadata": {
        "id": "C-qE3ikPN0Cy"
      },
      "source": [
        "* 위의 함수 입력 부분을 보면 여러가지가 기본값이 지정되어 있습니다\n",
        "* self는 class 라는 것을 만들때 들어가는 부분이고, 없다고 생각하고 입력값을 보세요\n",
        "* by의 경우는 반드시 넣어야 하는 것을 알 수 있습니다. "
      ]
    },
    {
      "cell_type": "code",
      "metadata": {
        "id": "Q846Dj4CN0Cy"
      },
      "source": [
        ""
      ],
      "execution_count": null,
      "outputs": []
    }
  ]
}