{
  "nbformat": 4,
  "nbformat_minor": 0,
  "metadata": {
    "kernelspec": {
      "display_name": "Python 3",
      "language": "python",
      "name": "python3"
    },
    "language_info": {
      "codemirror_mode": {
        "name": "ipython",
        "version": 3
      },
      "file_extension": ".py",
      "mimetype": "text/x-python",
      "name": "python",
      "nbconvert_exporter": "python",
      "pygments_lexer": "ipython3",
      "version": "3.7.3"
    },
    "colab": {
      "name": "10-2. 예외처리.ipynb",
      "provenance": [],
      "include_colab_link": true
    }
  },
  "cells": [
    {
      "cell_type": "markdown",
      "metadata": {
        "id": "view-in-github",
        "colab_type": "text"
      },
      "source": [
        "<a href=\"https://colab.research.google.com/github/joohoshin/Python_Basic/blob/master/10_2_%EC%98%88%EC%99%B8%EC%B2%98%EB%A6%AC.ipynb\" target=\"_parent\"><img src=\"https://colab.research.google.com/assets/colab-badge.svg\" alt=\"Open In Colab\"/></a>"
      ]
    },
    {
      "cell_type": "markdown",
      "metadata": {
        "id": "B_FkSMpnUfYA"
      },
      "source": [
        "# 예외처리\n",
        "\n",
        "* 오류가 발생할 때 안내문을 띄우거나 오류에 따른 명령을 실행할 수 있다. \n",
        "* try ~ except를 사용한다"
      ]
    },
    {
      "cell_type": "code",
      "metadata": {
        "scrolled": true,
        "id": "mejfQ4w9UfYD",
        "outputId": "55758b43-5afd-4b4c-91ec-bc0441a1c267",
        "colab": {
          "base_uri": "https://localhost:8080/",
          "height": 208
        }
      },
      "source": [
        "num = input('좋아하는 숫자를 입력하세요 >> ')\n",
        "print(int(num)*100)"
      ],
      "execution_count": null,
      "outputs": [
        {
          "output_type": "stream",
          "text": [
            "좋아하는 숫자를 입력하세요 >> a\n"
          ],
          "name": "stdout"
        },
        {
          "output_type": "error",
          "ename": "ValueError",
          "evalue": "ignored",
          "traceback": [
            "\u001b[0;31m---------------------------------------------------------------------------\u001b[0m",
            "\u001b[0;31mValueError\u001b[0m                                Traceback (most recent call last)",
            "\u001b[0;32m<ipython-input-14-996d2e1e4785>\u001b[0m in \u001b[0;36m<module>\u001b[0;34m()\u001b[0m\n\u001b[1;32m      1\u001b[0m \u001b[0mnum\u001b[0m \u001b[0;34m=\u001b[0m \u001b[0minput\u001b[0m\u001b[0;34m(\u001b[0m\u001b[0;34m'좋아하는 숫자를 입력하세요 >> '\u001b[0m\u001b[0;34m)\u001b[0m\u001b[0;34m\u001b[0m\u001b[0;34m\u001b[0m\u001b[0m\n\u001b[0;32m----> 2\u001b[0;31m \u001b[0mprint\u001b[0m\u001b[0;34m(\u001b[0m\u001b[0mint\u001b[0m\u001b[0;34m(\u001b[0m\u001b[0mnum\u001b[0m\u001b[0;34m)\u001b[0m\u001b[0;34m*\u001b[0m\u001b[0;36m100\u001b[0m\u001b[0;34m)\u001b[0m\u001b[0;34m\u001b[0m\u001b[0;34m\u001b[0m\u001b[0m\n\u001b[0m",
            "\u001b[0;31mValueError\u001b[0m: invalid literal for int() with base 10: 'a'"
          ]
        }
      ]
    },
    {
      "cell_type": "markdown",
      "metadata": {
        "id": "2BfeJCVTUfYQ"
      },
      "source": [
        "* 숫자를 입력 받아야하는데 위처럼 숫자가 아닌 것을 입력하면 오류가 발생\n",
        "* 이런 경우에 오류가 발생하면 다른 출력을 하게 할 수 있습니다 ."
      ]
    },
    {
      "cell_type": "code",
      "metadata": {
        "id": "B9l-QOLOUfYS",
        "outputId": "8720ba56-6467-4b6b-d8f9-5bf9d86bc26e",
        "colab": {
          "base_uri": "https://localhost:8080/",
          "height": 53
        }
      },
      "source": [
        "num = input('좋아하는 숫자를 입력하세요 >> ')\n",
        "try:\n",
        "    print(int(num)*100)\n",
        "except:\n",
        "    print('숫자를 입력해야 합니다. ')"
      ],
      "execution_count": null,
      "outputs": [
        {
          "output_type": "stream",
          "text": [
            "좋아하는 숫자를 입력하세요 >> a\n",
            "숫자를 입력해야 합니다. \n"
          ],
          "name": "stdout"
        }
      ]
    },
    {
      "cell_type": "code",
      "metadata": {
        "id": "ToSSN59OUfYZ",
        "outputId": "d1c94918-137a-4bb2-e544-1186b0ec0d36",
        "colab": {
          "base_uri": "https://localhost:8080/",
          "height": 53
        }
      },
      "source": [
        "num = input('좋아하는 숫자를 입력하세요 >> ')\n",
        "try:\n",
        "    print(int(num)*100)\n",
        "except ValueError:\n",
        "    print('숫자를 입력해야 합니다. ')"
      ],
      "execution_count": null,
      "outputs": [
        {
          "output_type": "stream",
          "text": [
            "좋아하는 숫자를 입력하세요 >> a\n",
            "숫자를 입력해야 합니다. \n"
          ],
          "name": "stdout"
        }
      ]
    },
    {
      "cell_type": "markdown",
      "metadata": {
        "id": "WNocBhRYUfYl"
      },
      "source": [
        "* 0으로 나누는 연산은 ZeroDivisionError 입니다"
      ]
    },
    {
      "cell_type": "code",
      "metadata": {
        "id": "wgKT5suBUfYn",
        "outputId": "edb5a2f8-c042-4e8a-8f91-0a6b57d1a7e6",
        "colab": {
          "base_uri": "https://localhost:8080/",
          "height": 172
        }
      },
      "source": [
        "3/0"
      ],
      "execution_count": null,
      "outputs": [
        {
          "output_type": "error",
          "ename": "ZeroDivisionError",
          "evalue": "ignored",
          "traceback": [
            "\u001b[0;31m---------------------------------------------------------------------------\u001b[0m",
            "\u001b[0;31mZeroDivisionError\u001b[0m                         Traceback (most recent call last)",
            "\u001b[0;32m<ipython-input-18-f6cc6d14333b>\u001b[0m in \u001b[0;36m<module>\u001b[0;34m()\u001b[0m\n\u001b[0;32m----> 1\u001b[0;31m \u001b[0;36m3\u001b[0m\u001b[0;34m/\u001b[0m\u001b[0;36m0\u001b[0m\u001b[0;34m\u001b[0m\u001b[0;34m\u001b[0m\u001b[0m\n\u001b[0m",
            "\u001b[0;31mZeroDivisionError\u001b[0m: division by zero"
          ]
        }
      ]
    },
    {
      "cell_type": "code",
      "metadata": {
        "id": "q2vf-HlsUfYv",
        "outputId": "7909e373-f263-48f6-e359-f393603647d5",
        "colab": {
          "base_uri": "https://localhost:8080/",
          "height": 35
        }
      },
      "source": [
        "try:\n",
        "    print(3/0)\n",
        "except ZeroDivisionError:\n",
        "    print('0으로 나누었습니다')"
      ],
      "execution_count": null,
      "outputs": [
        {
          "output_type": "stream",
          "text": [
            "0으로 나누었습니다\n"
          ],
          "name": "stdout"
        }
      ]
    },
    {
      "cell_type": "markdown",
      "metadata": {
        "id": "czF3x6wJUfY6"
      },
      "source": [
        "# 활용\n",
        "* BMI 계산기에 예외처리를 해봅시다"
      ]
    },
    {
      "cell_type": "code",
      "metadata": {
        "id": "oSja54fAUfY7",
        "outputId": "88f305b9-cf0f-45d7-9ac6-1d5c198e5ae6",
        "colab": {
          "base_uri": "https://localhost:8080/",
          "height": 126
        }
      },
      "source": [
        "BMI = lambda weight, height: weight/(height/100)**2  # 체중은 kg, 신장은 cm로 입력 받는다고 가정\n",
        "\n",
        "def user_input():\n",
        "    try:\n",
        "        weight = float(input('몸무게는(kg)? '))\n",
        "        height = float(input('키는(cm)?')) \n",
        "        return weight, height\n",
        "    except ValueError:\n",
        "        print('숫자로 입력하세요 ')\n",
        "        print()\n",
        "        return user_input()\n",
        "         \n",
        "\n",
        "user_input()\n",
        "        \n"
      ],
      "execution_count": null,
      "outputs": [
        {
          "output_type": "stream",
          "text": [
            "몸무게는(kg)? 100kg\n",
            "숫자로 입력하세요 \n",
            "\n",
            "몸무게는(kg)? 100\n",
            "키는(cm)?180\n"
          ],
          "name": "stdout"
        },
        {
          "output_type": "execute_result",
          "data": {
            "text/plain": [
              "(100.0, 180.0)"
            ]
          },
          "metadata": {
            "tags": []
          },
          "execution_count": 20
        }
      ]
    },
    {
      "cell_type": "code",
      "metadata": {
        "id": "OdR8PKwmUfZK",
        "outputId": "0ea57af8-f18f-4e8d-908c-a6081fbf19d5",
        "colab": {
          "base_uri": "https://localhost:8080/",
          "height": 71
        }
      },
      "source": [
        "weight,height = user_input()\n",
        "BMI(weight, height)"
      ],
      "execution_count": null,
      "outputs": [
        {
          "output_type": "stream",
          "text": [
            "몸무게는(kg)? 70\n",
            "키는(cm)?170\n"
          ],
          "name": "stdout"
        },
        {
          "output_type": "execute_result",
          "data": {
            "text/plain": [
              "24.221453287197235"
            ]
          },
          "metadata": {
            "tags": []
          },
          "execution_count": 21
        }
      ]
    },
    {
      "cell_type": "code",
      "metadata": {
        "id": "awau4REkUfZV",
        "outputId": "799b9a25-30fc-4714-e3a0-089332859385",
        "colab": {
          "base_uri": "https://localhost:8080/",
          "height": 35
        }
      },
      "source": [
        "bmi = BMI(weight, height)\n",
        "if bmi>25: print(' 비만입니다. ')\n",
        "else: print('정상이네요 ')"
      ],
      "execution_count": null,
      "outputs": [
        {
          "output_type": "stream",
          "text": [
            "정상이네요 \n"
          ],
          "name": "stdout"
        }
      ]
    },
    {
      "cell_type": "code",
      "metadata": {
        "id": "2jokbPeGUfZc",
        "outputId": "f3cf02e5-106d-4530-cfc1-cada0a8ff3c3",
        "colab": {
          "base_uri": "https://localhost:8080/",
          "height": 198
        }
      },
      "source": [
        "BMI = lambda weight, height: weight/(height/100)**2  # 체중은 kg, 신장은 cm로 입력 받는다고 가정\n",
        "\n",
        "def user_input():\n",
        "    try:\n",
        "        weight = float(input('몸무게는(kg)? '))\n",
        "        height = float(input('키는(cm)?')) \n",
        "        if weight<0 or height<0:\n",
        "            print('키나 몸무게는 음수일 수 없어요 ')\n",
        "            return user_input()\n",
        "        return weight, height\n",
        "    except ValueError:\n",
        "        print('숫자로 입력하세요 ')\n",
        "        print()\n",
        "        return user_input()\n",
        "weight,height = user_input()\n",
        "bmi = BMI(weight, height)\n",
        "if bmi>25: print(' 비만입니다. ')\n",
        "else: print('정상이네요 ')\n"
      ],
      "execution_count": null,
      "outputs": [
        {
          "output_type": "stream",
          "text": [
            "몸무게는(kg)? 100kg\n",
            "숫자로 입력하세요 \n",
            "\n",
            "몸무게는(kg)? 70\n",
            "키는(cm)?170cm\n",
            "숫자로 입력하세요 \n",
            "\n",
            "몸무게는(kg)? 100\n",
            "키는(cm)?80\n",
            " 비만입니다. \n"
          ],
          "name": "stdout"
        }
      ]
    },
    {
      "cell_type": "code",
      "metadata": {
        "id": "4_MJisjsUfZi"
      },
      "source": [
        ""
      ],
      "execution_count": null,
      "outputs": []
    }
  ]
}