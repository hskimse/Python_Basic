{
  "nbformat": 4,
  "nbformat_minor": 0,
  "metadata": {
    "kernelspec": {
      "name": "python36",
      "display_name": "Python 3.6",
      "language": "python"
    },
    "language_info": {
      "mimetype": "text/x-python",
      "nbconvert_exporter": "python",
      "name": "python",
      "pygments_lexer": "ipython3",
      "version": "3.6.6",
      "file_extension": ".py",
      "codemirror_mode": {
        "version": 3,
        "name": "ipython"
      }
    },
    "colab": {
      "name": "2-1. Variables.ipynb",
      "provenance": [],
      "include_colab_link": true
    }
  },
  "cells": [
    {
      "cell_type": "markdown",
      "metadata": {
        "id": "view-in-github",
        "colab_type": "text"
      },
      "source": [
        "<a href=\"https://colab.research.google.com/github/joohoshin/Python_Basic/blob/master/2_1_Variables.ipynb\" target=\"_parent\"><img src=\"https://colab.research.google.com/assets/colab-badge.svg\" alt=\"Open In Colab\"/></a>"
      ]
    },
    {
      "cell_type": "markdown",
      "metadata": {
        "collapsed": true,
        "id": "I8IVgMMYgR_-",
        "colab_type": "text"
      },
      "source": [
        "# 출력문\n",
        "* print() 함수를 사용하여 출력한다. \n",
        "* 문자를 출력할 때는 \" 또는 '를 사용한다. 파이썬에서는 두가지 기호가 동일하게 사용된다. "
      ]
    },
    {
      "cell_type": "code",
      "metadata": {
        "trusted": true,
        "scrolled": true,
        "id": "VdrIMU4mgSAB",
        "colab_type": "code",
        "colab": {
          "base_uri": "https://localhost:8080/",
          "height": 35
        },
        "outputId": "1bfd1615-b509-4ca9-df29-678d7157eec2"
      },
      "source": [
        "print(3)"
      ],
      "execution_count": null,
      "outputs": [
        {
          "output_type": "stream",
          "text": [
            "3\n"
          ],
          "name": "stdout"
        }
      ]
    },
    {
      "cell_type": "code",
      "metadata": {
        "trusted": true,
        "id": "objnPDEAgSAK",
        "colab_type": "code",
        "colab": {
          "base_uri": "https://localhost:8080/",
          "height": 53
        },
        "outputId": "64832bc3-7b42-4903-d0e3-5e34be8237dd"
      },
      "source": [
        "print(1+5)\n",
        "print(1+10)"
      ],
      "execution_count": null,
      "outputs": [
        {
          "output_type": "stream",
          "text": [
            "6\n",
            "11\n"
          ],
          "name": "stdout"
        }
      ]
    },
    {
      "cell_type": "code",
      "metadata": {
        "trusted": true,
        "id": "LxxjmwqmgSAR",
        "colab_type": "code",
        "colab": {
          "base_uri": "https://localhost:8080/",
          "height": 35
        },
        "outputId": "29de5be5-4fd5-45df-89e9-6399e11c9b16"
      },
      "source": [
        "print('안녕하세요. 즐거운 파이썬')"
      ],
      "execution_count": null,
      "outputs": [
        {
          "output_type": "stream",
          "text": [
            "안녕하세요. 즐거운 파이썬\n"
          ],
          "name": "stdout"
        }
      ]
    },
    {
      "cell_type": "markdown",
      "metadata": {
        "id": "4-h46dk-gSAf",
        "colab_type": "text"
      },
      "source": [
        "* 여러가지를 한번에 출력할 때는 ,를 사용한다. \n",
        "* 숫자와 문자를 한번에 사용할 수 있으며, 빈칸이 추가되어 출력된다. "
      ]
    },
    {
      "cell_type": "code",
      "metadata": {
        "trusted": true,
        "id": "v8gsApTpgSAg",
        "colab_type": "code",
        "colab": {
          "base_uri": "https://localhost:8080/",
          "height": 35
        },
        "outputId": "9ddcbebb-8d4c-4c81-f81f-6aea27ed8cd1"
      },
      "source": [
        "print('2 * 9 =', 2*9,'입니다')"
      ],
      "execution_count": null,
      "outputs": [
        {
          "output_type": "stream",
          "text": [
            "2 * 9 = 18 입니다\n"
          ],
          "name": "stdout"
        }
      ]
    },
    {
      "cell_type": "markdown",
      "metadata": {
        "id": "PpSe2qkdgSAn",
        "colab_type": "text"
      },
      "source": [
        "# 변수 (Variables)\n",
        "* = 기호를 사용하여 자신이 정한 명칭에 값을 저장한다. \n",
        "* = 기호는 저장한다는 뜻이며, 같다는 뜻이 아니다. "
      ]
    },
    {
      "cell_type": "code",
      "metadata": {
        "trusted": true,
        "id": "PVF-oStGgSAo",
        "colab_type": "code",
        "colab": {
          "base_uri": "https://localhost:8080/",
          "height": 35
        },
        "outputId": "24eea16c-d24b-44da-b156-f492d7045bfb"
      },
      "source": [
        "pi = 3.14\n",
        "print(pi)"
      ],
      "execution_count": null,
      "outputs": [
        {
          "output_type": "stream",
          "text": [
            "3.14\n"
          ],
          "name": "stdout"
        }
      ]
    },
    {
      "cell_type": "markdown",
      "metadata": {
        "id": "FxliTkrWgSAv",
        "colab_type": "text"
      },
      "source": [
        "* 값을 저장하고 있는 변수에 다른 값을 넣으면 그 값으로 변경된다. "
      ]
    },
    {
      "cell_type": "code",
      "metadata": {
        "trusted": true,
        "id": "P8d5Sq55gSAw",
        "colab_type": "code",
        "colab": {
          "base_uri": "https://localhost:8080/",
          "height": 35
        },
        "outputId": "969c3442-a190-4c38-de56-501da0670864"
      },
      "source": [
        "pi = 3.141592\n",
        "pi"
      ],
      "execution_count": null,
      "outputs": [
        {
          "output_type": "execute_result",
          "data": {
            "text/plain": [
              "3.141592"
            ]
          },
          "metadata": {
            "tags": []
          },
          "execution_count": 10
        }
      ]
    },
    {
      "cell_type": "markdown",
      "metadata": {
        "id": "Cl9D6SQ_gSA8",
        "colab_type": "text"
      },
      "source": [
        "* 변수를 적절히 사용하면 가독성이 좋아진다. \n",
        "* 영어뿐 아니라 한글로도 변수명을 만들수 있다.\n",
        "* 대소문자를 다르게 인식한다. A와 a는 다른 것임\n",
        "* 띄어쓰기를 포함하지 못하고, 숫자로 시작할 수 없다. "
      ]
    },
    {
      "cell_type": "code",
      "metadata": {
        "trusted": true,
        "id": "lgNF_UrGgSA-",
        "colab_type": "code",
        "colab": {
          "base_uri": "https://localhost:8080/",
          "height": 35
        },
        "outputId": "4829f968-075c-47da-f1d3-ec73e1e85e2a"
      },
      "source": [
        "반지름 = 10\n",
        "원의넓이 = pi*반지름**2\n",
        "print(원의넓이)"
      ],
      "execution_count": null,
      "outputs": [
        {
          "output_type": "stream",
          "text": [
            "314.1592\n"
          ],
          "name": "stdout"
        }
      ]
    },
    {
      "cell_type": "code",
      "metadata": {
        "trusted": true,
        "id": "PEK2xrmUgSBG",
        "colab_type": "code",
        "colab": {
          "base_uri": "https://localhost:8080/",
          "height": 35
        },
        "outputId": "0e1b8a97-bcbf-44a8-e2ff-f96bfdbf00ec"
      },
      "source": [
        "이름 = '홍길동'\n",
        "print('당신의 이름은', 이름, '입니다')"
      ],
      "execution_count": null,
      "outputs": [
        {
          "output_type": "stream",
          "text": [
            "당신의 이름은 홍길동 입니다\n"
          ],
          "name": "stdout"
        }
      ]
    },
    {
      "cell_type": "markdown",
      "metadata": {
        "id": "SpajMInagSBN",
        "colab_type": "text"
      },
      "source": [
        "# 활용"
      ]
    },
    {
      "cell_type": "code",
      "metadata": {
        "trusted": true,
        "id": "7KQmA3ANgSBO",
        "colab_type": "code",
        "colab": {
          "base_uri": "https://localhost:8080/",
          "height": 35
        },
        "outputId": "7427e6b9-e974-4c6c-994e-18cd2bf7b170"
      },
      "source": [
        "가로 = 3\n",
        "세로 = 10\n",
        "넓이 = 가로 * 세로\n",
        "print('직사각형의 넓이는', 넓이, '입니다.')"
      ],
      "execution_count": null,
      "outputs": [
        {
          "output_type": "stream",
          "text": [
            "직사각형의 넓이는 30 입니다.\n"
          ],
          "name": "stdout"
        }
      ]
    },
    {
      "cell_type": "markdown",
      "metadata": {
        "id": "u4OVYTsugSBZ",
        "colab_type": "text"
      },
      "source": [
        "* 여러개의 변수를 출력문에 사용하고 싶을때는 format을 이용하면 쉽게 사용할 수 있다. \n",
        "* 출력문 안에 {} 기호에 변수값이 순서대로 들어가게 된다. "
      ]
    },
    {
      "cell_type": "code",
      "metadata": {
        "trusted": true,
        "id": "8P7NP03qgSBa",
        "colab_type": "code",
        "colab": {
          "base_uri": "https://localhost:8080/",
          "height": 35
        },
        "outputId": "c44825fe-8f1f-4f9f-81bf-2bd78a20fcb4"
      },
      "source": [
        "print('가로 {}cm, 세로{}cm 인 직사각형의 넓이는 {} 입니다. '.format(가로, 세로, 넓이))"
      ],
      "execution_count": null,
      "outputs": [
        {
          "output_type": "stream",
          "text": [
            "가로 3cm, 세로10cm 인 직사각형의 넓이는 30 입니다. \n"
          ],
          "name": "stdout"
        }
      ]
    },
    {
      "cell_type": "markdown",
      "metadata": {
        "id": "R474p0fBgSBn",
        "colab_type": "text"
      },
      "source": [
        "* 여러줄을 출력할 때는 \"\"\" 또는 '''을 사용한다"
      ]
    },
    {
      "cell_type": "code",
      "metadata": {
        "trusted": true,
        "id": "9lkK0X-hgSBo",
        "colab_type": "code",
        "colab": {
          "base_uri": "https://localhost:8080/",
          "height": 126
        },
        "outputId": "df8321d0-c161-4c19-899e-ad9ab183f557"
      },
      "source": [
        "print('''\n",
        "   오늘의 메뉴\n",
        "    떡갈비\n",
        "    보쌈\n",
        "    순대    \n",
        "''')"
      ],
      "execution_count": null,
      "outputs": [
        {
          "output_type": "stream",
          "text": [
            "\n",
            "   오늘의 메뉴\n",
            "    떡갈비\n",
            "    보쌈\n",
            "    순대    \n",
            "\n"
          ],
          "name": "stdout"
        }
      ]
    },
    {
      "cell_type": "markdown",
      "metadata": {
        "id": "Pzie0uQQgSBu",
        "colab_type": "text"
      },
      "source": [
        "* 큰수를 코딩할 때는 과학적 표기법을 활용하면 오류를 줄일 수 있다. \n",
        "* e뒤에 0의 개수를 적어주면 되고, -를 붙이면 소수점 자리수가 된다"
      ]
    },
    {
      "cell_type": "code",
      "metadata": {
        "trusted": true,
        "id": "Jzsr7I5YgSBv",
        "colab_type": "code",
        "colab": {},
        "outputId": "8386df64-22d8-4d2f-f56f-6a961ad96a99"
      },
      "source": [
        "sales = 100000000\n",
        "sales"
      ],
      "execution_count": null,
      "outputs": [
        {
          "output_type": "execute_result",
          "data": {
            "text/plain": [
              "100000000"
            ]
          },
          "metadata": {
            "tags": []
          },
          "execution_count": 19
        }
      ]
    },
    {
      "cell_type": "code",
      "metadata": {
        "trusted": true,
        "id": "D_k9bgBAgSB1",
        "colab_type": "code",
        "colab": {
          "base_uri": "https://localhost:8080/",
          "height": 35
        },
        "outputId": "7afcf55f-395f-4f4e-b284-e51dc670ac41"
      },
      "source": [
        "sales2 = 1.23e8\n",
        "sales2"
      ],
      "execution_count": null,
      "outputs": [
        {
          "output_type": "execute_result",
          "data": {
            "text/plain": [
              "123000000.0"
            ]
          },
          "metadata": {
            "tags": []
          },
          "execution_count": 19
        }
      ]
    },
    {
      "cell_type": "code",
      "metadata": {
        "trusted": true,
        "id": "EuGW6DSwgSB8",
        "colab_type": "code",
        "colab": {
          "base_uri": "https://localhost:8080/",
          "height": 35
        },
        "outputId": "4692ebf4-ebd2-41f2-ecc2-1ef5f59d52c6"
      },
      "source": [
        "소수점 = 1.23e-3\n",
        "print(소수점)"
      ],
      "execution_count": null,
      "outputs": [
        {
          "output_type": "stream",
          "text": [
            "0.00123\n"
          ],
          "name": "stdout"
        }
      ]
    },
    {
      "cell_type": "code",
      "metadata": {
        "trusted": true,
        "id": "ZMTkBNyWgSCE",
        "colab_type": "code",
        "colab": {
          "base_uri": "https://localhost:8080/",
          "height": 35
        },
        "outputId": "8121ce3f-3b99-4ff4-e6dd-b3478f99bea1"
      },
      "source": [
        "print('당신의 자산은 {}원 입니다'.format(1.23e10))"
      ],
      "execution_count": null,
      "outputs": [
        {
          "output_type": "stream",
          "text": [
            "당신의 자산은 12300000000.0원 입니다\n"
          ],
          "name": "stdout"
        }
      ]
    },
    {
      "cell_type": "code",
      "metadata": {
        "trusted": true,
        "id": "03GkVI6igSCO",
        "colab_type": "code",
        "colab": {}
      },
      "source": [
        ""
      ],
      "execution_count": null,
      "outputs": []
    }
  ]
}