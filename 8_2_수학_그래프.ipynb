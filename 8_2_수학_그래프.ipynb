{
  "nbformat": 4,
  "nbformat_minor": 0,
  "metadata": {
    "kernelspec": {
      "display_name": "Python 3",
      "language": "python",
      "name": "python3"
    },
    "language_info": {
      "codemirror_mode": {
        "name": "ipython",
        "version": 3
      },
      "file_extension": ".py",
      "mimetype": "text/x-python",
      "name": "python",
      "nbconvert_exporter": "python",
      "pygments_lexer": "ipython3",
      "version": "3.7.3"
    },
    "colab": {
      "name": "8-2. 수학 그래프.ipynb",
      "provenance": [],
      "include_colab_link": true
    }
  },
  "cells": [
    {
      "cell_type": "markdown",
      "metadata": {
        "id": "view-in-github",
        "colab_type": "text"
      },
      "source": [
        "<a href=\"https://colab.research.google.com/github/joohoshin/Python_Basic/blob/master/8_2_%EC%88%98%ED%95%99_%EA%B7%B8%EB%9E%98%ED%94%84.ipynb\" target=\"_parent\"><img src=\"https://colab.research.google.com/assets/colab-badge.svg\" alt=\"Open In Colab\"/></a>"
      ]
    },
    {
      "cell_type": "markdown",
      "metadata": {
        "id": "S1FenkAlu2pa",
        "colab_type": "text"
      },
      "source": [
        "# 수학식 그래프 그리기\n",
        "* 앞에서 배운 내용을 가지고 수학식 그래프를 그릴 수 있습니다\n",
        "* y=x**2+1 을 그려봅시다\n",
        "* 그릴 범위의 x값을 리스트(또는 range)로 만들고, 수식에 맞게 y값을 계산하여 리스트로 만듭니다\n",
        "* 리스트인 x, y를 plot에 입력하면 그래프가 출력됩니다"
      ]
    },
    {
      "cell_type": "code",
      "metadata": {
        "id": "wPkRsgKlu2pb",
        "colab_type": "code",
        "colab": {
          "base_uri": "https://localhost:8080/",
          "height": 416
        },
        "outputId": "b6a052ec-bc50-43a3-b7b4-cc195a13a718"
      },
      "source": [
        "import matplotlib.pyplot as plt\n",
        "\n",
        "# x값을 리스트로 만든다\n",
        "x = range(-10,11)\n",
        "\n",
        "# 수식을 함수로 정의\n",
        "def func_y(x):\n",
        "    return x**2 + 1\n",
        "\n",
        "y=[]\n",
        "for i in x:\n",
        "    print(i)    \n",
        "    y.append(func_y(i))\n",
        "print(y)\n"
      ],
      "execution_count": null,
      "outputs": [
        {
          "output_type": "stream",
          "text": [
            "-10\n",
            "-9\n",
            "-8\n",
            "-7\n",
            "-6\n",
            "-5\n",
            "-4\n",
            "-3\n",
            "-2\n",
            "-1\n",
            "0\n",
            "1\n",
            "2\n",
            "3\n",
            "4\n",
            "5\n",
            "6\n",
            "7\n",
            "8\n",
            "9\n",
            "10\n",
            "[101, 82, 65, 50, 37, 26, 17, 10, 5, 2, 1, 2, 5, 10, 17, 26, 37, 50, 65, 82, 101]\n"
          ],
          "name": "stdout"
        }
      ]
    },
    {
      "cell_type": "code",
      "metadata": {
        "id": "TNSWRgNPu2ph",
        "colab_type": "code",
        "colab": {}
      },
      "source": [
        "# 위의 코드를 list comprehension을 사용하면 이렇게 줄어든다\n",
        "\n",
        "import matplotlib.pyplot as plt\n",
        "\n",
        "# x값을 리스트로 만든다\n",
        "x = range(-10,11)\n",
        "y=[i**2 + 1 for i in x]"
      ],
      "execution_count": null,
      "outputs": []
    },
    {
      "cell_type": "code",
      "metadata": {
        "id": "L78ntOBLu2pk",
        "colab_type": "code",
        "colab": {
          "base_uri": "https://localhost:8080/",
          "height": 53
        },
        "outputId": "742a70e5-dfe4-4653-c288-fb71dacc4137"
      },
      "source": [
        "print(x)\n",
        "print(y)"
      ],
      "execution_count": null,
      "outputs": [
        {
          "output_type": "stream",
          "text": [
            "range(-10, 11)\n",
            "[101, 82, 65, 50, 37, 26, 17, 10, 5, 2, 1, 2, 5, 10, 17, 26, 37, 50, 65, 82, 101]\n"
          ],
          "name": "stdout"
        }
      ]
    },
    {
      "cell_type": "code",
      "metadata": {
        "id": "_KZJjCvyu2pn",
        "colab_type": "code",
        "colab": {
          "base_uri": "https://localhost:8080/",
          "height": 283
        },
        "outputId": "9fb04cd2-6513-4736-895c-22761f724e81"
      },
      "source": [
        "plt.plot(x,y)"
      ],
      "execution_count": null,
      "outputs": [
        {
          "output_type": "execute_result",
          "data": {
            "text/plain": [
              "[<matplotlib.lines.Line2D at 0x7f6189447198>]"
            ]
          },
          "metadata": {
            "tags": []
          },
          "execution_count": 4
        },
        {
          "output_type": "display_data",
          "data": {
            "image/png": "[encoded data removed]",
            "text/plain": [
              "<Figure size 432x288 with 1 Axes>"
            ]
          },
          "metadata": {
            "tags": [],
            "needs_background": "light"
          }
        }
      ]
    },
    {
      "cell_type": "markdown",
      "metadata": {
        "id": "HsLe92wPu2pr",
        "colab_type": "text"
      },
      "source": [
        "* plot에서 점들을 부드럽게 이어주기 때문에 이차함수처럼 보임\n",
        "* 그러나 range는 정수 밖에 안되기 때문에 -1~1 사이를 그리려면 반복문 사용 필요"
      ]
    },
    {
      "cell_type": "code",
      "metadata": {
        "id": "bKB0kGtou2ps",
        "colab_type": "code",
        "colab": {
          "base_uri": "https://localhost:8080/",
          "height": 398
        },
        "outputId": "a3a1af90-0416-41ff-c04b-5c0332e68a22"
      },
      "source": [
        "def floatrange(start, end, step):\n",
        "    res = []\n",
        "    n = start\n",
        "    while n < end:\n",
        "        res.append(n)\n",
        "        n += step\n",
        "    return res\n",
        "floatrange(-1,1,0.1)\n"
      ],
      "execution_count": null,
      "outputs": [
        {
          "output_type": "execute_result",
          "data": {
            "text/plain": [
              "[-1,\n",
              " -0.9,\n",
              " -0.8,\n",
              " -0.7000000000000001,\n",
              " -0.6000000000000001,\n",
              " -0.5000000000000001,\n",
              " -0.40000000000000013,\n",
              " -0.30000000000000016,\n",
              " -0.20000000000000015,\n",
              " -0.10000000000000014,\n",
              " -1.3877787807814457e-16,\n",
              " 0.09999999999999987,\n",
              " 0.19999999999999987,\n",
              " 0.2999999999999999,\n",
              " 0.3999999999999999,\n",
              " 0.4999999999999999,\n",
              " 0.5999999999999999,\n",
              " 0.6999999999999998,\n",
              " 0.7999999999999998,\n",
              " 0.8999999999999998,\n",
              " 0.9999999999999998]"
            ]
          },
          "metadata": {
            "tags": []
          },
          "execution_count": 5
        }
      ]
    },
    {
      "cell_type": "code",
      "metadata": {
        "id": "FQIkNcqeu2pv",
        "colab_type": "code",
        "colab": {
          "base_uri": "https://localhost:8080/",
          "height": 283
        },
        "outputId": "7b6c5d26-60d4-4fce-bfe2-3dd74c3fe3e6"
      },
      "source": [
        "x2 = floatrange(-1,1,0.1)\n",
        "y2=[i**2 + 1 for i in x2]\n",
        "plt.plot(x2,y2)"
      ],
      "execution_count": null,
      "outputs": [
        {
          "output_type": "execute_result",
          "data": {
            "text/plain": [
              "[<matplotlib.lines.Line2D at 0x7f6188f235f8>]"
            ]
          },
          "metadata": {
            "tags": []
          },
          "execution_count": 6
        },
        {
          "output_type": "display_data",
          "data": {
            "image/png": "[encoded data removed]",
            "text/plain": [
              "<Figure size 432x288 with 1 Axes>"
            ]
          },
          "metadata": {
            "tags": [],
            "needs_background": "light"
          }
        }
      ]
    },
    {
      "cell_type": "markdown",
      "metadata": {
        "id": "NTDi3Yjcu2pz",
        "colab_type": "text"
      },
      "source": [
        "* 실수의 반올림은 round()함수\n",
        "* 출력 시 소수점 자리수는 print와 format을 사용합니다"
      ]
    },
    {
      "cell_type": "code",
      "metadata": {
        "id": "PqwwI6OWu2pz",
        "colab_type": "code",
        "colab": {
          "base_uri": "https://localhost:8080/",
          "height": 436
        },
        "outputId": "62bbad4c-d9c1-4157-c3ce-32517f41fc98"
      },
      "source": [
        "x3 = floatrange(-1,1,0.1)\n",
        "print(x3)\n",
        "for i in x3:\n",
        "    print('{:.2f}'.format(i))"
      ],
      "execution_count": null,
      "outputs": [
        {
          "output_type": "stream",
          "text": [
            "[-1, -0.9, -0.8, -0.7000000000000001, -0.6000000000000001, -0.5000000000000001, -0.40000000000000013, -0.30000000000000016, -0.20000000000000015, -0.10000000000000014, -1.3877787807814457e-16, 0.09999999999999987, 0.19999999999999987, 0.2999999999999999, 0.3999999999999999, 0.4999999999999999, 0.5999999999999999, 0.6999999999999998, 0.7999999999999998, 0.8999999999999998, 0.9999999999999998]\n",
            "-1.00\n",
            "-0.90\n",
            "-0.80\n",
            "-0.70\n",
            "-0.60\n",
            "-0.50\n",
            "-0.40\n",
            "-0.30\n",
            "-0.20\n",
            "-0.10\n",
            "-0.00\n",
            "0.10\n",
            "0.20\n",
            "0.30\n",
            "0.40\n",
            "0.50\n",
            "0.60\n",
            "0.70\n",
            "0.80\n",
            "0.90\n",
            "1.00\n"
          ],
          "name": "stdout"
        }
      ]
    },
    {
      "cell_type": "code",
      "metadata": {
        "id": "LRVzqk2Qu2p4",
        "colab_type": "code",
        "colab": {
          "base_uri": "https://localhost:8080/",
          "height": 35
        },
        "outputId": "97f52bdf-1c52-4a75-91aa-9b278c6dcb39"
      },
      "source": [
        "f = 3.141592\n",
        "round(f, 2) # 소수점 자리수를 넣어준다"
      ],
      "execution_count": null,
      "outputs": [
        {
          "output_type": "execute_result",
          "data": {
            "text/plain": [
              "3.14"
            ]
          },
          "metadata": {
            "tags": []
          },
          "execution_count": 8
        }
      ]
    },
    {
      "cell_type": "code",
      "metadata": {
        "id": "dcw6X9szu2p7",
        "colab_type": "code",
        "colab": {}
      },
      "source": [
        ""
      ],
      "execution_count": null,
      "outputs": []
    }
  ]
}