{
  "nbformat": 4,
  "nbformat_minor": 0,
  "metadata": {
    "kernelspec": {
      "display_name": "Python 3",
      "language": "python",
      "name": "python3"
    },
    "language_info": {
      "codemirror_mode": {
        "name": "ipython",
        "version": 3
      },
      "file_extension": ".py",
      "mimetype": "text/x-python",
      "name": "python",
      "nbconvert_exporter": "python",
      "pygments_lexer": "ipython3",
      "version": "3.7.6"
    },
    "colab": {
      "name": "11-2. Pandas intro.ipynb",
      "provenance": [],
      "include_colab_link": true
    }
  },
  "cells": [
    {
      "cell_type": "markdown",
      "metadata": {
        "id": "view-in-github",
        "colab_type": "text"
      },
      "source": [
        "<a href=\"https://colab.research.google.com/github/joohoshin/Python_Basic/blob/master/11_2_Pandas_intro.ipynb\" target=\"_parent\"><img src=\"https://colab.research.google.com/assets/colab-badge.svg\" alt=\"Open In Colab\"/></a>"
      ]
    },
    {
      "cell_type": "markdown",
      "metadata": {
        "id": "bFP2RsWDnga_"
      },
      "source": [
        "# Pandas\n",
        "* pandas 는 파이썬에서 엑셀처럼 데이터를 다룰 수 있게 해주는 라이브러리입니다. \n",
        "* 통계툴에서 출발한 R의 DataFrame을 참고하여 만든 라이브러리입니다. \n",
        "* https://pandas.pydata.org/\n",
        "\n",
        "### 파이썬이 머신러닝/딥러닝에 강점을 가지게 된 이유중의 하나입니다. "
      ]
    },
    {
      "cell_type": "markdown",
      "metadata": {
        "id": "UlbRsrpyngbB"
      },
      "source": [
        "* Numpy가 list와 유사하며, 연산에 강점을 가졌다면, \n",
        "* Pandas는 dictionary와 유사하다고 생각하면 쉽습니다. (인덱스에 이름 가능함)"
      ]
    },
    {
      "cell_type": "code",
      "metadata": {
        "id": "xfiq1S9zngbC"
      },
      "source": [
        "import pandas as pd  # pandas 라이브러리 불러오기"
      ],
      "execution_count": null,
      "outputs": []
    },
    {
      "cell_type": "markdown",
      "metadata": {
        "id": "OViIjCr5ngbI"
      },
      "source": [
        "* 1차원 배열 형태는 Series라고 부르며, 리스트나 딕셔너리에서 만들수 있습니다\n",
        "* 리스트에서 만들때는 인덱스가 0부터 자동 부여됩니다"
      ]
    },
    {
      "cell_type": "code",
      "metadata": {
        "id": "iHgGX_3ungbJ",
        "outputId": "60ef8fb8-63f0-4a4e-af41-548a4306be47",
        "colab": {
          "base_uri": "https://localhost:8080/",
          "height": 122
        }
      },
      "source": [
        "sales = pd.Series([100,80,90,80,150])\n",
        "sales"
      ],
      "execution_count": null,
      "outputs": [
        {
          "output_type": "execute_result",
          "data": {
            "text/plain": [
              "0    100\n",
              "1     80\n",
              "2     90\n",
              "3     80\n",
              "4    150\n",
              "dtype: int64"
            ]
          },
          "metadata": {
            "tags": []
          },
          "execution_count": 4
        }
      ]
    },
    {
      "cell_type": "code",
      "metadata": {
        "id": "_e_MjA4bUGr0",
        "outputId": "751d1384-a35c-4223-9897-fdd391e89d23",
        "colab": {
          "base_uri": "https://localhost:8080/",
          "height": 34
        }
      },
      "source": [
        "type(sales)"
      ],
      "execution_count": null,
      "outputs": [
        {
          "output_type": "execute_result",
          "data": {
            "text/plain": [
              "pandas.core.series.Series"
            ]
          },
          "metadata": {
            "tags": []
          },
          "execution_count": 5
        }
      ]
    },
    {
      "cell_type": "markdown",
      "metadata": {
        "id": "BJrUjt3VngbO"
      },
      "source": [
        "* Dictionary에서 만들면 dict의 키값이 인덱스가 됩니다"
      ]
    },
    {
      "cell_type": "code",
      "metadata": {
        "id": "mFmdcCB2ngbO",
        "outputId": "2ad40629-cb6f-4e8c-bf2e-51b31c15eb70",
        "colab": {
          "base_uri": "https://localhost:8080/",
          "height": 122
        }
      },
      "source": [
        "sales2 = pd.Series({'3월':100, '4월':80, '5월':90, '6월':80, '7월':150})\n",
        "sales2"
      ],
      "execution_count": null,
      "outputs": [
        {
          "output_type": "execute_result",
          "data": {
            "text/plain": [
              "3월    100\n",
              "4월     80\n",
              "5월     90\n",
              "6월     80\n",
              "7월    150\n",
              "dtype: int64"
            ]
          },
          "metadata": {
            "tags": []
          },
          "execution_count": 7
        }
      ]
    },
    {
      "cell_type": "markdown",
      "metadata": {
        "id": "Wlm5rMIXngbR"
      },
      "source": [
        "### DataFrame\n",
        "* 2차 배열 형태를 데이터프레임이라고 하며, \n",
        "* 인덱스(행의 이름)와 column 값을 가집니다"
      ]
    },
    {
      "cell_type": "code",
      "metadata": {
        "id": "gkOMWZ_ZngbR"
      },
      "source": [
        "# 성적관리 가장 데이터\n",
        "\n",
        "students=[\n",
        "     {'id':123, '화학':80, '영어':60, '공창컴':100},\n",
        "     {'id':122, '화학':100, '영어':90, '공창컴':90},\n",
        "     {'id':112, '화학':40, '영어':70, '공창컴':60}   \n",
        "]"
      ],
      "execution_count": null,
      "outputs": []
    },
    {
      "cell_type": "code",
      "metadata": {
        "id": "87ZBBBpDngbU"
      },
      "source": [
        "students_df = pd.DataFrame(students)  # 대소문자 구별 주의하세요"
      ],
      "execution_count": null,
      "outputs": []
    },
    {
      "cell_type": "code",
      "metadata": {
        "id": "omTcUZFungbX",
        "outputId": "5346d856-fe73-480f-eef6-2e0e68e9afca",
        "colab": {
          "base_uri": "https://localhost:8080/",
          "height": 136
        }
      },
      "source": [
        "students_df"
      ],
      "execution_count": null,
      "outputs": [
        {
          "output_type": "execute_result",
          "data": {
            "text/html": [
              "<div>\n",
              "<style scoped>\n",
              "    .dataframe tbody tr th:only-of-type {\n",
              "        vertical-align: middle;\n",
              "    }\n",
              "\n",
              "    .dataframe tbody tr th {\n",
              "        vertical-align: top;\n",
              "    }\n",
              "\n",
              "    .dataframe thead th {\n",
              "        text-align: right;\n",
              "    }\n",
              "</style>\n",
              "<table border=\"1\" class=\"dataframe\">\n",
              "  <thead>\n",
              "    <tr style=\"text-align: right;\">\n",
              "      <th></th>\n",
              "      <th>id</th>\n",
              "      <th>화학</th>\n",
              "      <th>영어</th>\n",
              "      <th>공창컴</th>\n",
              "    </tr>\n",
              "  </thead>\n",
              "  <tbody>\n",
              "    <tr>\n",
              "      <th>0</th>\n",
              "      <td>123</td>\n",
              "      <td>80</td>\n",
              "      <td>60</td>\n",
              "      <td>100</td>\n",
              "    </tr>\n",
              "    <tr>\n",
              "      <th>1</th>\n",
              "      <td>122</td>\n",
              "      <td>100</td>\n",
              "      <td>90</td>\n",
              "      <td>90</td>\n",
              "    </tr>\n",
              "    <tr>\n",
              "      <th>2</th>\n",
              "      <td>112</td>\n",
              "      <td>40</td>\n",
              "      <td>70</td>\n",
              "      <td>60</td>\n",
              "    </tr>\n",
              "  </tbody>\n",
              "</table>\n",
              "</div>"
            ],
            "text/plain": [
              "    id   화학  영어  공창컴\n",
              "0  123   80  60  100\n",
              "1  122  100  90   90\n",
              "2  112   40  70   60"
            ]
          },
          "metadata": {
            "tags": []
          },
          "execution_count": 10
        }
      ]
    },
    {
      "cell_type": "markdown",
      "metadata": {
        "id": "cskXuvljngbb"
      },
      "source": [
        "### csv 파일로 손쉽게 저장, 읽기\n",
        "* csv 파일은 comma separated value의 약자로서 데이터를 ,로 구분하여 저장합니다\n",
        "* 엑셀에서도 손쉽게 열리고 저장가능합니다. \n",
        "* 기본은 utf-8 encoding 이며, 윈도우의 경우 한글 포함된 데이터는 cp949 encoding을 사용하여 저장합니다"
      ]
    },
    {
      "cell_type": "markdown",
      "metadata": {
        "id": "sU0H-EiCngbc"
      },
      "source": [
        "* 저장은 .to_csv('파일이름.csv', encoding = 'cp949')\n",
        "* 저장 시에 동일 파일이 열려있는 경우에는 오류가 발생하므로 파일을 닫고 저장하여야 합니다. "
      ]
    },
    {
      "cell_type": "code",
      "metadata": {
        "id": "W19fpx2Vngbc"
      },
      "source": [
        "students_df.to_csv('students.csv', encoding = 'cp949')"
      ],
      "execution_count": null,
      "outputs": []
    },
    {
      "cell_type": "markdown",
      "metadata": {
        "id": "vT52Gwgongbf"
      },
      "source": [
        "* 저장 시에 인덱스도 함께 저장이 됩니다. \n",
        "* 인덱스를 저장하지 않는 경우에는 index=False 옵션을 추가합니다. "
      ]
    },
    {
      "cell_type": "code",
      "metadata": {
        "id": "u-EpvVk0ngbf"
      },
      "source": [
        "students_df.to_csv('students_no_index.csv', encoding = 'cp949', index = False)"
      ],
      "execution_count": null,
      "outputs": []
    },
    {
      "cell_type": "markdown",
      "metadata": {
        "id": "3kEF7KXrngbi"
      },
      "source": [
        "* 파일 읽기는 pd.read_csv('파일명', encoding = 'cp949')를 사용합니다 "
      ]
    },
    {
      "cell_type": "code",
      "metadata": {
        "id": "ZtPAE8jHngbi"
      },
      "source": [
        "s_df = pd.read_csv('students_no_index.csv', encoding = 'cp949')"
      ],
      "execution_count": null,
      "outputs": []
    },
    {
      "cell_type": "code",
      "metadata": {
        "id": "8MkHKNOmngbl",
        "outputId": "84aa9cf8-0406-4c28-f738-6e8968216197",
        "colab": {
          "base_uri": "https://localhost:8080/",
          "height": 136
        }
      },
      "source": [
        "s_df"
      ],
      "execution_count": null,
      "outputs": [
        {
          "output_type": "execute_result",
          "data": {
            "text/html": [
              "<div>\n",
              "<style scoped>\n",
              "    .dataframe tbody tr th:only-of-type {\n",
              "        vertical-align: middle;\n",
              "    }\n",
              "\n",
              "    .dataframe tbody tr th {\n",
              "        vertical-align: top;\n",
              "    }\n",
              "\n",
              "    .dataframe thead th {\n",
              "        text-align: right;\n",
              "    }\n",
              "</style>\n",
              "<table border=\"1\" class=\"dataframe\">\n",
              "  <thead>\n",
              "    <tr style=\"text-align: right;\">\n",
              "      <th></th>\n",
              "      <th>id</th>\n",
              "      <th>화학</th>\n",
              "      <th>영어</th>\n",
              "      <th>공창컴</th>\n",
              "    </tr>\n",
              "  </thead>\n",
              "  <tbody>\n",
              "    <tr>\n",
              "      <th>0</th>\n",
              "      <td>123</td>\n",
              "      <td>80</td>\n",
              "      <td>60</td>\n",
              "      <td>100</td>\n",
              "    </tr>\n",
              "    <tr>\n",
              "      <th>1</th>\n",
              "      <td>122</td>\n",
              "      <td>100</td>\n",
              "      <td>90</td>\n",
              "      <td>90</td>\n",
              "    </tr>\n",
              "    <tr>\n",
              "      <th>2</th>\n",
              "      <td>112</td>\n",
              "      <td>40</td>\n",
              "      <td>70</td>\n",
              "      <td>60</td>\n",
              "    </tr>\n",
              "  </tbody>\n",
              "</table>\n",
              "</div>"
            ],
            "text/plain": [
              "    id   화학  영어  공창컴\n",
              "0  123   80  60  100\n",
              "1  122  100  90   90\n",
              "2  112   40  70   60"
            ]
          },
          "metadata": {
            "tags": []
          },
          "execution_count": 16
        }
      ]
    },
    {
      "cell_type": "code",
      "metadata": {
        "id": "CMBNR5-Qngbn"
      },
      "source": [
        ""
      ],
      "execution_count": null,
      "outputs": []
    }
  ]
}