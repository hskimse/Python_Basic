{
  "nbformat": 4,
  "nbformat_minor": 0,
  "metadata": {
    "colab": {
      "name": "6-1. 최대최소값 구하기.ipynb",
      "provenance": [],
      "collapsed_sections": [],
      "authorship_tag": "ABX9TyOA98MFNWmCAryWEE79LuSz",
      "include_colab_link": true
    },
    "kernelspec": {
      "name": "python3",
      "display_name": "Python 3"
    }
  },
  "cells": [
    {
      "cell_type": "markdown",
      "metadata": {
        "id": "view-in-github",
        "colab_type": "text"
      },
      "source": [
        "<a href=\"https://colab.research.google.com/github/joohoshin/Python_Basic/blob/master/6_1_%EC%B5%9C%EB%8C%80%EC%B5%9C%EC%86%8C%EA%B0%92_%EA%B5%AC%ED%95%98%EA%B8%B0.ipynb\" target=\"_parent\"><img src=\"https://colab.research.google.com/assets/colab-badge.svg\" alt=\"Open In Colab\"/></a>"
      ]
    },
    {
      "cell_type": "markdown",
      "metadata": {
        "id": "iM3ofy6USvqO",
        "colab_type": "text"
      },
      "source": [
        "# 최대값/최소값 반복문과 제어문 활용해서 만들기"
      ]
    },
    {
      "cell_type": "code",
      "metadata": {
        "id": "zEVmtaPTSwWD",
        "colab_type": "code",
        "colab": {
          "base_uri": "https://localhost:8080/",
          "height": 122
        },
        "outputId": "f51c1a14-f926-45f8-e258-a61e4d794b48"
      },
      "source": [
        "# 반복문과 제어문을 통해 최대값을 쉽게 구할 수 있습니다\n",
        "\n",
        "numbers = [-3,5,8,0,-5]\n",
        "\n",
        "max_ = numbers[0]\n",
        "\n",
        "for i in numbers:\n",
        "    if i>max_: max_ =i\n",
        "    print(max_)\n",
        "print('최대값:', max_)"
      ],
      "execution_count": null,
      "outputs": [
        {
          "output_type": "stream",
          "text": [
            "-3\n",
            "5\n",
            "8\n",
            "8\n",
            "8\n",
            "최대값: 8\n"
          ],
          "name": "stdout"
        }
      ]
    },
    {
      "cell_type": "code",
      "metadata": {
        "id": "HzJBFqRkTA4q",
        "colab_type": "code",
        "colab": {
          "base_uri": "https://localhost:8080/",
          "height": 122
        },
        "outputId": "098ac6f5-981c-4f7e-a549-df457570495b"
      },
      "source": [
        "# 최소값은 비교하는 부분만 변경하면 됩니다\n",
        "numbers = [-3,5,8,0,-5]\n",
        "min_ = numbers[0]\n",
        "\n",
        "for i in numbers:\n",
        "    if i<min_: min_ =i\n",
        "    print(min_)\n",
        "print('최소값:', min_)"
      ],
      "execution_count": null,
      "outputs": [
        {
          "output_type": "stream",
          "text": [
            "-3\n",
            "-3\n",
            "-3\n",
            "-3\n",
            "-5\n",
            "최소값: -5\n"
          ],
          "name": "stdout"
        }
      ]
    },
    {
      "cell_type": "code",
      "metadata": {
        "id": "gv_DSRPVS3xX",
        "colab_type": "code",
        "colab": {
          "base_uri": "https://localhost:8080/",
          "height": 34
        },
        "outputId": "792ff4ad-a865-4d59-a1f1-fe06d588ef80"
      },
      "source": [
        "# 합계 구하기\n",
        "numbers = range(1,101)\n",
        "\n",
        "sum_ = 0\n",
        "for i in numbers:\n",
        "  sum_ += i # sum_ = sum_ + i\n",
        "print(sum_)"
      ],
      "execution_count": null,
      "outputs": [
        {
          "output_type": "stream",
          "text": [
            "5050\n"
          ],
          "name": "stdout"
        }
      ]
    },
    {
      "cell_type": "code",
      "metadata": {
        "id": "JnWazUyITyBg",
        "colab_type": "code",
        "colab": {
          "base_uri": "https://localhost:8080/",
          "height": 34
        },
        "outputId": "b1c0cb27-e140-4e76-9af7-f61e37eb5b32"
      },
      "source": [
        "# 짝수의 합만 구하기\n",
        "numbers = [2,3,5,6,8,10,30,27]\n",
        "\n",
        "sum_ = 0\n",
        "for i in numbers:\n",
        "  if i%2==0: sum_ += i\n",
        "print(sum_)"
      ],
      "execution_count": null,
      "outputs": [
        {
          "output_type": "stream",
          "text": [
            "56\n"
          ],
          "name": "stdout"
        }
      ]
    },
    {
      "cell_type": "code",
      "metadata": {
        "id": "r9NNUX1bUiq-",
        "colab_type": "code",
        "colab": {
          "base_uri": "https://localhost:8080/",
          "height": 70
        },
        "outputId": "2fd3a516-6800-4c26-f49a-c018a3c0dcfe"
      },
      "source": [
        "# 평균 구하기\n",
        "numbers = range(10)\n",
        "sum_ = 0\n",
        "cnt = 0\n",
        "for i in numbers:\n",
        "  sum_ += i\n",
        "  cnt += 1\n",
        "avg= sum_/cnt\n",
        "print(sum_)\n",
        "print(cnt)\n",
        "print(avg)"
      ],
      "execution_count": null,
      "outputs": [
        {
          "output_type": "stream",
          "text": [
            "45\n",
            "10\n",
            "4.5\n"
          ],
          "name": "stdout"
        }
      ]
    },
    {
      "cell_type": "markdown",
      "metadata": {
        "id": "vtxvJo6mULBq",
        "colab_type": "text"
      },
      "source": [
        "# 리스트 기능으로 구하기"
      ]
    },
    {
      "cell_type": "code",
      "metadata": {
        "id": "SbrP7xtQUKPD",
        "colab_type": "code",
        "colab": {}
      },
      "source": [
        "numbers = [2,3,5,6,8,10,30,27]"
      ],
      "execution_count": null,
      "outputs": []
    },
    {
      "cell_type": "code",
      "metadata": {
        "id": "Jk3UIAMzURRd",
        "colab_type": "code",
        "colab": {
          "base_uri": "https://localhost:8080/",
          "height": 34
        },
        "outputId": "d40b809b-dabb-4986-9139-cdfa2e20a66c"
      },
      "source": [
        "max(numbers)"
      ],
      "execution_count": null,
      "outputs": [
        {
          "output_type": "execute_result",
          "data": {
            "text/plain": [
              "30"
            ]
          },
          "metadata": {
            "tags": []
          },
          "execution_count": 4
        }
      ]
    },
    {
      "cell_type": "code",
      "metadata": {
        "id": "wOKc-BFRUW3G",
        "colab_type": "code",
        "colab": {
          "base_uri": "https://localhost:8080/",
          "height": 34
        },
        "outputId": "c25e2693-17a3-4609-c80a-67fd66c82b30"
      },
      "source": [
        "min(numbers)"
      ],
      "execution_count": null,
      "outputs": [
        {
          "output_type": "execute_result",
          "data": {
            "text/plain": [
              "2"
            ]
          },
          "metadata": {
            "tags": []
          },
          "execution_count": 5
        }
      ]
    },
    {
      "cell_type": "code",
      "metadata": {
        "id": "rzykSFwsUX8u",
        "colab_type": "code",
        "colab": {
          "base_uri": "https://localhost:8080/",
          "height": 34
        },
        "outputId": "06360fa8-1c64-4199-877d-b3dcc0bc90ce"
      },
      "source": [
        "sum(numbers)"
      ],
      "execution_count": null,
      "outputs": [
        {
          "output_type": "execute_result",
          "data": {
            "text/plain": [
              "91"
            ]
          },
          "metadata": {
            "tags": []
          },
          "execution_count": 6
        }
      ]
    },
    {
      "cell_type": "code",
      "metadata": {
        "id": "IJjpPQQFUY-f",
        "colab_type": "code",
        "colab": {
          "base_uri": "https://localhost:8080/",
          "height": 34
        },
        "outputId": "65c21b4a-fc2a-4778-c539-541745bdd63b"
      },
      "source": [
        "avg = sum(numbers)/len(numbers)\n",
        "avg"
      ],
      "execution_count": null,
      "outputs": [
        {
          "output_type": "execute_result",
          "data": {
            "text/plain": [
              "11.375"
            ]
          },
          "metadata": {
            "tags": []
          },
          "execution_count": 7
        }
      ]
    },
    {
      "cell_type": "code",
      "metadata": {
        "id": "Rw9_wNPbWy0j",
        "colab_type": "code",
        "colab": {}
      },
      "source": [
        "numbers.sort()"
      ],
      "execution_count": null,
      "outputs": []
    },
    {
      "cell_type": "code",
      "metadata": {
        "id": "5LiBzeIxeuLT",
        "colab_type": "code",
        "colab": {
          "base_uri": "https://localhost:8080/",
          "height": 34
        },
        "outputId": "05c4fc1b-19be-46bf-8f5e-c9abc26ee05f"
      },
      "source": [
        "numbers"
      ],
      "execution_count": null,
      "outputs": [
        {
          "output_type": "execute_result",
          "data": {
            "text/plain": [
              "[2, 3, 5, 6, 8, 10, 27, 30]"
            ]
          },
          "metadata": {
            "tags": []
          },
          "execution_count": 9
        }
      ]
    },
    {
      "cell_type": "code",
      "metadata": {
        "id": "dlQfU3SPeu5i",
        "colab_type": "code",
        "colab": {}
      },
      "source": [
        "numbers.reverse()"
      ],
      "execution_count": null,
      "outputs": []
    },
    {
      "cell_type": "code",
      "metadata": {
        "id": "zt2mI7VZew6K",
        "colab_type": "code",
        "colab": {
          "base_uri": "https://localhost:8080/",
          "height": 34
        },
        "outputId": "81e74c3f-42f3-42ce-c185-e8ac7fe39a62"
      },
      "source": [
        "numbers"
      ],
      "execution_count": null,
      "outputs": [
        {
          "output_type": "execute_result",
          "data": {
            "text/plain": [
              "[30, 27, 10, 8, 6, 5, 3, 2]"
            ]
          },
          "metadata": {
            "tags": []
          },
          "execution_count": 11
        }
      ]
    },
    {
      "cell_type": "code",
      "metadata": {
        "id": "caQjRlLCexo5",
        "colab_type": "code",
        "colab": {}
      },
      "source": [
        ""
      ],
      "execution_count": null,
      "outputs": []
    }
  ]
}