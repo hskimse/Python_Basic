{
  "nbformat": 4,
  "nbformat_minor": 0,
  "metadata": {
    "colab": {
      "name": "5-2. 예제-자판기.ipynb",
      "provenance": [],
      "collapsed_sections": [],
      "authorship_tag": "ABX9TyOOlgOBFFk31N6O+WeE2sV2",
      "include_colab_link": true
    },
    "kernelspec": {
      "name": "python3",
      "display_name": "Python 3"
    }
  },
  "cells": [
    {
      "cell_type": "markdown",
      "metadata": {
        "id": "view-in-github",
        "colab_type": "text"
      },
      "source": [
        "<a href=\"https://colab.research.google.com/github/joohoshin/Python_Basic/blob/master/5_2_%EC%98%88%EC%A0%9C_%EC%9E%90%ED%8C%90%EA%B8%B0.ipynb\" target=\"_parent\"><img src=\"https://colab.research.google.com/assets/colab-badge.svg\" alt=\"Open In Colab\"/></a>"
      ]
    },
    {
      "cell_type": "markdown",
      "metadata": {
        "id": "gwb_28UJO2FL",
        "colab_type": "text"
      },
      "source": [
        "### P133 자판기 프로그램 1단계\n",
        "\n",
        "\n",
        "*   돈을 넣고 음료수 사는 과정을 코딩으로 만들기\n",
        "\n"
      ]
    },
    {
      "cell_type": "code",
      "metadata": {
        "id": "eNKteQx0OyZw",
        "colab_type": "code",
        "colab": {}
      },
      "source": [
        "# 필요한 변수를 선언\n",
        "밀크티 = 700\n",
        "에너지드링크 = 800\n",
        "콜라 = 600"
      ],
      "execution_count": null,
      "outputs": []
    },
    {
      "cell_type": "code",
      "metadata": {
        "id": "0b2MWiFIPW75",
        "colab_type": "code",
        "colab": {
          "base_uri": "https://localhost:8080/",
          "height": 122
        },
        "outputId": "b78dc194-fab5-43dd-c126-24d3b57ff3b0"
      },
      "source": [
        "# 금액 입력 받기\n",
        "\n",
        "print('''\n",
        "바람쐬러 나왔더니 자판기가..\n",
        "\n",
        "얼마를 넣을지 입력하세요\n",
        "''')\n",
        "잔액 = int(input())"
      ],
      "execution_count": null,
      "outputs": [
        {
          "output_type": "stream",
          "text": [
            "\n",
            "바람쐬러 나왔더니 자판기가..\n",
            "\n",
            "얼마를 넣을지 입력하세요\n",
            "\n",
            "1000\n"
          ],
          "name": "stdout"
        }
      ]
    },
    {
      "cell_type": "code",
      "metadata": {
        "id": "nlFaEVYrKdM-",
        "colab_type": "code",
        "colab": {
          "base_uri": "https://localhost:8080/",
          "height": 34
        },
        "outputId": "7bd9f4e6-8936-4b76-fce2-a996ff4064ea"
      },
      "source": [
        "type(잔액)"
      ],
      "execution_count": null,
      "outputs": [
        {
          "output_type": "execute_result",
          "data": {
            "text/plain": [
              "int"
            ]
          },
          "metadata": {
            "tags": []
          },
          "execution_count": 23
        }
      ]
    },
    {
      "cell_type": "code",
      "metadata": {
        "id": "v2fWCZPNQCGB",
        "colab_type": "code",
        "colab": {
          "base_uri": "https://localhost:8080/",
          "height": 105
        },
        "outputId": "c6f7c57d-79f0-4ecc-c7d5-5f1453b3e21d"
      },
      "source": [
        "# 음료 선택하기\n",
        "print('''\n",
        "음료를 선택하세요. 현재 잔액은 {}원입니다. \n",
        "1) 밀크티: {}원   2) 에너지드링크 :{}원   3) 콜라: {}원\n",
        "'''.format(잔액, 밀크티, 에너지드링크, 콜라))\n",
        "선택=input()"
      ],
      "execution_count": null,
      "outputs": [
        {
          "output_type": "stream",
          "text": [
            "\n",
            "음료를 선택하세요. 현재 잔액은 1000원입니다. \n",
            "1) 밀크티: 700원   2) 에너지드링크 :800원   3) 콜라: 600원\n",
            "\n",
            "1\n"
          ],
          "name": "stdout"
        }
      ]
    },
    {
      "cell_type": "code",
      "metadata": {
        "id": "5y3f42-yOMqx",
        "colab_type": "code",
        "colab": {
          "base_uri": "https://localhost:8080/",
          "height": 35
        },
        "outputId": "1ad7531f-b855-4189-d608-410231a01a6d"
      },
      "source": [
        "선택"
      ],
      "execution_count": null,
      "outputs": [
        {
          "output_type": "execute_result",
          "data": {
            "application/vnd.google.colaboratory.intrinsic+json": {
              "type": "string"
            },
            "text/plain": [
              "'1'"
            ]
          },
          "metadata": {
            "tags": []
          },
          "execution_count": 25
        }
      ]
    },
    {
      "cell_type": "code",
      "metadata": {
        "id": "mmktNRg8JPTX",
        "colab_type": "code",
        "colab": {}
      },
      "source": [
        "def 음료받기(잔액, 음료):\n",
        "  print('덜커덩~ {}'.format(음료))\n",
        "  print('딸그락~'*(잔액//100), str(잔액) + '원을 돌려받았다')"
      ],
      "execution_count": null,
      "outputs": []
    },
    {
      "cell_type": "code",
      "metadata": {
        "id": "ydHZF2ZfOkZu",
        "colab_type": "code",
        "colab": {
          "base_uri": "https://localhost:8080/",
          "height": 52
        },
        "outputId": "217b3a2a-15a5-4462-fe43-b7d1795d5ae1"
      },
      "source": [
        "음료받기(500,'밀크티')"
      ],
      "execution_count": null,
      "outputs": [
        {
          "output_type": "stream",
          "text": [
            "덜커덩~ 밀크티\n",
            "딸그락~딸그락~딸그락~딸그락~딸그락~ 500원을 돌려받았다\n"
          ],
          "name": "stdout"
        }
      ]
    },
    {
      "cell_type": "code",
      "metadata": {
        "id": "GCz3fRAzHolo",
        "colab_type": "code",
        "colab": {
          "base_uri": "https://localhost:8080/",
          "height": 34
        },
        "outputId": "208c46a5-a2fe-463f-b4aa-0ffffdae431b"
      },
      "source": [
        "if 선택=='1': \n",
        "  if 잔액>=밀크티:\n",
        "    잔액 -= 밀크티 # 잔액 = 잔액 - 밀크티\n",
        "    음료받기(잔액, '밀크티')\n",
        "  else:\n",
        "    print('잔액이 부족합니다.')\n",
        "elif 선택=='2':\n",
        "  if 잔액>=에너지드링크:\n",
        "    잔액 -= 에너지드링크\n",
        "    음료받기(잔액, '에너지드링크')\n",
        "  else:\n",
        "    print('잔액이 부족합니다.')\n",
        "elif 선택=='3':\n",
        "  if 잔액>=콜라:\n",
        "    잔액 -= 콜라\n",
        "    음료받기(잔액, '콜라')\n",
        "  else:\n",
        "    print('잔액이 부족합니다.')\n",
        "else:\n",
        "  print('취소되었습니다')"
      ],
      "execution_count": null,
      "outputs": [
        {
          "output_type": "stream",
          "text": [
            "잔액이 부족합니다.\n"
          ],
          "name": "stdout"
        }
      ]
    },
    {
      "cell_type": "code",
      "metadata": {
        "id": "t57x2Ws_KXxo",
        "colab_type": "code",
        "colab": {}
      },
      "source": [
        ""
      ],
      "execution_count": null,
      "outputs": []
    },
    {
      "cell_type": "markdown",
      "metadata": {
        "id": "ZMldy_pLL8jO",
        "colab_type": "text"
      },
      "source": [
        "### 한 셀에 합쳐봅시다"
      ]
    },
    {
      "cell_type": "code",
      "metadata": {
        "id": "45ZDaNidL_hX",
        "colab_type": "code",
        "colab": {
          "base_uri": "https://localhost:8080/",
          "height": 228
        },
        "outputId": "dc1be347-aef8-4ada-b73a-7efb34c9dbf8"
      },
      "source": [
        "# 필요한 변수를 선언\n",
        "밀크티 = 700\n",
        "에너지드링크 = 800\n",
        "콜라 = 600\n",
        "\n",
        "# 금액 입력 받기\n",
        "print('''\n",
        "바람쐬러 나왔더니 자판기가..\n",
        "\n",
        "얼마를 넣을지 입력하세요\n",
        "''')\n",
        "잔액 = int(input())\n",
        "\n",
        "def 음료받기(잔액, 음료):\n",
        "  print('덜커덩~ {}'.format(음료))\n",
        "  print('딸그락~'*(잔액//100), str(잔액) + '원을 돌려받았다')\n",
        "\n",
        "# 음료 선택하기\n",
        "print('''\n",
        "음료를 선택하세요. 현재 잔액은 {}원입니다. \n",
        "1) 밀크티: {}원   2) 에너지드링크 :{}원   3) 콜라: {}원\n",
        "'''.format(잔액, 밀크티, 에너지드링크, 콜라))\n",
        "선택=input()\n",
        "\n",
        "if 선택=='1': \n",
        "  if 잔액>=밀크티:\n",
        "    잔액 -= 밀크티\n",
        "    음료받기(잔액, '밀크티')\n",
        "  else:\n",
        "    print('잔액이 부족합니다.')\n",
        "elif 선택=='2':\n",
        "  if 잔액>=에너지드링크:\n",
        "    잔액 -= 에너지드링크\n",
        "    음료받기(잔액, '에너지드링크')\n",
        "  else:\n",
        "    print('잔액이 부족합니다.')\n",
        "elif 선택=='3':\n",
        "  if 잔액>=콜라:\n",
        "    잔액 -= 콜라\n",
        "    음료받기(잔액, '콜라')\n",
        "  else:\n",
        "    print('잔액이 부족합니다.')\n",
        "else:\n",
        "  print('취소되었습니다')"
      ],
      "execution_count": null,
      "outputs": [
        {
          "output_type": "stream",
          "text": [
            "\n",
            "바람쐬러 나왔더니 자판기가..\n",
            "\n",
            "얼마를 넣을지 입력하세요\n",
            "\n",
            "4000\n",
            "\n",
            "음료를 선택하세요. 현재 잔액은 4000원입니다. \n",
            "1) 밀크티: 700원   2) 에너지드링크 :800원   3) 콜라: 600원\n",
            "\n",
            "4\n",
            "취소되었습니다\n"
          ],
          "name": "stdout"
        }
      ]
    },
    {
      "cell_type": "code",
      "metadata": {
        "id": "HiVWfswrP7fv",
        "colab_type": "code",
        "colab": {}
      },
      "source": [
        ""
      ],
      "execution_count": null,
      "outputs": []
    }
  ]
}