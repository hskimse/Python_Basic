{
  "nbformat": 4,
  "nbformat_minor": 0,
  "metadata": {
    "colab": {
      "name": "4-3. 연습.ipynb",
      "provenance": [],
      "collapsed_sections": [],
      "authorship_tag": "ABX9TyP0iCmChN3YCMkjCviwm6e5",
      "include_colab_link": true
    },
    "kernelspec": {
      "name": "python3",
      "display_name": "Python 3"
    }
  },
  "cells": [
    {
      "cell_type": "markdown",
      "metadata": {
        "id": "view-in-github",
        "colab_type": "text"
      },
      "source": [
        "<a href=\"https://colab.research.google.com/github/joohoshin/Python_Basic/blob/master/4_3_%EC%97%B0%EC%8A%B5.ipynb\" target=\"_parent\"><img src=\"https://colab.research.google.com/assets/colab-badge.svg\" alt=\"Open In Colab\"/></a>"
      ]
    },
    {
      "cell_type": "markdown",
      "metadata": {
        "id": "uasbRwpq1V0g",
        "colab_type": "text"
      },
      "source": [
        "### 문자 연산\n",
        "\n",
        "\n",
        "*   문자끼리 + 를 하면 문자가 합쳐진다\n",
        "*   문자에 * 숫자를 하면 반복된다\n",
        "\n"
      ]
    },
    {
      "cell_type": "code",
      "metadata": {
        "id": "tKWwD4In1TMY",
        "colab_type": "code",
        "colab": {}
      },
      "source": [
        "a= 'Hello'\n",
        "b= 'Kim'\n",
        "c= a+b\n",
        "d = 10"
      ],
      "execution_count": null,
      "outputs": []
    },
    {
      "cell_type": "code",
      "metadata": {
        "id": "vTncewDU2J1q",
        "colab_type": "code",
        "colab": {
          "base_uri": "https://localhost:8080/",
          "height": 34
        },
        "outputId": "b254afdc-5ad7-4a62-fc47-e43dfe548372"
      },
      "source": [
        "print(c)"
      ],
      "execution_count": null,
      "outputs": [
        {
          "output_type": "stream",
          "text": [
            "HelloKim\n"
          ],
          "name": "stdout"
        }
      ]
    },
    {
      "cell_type": "code",
      "metadata": {
        "id": "wk9d1QMm2RqD",
        "colab_type": "code",
        "colab": {
          "base_uri": "https://localhost:8080/",
          "height": 34
        },
        "outputId": "dc8f50b9-36c9-47bd-ed96-ee8cfa2a0aae"
      },
      "source": [
        "print(a+', '+b)"
      ],
      "execution_count": null,
      "outputs": [
        {
          "output_type": "stream",
          "text": [
            "Hello, Kim\n"
          ],
          "name": "stdout"
        }
      ]
    },
    {
      "cell_type": "code",
      "metadata": {
        "id": "1GT7sQo12YLb",
        "colab_type": "code",
        "colab": {
          "base_uri": "https://localhost:8080/",
          "height": 34
        },
        "outputId": "fb997b0c-28a8-44cf-8671-6caefae07246"
      },
      "source": [
        "print(a,b) #,가 있는 부분은 한칸 공백이 띄어진다"
      ],
      "execution_count": null,
      "outputs": [
        {
          "output_type": "stream",
          "text": [
            "Hello Kim\n"
          ],
          "name": "stdout"
        }
      ]
    },
    {
      "cell_type": "code",
      "metadata": {
        "id": "ZMqZO3xl2dp7",
        "colab_type": "code",
        "colab": {
          "base_uri": "https://localhost:8080/",
          "height": 34
        },
        "outputId": "bd8e36cc-621e-473e-cd0b-21b831a4310f"
      },
      "source": [
        "print(a,b,d) # print 명령에서 ,를 사용할 때는 숫자도 함께 출력이 가능하다"
      ],
      "execution_count": null,
      "outputs": [
        {
          "output_type": "stream",
          "text": [
            "Hello Kim 10\n"
          ],
          "name": "stdout"
        }
      ]
    },
    {
      "cell_type": "code",
      "metadata": {
        "id": "a1jnA1xD2nDi",
        "colab_type": "code",
        "colab": {
          "base_uri": "https://localhost:8080/",
          "height": 34
        },
        "outputId": "82e45e10-88f7-4651-b4ae-8dffc394d61a"
      },
      "source": [
        "print(a+b+str(d)) # 모두 붙여서 출력이 필요할 때는 숫자를 문자로 바꾸어서 합치면 된다. \n"
      ],
      "execution_count": null,
      "outputs": [
        {
          "output_type": "stream",
          "text": [
            "HelloKim10\n"
          ],
          "name": "stdout"
        }
      ]
    },
    {
      "cell_type": "code",
      "metadata": {
        "id": "aCk7_6pC294I",
        "colab_type": "code",
        "colab": {}
      },
      "source": [
        "rep = 'a'*10"
      ],
      "execution_count": null,
      "outputs": []
    },
    {
      "cell_type": "code",
      "metadata": {
        "id": "jU_2GBkN3I_j",
        "colab_type": "code",
        "colab": {
          "base_uri": "https://localhost:8080/",
          "height": 35
        },
        "outputId": "c0703996-558c-4ce2-f355-31ab77ef150a"
      },
      "source": [
        "rep"
      ],
      "execution_count": null,
      "outputs": [
        {
          "output_type": "execute_result",
          "data": {
            "application/vnd.google.colaboratory.intrinsic+json": {
              "type": "string"
            },
            "text/plain": [
              "'aaaaaaaaaa'"
            ]
          },
          "metadata": {
            "tags": []
          },
          "execution_count": 13
        }
      ]
    },
    {
      "cell_type": "code",
      "metadata": {
        "id": "7qF3zrrP3JhU",
        "colab_type": "code",
        "colab": {
          "base_uri": "https://localhost:8080/",
          "height": 193
        },
        "outputId": "9f295df5-d790-4978-e47f-1ca157e4abf6"
      },
      "source": [
        "for i in range(10):\n",
        "  print('a'*i)"
      ],
      "execution_count": null,
      "outputs": [
        {
          "output_type": "stream",
          "text": [
            "\n",
            "a\n",
            "aa\n",
            "aaa\n",
            "aaaa\n",
            "aaaaa\n",
            "aaaaaa\n",
            "aaaaaaa\n",
            "aaaaaaaa\n",
            "aaaaaaaaa\n"
          ],
          "name": "stdout"
        }
      ]
    },
    {
      "cell_type": "code",
      "metadata": {
        "id": "29auB02v3Rzb",
        "colab_type": "code",
        "colab": {
          "base_uri": "https://localhost:8080/",
          "height": 193
        },
        "outputId": "77952a9d-e27a-45f7-9b28-0a4fa9d94ad5"
      },
      "source": [
        "for i in range(1,30,3):\n",
        "  print('a'*i)"
      ],
      "execution_count": null,
      "outputs": [
        {
          "output_type": "stream",
          "text": [
            "a\n",
            "aaaa\n",
            "aaaaaaa\n",
            "aaaaaaaaaa\n",
            "aaaaaaaaaaaaa\n",
            "aaaaaaaaaaaaaaaa\n",
            "aaaaaaaaaaaaaaaaaaa\n",
            "aaaaaaaaaaaaaaaaaaaaaa\n",
            "aaaaaaaaaaaaaaaaaaaaaaaaa\n",
            "aaaaaaaaaaaaaaaaaaaaaaaaaaaa\n"
          ],
          "name": "stdout"
        }
      ]
    },
    {
      "cell_type": "code",
      "metadata": {
        "id": "jCEh9Iq14oDr",
        "colab_type": "code",
        "colab": {
          "base_uri": "https://localhost:8080/",
          "height": 281
        },
        "outputId": "5d9f8b12-32b8-4170-dd1f-18d4eae13ece"
      },
      "source": [
        "start = 0\n",
        "step = 2\n",
        "for i in range(1,30, step):\n",
        "  start += 1\n",
        "  print(' '*start + 'a'*i)"
      ],
      "execution_count": null,
      "outputs": [
        {
          "output_type": "stream",
          "text": [
            " a\n",
            "  aaa\n",
            "   aaaaa\n",
            "    aaaaaaa\n",
            "     aaaaaaaaa\n",
            "      aaaaaaaaaaa\n",
            "       aaaaaaaaaaaaa\n",
            "        aaaaaaaaaaaaaaa\n",
            "         aaaaaaaaaaaaaaaaa\n",
            "          aaaaaaaaaaaaaaaaaaa\n",
            "           aaaaaaaaaaaaaaaaaaaaa\n",
            "            aaaaaaaaaaaaaaaaaaaaaaa\n",
            "             aaaaaaaaaaaaaaaaaaaaaaaaa\n",
            "              aaaaaaaaaaaaaaaaaaaaaaaaaaa\n",
            "               aaaaaaaaaaaaaaaaaaaaaaaaaaaaa\n"
          ],
          "name": "stdout"
        }
      ]
    },
    {
      "cell_type": "markdown",
      "metadata": {
        "id": "1KytpxhT3m6J",
        "colab_type": "text"
      },
      "source": [
        "## 숫자 합계 구하기"
      ]
    },
    {
      "cell_type": "code",
      "metadata": {
        "id": "eG04clgL3dTi",
        "colab_type": "code",
        "colab": {
          "base_uri": "https://localhost:8080/",
          "height": 34
        },
        "outputId": "b778ceb8-545c-45f1-a9ec-76747b5ad5e4"
      },
      "source": [
        "# 1에서 100까지 합 구하기\n",
        "sum_ = 0\n",
        "\n",
        "for i in range(1,101):\n",
        "  sum_ += i  # sum_=sum_+i와 같다\n",
        "print(sum_)"
      ],
      "execution_count": null,
      "outputs": [
        {
          "output_type": "stream",
          "text": [
            "5050\n"
          ],
          "name": "stdout"
        }
      ]
    },
    {
      "cell_type": "code",
      "metadata": {
        "id": "88Nuo7X632Ei",
        "colab_type": "code",
        "colab": {
          "base_uri": "https://localhost:8080/",
          "height": 34
        },
        "outputId": "b50efe28-7d50-4cda-ca5a-ab7b31ed2b8c"
      },
      "source": [
        "# sum()를 사용해서 할 수도 있다\n",
        "sum(range(1,101))"
      ],
      "execution_count": null,
      "outputs": [
        {
          "output_type": "execute_result",
          "data": {
            "text/plain": [
              "5050"
            ]
          },
          "metadata": {
            "tags": []
          },
          "execution_count": 19
        }
      ]
    },
    {
      "cell_type": "markdown",
      "metadata": {
        "id": "RoGk2p2LMQXM",
        "colab_type": "text"
      },
      "source": [
        "\n",
        "\n",
        "*   % 연산은 정수 나누기의 나머지를 구한다. \n",
        "*   // 정수 나누기의 몫을 구한다.\n",
        "\n"
      ]
    },
    {
      "cell_type": "code",
      "metadata": {
        "id": "v5JVo0CMMCdR",
        "colab_type": "code",
        "colab": {
          "base_uri": "https://localhost:8080/",
          "height": 87
        },
        "outputId": "9825d061-faae-4d27-b04e-033b101154ba"
      },
      "source": [
        "# 짝수 배수만 출력하기\n",
        "\n",
        "num = [2,4,3,7, 10, 100,99]\n",
        "\n",
        "for i in num:\n",
        "  if i % 2 == 0:\n",
        "    print(i)\n"
      ],
      "execution_count": null,
      "outputs": [
        {
          "output_type": "stream",
          "text": [
            "2\n",
            "4\n",
            "10\n",
            "100\n"
          ],
          "name": "stdout"
        }
      ]
    },
    {
      "cell_type": "code",
      "metadata": {
        "id": "YyNHAdn8MsKo",
        "colab_type": "code",
        "colab": {
          "base_uri": "https://localhost:8080/",
          "height": 34
        },
        "outputId": "be1aede7-2346-4d2c-8dc4-41fc7d401c70"
      },
      "source": [
        "10//3"
      ],
      "execution_count": null,
      "outputs": [
        {
          "output_type": "execute_result",
          "data": {
            "text/plain": [
              "3"
            ]
          },
          "metadata": {
            "tags": []
          },
          "execution_count": 21
        }
      ]
    },
    {
      "cell_type": "code",
      "metadata": {
        "id": "PzCwbJXFOtin",
        "colab_type": "code",
        "colab": {
          "base_uri": "https://localhost:8080/",
          "height": 34
        },
        "outputId": "3005c93f-b438-49ab-eb9b-533aec6bdb6a"
      },
      "source": [
        "10%3"
      ],
      "execution_count": null,
      "outputs": [
        {
          "output_type": "execute_result",
          "data": {
            "text/plain": [
              "1"
            ]
          },
          "metadata": {
            "tags": []
          },
          "execution_count": 22
        }
      ]
    },
    {
      "cell_type": "code",
      "metadata": {
        "id": "EKVYU0q6Ou9O",
        "colab_type": "code",
        "colab": {}
      },
      "source": [
        ""
      ],
      "execution_count": null,
      "outputs": []
    }
  ]
}