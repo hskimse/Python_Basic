{
  "nbformat": 4,
  "nbformat_minor": 0,
  "metadata": {
    "kernelspec": {
      "name": "python3",
      "display_name": "Python 3",
      "language": "python"
    },
    "language_info": {
      "mimetype": "text/x-python",
      "nbconvert_exporter": "python",
      "name": "python",
      "file_extension": ".py",
      "version": "3.5.4",
      "pygments_lexer": "ipython3",
      "codemirror_mode": {
        "version": 3,
        "name": "ipython"
      }
    },
    "colab": {
      "name": "12-3. 연산하기.ipynb",
      "provenance": [],
      "include_colab_link": true
    }
  },
  "cells": [
    {
      "cell_type": "markdown",
      "metadata": {
        "id": "view-in-github",
        "colab_type": "text"
      },
      "source": [
        "<a href=\"https://colab.research.google.com/github/joohoshin/Python_Basic/blob/master/12_3_%EC%97%B0%EC%82%B0%ED%95%98%EA%B8%B0.ipynb\" target=\"_parent\"><img src=\"https://colab.research.google.com/assets/colab-badge.svg\" alt=\"Open In Colab\"/></a>"
      ]
    },
    {
      "cell_type": "markdown",
      "metadata": {
        "id": "YsFUkPEmsz7a"
      },
      "source": [
        "# Pandas 연산\n",
        "* assign() 함수를 사용하여 쉽게 연산할 수 있습니다. \n",
        "* 성적예제를 활용하여 연산을 해봅시다"
      ]
    },
    {
      "cell_type": "code",
      "metadata": {
        "id": "HCVBRV1XuT8F",
        "outputId": "b9486c2a-3d0d-4bb2-aafd-0d03636952ed",
        "colab": {
          "base_uri": "https://localhost:8080/",
          "height": 34
        }
      },
      "source": [
        "from google.colab import drive\n",
        "drive.mount('/g')"
      ],
      "execution_count": null,
      "outputs": [
        {
          "output_type": "stream",
          "text": [
            "Mounted at /g\n"
          ],
          "name": "stdout"
        }
      ]
    },
    {
      "cell_type": "code",
      "metadata": {
        "trusted": false,
        "id": "DtdxbK6-sz7b"
      },
      "source": [
        "import pandas as pd\n",
        "\n",
        "# 지난 강의에서 만든 성적데이터를 불러와 봅시다\n",
        "grade = pd.read_csv('/g/My Drive/Python_202002/grade.csv',index_col = 'id', encoding='cp949') # 인덱스 컬럼 지정"
      ],
      "execution_count": null,
      "outputs": []
    },
    {
      "cell_type": "code",
      "metadata": {
        "trusted": false,
        "id": "yCdsRpLusz7g",
        "outputId": "0cdd0773-590b-4a31-9556-f6cbc63ec4a7",
        "colab": {
          "base_uri": "https://localhost:8080/",
          "height": 225
        }
      },
      "source": [
        "grade.head()"
      ],
      "execution_count": null,
      "outputs": [
        {
          "output_type": "execute_result",
          "data": {
            "text/html": [
              "<div>\n",
              "<style scoped>\n",
              "    .dataframe tbody tr th:only-of-type {\n",
              "        vertical-align: middle;\n",
              "    }\n",
              "\n",
              "    .dataframe tbody tr th {\n",
              "        vertical-align: top;\n",
              "    }\n",
              "\n",
              "    .dataframe thead th {\n",
              "        text-align: right;\n",
              "    }\n",
              "</style>\n",
              "<table border=\"1\" class=\"dataframe\">\n",
              "  <thead>\n",
              "    <tr style=\"text-align: right;\">\n",
              "      <th></th>\n",
              "      <th>공창컴</th>\n",
              "      <th>화학</th>\n",
              "      <th>영어</th>\n",
              "    </tr>\n",
              "    <tr>\n",
              "      <th>id</th>\n",
              "      <th></th>\n",
              "      <th></th>\n",
              "      <th></th>\n",
              "    </tr>\n",
              "  </thead>\n",
              "  <tbody>\n",
              "    <tr>\n",
              "      <th>13019</th>\n",
              "      <td>73</td>\n",
              "      <td>61</td>\n",
              "      <td>47</td>\n",
              "    </tr>\n",
              "    <tr>\n",
              "      <th>10241</th>\n",
              "      <td>92</td>\n",
              "      <td>61</td>\n",
              "      <td>97</td>\n",
              "    </tr>\n",
              "    <tr>\n",
              "      <th>13119</th>\n",
              "      <td>93</td>\n",
              "      <td>89</td>\n",
              "      <td>95</td>\n",
              "    </tr>\n",
              "    <tr>\n",
              "      <th>15565</th>\n",
              "      <td>90</td>\n",
              "      <td>56</td>\n",
              "      <td>51</td>\n",
              "    </tr>\n",
              "    <tr>\n",
              "      <th>11138</th>\n",
              "      <td>80</td>\n",
              "      <td>93</td>\n",
              "      <td>70</td>\n",
              "    </tr>\n",
              "  </tbody>\n",
              "</table>\n",
              "</div>"
            ],
            "text/plain": [
              "       공창컴  화학  영어\n",
              "id                \n",
              "13019   73  61  47\n",
              "10241   92  61  97\n",
              "13119   93  89  95\n",
              "15565   90  56  51\n",
              "11138   80  93  70"
            ]
          },
          "metadata": {
            "tags": []
          },
          "execution_count": 3
        }
      ]
    },
    {
      "cell_type": "code",
      "metadata": {
        "id": "JinyI0A8hhlc",
        "outputId": "8412fe40-8779-4d77-e59f-535e48291c77",
        "colab": {
          "base_uri": "https://localhost:8080/",
          "height": 34
        }
      },
      "source": [
        "grade.columns"
      ],
      "execution_count": null,
      "outputs": [
        {
          "output_type": "execute_result",
          "data": {
            "text/plain": [
              "Index(['공창컴', '화학', '영어'], dtype='object')"
            ]
          },
          "metadata": {
            "tags": []
          },
          "execution_count": 4
        }
      ]
    },
    {
      "cell_type": "markdown",
      "metadata": {
        "id": "tnDtAyw7sz7j"
      },
      "source": [
        "* 컬럼 이름을 바꿔봅시다"
      ]
    },
    {
      "cell_type": "code",
      "metadata": {
        "trusted": false,
        "id": "2rGuTtlesz7k"
      },
      "source": [
        "grade.columns = ['퀴즈', '중간고사', '기말고사']"
      ],
      "execution_count": null,
      "outputs": []
    },
    {
      "cell_type": "code",
      "metadata": {
        "trusted": false,
        "id": "gU7wnciEsz7m",
        "outputId": "24b54385-4b41-45c1-d289-004fd9a98948",
        "colab": {
          "base_uri": "https://localhost:8080/",
          "height": 225
        }
      },
      "source": [
        "grade.head()"
      ],
      "execution_count": null,
      "outputs": [
        {
          "output_type": "execute_result",
          "data": {
            "text/html": [
              "<div>\n",
              "<style scoped>\n",
              "    .dataframe tbody tr th:only-of-type {\n",
              "        vertical-align: middle;\n",
              "    }\n",
              "\n",
              "    .dataframe tbody tr th {\n",
              "        vertical-align: top;\n",
              "    }\n",
              "\n",
              "    .dataframe thead th {\n",
              "        text-align: right;\n",
              "    }\n",
              "</style>\n",
              "<table border=\"1\" class=\"dataframe\">\n",
              "  <thead>\n",
              "    <tr style=\"text-align: right;\">\n",
              "      <th></th>\n",
              "      <th>퀴즈</th>\n",
              "      <th>중간고사</th>\n",
              "      <th>기말고사</th>\n",
              "    </tr>\n",
              "    <tr>\n",
              "      <th>id</th>\n",
              "      <th></th>\n",
              "      <th></th>\n",
              "      <th></th>\n",
              "    </tr>\n",
              "  </thead>\n",
              "  <tbody>\n",
              "    <tr>\n",
              "      <th>13019</th>\n",
              "      <td>73</td>\n",
              "      <td>61</td>\n",
              "      <td>47</td>\n",
              "    </tr>\n",
              "    <tr>\n",
              "      <th>10241</th>\n",
              "      <td>92</td>\n",
              "      <td>61</td>\n",
              "      <td>97</td>\n",
              "    </tr>\n",
              "    <tr>\n",
              "      <th>13119</th>\n",
              "      <td>93</td>\n",
              "      <td>89</td>\n",
              "      <td>95</td>\n",
              "    </tr>\n",
              "    <tr>\n",
              "      <th>15565</th>\n",
              "      <td>90</td>\n",
              "      <td>56</td>\n",
              "      <td>51</td>\n",
              "    </tr>\n",
              "    <tr>\n",
              "      <th>11138</th>\n",
              "      <td>80</td>\n",
              "      <td>93</td>\n",
              "      <td>70</td>\n",
              "    </tr>\n",
              "  </tbody>\n",
              "</table>\n",
              "</div>"
            ],
            "text/plain": [
              "       퀴즈  중간고사  기말고사\n",
              "id                   \n",
              "13019  73    61    47\n",
              "10241  92    61    97\n",
              "13119  93    89    95\n",
              "15565  90    56    51\n",
              "11138  80    93    70"
            ]
          },
          "metadata": {
            "tags": []
          },
          "execution_count": 6
        }
      ]
    },
    {
      "cell_type": "markdown",
      "metadata": {
        "id": "hxHfZl37sz7p"
      },
      "source": [
        "* 퀴즈 20% 중간 30% 기말 50% 의 비중으로 성적 합계를 계산하는 것으로 가정합시다\n",
        "* assign() 함수에 식을 적을 수 있습니다 .\n",
        "* df['column']은 df.column과 같습니다. "
      ]
    },
    {
      "cell_type": "code",
      "metadata": {
        "trusted": false,
        "id": "IxKg1Zs2sz7p"
      },
      "source": [
        "grade = grade.assign(합계 = grade.퀴즈 * 0.2 + grade.중간고사 * 0.3 + grade.기말고사 * 0.5)"
      ],
      "execution_count": null,
      "outputs": []
    },
    {
      "cell_type": "code",
      "metadata": {
        "trusted": false,
        "id": "_XpiWbowsz7s",
        "outputId": "99444262-42d4-424d-b23e-1e004c425470",
        "colab": {
          "base_uri": "https://localhost:8080/",
          "height": 225
        }
      },
      "source": [
        "grade.head()"
      ],
      "execution_count": null,
      "outputs": [
        {
          "output_type": "execute_result",
          "data": {
            "text/html": [
              "<div>\n",
              "<style scoped>\n",
              "    .dataframe tbody tr th:only-of-type {\n",
              "        vertical-align: middle;\n",
              "    }\n",
              "\n",
              "    .dataframe tbody tr th {\n",
              "        vertical-align: top;\n",
              "    }\n",
              "\n",
              "    .dataframe thead th {\n",
              "        text-align: right;\n",
              "    }\n",
              "</style>\n",
              "<table border=\"1\" class=\"dataframe\">\n",
              "  <thead>\n",
              "    <tr style=\"text-align: right;\">\n",
              "      <th></th>\n",
              "      <th>퀴즈</th>\n",
              "      <th>중간고사</th>\n",
              "      <th>기말고사</th>\n",
              "      <th>합계</th>\n",
              "    </tr>\n",
              "    <tr>\n",
              "      <th>id</th>\n",
              "      <th></th>\n",
              "      <th></th>\n",
              "      <th></th>\n",
              "      <th></th>\n",
              "    </tr>\n",
              "  </thead>\n",
              "  <tbody>\n",
              "    <tr>\n",
              "      <th>13019</th>\n",
              "      <td>73</td>\n",
              "      <td>61</td>\n",
              "      <td>47</td>\n",
              "      <td>56.4</td>\n",
              "    </tr>\n",
              "    <tr>\n",
              "      <th>10241</th>\n",
              "      <td>92</td>\n",
              "      <td>61</td>\n",
              "      <td>97</td>\n",
              "      <td>85.2</td>\n",
              "    </tr>\n",
              "    <tr>\n",
              "      <th>13119</th>\n",
              "      <td>93</td>\n",
              "      <td>89</td>\n",
              "      <td>95</td>\n",
              "      <td>92.8</td>\n",
              "    </tr>\n",
              "    <tr>\n",
              "      <th>15565</th>\n",
              "      <td>90</td>\n",
              "      <td>56</td>\n",
              "      <td>51</td>\n",
              "      <td>60.3</td>\n",
              "    </tr>\n",
              "    <tr>\n",
              "      <th>11138</th>\n",
              "      <td>80</td>\n",
              "      <td>93</td>\n",
              "      <td>70</td>\n",
              "      <td>78.9</td>\n",
              "    </tr>\n",
              "  </tbody>\n",
              "</table>\n",
              "</div>"
            ],
            "text/plain": [
              "       퀴즈  중간고사  기말고사    합계\n",
              "id                         \n",
              "13019  73    61    47  56.4\n",
              "10241  92    61    97  85.2\n",
              "13119  93    89    95  92.8\n",
              "15565  90    56    51  60.3\n",
              "11138  80    93    70  78.9"
            ]
          },
          "metadata": {
            "tags": []
          },
          "execution_count": 8
        }
      ]
    },
    {
      "cell_type": "code",
      "metadata": {
        "id": "hf6SqttYiQnM"
      },
      "source": [
        "grade['합계2'] = grade.퀴즈 * 0.2 + grade.중간고사 * 0.3 + grade.기말고사 * 0.5"
      ],
      "execution_count": null,
      "outputs": []
    },
    {
      "cell_type": "code",
      "metadata": {
        "id": "7joo76UriXGW",
        "outputId": "66cc6827-277b-4f5f-e77f-b37f1bf0ad80",
        "colab": {
          "base_uri": "https://localhost:8080/",
          "height": 431
        }
      },
      "source": [
        "grade"
      ],
      "execution_count": null,
      "outputs": [
        {
          "output_type": "execute_result",
          "data": {
            "text/html": [
              "<div>\n",
              "<style scoped>\n",
              "    .dataframe tbody tr th:only-of-type {\n",
              "        vertical-align: middle;\n",
              "    }\n",
              "\n",
              "    .dataframe tbody tr th {\n",
              "        vertical-align: top;\n",
              "    }\n",
              "\n",
              "    .dataframe thead th {\n",
              "        text-align: right;\n",
              "    }\n",
              "</style>\n",
              "<table border=\"1\" class=\"dataframe\">\n",
              "  <thead>\n",
              "    <tr style=\"text-align: right;\">\n",
              "      <th></th>\n",
              "      <th>퀴즈</th>\n",
              "      <th>중간고사</th>\n",
              "      <th>기말고사</th>\n",
              "      <th>합계</th>\n",
              "      <th>합계2</th>\n",
              "    </tr>\n",
              "    <tr>\n",
              "      <th>id</th>\n",
              "      <th></th>\n",
              "      <th></th>\n",
              "      <th></th>\n",
              "      <th></th>\n",
              "      <th></th>\n",
              "    </tr>\n",
              "  </thead>\n",
              "  <tbody>\n",
              "    <tr>\n",
              "      <th>13019</th>\n",
              "      <td>73</td>\n",
              "      <td>61</td>\n",
              "      <td>47</td>\n",
              "      <td>56.4</td>\n",
              "      <td>56.4</td>\n",
              "    </tr>\n",
              "    <tr>\n",
              "      <th>10241</th>\n",
              "      <td>92</td>\n",
              "      <td>61</td>\n",
              "      <td>97</td>\n",
              "      <td>85.2</td>\n",
              "      <td>85.2</td>\n",
              "    </tr>\n",
              "    <tr>\n",
              "      <th>13119</th>\n",
              "      <td>93</td>\n",
              "      <td>89</td>\n",
              "      <td>95</td>\n",
              "      <td>92.8</td>\n",
              "      <td>92.8</td>\n",
              "    </tr>\n",
              "    <tr>\n",
              "      <th>15565</th>\n",
              "      <td>90</td>\n",
              "      <td>56</td>\n",
              "      <td>51</td>\n",
              "      <td>60.3</td>\n",
              "      <td>60.3</td>\n",
              "    </tr>\n",
              "    <tr>\n",
              "      <th>11138</th>\n",
              "      <td>80</td>\n",
              "      <td>93</td>\n",
              "      <td>70</td>\n",
              "      <td>78.9</td>\n",
              "      <td>78.9</td>\n",
              "    </tr>\n",
              "    <tr>\n",
              "      <th>...</th>\n",
              "      <td>...</td>\n",
              "      <td>...</td>\n",
              "      <td>...</td>\n",
              "      <td>...</td>\n",
              "      <td>...</td>\n",
              "    </tr>\n",
              "    <tr>\n",
              "      <th>13988</th>\n",
              "      <td>99</td>\n",
              "      <td>63</td>\n",
              "      <td>89</td>\n",
              "      <td>83.2</td>\n",
              "      <td>83.2</td>\n",
              "    </tr>\n",
              "    <tr>\n",
              "      <th>10880</th>\n",
              "      <td>72</td>\n",
              "      <td>67</td>\n",
              "      <td>70</td>\n",
              "      <td>69.5</td>\n",
              "      <td>69.5</td>\n",
              "    </tr>\n",
              "    <tr>\n",
              "      <th>17470</th>\n",
              "      <td>70</td>\n",
              "      <td>79</td>\n",
              "      <td>40</td>\n",
              "      <td>57.7</td>\n",
              "      <td>57.7</td>\n",
              "    </tr>\n",
              "    <tr>\n",
              "      <th>15573</th>\n",
              "      <td>92</td>\n",
              "      <td>50</td>\n",
              "      <td>97</td>\n",
              "      <td>81.9</td>\n",
              "      <td>81.9</td>\n",
              "    </tr>\n",
              "    <tr>\n",
              "      <th>18138</th>\n",
              "      <td>84</td>\n",
              "      <td>77</td>\n",
              "      <td>75</td>\n",
              "      <td>77.4</td>\n",
              "      <td>77.4</td>\n",
              "    </tr>\n",
              "  </tbody>\n",
              "</table>\n",
              "<p>100 rows × 5 columns</p>\n",
              "</div>"
            ],
            "text/plain": [
              "       퀴즈  중간고사  기말고사    합계   합계2\n",
              "id                               \n",
              "13019  73    61    47  56.4  56.4\n",
              "10241  92    61    97  85.2  85.2\n",
              "13119  93    89    95  92.8  92.8\n",
              "15565  90    56    51  60.3  60.3\n",
              "11138  80    93    70  78.9  78.9\n",
              "...    ..   ...   ...   ...   ...\n",
              "13988  99    63    89  83.2  83.2\n",
              "10880  72    67    70  69.5  69.5\n",
              "17470  70    79    40  57.7  57.7\n",
              "15573  92    50    97  81.9  81.9\n",
              "18138  84    77    75  77.4  77.4\n",
              "\n",
              "[100 rows x 5 columns]"
            ]
          },
          "metadata": {
            "tags": []
          },
          "execution_count": 10
        }
      ]
    },
    {
      "cell_type": "markdown",
      "metadata": {
        "id": "ok1MejD4sz7u"
      },
      "source": [
        "* 성적순으로 정렬해봅시다. \n",
        "* sort_values() 함수를 사용합니다"
      ]
    },
    {
      "cell_type": "code",
      "metadata": {
        "trusted": false,
        "id": "GFTktxCQsz7v"
      },
      "source": [
        "grade_sort = grade.sort_values('합계', ascending = False)"
      ],
      "execution_count": null,
      "outputs": []
    },
    {
      "cell_type": "code",
      "metadata": {
        "trusted": false,
        "id": "ymc0uDlOsz7y",
        "outputId": "7327333b-54ac-4fa3-8598-02d9a93ba4f2",
        "colab": {
          "base_uri": "https://localhost:8080/",
          "height": 373
        }
      },
      "source": [
        "grade_sort.head(10)"
      ],
      "execution_count": null,
      "outputs": [
        {
          "output_type": "execute_result",
          "data": {
            "text/html": [
              "<div>\n",
              "<style scoped>\n",
              "    .dataframe tbody tr th:only-of-type {\n",
              "        vertical-align: middle;\n",
              "    }\n",
              "\n",
              "    .dataframe tbody tr th {\n",
              "        vertical-align: top;\n",
              "    }\n",
              "\n",
              "    .dataframe thead th {\n",
              "        text-align: right;\n",
              "    }\n",
              "</style>\n",
              "<table border=\"1\" class=\"dataframe\">\n",
              "  <thead>\n",
              "    <tr style=\"text-align: right;\">\n",
              "      <th></th>\n",
              "      <th>퀴즈</th>\n",
              "      <th>중간고사</th>\n",
              "      <th>기말고사</th>\n",
              "      <th>합계</th>\n",
              "      <th>합계2</th>\n",
              "    </tr>\n",
              "    <tr>\n",
              "      <th>id</th>\n",
              "      <th></th>\n",
              "      <th></th>\n",
              "      <th></th>\n",
              "      <th></th>\n",
              "      <th></th>\n",
              "    </tr>\n",
              "  </thead>\n",
              "  <tbody>\n",
              "    <tr>\n",
              "      <th>15907</th>\n",
              "      <td>90</td>\n",
              "      <td>100</td>\n",
              "      <td>99</td>\n",
              "      <td>97.5</td>\n",
              "      <td>97.5</td>\n",
              "    </tr>\n",
              "    <tr>\n",
              "      <th>13155</th>\n",
              "      <td>95</td>\n",
              "      <td>85</td>\n",
              "      <td>99</td>\n",
              "      <td>94.0</td>\n",
              "      <td>94.0</td>\n",
              "    </tr>\n",
              "    <tr>\n",
              "      <th>13119</th>\n",
              "      <td>93</td>\n",
              "      <td>89</td>\n",
              "      <td>95</td>\n",
              "      <td>92.8</td>\n",
              "      <td>92.8</td>\n",
              "    </tr>\n",
              "    <tr>\n",
              "      <th>12757</th>\n",
              "      <td>73</td>\n",
              "      <td>92</td>\n",
              "      <td>100</td>\n",
              "      <td>92.2</td>\n",
              "      <td>92.2</td>\n",
              "    </tr>\n",
              "    <tr>\n",
              "      <th>16071</th>\n",
              "      <td>71</td>\n",
              "      <td>90</td>\n",
              "      <td>99</td>\n",
              "      <td>90.7</td>\n",
              "      <td>90.7</td>\n",
              "    </tr>\n",
              "    <tr>\n",
              "      <th>10927</th>\n",
              "      <td>90</td>\n",
              "      <td>85</td>\n",
              "      <td>94</td>\n",
              "      <td>90.5</td>\n",
              "      <td>90.5</td>\n",
              "    </tr>\n",
              "    <tr>\n",
              "      <th>12793</th>\n",
              "      <td>92</td>\n",
              "      <td>85</td>\n",
              "      <td>93</td>\n",
              "      <td>90.4</td>\n",
              "      <td>90.4</td>\n",
              "    </tr>\n",
              "    <tr>\n",
              "      <th>10715</th>\n",
              "      <td>95</td>\n",
              "      <td>67</td>\n",
              "      <td>100</td>\n",
              "      <td>89.1</td>\n",
              "      <td>89.1</td>\n",
              "    </tr>\n",
              "    <tr>\n",
              "      <th>17913</th>\n",
              "      <td>87</td>\n",
              "      <td>93</td>\n",
              "      <td>87</td>\n",
              "      <td>88.8</td>\n",
              "      <td>88.8</td>\n",
              "    </tr>\n",
              "    <tr>\n",
              "      <th>18461</th>\n",
              "      <td>96</td>\n",
              "      <td>83</td>\n",
              "      <td>88</td>\n",
              "      <td>88.1</td>\n",
              "      <td>88.1</td>\n",
              "    </tr>\n",
              "  </tbody>\n",
              "</table>\n",
              "</div>"
            ],
            "text/plain": [
              "       퀴즈  중간고사  기말고사    합계   합계2\n",
              "id                               \n",
              "15907  90   100    99  97.5  97.5\n",
              "13155  95    85    99  94.0  94.0\n",
              "13119  93    89    95  92.8  92.8\n",
              "12757  73    92   100  92.2  92.2\n",
              "16071  71    90    99  90.7  90.7\n",
              "10927  90    85    94  90.5  90.5\n",
              "12793  92    85    93  90.4  90.4\n",
              "10715  95    67   100  89.1  89.1\n",
              "17913  87    93    87  88.8  88.8\n",
              "18461  96    83    88  88.1  88.1"
            ]
          },
          "metadata": {
            "tags": []
          },
          "execution_count": 12
        }
      ]
    },
    {
      "cell_type": "markdown",
      "metadata": {
        "id": "i31KNW5Bsz70"
      },
      "source": [
        "* 특정 컬럼만 선택하기\n",
        "* filter() 함수를 사용합니다"
      ]
    },
    {
      "cell_type": "code",
      "metadata": {
        "trusted": false,
        "id": "gOQx3826sz70"
      },
      "source": [
        "grade_final = grade_sort.filter(['기말고사','합계'])"
      ],
      "execution_count": null,
      "outputs": []
    },
    {
      "cell_type": "code",
      "metadata": {
        "trusted": false,
        "id": "eW2JqjwBsz73",
        "outputId": "6f54d531-554b-42d1-e060-42ffd0a2a0d7",
        "colab": {
          "base_uri": "https://localhost:8080/",
          "height": 225
        }
      },
      "source": [
        "grade_final.head()"
      ],
      "execution_count": null,
      "outputs": [
        {
          "output_type": "execute_result",
          "data": {
            "text/html": [
              "<div>\n",
              "<style scoped>\n",
              "    .dataframe tbody tr th:only-of-type {\n",
              "        vertical-align: middle;\n",
              "    }\n",
              "\n",
              "    .dataframe tbody tr th {\n",
              "        vertical-align: top;\n",
              "    }\n",
              "\n",
              "    .dataframe thead th {\n",
              "        text-align: right;\n",
              "    }\n",
              "</style>\n",
              "<table border=\"1\" class=\"dataframe\">\n",
              "  <thead>\n",
              "    <tr style=\"text-align: right;\">\n",
              "      <th></th>\n",
              "      <th>기말고사</th>\n",
              "      <th>합계</th>\n",
              "    </tr>\n",
              "    <tr>\n",
              "      <th>id</th>\n",
              "      <th></th>\n",
              "      <th></th>\n",
              "    </tr>\n",
              "  </thead>\n",
              "  <tbody>\n",
              "    <tr>\n",
              "      <th>15907</th>\n",
              "      <td>99</td>\n",
              "      <td>97.5</td>\n",
              "    </tr>\n",
              "    <tr>\n",
              "      <th>13155</th>\n",
              "      <td>99</td>\n",
              "      <td>94.0</td>\n",
              "    </tr>\n",
              "    <tr>\n",
              "      <th>13119</th>\n",
              "      <td>95</td>\n",
              "      <td>92.8</td>\n",
              "    </tr>\n",
              "    <tr>\n",
              "      <th>12757</th>\n",
              "      <td>100</td>\n",
              "      <td>92.2</td>\n",
              "    </tr>\n",
              "    <tr>\n",
              "      <th>16071</th>\n",
              "      <td>99</td>\n",
              "      <td>90.7</td>\n",
              "    </tr>\n",
              "  </tbody>\n",
              "</table>\n",
              "</div>"
            ],
            "text/plain": [
              "       기말고사    합계\n",
              "id               \n",
              "15907    99  97.5\n",
              "13155    99  94.0\n",
              "13119    95  92.8\n",
              "12757   100  92.2\n",
              "16071    99  90.7"
            ]
          },
          "metadata": {
            "tags": []
          },
          "execution_count": 14
        }
      ]
    },
    {
      "cell_type": "code",
      "metadata": {
        "trusted": false,
        "id": "ItBpS191sz75"
      },
      "source": [
        ""
      ],
      "execution_count": null,
      "outputs": []
    }
  ]
}