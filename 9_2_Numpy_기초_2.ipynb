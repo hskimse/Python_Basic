{
  "nbformat": 4,
  "nbformat_minor": 0,
  "metadata": {
    "kernelspec": {
      "display_name": "Python 3",
      "language": "python",
      "name": "python3"
    },
    "language_info": {
      "codemirror_mode": {
        "name": "ipython",
        "version": 3
      },
      "file_extension": ".py",
      "mimetype": "text/x-python",
      "name": "python",
      "nbconvert_exporter": "python",
      "pygments_lexer": "ipython3",
      "version": "3.7.6"
    },
    "colab": {
      "name": "9-2. Numpy 기초 2.ipynb",
      "provenance": [],
      "collapsed_sections": [],
      "include_colab_link": true
    }
  },
  "cells": [
    {
      "cell_type": "markdown",
      "metadata": {
        "id": "view-in-github",
        "colab_type": "text"
      },
      "source": [
        "<a href=\"https://colab.research.google.com/github/joohoshin/Python_Basic/blob/master/9_2_Numpy_%EA%B8%B0%EC%B4%88_2.ipynb\" target=\"_parent\"><img src=\"https://colab.research.google.com/assets/colab-badge.svg\" alt=\"Open In Colab\"/></a>"
      ]
    },
    {
      "cell_type": "markdown",
      "metadata": {
        "id": "GP5-ix6Ulexg"
      },
      "source": [
        "# 배열 자동 생성\n",
        "* random을 통해서 자동으로 생성가능함\n",
        "* 이미 사용해본 random library와 문법은 비슷\n",
        "* randint(start, end, size = (row size, column size)) 형태로 사용 (end는 포함되지 않음)"
      ]
    },
    {
      "cell_type": "code",
      "metadata": {
        "id": "o3ueJgVjlexi"
      },
      "source": [
        "import numpy as np"
      ],
      "execution_count": null,
      "outputs": []
    },
    {
      "cell_type": "code",
      "metadata": {
        "id": "85H4Ak9Blexq",
        "outputId": "b05571f1-1096-4b0e-c318-3af0e9feb545",
        "colab": {
          "base_uri": "https://localhost:8080/",
          "height": 71
        }
      },
      "source": [
        "arr1 = np.random.randint(0,10, size=(2,3))\n",
        "print(arr1)\n",
        "\n",
        "arr2 = np.random.randint(0,10, size = 10)\n",
        "print(arr2)"
      ],
      "execution_count": null,
      "outputs": [
        {
          "output_type": "stream",
          "text": [
            "[[7 3 3]\n",
            " [7 1 3]]\n",
            "[7 3 0 9 8 2 6 2 5 7]\n"
          ],
          "name": "stdout"
        }
      ]
    },
    {
      "cell_type": "markdown",
      "metadata": {
        "id": "aTLnEqsmlexy"
      },
      "source": [
        "* rand(row size, column size)는 0~1 사이의 값을 랜덤 선택 (1은 미포함)\n"
      ]
    },
    {
      "cell_type": "code",
      "metadata": {
        "id": "5Kyd3k0Ylexz",
        "outputId": "6ad8503e-cf83-4256-b0cc-7ca957750c82",
        "colab": {
          "base_uri": "https://localhost:8080/",
          "height": 108
        }
      },
      "source": [
        "arr3 = np.random.rand(5,3)\n",
        "print(arr3)"
      ],
      "execution_count": null,
      "outputs": [
        {
          "output_type": "stream",
          "text": [
            "[[0.3673078  0.67113084 0.41084182]\n",
            " [0.6591554  0.54608679 0.307241  ]\n",
            " [0.94875558 0.98581727 0.70140685]\n",
            " [0.83651209 0.65233588 0.28725514]\n",
            " [0.1437185  0.52422013 0.01348342]]\n"
          ],
          "name": "stdout"
        }
      ]
    },
    {
      "cell_type": "code",
      "metadata": {
        "id": "N8N7JsFIlex4",
        "outputId": "6d2262f3-d4c1-46e7-fc74-5f2883be9549",
        "colab": {
          "base_uri": "https://localhost:8080/",
          "height": 108
        }
      },
      "source": [
        "arr4 = np.random.rand(5,3)\n",
        "print(arr4)"
      ],
      "execution_count": null,
      "outputs": [
        {
          "output_type": "stream",
          "text": [
            "[[0.08290824 0.28099184 0.26042219]\n",
            " [0.52064677 0.14993617 0.57444382]\n",
            " [0.82231193 0.3572519  0.79678102]\n",
            " [0.29484146 0.30593245 0.45897772]\n",
            " [0.56052333 0.47366557 0.98574375]]\n"
          ],
          "name": "stdout"
        }
      ]
    },
    {
      "cell_type": "markdown",
      "metadata": {
        "id": "TRvufTqxlex8"
      },
      "source": [
        "* 그 외에도 여러가지 행렬 연산 기능이 있음\n",
        "* https://www.bogotobogo.com/python/python_numpy_matrix_tutorial.php"
      ]
    },
    {
      "cell_type": "markdown",
      "metadata": {
        "id": "DWyMf4uVlex8"
      },
      "source": [
        "##### 주요 통계값\n",
        "* min(), count() 등을 쉽게 구할 수 있으며\n",
        "* 평균 및 표준편차도 쉽게 구할 수 있다 mean(), std() "
      ]
    },
    {
      "cell_type": "code",
      "metadata": {
        "id": "iDDEURp5lex9",
        "outputId": "5574af19-0604-4a58-baca-0f6e4c87f7b3",
        "colab": {
          "base_uri": "https://localhost:8080/",
          "height": 126
        }
      },
      "source": [
        "print(arr4.sum())\n",
        "print(arr4.min())\n",
        "print(arr4.max())\n",
        "print(arr4.mean()) # 평균\n",
        "print(arr4.std()) # 표준편차\n",
        "print(arr4.var()) # 분산\n"
      ],
      "execution_count": null,
      "outputs": [
        {
          "output_type": "stream",
          "text": [
            "6.925378136887134\n",
            "0.08290823716580864\n",
            "0.9857437453374569\n",
            "0.4616918757924756\n",
            "0.24764321265080844\n",
            "0.06132716077201352\n"
          ],
          "name": "stdout"
        }
      ]
    },
    {
      "cell_type": "markdown",
      "metadata": {
        "id": "lBEKF9ZyleyA"
      },
      "source": [
        "##### 특정 범위 가져오기\n",
        "* arr[start:end:step]으로 특정 범위 데이터를 가져올 수 있다\n",
        "  (end 는 미포함)\n",
        "* 리스트와 동일함"
      ]
    },
    {
      "cell_type": "code",
      "metadata": {
        "id": "vN7Sx6pvleyB",
        "outputId": "b1428d73-c4ec-4312-b9a8-46d8fce3caa5",
        "colab": {
          "base_uri": "https://localhost:8080/",
          "height": 35
        }
      },
      "source": [
        "arr5 = np.random.randint(10, size = 10)\n",
        "print(arr5)"
      ],
      "execution_count": null,
      "outputs": [
        {
          "output_type": "stream",
          "text": [
            "[9 0 3 5 8 9 7 2 2 1]\n"
          ],
          "name": "stdout"
        }
      ]
    },
    {
      "cell_type": "code",
      "metadata": {
        "id": "lfdy5aHQleyE",
        "outputId": "3e04de76-e28c-470a-fbbd-d28b727d868a",
        "colab": {
          "base_uri": "https://localhost:8080/",
          "height": 35
        }
      },
      "source": [
        "arr5[:5] #"
      ],
      "execution_count": null,
      "outputs": [
        {
          "output_type": "execute_result",
          "data": {
            "text/plain": [
              "array([9, 0, 3, 5, 8])"
            ]
          },
          "metadata": {
            "tags": []
          },
          "execution_count": 8
        }
      ]
    },
    {
      "cell_type": "code",
      "metadata": {
        "id": "gftfrHXEleyI",
        "outputId": "73f47b2e-1fd0-4326-8f15-cffacea1c584",
        "colab": {
          "base_uri": "https://localhost:8080/",
          "height": 35
        }
      },
      "source": [
        "arr5[1:3]"
      ],
      "execution_count": null,
      "outputs": [
        {
          "output_type": "execute_result",
          "data": {
            "text/plain": [
              "array([0, 3])"
            ]
          },
          "metadata": {
            "tags": []
          },
          "execution_count": 9
        }
      ]
    },
    {
      "cell_type": "code",
      "metadata": {
        "id": "QUdyKKxHleyL"
      },
      "source": [
        ""
      ],
      "execution_count": null,
      "outputs": []
    }
  ]
}