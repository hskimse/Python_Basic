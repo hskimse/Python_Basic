{
  "nbformat": 4,
  "nbformat_minor": 0,
  "metadata": {
    "colab": {
      "name": "13-2. 매출 관리 예제.ipynb",
      "provenance": [],
      "collapsed_sections": [],
      "mount_file_id": "1KyRtZ35ybgkSGWVIa0oUL3PqtCSufPf6",
      "authorship_tag": "ABX9TyMLyDLlKnT/NbP1SsJ4xOKI",
      "include_colab_link": true
    },
    "kernelspec": {
      "name": "python3",
      "display_name": "Python 3"
    }
  },
  "cells": [
    {
      "cell_type": "markdown",
      "metadata": {
        "id": "view-in-github",
        "colab_type": "text"
      },
      "source": [
        "<a href=\"https://colab.research.google.com/github/joohoshin/Python_Basic/blob/master/13_2_%EB%A7%A4%EC%B6%9C_%EA%B4%80%EB%A6%AC_%EC%98%88%EC%A0%9C.ipynb\" target=\"_parent\"><img src=\"https://colab.research.google.com/assets/colab-badge.svg\" alt=\"Open In Colab\"/></a>"
      ]
    },
    {
      "cell_type": "markdown",
      "metadata": {
        "id": "vieH24K5-n14"
      },
      "source": [
        "Pandas를 통해 매출 계산하는 예제를 만들어봅시다"
      ]
    },
    {
      "cell_type": "code",
      "metadata": {
        "id": "4xSilk9S-tYh"
      },
      "source": [
        "# 식당 매출을 가상으로 계산해봅시다\n",
        "import pandas as pd\n",
        "import numpy as np\n",
        "\n",
        "# 가상 데이터 생성\n",
        "월 = range(1,13)\n",
        "돈까스 = np.random.choice(range(100,200), 12)\n",
        "냉면 = np.random.choice(range(100,200), 12)\n",
        "떡볶이 = np.random.choice(range(100,200), 12)"
      ],
      "execution_count": null,
      "outputs": []
    },
    {
      "cell_type": "code",
      "metadata": {
        "id": "NP0Q5hGC8vKf",
        "outputId": "4a5e1ed2-e8e0-4260-a63f-bff54c2ebc85",
        "colab": {
          "base_uri": "https://localhost:8080/",
          "height": 34
        }
      },
      "source": [
        "돈까스"
      ],
      "execution_count": null,
      "outputs": [
        {
          "output_type": "execute_result",
          "data": {
            "text/plain": [
              "array([110, 116, 155, 187, 162, 155, 120, 177, 110, 128, 110, 150])"
            ]
          },
          "metadata": {
            "tags": []
          },
          "execution_count": 27
        }
      ]
    },
    {
      "cell_type": "code",
      "metadata": {
        "id": "c6R9wPuZ8rEL"
      },
      "source": [
        "# dataframe 변환\n",
        "매출건수 = pd.DataFrame({'월':월, '돈까스':돈까스, '냉면':냉면, '떡볶이':떡볶이 })"
      ],
      "execution_count": null,
      "outputs": []
    },
    {
      "cell_type": "code",
      "metadata": {
        "id": "wF6_fmo4-0D2",
        "outputId": "9a9d7a35-b6a0-4994-f24f-b52ae0393e50",
        "colab": {
          "base_uri": "https://localhost:8080/",
          "height": 402
        }
      },
      "source": [
        "매출건수"
      ],
      "execution_count": null,
      "outputs": [
        {
          "output_type": "execute_result",
          "data": {
            "text/html": [
              "<div>\n",
              "<style scoped>\n",
              "    .dataframe tbody tr th:only-of-type {\n",
              "        vertical-align: middle;\n",
              "    }\n",
              "\n",
              "    .dataframe tbody tr th {\n",
              "        vertical-align: top;\n",
              "    }\n",
              "\n",
              "    .dataframe thead th {\n",
              "        text-align: right;\n",
              "    }\n",
              "</style>\n",
              "<table border=\"1\" class=\"dataframe\">\n",
              "  <thead>\n",
              "    <tr style=\"text-align: right;\">\n",
              "      <th></th>\n",
              "      <th>월</th>\n",
              "      <th>돈까스</th>\n",
              "      <th>냉면</th>\n",
              "      <th>떡볶이</th>\n",
              "    </tr>\n",
              "  </thead>\n",
              "  <tbody>\n",
              "    <tr>\n",
              "      <th>0</th>\n",
              "      <td>1</td>\n",
              "      <td>110</td>\n",
              "      <td>160</td>\n",
              "      <td>136</td>\n",
              "    </tr>\n",
              "    <tr>\n",
              "      <th>1</th>\n",
              "      <td>2</td>\n",
              "      <td>116</td>\n",
              "      <td>190</td>\n",
              "      <td>180</td>\n",
              "    </tr>\n",
              "    <tr>\n",
              "      <th>2</th>\n",
              "      <td>3</td>\n",
              "      <td>155</td>\n",
              "      <td>192</td>\n",
              "      <td>173</td>\n",
              "    </tr>\n",
              "    <tr>\n",
              "      <th>3</th>\n",
              "      <td>4</td>\n",
              "      <td>187</td>\n",
              "      <td>194</td>\n",
              "      <td>135</td>\n",
              "    </tr>\n",
              "    <tr>\n",
              "      <th>4</th>\n",
              "      <td>5</td>\n",
              "      <td>162</td>\n",
              "      <td>182</td>\n",
              "      <td>161</td>\n",
              "    </tr>\n",
              "    <tr>\n",
              "      <th>5</th>\n",
              "      <td>6</td>\n",
              "      <td>155</td>\n",
              "      <td>156</td>\n",
              "      <td>137</td>\n",
              "    </tr>\n",
              "    <tr>\n",
              "      <th>6</th>\n",
              "      <td>7</td>\n",
              "      <td>120</td>\n",
              "      <td>150</td>\n",
              "      <td>126</td>\n",
              "    </tr>\n",
              "    <tr>\n",
              "      <th>7</th>\n",
              "      <td>8</td>\n",
              "      <td>177</td>\n",
              "      <td>100</td>\n",
              "      <td>101</td>\n",
              "    </tr>\n",
              "    <tr>\n",
              "      <th>8</th>\n",
              "      <td>9</td>\n",
              "      <td>110</td>\n",
              "      <td>174</td>\n",
              "      <td>193</td>\n",
              "    </tr>\n",
              "    <tr>\n",
              "      <th>9</th>\n",
              "      <td>10</td>\n",
              "      <td>128</td>\n",
              "      <td>198</td>\n",
              "      <td>127</td>\n",
              "    </tr>\n",
              "    <tr>\n",
              "      <th>10</th>\n",
              "      <td>11</td>\n",
              "      <td>110</td>\n",
              "      <td>143</td>\n",
              "      <td>155</td>\n",
              "    </tr>\n",
              "    <tr>\n",
              "      <th>11</th>\n",
              "      <td>12</td>\n",
              "      <td>150</td>\n",
              "      <td>193</td>\n",
              "      <td>168</td>\n",
              "    </tr>\n",
              "  </tbody>\n",
              "</table>\n",
              "</div>"
            ],
            "text/plain": [
              "     월  돈까스   냉면  떡볶이\n",
              "0    1  110  160  136\n",
              "1    2  116  190  180\n",
              "2    3  155  192  173\n",
              "3    4  187  194  135\n",
              "4    5  162  182  161\n",
              "5    6  155  156  137\n",
              "6    7  120  150  126\n",
              "7    8  177  100  101\n",
              "8    9  110  174  193\n",
              "9   10  128  198  127\n",
              "10  11  110  143  155\n",
              "11  12  150  193  168"
            ]
          },
          "metadata": {
            "tags": []
          },
          "execution_count": 29
        }
      ]
    },
    {
      "cell_type": "code",
      "metadata": {
        "id": "iIKT9fao_EDB"
      },
      "source": [
        "# 가격과 이익률이 아래와 같다고 합시다\n",
        "가격 = {'돈까스':7000, '냉면':6000, '떡볶이':4000}\n",
        "이익률 = {'돈까스':0.3, '냉면':0.5, '떡볶이':0.4}"
      ],
      "execution_count": null,
      "outputs": []
    },
    {
      "cell_type": "code",
      "metadata": {
        "id": "rj7e_v7z_NBf"
      },
      "source": [
        "# 매출 계산\n",
        "매출 = 매출건수.assign(돈까스 = 매출건수.돈까스 * 가격['돈까스'],\n",
        "                 냉면 = 매출건수.냉면 * 가격['냉면'],\n",
        "                 떡볶이 = 매출건수.떡볶이 * 가격['떡볶이'])"
      ],
      "execution_count": null,
      "outputs": []
    },
    {
      "cell_type": "code",
      "metadata": {
        "id": "1iqzLHyP_Tol",
        "outputId": "b4f9c987-3b88-4059-da41-782cfda33ee0",
        "colab": {
          "base_uri": "https://localhost:8080/",
          "height": 402
        }
      },
      "source": [
        "매출"
      ],
      "execution_count": null,
      "outputs": [
        {
          "output_type": "execute_result",
          "data": {
            "text/html": [
              "<div>\n",
              "<style scoped>\n",
              "    .dataframe tbody tr th:only-of-type {\n",
              "        vertical-align: middle;\n",
              "    }\n",
              "\n",
              "    .dataframe tbody tr th {\n",
              "        vertical-align: top;\n",
              "    }\n",
              "\n",
              "    .dataframe thead th {\n",
              "        text-align: right;\n",
              "    }\n",
              "</style>\n",
              "<table border=\"1\" class=\"dataframe\">\n",
              "  <thead>\n",
              "    <tr style=\"text-align: right;\">\n",
              "      <th></th>\n",
              "      <th>월</th>\n",
              "      <th>돈까스</th>\n",
              "      <th>냉면</th>\n",
              "      <th>떡볶이</th>\n",
              "    </tr>\n",
              "  </thead>\n",
              "  <tbody>\n",
              "    <tr>\n",
              "      <th>0</th>\n",
              "      <td>1</td>\n",
              "      <td>770000</td>\n",
              "      <td>960000</td>\n",
              "      <td>544000</td>\n",
              "    </tr>\n",
              "    <tr>\n",
              "      <th>1</th>\n",
              "      <td>2</td>\n",
              "      <td>812000</td>\n",
              "      <td>1140000</td>\n",
              "      <td>720000</td>\n",
              "    </tr>\n",
              "    <tr>\n",
              "      <th>2</th>\n",
              "      <td>3</td>\n",
              "      <td>1085000</td>\n",
              "      <td>1152000</td>\n",
              "      <td>692000</td>\n",
              "    </tr>\n",
              "    <tr>\n",
              "      <th>3</th>\n",
              "      <td>4</td>\n",
              "      <td>1309000</td>\n",
              "      <td>1164000</td>\n",
              "      <td>540000</td>\n",
              "    </tr>\n",
              "    <tr>\n",
              "      <th>4</th>\n",
              "      <td>5</td>\n",
              "      <td>1134000</td>\n",
              "      <td>1092000</td>\n",
              "      <td>644000</td>\n",
              "    </tr>\n",
              "    <tr>\n",
              "      <th>5</th>\n",
              "      <td>6</td>\n",
              "      <td>1085000</td>\n",
              "      <td>936000</td>\n",
              "      <td>548000</td>\n",
              "    </tr>\n",
              "    <tr>\n",
              "      <th>6</th>\n",
              "      <td>7</td>\n",
              "      <td>840000</td>\n",
              "      <td>900000</td>\n",
              "      <td>504000</td>\n",
              "    </tr>\n",
              "    <tr>\n",
              "      <th>7</th>\n",
              "      <td>8</td>\n",
              "      <td>1239000</td>\n",
              "      <td>600000</td>\n",
              "      <td>404000</td>\n",
              "    </tr>\n",
              "    <tr>\n",
              "      <th>8</th>\n",
              "      <td>9</td>\n",
              "      <td>770000</td>\n",
              "      <td>1044000</td>\n",
              "      <td>772000</td>\n",
              "    </tr>\n",
              "    <tr>\n",
              "      <th>9</th>\n",
              "      <td>10</td>\n",
              "      <td>896000</td>\n",
              "      <td>1188000</td>\n",
              "      <td>508000</td>\n",
              "    </tr>\n",
              "    <tr>\n",
              "      <th>10</th>\n",
              "      <td>11</td>\n",
              "      <td>770000</td>\n",
              "      <td>858000</td>\n",
              "      <td>620000</td>\n",
              "    </tr>\n",
              "    <tr>\n",
              "      <th>11</th>\n",
              "      <td>12</td>\n",
              "      <td>1050000</td>\n",
              "      <td>1158000</td>\n",
              "      <td>672000</td>\n",
              "    </tr>\n",
              "  </tbody>\n",
              "</table>\n",
              "</div>"
            ],
            "text/plain": [
              "     월      돈까스       냉면     떡볶이\n",
              "0    1   770000   960000  544000\n",
              "1    2   812000  1140000  720000\n",
              "2    3  1085000  1152000  692000\n",
              "3    4  1309000  1164000  540000\n",
              "4    5  1134000  1092000  644000\n",
              "5    6  1085000   936000  548000\n",
              "6    7   840000   900000  504000\n",
              "7    8  1239000   600000  404000\n",
              "8    9   770000  1044000  772000\n",
              "9   10   896000  1188000  508000\n",
              "10  11   770000   858000  620000\n",
              "11  12  1050000  1158000  672000"
            ]
          },
          "metadata": {
            "tags": []
          },
          "execution_count": 32
        }
      ]
    },
    {
      "cell_type": "code",
      "metadata": {
        "id": "mdFjYwds_XMv"
      },
      "source": [
        "이익 = 매출.assign(돈까스 = 매출.돈까스 * 이익률['돈까스'],\n",
        "               냉면 = 매출.냉면 * 이익률['냉면'],\n",
        "               떡볶이 = 매출.떡볶이 * 이익률['떡볶이'])"
      ],
      "execution_count": null,
      "outputs": []
    },
    {
      "cell_type": "code",
      "metadata": {
        "id": "9sfX07Zf_a2h",
        "outputId": "a974999d-4750-48b2-d24a-81837f4b97b8",
        "colab": {
          "base_uri": "https://localhost:8080/",
          "height": 402
        }
      },
      "source": [
        "이익"
      ],
      "execution_count": null,
      "outputs": [
        {
          "output_type": "execute_result",
          "data": {
            "text/html": [
              "<div>\n",
              "<style scoped>\n",
              "    .dataframe tbody tr th:only-of-type {\n",
              "        vertical-align: middle;\n",
              "    }\n",
              "\n",
              "    .dataframe tbody tr th {\n",
              "        vertical-align: top;\n",
              "    }\n",
              "\n",
              "    .dataframe thead th {\n",
              "        text-align: right;\n",
              "    }\n",
              "</style>\n",
              "<table border=\"1\" class=\"dataframe\">\n",
              "  <thead>\n",
              "    <tr style=\"text-align: right;\">\n",
              "      <th></th>\n",
              "      <th>월</th>\n",
              "      <th>돈까스</th>\n",
              "      <th>냉면</th>\n",
              "      <th>떡볶이</th>\n",
              "    </tr>\n",
              "  </thead>\n",
              "  <tbody>\n",
              "    <tr>\n",
              "      <th>0</th>\n",
              "      <td>1</td>\n",
              "      <td>231000.0</td>\n",
              "      <td>480000.0</td>\n",
              "      <td>217600.0</td>\n",
              "    </tr>\n",
              "    <tr>\n",
              "      <th>1</th>\n",
              "      <td>2</td>\n",
              "      <td>243600.0</td>\n",
              "      <td>570000.0</td>\n",
              "      <td>288000.0</td>\n",
              "    </tr>\n",
              "    <tr>\n",
              "      <th>2</th>\n",
              "      <td>3</td>\n",
              "      <td>325500.0</td>\n",
              "      <td>576000.0</td>\n",
              "      <td>276800.0</td>\n",
              "    </tr>\n",
              "    <tr>\n",
              "      <th>3</th>\n",
              "      <td>4</td>\n",
              "      <td>392700.0</td>\n",
              "      <td>582000.0</td>\n",
              "      <td>216000.0</td>\n",
              "    </tr>\n",
              "    <tr>\n",
              "      <th>4</th>\n",
              "      <td>5</td>\n",
              "      <td>340200.0</td>\n",
              "      <td>546000.0</td>\n",
              "      <td>257600.0</td>\n",
              "    </tr>\n",
              "    <tr>\n",
              "      <th>5</th>\n",
              "      <td>6</td>\n",
              "      <td>325500.0</td>\n",
              "      <td>468000.0</td>\n",
              "      <td>219200.0</td>\n",
              "    </tr>\n",
              "    <tr>\n",
              "      <th>6</th>\n",
              "      <td>7</td>\n",
              "      <td>252000.0</td>\n",
              "      <td>450000.0</td>\n",
              "      <td>201600.0</td>\n",
              "    </tr>\n",
              "    <tr>\n",
              "      <th>7</th>\n",
              "      <td>8</td>\n",
              "      <td>371700.0</td>\n",
              "      <td>300000.0</td>\n",
              "      <td>161600.0</td>\n",
              "    </tr>\n",
              "    <tr>\n",
              "      <th>8</th>\n",
              "      <td>9</td>\n",
              "      <td>231000.0</td>\n",
              "      <td>522000.0</td>\n",
              "      <td>308800.0</td>\n",
              "    </tr>\n",
              "    <tr>\n",
              "      <th>9</th>\n",
              "      <td>10</td>\n",
              "      <td>268800.0</td>\n",
              "      <td>594000.0</td>\n",
              "      <td>203200.0</td>\n",
              "    </tr>\n",
              "    <tr>\n",
              "      <th>10</th>\n",
              "      <td>11</td>\n",
              "      <td>231000.0</td>\n",
              "      <td>429000.0</td>\n",
              "      <td>248000.0</td>\n",
              "    </tr>\n",
              "    <tr>\n",
              "      <th>11</th>\n",
              "      <td>12</td>\n",
              "      <td>315000.0</td>\n",
              "      <td>579000.0</td>\n",
              "      <td>268800.0</td>\n",
              "    </tr>\n",
              "  </tbody>\n",
              "</table>\n",
              "</div>"
            ],
            "text/plain": [
              "     월       돈까스        냉면       떡볶이\n",
              "0    1  231000.0  480000.0  217600.0\n",
              "1    2  243600.0  570000.0  288000.0\n",
              "2    3  325500.0  576000.0  276800.0\n",
              "3    4  392700.0  582000.0  216000.0\n",
              "4    5  340200.0  546000.0  257600.0\n",
              "5    6  325500.0  468000.0  219200.0\n",
              "6    7  252000.0  450000.0  201600.0\n",
              "7    8  371700.0  300000.0  161600.0\n",
              "8    9  231000.0  522000.0  308800.0\n",
              "9   10  268800.0  594000.0  203200.0\n",
              "10  11  231000.0  429000.0  248000.0\n",
              "11  12  315000.0  579000.0  268800.0"
            ]
          },
          "metadata": {
            "tags": []
          },
          "execution_count": 34
        }
      ]
    },
    {
      "cell_type": "code",
      "metadata": {
        "id": "uzdfcgEX_ixv"
      },
      "source": [
        "# 총매출과 총이익, 이익률을 계산해봅시다\n",
        "이익 = 이익.assign(총매출 = 매출.돈까스 + 매출.냉면 + 매출.떡볶이)\n",
        "이익 = 이익.assign(총이익 = 이익.돈까스 + 이익.냉면 + 이익.떡볶이)\n",
        "이익 = 이익.assign(이익률 = 이익.총이익 / 이익.총매출)"
      ],
      "execution_count": null,
      "outputs": []
    },
    {
      "cell_type": "code",
      "metadata": {
        "id": "r4NnaC1f_nv_",
        "outputId": "bc186ba0-ac50-44f4-d7c1-55f7c0ec9611",
        "colab": {
          "base_uri": "https://localhost:8080/",
          "height": 402
        }
      },
      "source": [
        "이익"
      ],
      "execution_count": null,
      "outputs": [
        {
          "output_type": "execute_result",
          "data": {
            "text/html": [
              "<div>\n",
              "<style scoped>\n",
              "    .dataframe tbody tr th:only-of-type {\n",
              "        vertical-align: middle;\n",
              "    }\n",
              "\n",
              "    .dataframe tbody tr th {\n",
              "        vertical-align: top;\n",
              "    }\n",
              "\n",
              "    .dataframe thead th {\n",
              "        text-align: right;\n",
              "    }\n",
              "</style>\n",
              "<table border=\"1\" class=\"dataframe\">\n",
              "  <thead>\n",
              "    <tr style=\"text-align: right;\">\n",
              "      <th></th>\n",
              "      <th>월</th>\n",
              "      <th>돈까스</th>\n",
              "      <th>냉면</th>\n",
              "      <th>떡볶이</th>\n",
              "      <th>총매출</th>\n",
              "      <th>총이익</th>\n",
              "      <th>이익률</th>\n",
              "    </tr>\n",
              "  </thead>\n",
              "  <tbody>\n",
              "    <tr>\n",
              "      <th>0</th>\n",
              "      <td>1</td>\n",
              "      <td>231000.0</td>\n",
              "      <td>480000.0</td>\n",
              "      <td>217600.0</td>\n",
              "      <td>2274000</td>\n",
              "      <td>928600.0</td>\n",
              "      <td>0.408355</td>\n",
              "    </tr>\n",
              "    <tr>\n",
              "      <th>1</th>\n",
              "      <td>2</td>\n",
              "      <td>243600.0</td>\n",
              "      <td>570000.0</td>\n",
              "      <td>288000.0</td>\n",
              "      <td>2672000</td>\n",
              "      <td>1101600.0</td>\n",
              "      <td>0.412275</td>\n",
              "    </tr>\n",
              "    <tr>\n",
              "      <th>2</th>\n",
              "      <td>3</td>\n",
              "      <td>325500.0</td>\n",
              "      <td>576000.0</td>\n",
              "      <td>276800.0</td>\n",
              "      <td>2929000</td>\n",
              "      <td>1178300.0</td>\n",
              "      <td>0.402287</td>\n",
              "    </tr>\n",
              "    <tr>\n",
              "      <th>3</th>\n",
              "      <td>4</td>\n",
              "      <td>392700.0</td>\n",
              "      <td>582000.0</td>\n",
              "      <td>216000.0</td>\n",
              "      <td>3013000</td>\n",
              "      <td>1190700.0</td>\n",
              "      <td>0.395188</td>\n",
              "    </tr>\n",
              "    <tr>\n",
              "      <th>4</th>\n",
              "      <td>5</td>\n",
              "      <td>340200.0</td>\n",
              "      <td>546000.0</td>\n",
              "      <td>257600.0</td>\n",
              "      <td>2870000</td>\n",
              "      <td>1143800.0</td>\n",
              "      <td>0.398537</td>\n",
              "    </tr>\n",
              "    <tr>\n",
              "      <th>5</th>\n",
              "      <td>6</td>\n",
              "      <td>325500.0</td>\n",
              "      <td>468000.0</td>\n",
              "      <td>219200.0</td>\n",
              "      <td>2569000</td>\n",
              "      <td>1012700.0</td>\n",
              "      <td>0.394200</td>\n",
              "    </tr>\n",
              "    <tr>\n",
              "      <th>6</th>\n",
              "      <td>7</td>\n",
              "      <td>252000.0</td>\n",
              "      <td>450000.0</td>\n",
              "      <td>201600.0</td>\n",
              "      <td>2244000</td>\n",
              "      <td>903600.0</td>\n",
              "      <td>0.402674</td>\n",
              "    </tr>\n",
              "    <tr>\n",
              "      <th>7</th>\n",
              "      <td>8</td>\n",
              "      <td>371700.0</td>\n",
              "      <td>300000.0</td>\n",
              "      <td>161600.0</td>\n",
              "      <td>2243000</td>\n",
              "      <td>833300.0</td>\n",
              "      <td>0.371511</td>\n",
              "    </tr>\n",
              "    <tr>\n",
              "      <th>8</th>\n",
              "      <td>9</td>\n",
              "      <td>231000.0</td>\n",
              "      <td>522000.0</td>\n",
              "      <td>308800.0</td>\n",
              "      <td>2586000</td>\n",
              "      <td>1061800.0</td>\n",
              "      <td>0.410596</td>\n",
              "    </tr>\n",
              "    <tr>\n",
              "      <th>9</th>\n",
              "      <td>10</td>\n",
              "      <td>268800.0</td>\n",
              "      <td>594000.0</td>\n",
              "      <td>203200.0</td>\n",
              "      <td>2592000</td>\n",
              "      <td>1066000.0</td>\n",
              "      <td>0.411265</td>\n",
              "    </tr>\n",
              "    <tr>\n",
              "      <th>10</th>\n",
              "      <td>11</td>\n",
              "      <td>231000.0</td>\n",
              "      <td>429000.0</td>\n",
              "      <td>248000.0</td>\n",
              "      <td>2248000</td>\n",
              "      <td>908000.0</td>\n",
              "      <td>0.403915</td>\n",
              "    </tr>\n",
              "    <tr>\n",
              "      <th>11</th>\n",
              "      <td>12</td>\n",
              "      <td>315000.0</td>\n",
              "      <td>579000.0</td>\n",
              "      <td>268800.0</td>\n",
              "      <td>2880000</td>\n",
              "      <td>1162800.0</td>\n",
              "      <td>0.403750</td>\n",
              "    </tr>\n",
              "  </tbody>\n",
              "</table>\n",
              "</div>"
            ],
            "text/plain": [
              "     월       돈까스        냉면       떡볶이      총매출        총이익       이익률\n",
              "0    1  231000.0  480000.0  217600.0  2274000   928600.0  0.408355\n",
              "1    2  243600.0  570000.0  288000.0  2672000  1101600.0  0.412275\n",
              "2    3  325500.0  576000.0  276800.0  2929000  1178300.0  0.402287\n",
              "3    4  392700.0  582000.0  216000.0  3013000  1190700.0  0.395188\n",
              "4    5  340200.0  546000.0  257600.0  2870000  1143800.0  0.398537\n",
              "5    6  325500.0  468000.0  219200.0  2569000  1012700.0  0.394200\n",
              "6    7  252000.0  450000.0  201600.0  2244000   903600.0  0.402674\n",
              "7    8  371700.0  300000.0  161600.0  2243000   833300.0  0.371511\n",
              "8    9  231000.0  522000.0  308800.0  2586000  1061800.0  0.410596\n",
              "9   10  268800.0  594000.0  203200.0  2592000  1066000.0  0.411265\n",
              "10  11  231000.0  429000.0  248000.0  2248000   908000.0  0.403915\n",
              "11  12  315000.0  579000.0  268800.0  2880000  1162800.0  0.403750"
            ]
          },
          "metadata": {
            "tags": []
          },
          "execution_count": 37
        }
      ]
    },
    {
      "cell_type": "code",
      "metadata": {
        "id": "0CKxVUUuA6Pj",
        "outputId": "031cf13f-7a53-4472-b83c-b2e13625b0b8",
        "colab": {
          "base_uri": "https://localhost:8080/",
          "height": 34
        }
      },
      "source": [
        "# 구글 드라이브 연동을 위해 필요\n",
        "from google.colab import drive\n",
        "drive.mount('/g') #구글 드라이브를 임의의 명칭으로 지정합니다\n",
        "# 구글 로그인을 위한 인증코드를 받아서 입력해줍니다"
      ],
      "execution_count": null,
      "outputs": [
        {
          "output_type": "stream",
          "text": [
            "Drive already mounted at /g; to attempt to forcibly remount, call drive.mount(\"/g\", force_remount=True).\n"
          ],
          "name": "stdout"
        }
      ]
    },
    {
      "cell_type": "code",
      "metadata": {
        "id": "Ajv9LWcX_sBF"
      },
      "source": [
        "# csv 파일로 저장해봅시다\n",
        "이익.to_csv('/g/My Drive/Python_202002/매출 요약.csv', encoding = 'cp949', index = False)"
      ],
      "execution_count": null,
      "outputs": []
    },
    {
      "cell_type": "code",
      "metadata": {
        "id": "lFqjw-Xs-XEg",
        "outputId": "67ddb09c-37ed-45be-91ee-acbecb71a83a",
        "colab": {
          "base_uri": "https://localhost:8080/",
          "height": 213
        }
      },
      "source": [
        "# 가장 매출이 높은 월을 찾아봅시다\n",
        "top_sales = 이익.sort_values('총매출', ascending = False)\n",
        "print('매출 높은 월')\n",
        "top_sales.head()"
      ],
      "execution_count": null,
      "outputs": [
        {
          "output_type": "stream",
          "text": [
            "매출 높은 월\n"
          ],
          "name": "stdout"
        },
        {
          "output_type": "execute_result",
          "data": {
            "text/html": [
              "<div>\n",
              "<style scoped>\n",
              "    .dataframe tbody tr th:only-of-type {\n",
              "        vertical-align: middle;\n",
              "    }\n",
              "\n",
              "    .dataframe tbody tr th {\n",
              "        vertical-align: top;\n",
              "    }\n",
              "\n",
              "    .dataframe thead th {\n",
              "        text-align: right;\n",
              "    }\n",
              "</style>\n",
              "<table border=\"1\" class=\"dataframe\">\n",
              "  <thead>\n",
              "    <tr style=\"text-align: right;\">\n",
              "      <th></th>\n",
              "      <th>월</th>\n",
              "      <th>돈까스</th>\n",
              "      <th>냉면</th>\n",
              "      <th>떡볶이</th>\n",
              "      <th>총매출</th>\n",
              "      <th>총이익</th>\n",
              "      <th>이익률</th>\n",
              "    </tr>\n",
              "  </thead>\n",
              "  <tbody>\n",
              "    <tr>\n",
              "      <th>3</th>\n",
              "      <td>4</td>\n",
              "      <td>392700.0</td>\n",
              "      <td>582000.0</td>\n",
              "      <td>216000.0</td>\n",
              "      <td>3013000</td>\n",
              "      <td>1190700.0</td>\n",
              "      <td>0.395188</td>\n",
              "    </tr>\n",
              "    <tr>\n",
              "      <th>2</th>\n",
              "      <td>3</td>\n",
              "      <td>325500.0</td>\n",
              "      <td>576000.0</td>\n",
              "      <td>276800.0</td>\n",
              "      <td>2929000</td>\n",
              "      <td>1178300.0</td>\n",
              "      <td>0.402287</td>\n",
              "    </tr>\n",
              "    <tr>\n",
              "      <th>11</th>\n",
              "      <td>12</td>\n",
              "      <td>315000.0</td>\n",
              "      <td>579000.0</td>\n",
              "      <td>268800.0</td>\n",
              "      <td>2880000</td>\n",
              "      <td>1162800.0</td>\n",
              "      <td>0.403750</td>\n",
              "    </tr>\n",
              "    <tr>\n",
              "      <th>4</th>\n",
              "      <td>5</td>\n",
              "      <td>340200.0</td>\n",
              "      <td>546000.0</td>\n",
              "      <td>257600.0</td>\n",
              "      <td>2870000</td>\n",
              "      <td>1143800.0</td>\n",
              "      <td>0.398537</td>\n",
              "    </tr>\n",
              "    <tr>\n",
              "      <th>1</th>\n",
              "      <td>2</td>\n",
              "      <td>243600.0</td>\n",
              "      <td>570000.0</td>\n",
              "      <td>288000.0</td>\n",
              "      <td>2672000</td>\n",
              "      <td>1101600.0</td>\n",
              "      <td>0.412275</td>\n",
              "    </tr>\n",
              "  </tbody>\n",
              "</table>\n",
              "</div>"
            ],
            "text/plain": [
              "     월       돈까스        냉면       떡볶이      총매출        총이익       이익률\n",
              "3    4  392700.0  582000.0  216000.0  3013000  1190700.0  0.395188\n",
              "2    3  325500.0  576000.0  276800.0  2929000  1178300.0  0.402287\n",
              "11  12  315000.0  579000.0  268800.0  2880000  1162800.0  0.403750\n",
              "4    5  340200.0  546000.0  257600.0  2870000  1143800.0  0.398537\n",
              "1    2  243600.0  570000.0  288000.0  2672000  1101600.0  0.412275"
            ]
          },
          "metadata": {
            "tags": []
          },
          "execution_count": 40
        }
      ]
    },
    {
      "cell_type": "code",
      "metadata": {
        "id": "xAv6fKEW_0Mf",
        "outputId": "5c2c7b6b-b04e-476e-a777-c9d9a97ed03f",
        "colab": {
          "base_uri": "https://localhost:8080/",
          "height": 331
        }
      },
      "source": [
        "# 냉면 판매건수가 가장 큰달만 출력\n",
        "print('냉면이 가장 많이 팔린 월')\n",
        "냉면최고 = 매출건수.query('냉면> 돈까스 & 냉면> 떡볶이')\n",
        "냉면최고"
      ],
      "execution_count": null,
      "outputs": [
        {
          "output_type": "stream",
          "text": [
            "냉면이 가장 많이 팔린 월\n"
          ],
          "name": "stdout"
        },
        {
          "output_type": "execute_result",
          "data": {
            "text/html": [
              "<div>\n",
              "<style scoped>\n",
              "    .dataframe tbody tr th:only-of-type {\n",
              "        vertical-align: middle;\n",
              "    }\n",
              "\n",
              "    .dataframe tbody tr th {\n",
              "        vertical-align: top;\n",
              "    }\n",
              "\n",
              "    .dataframe thead th {\n",
              "        text-align: right;\n",
              "    }\n",
              "</style>\n",
              "<table border=\"1\" class=\"dataframe\">\n",
              "  <thead>\n",
              "    <tr style=\"text-align: right;\">\n",
              "      <th></th>\n",
              "      <th>월</th>\n",
              "      <th>돈까스</th>\n",
              "      <th>냉면</th>\n",
              "      <th>떡볶이</th>\n",
              "    </tr>\n",
              "  </thead>\n",
              "  <tbody>\n",
              "    <tr>\n",
              "      <th>0</th>\n",
              "      <td>1</td>\n",
              "      <td>110</td>\n",
              "      <td>160</td>\n",
              "      <td>136</td>\n",
              "    </tr>\n",
              "    <tr>\n",
              "      <th>1</th>\n",
              "      <td>2</td>\n",
              "      <td>116</td>\n",
              "      <td>190</td>\n",
              "      <td>180</td>\n",
              "    </tr>\n",
              "    <tr>\n",
              "      <th>2</th>\n",
              "      <td>3</td>\n",
              "      <td>155</td>\n",
              "      <td>192</td>\n",
              "      <td>173</td>\n",
              "    </tr>\n",
              "    <tr>\n",
              "      <th>3</th>\n",
              "      <td>4</td>\n",
              "      <td>187</td>\n",
              "      <td>194</td>\n",
              "      <td>135</td>\n",
              "    </tr>\n",
              "    <tr>\n",
              "      <th>4</th>\n",
              "      <td>5</td>\n",
              "      <td>162</td>\n",
              "      <td>182</td>\n",
              "      <td>161</td>\n",
              "    </tr>\n",
              "    <tr>\n",
              "      <th>5</th>\n",
              "      <td>6</td>\n",
              "      <td>155</td>\n",
              "      <td>156</td>\n",
              "      <td>137</td>\n",
              "    </tr>\n",
              "    <tr>\n",
              "      <th>6</th>\n",
              "      <td>7</td>\n",
              "      <td>120</td>\n",
              "      <td>150</td>\n",
              "      <td>126</td>\n",
              "    </tr>\n",
              "    <tr>\n",
              "      <th>9</th>\n",
              "      <td>10</td>\n",
              "      <td>128</td>\n",
              "      <td>198</td>\n",
              "      <td>127</td>\n",
              "    </tr>\n",
              "    <tr>\n",
              "      <th>11</th>\n",
              "      <td>12</td>\n",
              "      <td>150</td>\n",
              "      <td>193</td>\n",
              "      <td>168</td>\n",
              "    </tr>\n",
              "  </tbody>\n",
              "</table>\n",
              "</div>"
            ],
            "text/plain": [
              "     월  돈까스   냉면  떡볶이\n",
              "0    1  110  160  136\n",
              "1    2  116  190  180\n",
              "2    3  155  192  173\n",
              "3    4  187  194  135\n",
              "4    5  162  182  161\n",
              "5    6  155  156  137\n",
              "6    7  120  150  126\n",
              "9   10  128  198  127\n",
              "11  12  150  193  168"
            ]
          },
          "metadata": {
            "tags": []
          },
          "execution_count": 41
        }
      ]
    },
    {
      "cell_type": "code",
      "metadata": {
        "id": "rp36EzlQ_9lW"
      },
      "source": [
        ""
      ],
      "execution_count": null,
      "outputs": []
    }
  ]
}