{
  "nbformat": 4,
  "nbformat_minor": 0,
  "metadata": {
    "kernelspec": {
      "name": "python36",
      "display_name": "Python 3.6",
      "language": "python"
    },
    "language_info": {
      "mimetype": "text/x-python",
      "nbconvert_exporter": "python",
      "name": "python",
      "pygments_lexer": "ipython3",
      "version": "3.6.6",
      "file_extension": ".py",
      "codemirror_mode": {
        "version": 3,
        "name": "ipython"
      }
    },
    "colab": {
      "name": "6-3. 예제 메모장.ipynb",
      "provenance": [],
      "collapsed_sections": [],
      "include_colab_link": true
    }
  },
  "cells": [
    {
      "cell_type": "markdown",
      "metadata": {
        "id": "view-in-github",
        "colab_type": "text"
      },
      "source": [
        "<a href=\"https://colab.research.google.com/github/joohoshin/Python_Basic/blob/master/6_3_%EC%98%88%EC%A0%9C_%EB%A9%94%EB%AA%A8%EC%9E%A5.ipynb\" target=\"_parent\"><img src=\"https://colab.research.google.com/assets/colab-badge.svg\" alt=\"Open In Colab\"/></a>"
      ]
    },
    {
      "cell_type": "markdown",
      "metadata": {
        "collapsed": true,
        "id": "rKxFQDgF_tSJ",
        "colab_type": "text"
      },
      "source": [
        "# 메모장 (Todo list)\n",
        "* 앞에서 해본 메모장 기능을 업그레이드 해봅시다 "
      ]
    },
    {
      "cell_type": "code",
      "metadata": {
        "trusted": true,
        "id": "FhEYgyLe_tSK",
        "colab_type": "code",
        "colab": {
          "base_uri": "https://localhost:8080/",
          "height": 34
        },
        "outputId": "9913abc2-a661-452b-d01e-61e140b46343"
      },
      "source": [
        "memos = [] # 메모들을 저장\n",
        "# Dictionary로 메모별 정보 입력\n",
        "memo = {'todo':'test','내용':'test를위한 것입니다', '중요':'N' } \n",
        "memos.append(memo)\n",
        "print(memos)\n"
      ],
      "execution_count": null,
      "outputs": [
        {
          "output_type": "stream",
          "text": [
            "[{'todo': 'test', '내용': 'test를위한 것입니다', '중요': 'N'}]\n"
          ],
          "name": "stdout"
        }
      ]
    },
    {
      "cell_type": "markdown",
      "metadata": {
        "id": "FAoeX8EP_tSP",
        "colab_type": "text"
      },
      "source": [
        "* 메모 추가하기 (리스트 기능으로 추가해보자)"
      ]
    },
    {
      "cell_type": "code",
      "metadata": {
        "trusted": true,
        "id": "IeNA1TWq_tSQ",
        "colab_type": "code",
        "colab": {}
      },
      "source": [
        "def new_memo():\n",
        "    todo = input('todo을 입력하세요 >> ')\n",
        "    내용 = input('내용을 입력하세요>> ')\n",
        "    중요 = input('중요여부:(Y/N) >> ')\n",
        "    memo =  {'todo':todo,'내용':내용, '중요':중요 }\n",
        "    memos.append(memo)\n",
        "        "
      ],
      "execution_count": null,
      "outputs": []
    },
    {
      "cell_type": "code",
      "metadata": {
        "trusted": true,
        "id": "0BZPTIMs_tST",
        "colab_type": "code",
        "colab": {
          "base_uri": "https://localhost:8080/",
          "height": 70
        },
        "outputId": "53943d8a-36dc-4f3f-9b1c-cc0911a59dd7"
      },
      "source": [
        "new_memo()"
      ],
      "execution_count": null,
      "outputs": [
        {
          "output_type": "stream",
          "text": [
            "todo을 입력하세요 >> 은행가기\n",
            "내용을 입력하세요>> 통장만들기\n",
            "중요여부:(Y/N) >> N\n"
          ],
          "name": "stdout"
        }
      ]
    },
    {
      "cell_type": "code",
      "metadata": {
        "trusted": true,
        "id": "NVFCPF85_tSW",
        "colab_type": "code",
        "colab": {
          "base_uri": "https://localhost:8080/",
          "height": 70
        },
        "outputId": "4cca8a19-f3ec-4540-beef-f7a117ede2f5"
      },
      "source": [
        "memos"
      ],
      "execution_count": null,
      "outputs": [
        {
          "output_type": "execute_result",
          "data": {
            "text/plain": [
              "[{'todo': 'test', '내용': 'test를위한 것입니다', '중요': 'N'},\n",
              " {'todo': '공창컴 과제', '내용': '금요일까지 제출', '중요': 'Y'},\n",
              " {'todo': '은행가기', '내용': '통장만들기', '중요': 'N'}]"
            ]
          },
          "metadata": {
            "tags": []
          },
          "execution_count": 24
        }
      ]
    },
    {
      "cell_type": "markdown",
      "metadata": {
        "id": "l3iHnQmD_tSZ",
        "colab_type": "text"
      },
      "source": [
        "# 검색하기"
      ]
    },
    {
      "cell_type": "markdown",
      "metadata": {
        "id": "Gl94o6cW_tSZ",
        "colab_type": "text"
      },
      "source": [
        "* 문자에 특정 값이 있는지 확인하는 것은 in 명령어를 사용"
      ]
    },
    {
      "cell_type": "code",
      "metadata": {
        "trusted": true,
        "id": "C9JZw8uK_tSa",
        "colab_type": "code",
        "colab": {
          "base_uri": "https://localhost:8080/",
          "height": 34
        },
        "outputId": "dfa27e29-31b6-45a3-81a6-cce03280ccd0"
      },
      "source": [
        "title = '식사메뉴'\n",
        "'식사' in title"
      ],
      "execution_count": null,
      "outputs": [
        {
          "output_type": "execute_result",
          "data": {
            "text/plain": [
              "True"
            ]
          },
          "metadata": {
            "tags": []
          },
          "execution_count": 25
        }
      ]
    },
    {
      "cell_type": "markdown",
      "metadata": {
        "id": "8WxkznBA_tSe",
        "colab_type": "text"
      },
      "source": [
        "* 리스트에서 특정값을 for문을 이용해서 출력할 수 있다\n",
        "* list()를 통해서 range 등을 리스트로 변경할 수 있다"
      ]
    },
    {
      "cell_type": "code",
      "metadata": {
        "trusted": true,
        "id": "1tnqp2q2_tSe",
        "colab_type": "code",
        "colab": {
          "base_uri": "https://localhost:8080/",
          "height": 34
        },
        "outputId": "9e42b814-0be3-4515-c570-3c68adbd6e34"
      },
      "source": [
        "list(range(1,11))"
      ],
      "execution_count": null,
      "outputs": [
        {
          "output_type": "execute_result",
          "data": {
            "text/plain": [
              "[1, 2, 3, 4, 5, 6, 7, 8, 9, 10]"
            ]
          },
          "metadata": {
            "tags": []
          },
          "execution_count": 7
        }
      ]
    },
    {
      "cell_type": "code",
      "metadata": {
        "trusted": true,
        "id": "zRtAy1mT_tSi",
        "colab_type": "code",
        "colab": {
          "base_uri": "https://localhost:8080/",
          "height": 70
        },
        "outputId": "67781c71-432d-4b5d-c7cf-aad1bf0b06ff"
      },
      "source": [
        "for memo in memos:\n",
        "    print(memo)"
      ],
      "execution_count": null,
      "outputs": [
        {
          "output_type": "stream",
          "text": [
            "{'todo': 'test', '내용': 'test를위한 것입니다', '중요': 'N'}\n",
            "{'todo': '공창컴 과제', '내용': '금요일까지 제출', '중요': 'Y'}\n",
            "{'todo': '은행가기', '내용': '통장만들기', '중요': 'N'}\n"
          ],
          "name": "stdout"
        }
      ]
    },
    {
      "cell_type": "code",
      "metadata": {
        "trusted": true,
        "id": "ZO-ChTVh_tSl",
        "colab_type": "code",
        "colab": {
          "base_uri": "https://localhost:8080/",
          "height": 70
        },
        "outputId": "7d76d236-1016-44a8-dac0-ffcafcf26f47"
      },
      "source": [
        "# todo만 출력\n",
        "for memo in memos:\n",
        "    print(memo['todo'])"
      ],
      "execution_count": null,
      "outputs": [
        {
          "output_type": "stream",
          "text": [
            "test\n",
            "공창컴 과제\n",
            "은행가기\n"
          ],
          "name": "stdout"
        }
      ]
    },
    {
      "cell_type": "code",
      "metadata": {
        "trusted": true,
        "id": "cf-qsUMg_tSo",
        "colab_type": "code",
        "colab": {}
      },
      "source": [
        "def search():\n",
        "    keyword = input('todo에 검색할 단어를 입력하세요 >> ')\n",
        "    for memo in memos:\n",
        "        if keyword in memo['todo']:\n",
        "            print('todo:', memo['todo'],'내용:',memo['내용'], '중요:',memo['중요'] )\n",
        "            "
      ],
      "execution_count": null,
      "outputs": []
    },
    {
      "cell_type": "code",
      "metadata": {
        "trusted": true,
        "id": "jYRP3EHu_tSr",
        "colab_type": "code",
        "colab": {
          "base_uri": "https://localhost:8080/",
          "height": 52
        },
        "outputId": "96cdf43e-72ac-466e-a942-67ac49b97a00"
      },
      "source": [
        "search()"
      ],
      "execution_count": null,
      "outputs": [
        {
          "output_type": "stream",
          "text": [
            "todo에 검색할 단어를 입력하세요 >> 은행\n",
            "todo: 은행가기 내용: 통장만들기 중요: N\n"
          ],
          "name": "stdout"
        }
      ]
    },
    {
      "cell_type": "code",
      "metadata": {
        "trusted": true,
        "id": "86obkBIh_tSu",
        "colab_type": "code",
        "colab": {}
      },
      "source": [
        "def search_favorite():    \n",
        "    for memo in memos:\n",
        "        if memo['중요']=='y' or memo['중요']=='Y' :\n",
        "            print('todo:', memo['todo'],'내용:', memo['내용'])\n",
        "         "
      ],
      "execution_count": null,
      "outputs": []
    },
    {
      "cell_type": "code",
      "metadata": {
        "trusted": true,
        "id": "91633KC5_tSx",
        "colab_type": "code",
        "colab": {
          "base_uri": "https://localhost:8080/",
          "height": 34
        },
        "outputId": "b13b31eb-bdb6-47af-9062-9488a7971fa9"
      },
      "source": [
        "search_favorite()"
      ],
      "execution_count": null,
      "outputs": [
        {
          "output_type": "stream",
          "text": [
            "todo: 공창컴 과제 내용: 금요일까지 제출\n"
          ],
          "name": "stdout"
        }
      ]
    },
    {
      "cell_type": "code",
      "metadata": {
        "trusted": true,
        "id": "w11yqGqb_tS0",
        "colab_type": "code",
        "colab": {}
      },
      "source": [
        "def showall():\n",
        "    for memo in memos:\n",
        "         print('todo: ', memo['todo'],'내용: ', memo['내용'], '중요: ',memo['중요'])"
      ],
      "execution_count": null,
      "outputs": []
    },
    {
      "cell_type": "code",
      "metadata": {
        "trusted": true,
        "id": "HC09MOUT_tS2",
        "colab_type": "code",
        "colab": {
          "base_uri": "https://localhost:8080/",
          "height": 70
        },
        "outputId": "a6eb6eb6-8aa9-484e-f6d7-f359687c471d"
      },
      "source": [
        "showall()"
      ],
      "execution_count": null,
      "outputs": [
        {
          "output_type": "stream",
          "text": [
            "todo:  test 내용:  test를위한 것입니다 중요:  N\n",
            "todo:  공창컴 과제 내용:  금요일까지 제출 중요:  Y\n",
            "todo:  은행가기 내용:  통장만들기 중요:  N\n"
          ],
          "name": "stdout"
        }
      ]
    },
    {
      "cell_type": "markdown",
      "metadata": {
        "id": "XCvF0toz_tS4",
        "colab_type": "text"
      },
      "source": [
        "# 합쳐서 정리하기"
      ]
    },
    {
      "cell_type": "code",
      "metadata": {
        "trusted": true,
        "id": "D4NuOHIw_tS5",
        "colab_type": "code",
        "colab": {
          "base_uri": "https://localhost:8080/",
          "height": 721
        },
        "outputId": "ba48751a-3a4d-4e9a-c056-acf1b9ff7f1e"
      },
      "source": [
        "memos = [] # 메모들을 저장\n",
        "\n",
        "def new_memo():\n",
        "    todo = input('todo을 입력하세요 >> ')\n",
        "    내용 = input('내용을 입력하세요>> ')\n",
        "    중요 = input('중요여부:(Y/N) >> ')\n",
        "    memo =  {'todo':todo,'내용':내용, '중요':중요 }\n",
        "    memos.append(memo)\n",
        "    \n",
        "def search():\n",
        "    keyword = input('todo에 검색할 단어를 입력하세요 >> ')\n",
        "    for memo in memos:\n",
        "        if keyword in memo['todo']:\n",
        "            print('todo:', memo['todo'],'내용:',memo['내용'] )\n",
        "            \n",
        "def search_favorite():    \n",
        "    for memo in memos:\n",
        "        if memo['중요']=='y' or memo['중요']=='Y' :\n",
        "            print('todo:', memo['todo'],'내용:', memo['내용'])\n",
        "            \n",
        "def showall():\n",
        "    for memo in memos:\n",
        "         print('todo: ', memo['todo'],'내용: ', memo['내용'], '중요: ',memo['중요'])\n",
        "\n",
        "for i in range(100):\n",
        "    print()\n",
        "    menu = input('0: 종료, 1: 할일 추가, 2: 할일 검색, 3: 중요할일보기, 4: 전체 보기  >> ')\n",
        "    if menu == '0': break\n",
        "    elif menu == '1': new_memo()\n",
        "    elif menu == '2': search()\n",
        "    elif menu == '3': search_favorite()\n",
        "    elif menu == '4': showall()\n",
        "    else: print('다시입력하세요')"
      ],
      "execution_count": null,
      "outputs": [
        {
          "output_type": "stream",
          "text": [
            "\n",
            "0: 종료, 1: 할일 추가, 2: 할일 검색, 3: 중요할일보기, 4: 전체 보기  >> 1\n",
            "todo을 입력하세요 >> 공창컴 과제\n",
            "내용을 입력하세요>> 금요일까지\n",
            "중요여부:(Y/N) >> Y\n",
            "\n",
            "0: 종료, 1: 할일 추가, 2: 할일 검색, 3: 중요할일보기, 4: 전체 보기  >> 수치해석 과제\n",
            "다시입력하세요\n",
            "\n",
            "0: 종료, 1: 할일 추가, 2: 할일 검색, 3: 중요할일보기, 4: 전체 보기  >> 1\n",
            "todo을 입력하세요 >> 수치해석 과제\n",
            "내용을 입력하세요>> 수요일까지\n",
            "중요여부:(Y/N) >> y\n",
            "\n",
            "0: 종료, 1: 할일 추가, 2: 할일 검색, 3: 중요할일보기, 4: 전체 보기  >> 1\n",
            "todo을 입력하세요 >> 1\n",
            "내용을 입력하세요>> 친구와 저녁 먹기\n",
            "중요여부:(Y/N) >> n\n",
            "\n",
            "0: 종료, 1: 할일 추가, 2: 할일 검색, 3: 중요할일보기, 4: 전체 보기  >> 1\n",
            "todo을 입력하세요 >> 친구와 저녁 먹기\n",
            "내용을 입력하세요>> 일요일 7시\n",
            "중요여부:(Y/N) >> n\n",
            "\n",
            "0: 종료, 1: 할일 추가, 2: 할일 검색, 3: 중요할일보기, 4: 전체 보기  >> 2\n",
            "todo에 검색할 단어를 입력하세요 >> 과제\n",
            "todo: 공창컴 과제 내용: 금요일까지\n",
            "todo: 수치해석 과제 내용: 수요일까지\n",
            "\n",
            "0: 종료, 1: 할일 추가, 2: 할일 검색, 3: 중요할일보기, 4: 전체 보기  >> 3\n",
            "todo: 공창컴 과제 내용: 금요일까지\n",
            "todo: 수치해석 과제 내용: 수요일까지\n",
            "\n",
            "0: 종료, 1: 할일 추가, 2: 할일 검색, 3: 중요할일보기, 4: 전체 보기  >> 4\n",
            "todo:  공창컴 과제 내용:  금요일까지 중요:  Y\n",
            "todo:  수치해석 과제 내용:  수요일까지 중요:  y\n",
            "todo:  1 내용:  친구와 저녁 먹기 중요:  n\n",
            "todo:  친구와 저녁 먹기 내용:  일요일 7시 중요:  n\n",
            "\n",
            "0: 종료, 1: 할일 추가, 2: 할일 검색, 3: 중요할일보기, 4: 전체 보기  >> 0\n"
          ],
          "name": "stdout"
        }
      ]
    },
    {
      "cell_type": "code",
      "metadata": {
        "trusted": true,
        "id": "Nl0W_UV8_tS7",
        "colab_type": "code",
        "colab": {}
      },
      "source": [
        ""
      ],
      "execution_count": null,
      "outputs": []
    }
  ]
}