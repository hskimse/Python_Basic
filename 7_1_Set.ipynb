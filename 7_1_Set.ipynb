{
  "nbformat": 4,
  "nbformat_minor": 0,
  "metadata": {
    "kernelspec": {
      "name": "python36",
      "display_name": "Python 3.6",
      "language": "python"
    },
    "language_info": {
      "mimetype": "text/x-python",
      "nbconvert_exporter": "python",
      "name": "python",
      "pygments_lexer": "ipython3",
      "version": "3.6.6",
      "file_extension": ".py",
      "codemirror_mode": {
        "version": 3,
        "name": "ipython"
      }
    },
    "colab": {
      "name": "7-1. Set.ipynb",
      "provenance": [],
      "include_colab_link": true
    }
  },
  "cells": [
    {
      "cell_type": "markdown",
      "metadata": {
        "id": "view-in-github",
        "colab_type": "text"
      },
      "source": [
        "<a href=\"https://colab.research.google.com/github/joohoshin/Python_Basic/blob/master/7_1_Set.ipynb\" target=\"_parent\"><img src=\"https://colab.research.google.com/assets/colab-badge.svg\" alt=\"Open In Colab\"/></a>"
      ]
    },
    {
      "cell_type": "markdown",
      "metadata": {
        "collapsed": true,
        "id": "3tVj1sxCBFDr",
        "colab_type": "text"
      },
      "source": [
        "# Set\n",
        "* 집합 연산을 할 수 있는 리스트와 유사한 타입입니다. \n",
        "* {} 안에 요소를 넣습니다. "
      ]
    },
    {
      "cell_type": "code",
      "metadata": {
        "trusted": true,
        "id": "0THoQ8suBFDt",
        "colab_type": "code",
        "colab": {
          "base_uri": "https://localhost:8080/",
          "height": 35
        },
        "outputId": "17d6a897-f723-4311-f4ff-f2ba87aa0931"
      },
      "source": [
        "a = {1,3,4,5,8}\n",
        "b = {4,6,3,2}\n",
        "a"
      ],
      "execution_count": null,
      "outputs": [
        {
          "output_type": "execute_result",
          "data": {
            "text/plain": [
              "{1, 3, 4, 5, 8}"
            ]
          },
          "metadata": {
            "tags": []
          },
          "execution_count": 3
        }
      ]
    },
    {
      "cell_type": "markdown",
      "metadata": {
        "id": "bOcwfiLdBFD4",
        "colab_type": "text"
      },
      "source": [
        "* 교집합은 &를 사용합니다"
      ]
    },
    {
      "cell_type": "code",
      "metadata": {
        "trusted": true,
        "id": "9-DgN3aYBFD7",
        "colab_type": "code",
        "colab": {
          "base_uri": "https://localhost:8080/",
          "height": 35
        },
        "outputId": "24a8b315-51fe-49d7-92ad-b04796807403"
      },
      "source": [
        "a & b"
      ],
      "execution_count": null,
      "outputs": [
        {
          "output_type": "execute_result",
          "data": {
            "text/plain": [
              "{3, 4}"
            ]
          },
          "metadata": {
            "tags": []
          },
          "execution_count": 4
        }
      ]
    },
    {
      "cell_type": "code",
      "metadata": {
        "id": "UiWNtxT4DxWT",
        "colab_type": "code",
        "colab": {
          "base_uri": "https://localhost:8080/",
          "height": 53
        },
        "outputId": "6063b8d7-7cec-4bbb-9935-3d5161910d34"
      },
      "source": [
        "a_list = list(a)\n",
        "b_list = list(b)\n",
        "\n",
        "for a in a_list:\n",
        "  for b in b_list:\n",
        "    if a==b: print(a)"
      ],
      "execution_count": null,
      "outputs": [
        {
          "output_type": "stream",
          "text": [
            "3\n",
            "4\n"
          ],
          "name": "stdout"
        }
      ]
    },
    {
      "cell_type": "markdown",
      "metadata": {
        "id": "kNS1GYxxBFEF",
        "colab_type": "text"
      },
      "source": [
        "* 합집합은 | 입니다. shift + \\ 키입니다. "
      ]
    },
    {
      "cell_type": "code",
      "metadata": {
        "trusted": true,
        "id": "gu3WtsZrBFEG",
        "colab_type": "code",
        "colab": {
          "base_uri": "https://localhost:8080/",
          "height": 35
        },
        "outputId": "8c9fd686-9f6f-4e03-f95a-be7db146920b"
      },
      "source": [
        "a|b"
      ],
      "execution_count": null,
      "outputs": [
        {
          "output_type": "execute_result",
          "data": {
            "text/plain": [
              "14"
            ]
          },
          "metadata": {
            "tags": []
          },
          "execution_count": 6
        }
      ]
    },
    {
      "cell_type": "markdown",
      "metadata": {
        "id": "KjZ4c6RkBFEP",
        "colab_type": "text"
      },
      "source": [
        "* 차집합은 -를 사용하면 됩니다"
      ]
    },
    {
      "cell_type": "code",
      "metadata": {
        "trusted": true,
        "id": "zndmy1bxBFER",
        "colab_type": "code",
        "colab": {
          "base_uri": "https://localhost:8080/",
          "height": 35
        },
        "outputId": "8957a07b-1793-4750-c811-17dbde64f1cd"
      },
      "source": [
        "a-b"
      ],
      "execution_count": null,
      "outputs": [
        {
          "output_type": "execute_result",
          "data": {
            "text/plain": [
              "2"
            ]
          },
          "metadata": {
            "tags": []
          },
          "execution_count": 7
        }
      ]
    },
    {
      "cell_type": "markdown",
      "metadata": {
        "id": "EizZ_opmBFEm",
        "colab_type": "text"
      },
      "source": [
        "# random.sample\n",
        "* 랜덤으로 여러개를 한번에 선택할 때 사용합니다"
      ]
    },
    {
      "cell_type": "code",
      "metadata": {
        "trusted": true,
        "id": "5LeJwawnBFEn",
        "colab_type": "code",
        "colab": {
          "base_uri": "https://localhost:8080/",
          "height": 126
        },
        "outputId": "4b078e9a-0c75-46d4-b559-c80942058255"
      },
      "source": [
        "# 로또 번호 6개 뽑을 때\n",
        "import random\n",
        "\n",
        "lotto= []\n",
        "for i in range(6):\n",
        "    number = random.randint(1,45)\n",
        "    print('{}번째 번호는 {}입니다'.format(i+1, number))\n",
        "    lotto.append(number)\n"
      ],
      "execution_count": null,
      "outputs": [
        {
          "output_type": "stream",
          "text": [
            "1번째 번호는 43입니다\n",
            "2번째 번호는 14입니다\n",
            "3번째 번호는 7입니다\n",
            "4번째 번호는 26입니다\n",
            "5번째 번호는 13입니다\n",
            "6번째 번호는 38입니다\n"
          ],
          "name": "stdout"
        }
      ]
    },
    {
      "cell_type": "code",
      "metadata": {
        "trusted": true,
        "id": "eDnLtnc_BFEq",
        "colab_type": "code",
        "colab": {
          "base_uri": "https://localhost:8080/",
          "height": 35
        },
        "outputId": "75e3ee17-6a21-4c7c-adac-beffefc0860f"
      },
      "source": [
        "lotto"
      ],
      "execution_count": null,
      "outputs": [
        {
          "output_type": "execute_result",
          "data": {
            "text/plain": [
              "[43, 14, 7, 26, 13, 38]"
            ]
          },
          "metadata": {
            "tags": []
          },
          "execution_count": 9
        }
      ]
    },
    {
      "cell_type": "markdown",
      "metadata": {
        "id": "WGmYKQiuBFEu",
        "colab_type": "text"
      },
      "source": [
        "* 위처럼 로또 번호를 뽑을 때는 같은 번호가 나올 수 있습니다. \n",
        "* 중복을 없애려면 코드가 복잡해집니다. (반복문으로 이미 나온 것인지 리스트에서 확인 후에 추가)"
      ]
    },
    {
      "cell_type": "markdown",
      "metadata": {
        "id": "Wg9g9jTaBFEv",
        "colab_type": "text"
      },
      "source": [
        "* random.sample(population, k)은 중복이 안되게 한번에 여러개 난수를 뽑을 수 있습니다 ."
      ]
    },
    {
      "cell_type": "code",
      "metadata": {
        "trusted": true,
        "id": "2kqmYiz2BFEv",
        "colab_type": "code",
        "colab": {
          "base_uri": "https://localhost:8080/",
          "height": 35
        },
        "outputId": "565d9344-30c6-47f0-a146-afe068845645"
      },
      "source": [
        "lotto = random.sample(range(1,46), 6) # 로또는 1에서 45까지 중에서 6개 숫자 중복없이\n",
        "lotto"
      ],
      "execution_count": null,
      "outputs": [
        {
          "output_type": "execute_result",
          "data": {
            "text/plain": [
              "[5, 23, 24, 41, 45, 34]"
            ]
          },
          "metadata": {
            "tags": []
          },
          "execution_count": 10
        }
      ]
    },
    {
      "cell_type": "markdown",
      "metadata": {
        "id": "ZfDVYOFeBFEy",
        "colab_type": "text"
      },
      "source": [
        "* 중복 있게 선택하는 것은 random.choices() 입니다"
      ]
    },
    {
      "cell_type": "code",
      "metadata": {
        "trusted": true,
        "id": "25ThzqmlBFEy",
        "colab_type": "code",
        "colab": {
          "base_uri": "https://localhost:8080/",
          "height": 35
        },
        "outputId": "e69a886e-85d4-4edf-85ca-ee46e91856f9"
      },
      "source": [
        "lotto2 = random.choices(range(1,46), k=6)\n",
        "lotto2"
      ],
      "execution_count": null,
      "outputs": [
        {
          "output_type": "execute_result",
          "data": {
            "text/plain": [
              "[39, 18, 1, 19, 41, 14]"
            ]
          },
          "metadata": {
            "tags": []
          },
          "execution_count": 12
        }
      ]
    },
    {
      "cell_type": "code",
      "metadata": {
        "id": "zcMTzI58FOvw",
        "colab_type": "code",
        "colab": {
          "base_uri": "https://localhost:8080/",
          "height": 35
        },
        "outputId": "382e305c-3b17-4cf2-b7e2-49c887d17462"
      },
      "source": [
        "random.choices(['빨간공', '파란공', '검은공'], k=1)"
      ],
      "execution_count": null,
      "outputs": [
        {
          "output_type": "execute_result",
          "data": {
            "text/plain": [
              "['파란공']"
            ]
          },
          "metadata": {
            "tags": []
          },
          "execution_count": 14
        }
      ]
    },
    {
      "cell_type": "markdown",
      "metadata": {
        "id": "dT7ZV5SKBFE0",
        "colab_type": "text"
      },
      "source": [
        "# 활용: 로또번호 생성기"
      ]
    },
    {
      "cell_type": "code",
      "metadata": {
        "trusted": true,
        "id": "uhMFy8sdBFE1",
        "colab_type": "code",
        "colab": {}
      },
      "source": [
        "import random\n",
        "\n",
        "def lotto_gen():   \n",
        "    lot = random.sample(range(1,46),6)\n",
        "    print(lot)\n",
        "    return lot   \n"
      ],
      "execution_count": null,
      "outputs": []
    },
    {
      "cell_type": "code",
      "metadata": {
        "trusted": true,
        "id": "XY4r9qSnBFE4",
        "colab_type": "code",
        "colab": {
          "base_uri": "https://localhost:8080/",
          "height": 35
        },
        "outputId": "86cafaaa-2600-4af3-9fa9-086e559df38d"
      },
      "source": [
        "a = lotto_gen()"
      ],
      "execution_count": null,
      "outputs": [
        {
          "output_type": "stream",
          "text": [
            "[9, 3, 5, 33, 40, 4]\n"
          ],
          "name": "stdout"
        }
      ]
    },
    {
      "cell_type": "code",
      "metadata": {
        "trusted": true,
        "id": "zuGhHkcEBFE6",
        "colab_type": "code",
        "colab": {
          "base_uri": "https://localhost:8080/",
          "height": 35
        },
        "outputId": "50d822b1-6bf4-4178-ff0c-5dd45550d46b"
      },
      "source": [
        "a"
      ],
      "execution_count": null,
      "outputs": [
        {
          "output_type": "execute_result",
          "data": {
            "text/plain": [
              "[9, 3, 5, 33, 40, 4]"
            ]
          },
          "metadata": {
            "tags": []
          },
          "execution_count": 17
        }
      ]
    },
    {
      "cell_type": "code",
      "metadata": {
        "trusted": true,
        "id": "fp4beGeZBFE9",
        "colab_type": "code",
        "colab": {
          "base_uri": "https://localhost:8080/",
          "height": 126
        },
        "outputId": "4cf40174-f3d2-4aed-91ac-f4f5bc2d3766"
      },
      "source": [
        "n = int(input('몇게임 하시겠어요? >> '))\n",
        "\n",
        "for i in range(n):\n",
        "    lotto_gen()\n"
      ],
      "execution_count": null,
      "outputs": [
        {
          "output_type": "stream",
          "text": [
            "몇게임 하시겠어요? >> 5\n",
            "[35, 34, 42, 43, 15, 40]\n",
            "[20, 12, 17, 19, 33, 21]\n",
            "[21, 15, 2, 23, 34, 39]\n",
            "[19, 40, 20, 1, 43, 22]\n",
            "[8, 28, 19, 3, 9, 13]\n"
          ],
          "name": "stdout"
        }
      ]
    },
    {
      "cell_type": "code",
      "metadata": {
        "trusted": true,
        "id": "UezUYM3MBFE_",
        "colab_type": "code",
        "colab": {}
      },
      "source": [
        ""
      ],
      "execution_count": null,
      "outputs": []
    }
  ]
}