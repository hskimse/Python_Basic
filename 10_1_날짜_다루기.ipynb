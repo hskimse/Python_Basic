{
  "nbformat": 4,
  "nbformat_minor": 0,
  "metadata": {
    "kernelspec": {
      "display_name": "Python 3",
      "language": "python",
      "name": "python3"
    },
    "language_info": {
      "codemirror_mode": {
        "name": "ipython",
        "version": 3
      },
      "file_extension": ".py",
      "mimetype": "text/x-python",
      "name": "python",
      "nbconvert_exporter": "python",
      "pygments_lexer": "ipython3",
      "version": "3.7.6"
    },
    "colab": {
      "name": "10-1. 날짜 다루기.ipynb",
      "provenance": [],
      "collapsed_sections": [
        "258_kMlMsrq5"
      ],
      "include_colab_link": true
    }
  },
  "cells": [
    {
      "cell_type": "markdown",
      "metadata": {
        "id": "view-in-github",
        "colab_type": "text"
      },
      "source": [
        "<a href=\"https://colab.research.google.com/github/joohoshin/Python_Basic/blob/master/10_1_%EB%82%A0%EC%A7%9C_%EB%8B%A4%EB%A3%A8%EA%B8%B0.ipynb\" target=\"_parent\"><img src=\"https://colab.research.google.com/assets/colab-badge.svg\" alt=\"Open In Colab\"/></a>"
      ]
    },
    {
      "cell_type": "markdown",
      "metadata": {
        "id": "tTbmUUmOsrpb"
      },
      "source": [
        "# 날짜 다루기\n",
        "* https://www.programiz.com/python-programming/datetime\n",
        "* 파이썬에서는 datetime 라이브러리를 사용하여 날짜 및 시간을 다룬다. "
      ]
    },
    {
      "cell_type": "code",
      "metadata": {
        "id": "9r1Oa0fEtnN8"
      },
      "source": [
        "import datetime "
      ],
      "execution_count": null,
      "outputs": []
    },
    {
      "cell_type": "markdown",
      "metadata": {
        "id": "AhjxDXgKsrpp"
      },
      "source": [
        "* datetime 라이브러리의 datetime 타입은 날짜와 시간을 모두 저장합니다\n",
        "* now()를 이용하여 현재 시간을 가져올 수 있습니다"
      ]
    },
    {
      "cell_type": "code",
      "metadata": {
        "id": "9HpIquSats5v",
        "outputId": "c24bb057-dbd9-4060-8f07-45c8ad7d2593",
        "colab": {
          "base_uri": "https://localhost:8080/",
          "height": 35
        }
      },
      "source": [
        "datetime.datetime.now()"
      ],
      "execution_count": null,
      "outputs": [
        {
          "output_type": "execute_result",
          "data": {
            "text/plain": [
              "datetime.datetime(2020, 10, 4, 19, 53, 12, 123826)"
            ]
          },
          "metadata": {
            "tags": []
          },
          "execution_count": 11
        }
      ]
    },
    {
      "cell_type": "code",
      "metadata": {
        "id": "DBZXJ2BJPsr5",
        "outputId": "d2fe6141-44af-4793-9925-552f5c1bec61",
        "colab": {
          "base_uri": "https://localhost:8080/",
          "height": 35
        }
      },
      "source": [
        "t=datetime.datetime.now()\n",
        "print(t)"
      ],
      "execution_count": null,
      "outputs": [
        {
          "output_type": "stream",
          "text": [
            "2020-10-04 19:53:48.294060\n"
          ],
          "name": "stdout"
        }
      ]
    },
    {
      "cell_type": "code",
      "metadata": {
        "id": "gLLfGe61srpd"
      },
      "source": [
        "from datetime import datetime"
      ],
      "execution_count": null,
      "outputs": []
    },
    {
      "cell_type": "markdown",
      "metadata": {
        "id": "xTz3N7s8u0IC"
      },
      "source": [
        "from 라이브러리명 import 함수명\n",
        "\n",
        "함수명() \n",
        "으로 실행"
      ]
    },
    {
      "cell_type": "code",
      "metadata": {
        "id": "9RcX2FQ0srpq",
        "outputId": "9b37145f-a5d7-4c8e-f667-57028e43d57e",
        "colab": {
          "base_uri": "https://localhost:8080/",
          "height": 53
        }
      },
      "source": [
        "print(datetime.now())\n",
        "datetime.now()"
      ],
      "execution_count": null,
      "outputs": [
        {
          "output_type": "stream",
          "text": [
            "2020-10-04 19:55:29.726831\n"
          ],
          "name": "stdout"
        },
        {
          "output_type": "execute_result",
          "data": {
            "text/plain": [
              "datetime.datetime(2020, 10, 4, 19, 55, 29, 727325)"
            ]
          },
          "metadata": {
            "tags": []
          },
          "execution_count": 14
        }
      ]
    },
    {
      "cell_type": "code",
      "metadata": {
        "id": "m6Jf_u9osrpz",
        "outputId": "f78dda58-80f7-4027-9679-f5ca44861da1",
        "colab": {
          "base_uri": "https://localhost:8080/",
          "height": 35
        }
      },
      "source": [
        "t = datetime.now()\n",
        "type(t)"
      ],
      "execution_count": null,
      "outputs": [
        {
          "output_type": "execute_result",
          "data": {
            "text/plain": [
              "datetime.datetime"
            ]
          },
          "metadata": {
            "tags": []
          },
          "execution_count": 15
        }
      ]
    },
    {
      "cell_type": "code",
      "metadata": {
        "id": "m5I7dI98uncf",
        "outputId": "e47beb4e-8320-477b-e44d-a51422de4f44",
        "colab": {
          "base_uri": "https://localhost:8080/",
          "height": 35
        }
      },
      "source": [
        "from random import randint\n",
        "randint(1,2)\n",
        "\n",
        "#import random\n",
        "#random.randint(1,2)"
      ],
      "execution_count": null,
      "outputs": [
        {
          "output_type": "execute_result",
          "data": {
            "text/plain": [
              "2"
            ]
          },
          "metadata": {
            "tags": []
          },
          "execution_count": 16
        }
      ]
    },
    {
      "cell_type": "markdown",
      "metadata": {
        "id": "2Xdr8nb2_WXG"
      },
      "source": [
        "한국 시간으로 변경 시에는 아래의 우분투 명령어 필요"
      ]
    },
    {
      "cell_type": "code",
      "metadata": {
        "id": "FIVlJYjv_NVK"
      },
      "source": [
        "!rm /etc/localtime\n",
        "!ln -s /usr/share/zoneinfo/Asia/Seoul /etc/localtime"
      ],
      "execution_count": null,
      "outputs": []
    },
    {
      "cell_type": "code",
      "metadata": {
        "id": "ISqpDvTP_ST2",
        "outputId": "2bf0b1c3-df49-4a8a-d6ed-e75946df39f3",
        "colab": {
          "base_uri": "https://localhost:8080/",
          "height": 35
        }
      },
      "source": [
        "!date"
      ],
      "execution_count": null,
      "outputs": [
        {
          "output_type": "stream",
          "text": [
            "Sun Oct  4 19:57:35 KST 2020\n"
          ],
          "name": "stdout"
        }
      ]
    },
    {
      "cell_type": "code",
      "metadata": {
        "id": "Gd2uHMoXMEwF",
        "outputId": "ceb742cc-bdfa-4685-d1ae-0b13248f5c88",
        "colab": {
          "base_uri": "https://localhost:8080/",
          "height": 35
        }
      },
      "source": [
        "print(datetime.now())"
      ],
      "execution_count": null,
      "outputs": [
        {
          "output_type": "stream",
          "text": [
            "2020-10-04 19:57:59.545182\n"
          ],
          "name": "stdout"
        }
      ]
    },
    {
      "cell_type": "markdown",
      "metadata": {
        "id": "r9SHiepvsrp-"
      },
      "source": [
        "* 날짜를 입력하여 직접 만들수 있습니다"
      ]
    },
    {
      "cell_type": "code",
      "metadata": {
        "id": "ufNp8fDrsrqB",
        "outputId": "94189ab5-24f8-4063-eec9-4f31b2e97a28",
        "colab": {
          "base_uri": "https://localhost:8080/",
          "height": 53
        }
      },
      "source": [
        "강의시작일 = datetime(2020,3,15)\n",
        "print('강의시작일: {}'.format(강의시작일))\n",
        "\n",
        "퀴즈시간 = datetime(2020, 4, 24, 11, 0 )\n",
        "print('퀴즈: {}'.format(퀴즈시간))"
      ],
      "execution_count": null,
      "outputs": [
        {
          "output_type": "stream",
          "text": [
            "강의시작일: 2020-03-15 00:00:00\n",
            "퀴즈: 2020-04-24 11:00:00\n"
          ],
          "name": "stdout"
        }
      ]
    },
    {
      "cell_type": "markdown",
      "metadata": {
        "id": "MbAPgRRbsrqH"
      },
      "source": [
        "* 날짜만 가져올 때는 date(), 시간만 가져올 때는 time()을 사용하면 됩니다 "
      ]
    },
    {
      "cell_type": "code",
      "metadata": {
        "id": "goBq_JIJsrqJ",
        "outputId": "796ebf88-33d6-4539-f73f-04d153a4f199",
        "colab": {
          "base_uri": "https://localhost:8080/",
          "height": 53
        }
      },
      "source": [
        "퀴즈날짜 = 퀴즈시간.date()\n",
        "print(퀴즈날짜)\n",
        "\n",
        "퀴즈시작시간 = 퀴즈시간.time()\n",
        "print(퀴즈시작시간)"
      ],
      "execution_count": null,
      "outputs": [
        {
          "output_type": "stream",
          "text": [
            "2020-04-24\n",
            "11:00:00\n"
          ],
          "name": "stdout"
        }
      ]
    },
    {
      "cell_type": "markdown",
      "metadata": {
        "id": "7jFgzZvCsrqQ"
      },
      "source": [
        "* 문자로부터 변환도 가능합니다. 이때에는 어떤 모양인지 입력이 필요합니다\n",
        "* 이때에는 strptime() 을 사용합니다. \n",
        "* %Y는 네자리 년도, %y는 2자리 연도를 의미, %m은 월, %d는 일을 의미합니다. "
      ]
    },
    {
      "cell_type": "code",
      "metadata": {
        "id": "F1JTMw9VsrqR",
        "outputId": "fe94e2bc-fed4-418a-ce0d-9cb56f78cf12",
        "colab": {
          "base_uri": "https://localhost:8080/",
          "height": 35
        }
      },
      "source": [
        "date1 = '2020-06-23'\n",
        "강의종료일1 = datetime.strptime(date1, '%Y-%m-%d')\n",
        "print(강의종료일1)"
      ],
      "execution_count": null,
      "outputs": [
        {
          "output_type": "stream",
          "text": [
            "2020-06-23 00:00:00\n"
          ],
          "name": "stdout"
        }
      ]
    },
    {
      "cell_type": "code",
      "metadata": {
        "id": "aOjOGEpEsrqX",
        "outputId": "ee812f71-7bc9-4b57-bb94-83b71271b717",
        "colab": {
          "base_uri": "https://localhost:8080/",
          "height": 35
        }
      },
      "source": [
        "date2 = '2020/06/23'\n",
        "강의종료일2 = datetime.strptime(date2, '%Y/%m/%d')\n",
        "print(강의종료일2)"
      ],
      "execution_count": null,
      "outputs": [
        {
          "output_type": "stream",
          "text": [
            "2020-06-23 00:00:00\n"
          ],
          "name": "stdout"
        }
      ]
    },
    {
      "cell_type": "markdown",
      "metadata": {
        "id": "K6IvJ5mvsrqd"
      },
      "source": [
        "* 문자로 변환시에는 strftime()을 사용합니다"
      ]
    },
    {
      "cell_type": "code",
      "metadata": {
        "id": "lclTg5i8srqe",
        "outputId": "df500462-6980-4eea-eec6-dad2e14b51c8",
        "colab": {
          "base_uri": "https://localhost:8080/",
          "height": 35
        }
      },
      "source": [
        "type(강의종료일2)"
      ],
      "execution_count": null,
      "outputs": [
        {
          "output_type": "execute_result",
          "data": {
            "text/plain": [
              "datetime.datetime"
            ]
          },
          "metadata": {
            "tags": []
          },
          "execution_count": 25
        }
      ]
    },
    {
      "cell_type": "code",
      "metadata": {
        "id": "K7akbFfZsrqj"
      },
      "source": [
        "str_date = 강의종료일2.strftime('%Y-%m-%d')"
      ],
      "execution_count": null,
      "outputs": []
    },
    {
      "cell_type": "code",
      "metadata": {
        "id": "nBrC5nASsrqr",
        "outputId": "dfa8b2c5-b0c9-488e-8576-3b4129942bcb",
        "colab": {
          "base_uri": "https://localhost:8080/",
          "height": 35
        }
      },
      "source": [
        "type(str_date)"
      ],
      "execution_count": null,
      "outputs": [
        {
          "output_type": "execute_result",
          "data": {
            "text/plain": [
              "str"
            ]
          },
          "metadata": {
            "tags": []
          },
          "execution_count": 27
        }
      ]
    },
    {
      "cell_type": "code",
      "metadata": {
        "id": "KW8ue2vqsrqy",
        "outputId": "8a45f943-5279-4fcb-93ca-78dc12f9e282",
        "colab": {
          "base_uri": "https://localhost:8080/",
          "height": 35
        }
      },
      "source": [
        "print(str_date)"
      ],
      "execution_count": null,
      "outputs": [
        {
          "output_type": "stream",
          "text": [
            "2020-06-23\n"
          ],
          "name": "stdout"
        }
      ]
    },
    {
      "cell_type": "code",
      "metadata": {
        "id": "NcP1nQK_srq1",
        "outputId": "f1ee3dc5-5376-4daf-cc76-4b244a4ef388",
        "colab": {
          "base_uri": "https://localhost:8080/",
          "height": 35
        }
      },
      "source": [
        "str_date2 = 강의종료일2.strftime('%Y/%m/%d')\n",
        "print(str_date2)"
      ],
      "execution_count": null,
      "outputs": [
        {
          "output_type": "stream",
          "text": [
            "2020/06/23\n"
          ],
          "name": "stdout"
        }
      ]
    },
    {
      "cell_type": "markdown",
      "metadata": {
        "id": "258_kMlMsrq5"
      },
      "source": [
        "### 날짜 연산\n",
        "* timedelta 함수를 사용합니다\n"
      ]
    },
    {
      "cell_type": "code",
      "metadata": {
        "id": "I8qX65jRsrq5"
      },
      "source": [
        "from datetime import timedelta, datetime   # from 라이브러리명 import 가져올 함수명"
      ],
      "execution_count": null,
      "outputs": []
    },
    {
      "cell_type": "code",
      "metadata": {
        "id": "Lyt9lG1Psrq9"
      },
      "source": [
        "강의시작일 = datetime(2020,3,15)\n",
        "date1 = '2020-06-23'\n",
        "강의종료일 = datetime.strptime(date1, '%Y-%m-%d')"
      ],
      "execution_count": null,
      "outputs": []
    },
    {
      "cell_type": "code",
      "metadata": {
        "id": "TFbbYihlsrrE",
        "outputId": "e99bfc4f-32c4-4722-c5bb-56bc3ba37850",
        "colab": {
          "base_uri": "https://localhost:8080/",
          "height": 35
        }
      },
      "source": [
        "print(강의종료일 - 강의시작일)"
      ],
      "execution_count": null,
      "outputs": [
        {
          "output_type": "stream",
          "text": [
            "100 days, 0:00:00\n"
          ],
          "name": "stdout"
        }
      ]
    },
    {
      "cell_type": "code",
      "metadata": {
        "id": "1zQj_wgdsrrK"
      },
      "source": [
        "t=강의종료일 - 강의시작일"
      ],
      "execution_count": null,
      "outputs": []
    },
    {
      "cell_type": "code",
      "metadata": {
        "id": "CaWrxkGesrrO",
        "outputId": "41546834-54cc-46fb-b369-8f424d3cf167",
        "colab": {
          "base_uri": "https://localhost:8080/",
          "height": 35
        }
      },
      "source": [
        "type(t)"
      ],
      "execution_count": null,
      "outputs": [
        {
          "output_type": "execute_result",
          "data": {
            "text/plain": [
              "datetime.timedelta"
            ]
          },
          "metadata": {
            "tags": []
          },
          "execution_count": 43
        }
      ]
    },
    {
      "cell_type": "code",
      "metadata": {
        "id": "tMJV-CXYsrrS",
        "outputId": "6fd15bce-eb4c-4216-b77a-ddd535917722",
        "colab": {
          "base_uri": "https://localhost:8080/",
          "height": 53
        }
      },
      "source": [
        "days = t.days\n",
        "print(days)\n",
        "type(days)"
      ],
      "execution_count": null,
      "outputs": [
        {
          "output_type": "stream",
          "text": [
            "100\n"
          ],
          "name": "stdout"
        },
        {
          "output_type": "execute_result",
          "data": {
            "text/plain": [
              "int"
            ]
          },
          "metadata": {
            "tags": []
          },
          "execution_count": 44
        }
      ]
    },
    {
      "cell_type": "code",
      "metadata": {
        "id": "Fp1y9c0PsrrV"
      },
      "source": [
        "퀴즈시작 = datetime(2020,4,24,11)\n",
        "퀴즈종료 = datetime(2020,4,24,13)\n",
        "t= 퀴즈종료 - 퀴즈시작"
      ],
      "execution_count": null,
      "outputs": []
    },
    {
      "cell_type": "code",
      "metadata": {
        "id": "bw7ELKQ2srrd",
        "outputId": "00ff9807-ef39-4015-d5da-a66de780c2b7",
        "colab": {
          "base_uri": "https://localhost:8080/",
          "height": 35
        }
      },
      "source": [
        "t.seconds"
      ],
      "execution_count": null,
      "outputs": [
        {
          "output_type": "execute_result",
          "data": {
            "text/plain": [
              "7200"
            ]
          },
          "metadata": {
            "tags": []
          },
          "execution_count": 49
        }
      ]
    },
    {
      "cell_type": "code",
      "metadata": {
        "id": "QmR7e3_KS9n4",
        "outputId": "8582258a-c3ef-4448-8f5d-6ed7963acee0",
        "colab": {
          "base_uri": "https://localhost:8080/",
          "height": 35
        }
      },
      "source": [
        "type(t.seconds)"
      ],
      "execution_count": null,
      "outputs": [
        {
          "output_type": "execute_result",
          "data": {
            "text/plain": [
              "int"
            ]
          },
          "metadata": {
            "tags": []
          },
          "execution_count": 50
        }
      ]
    },
    {
      "cell_type": "code",
      "metadata": {
        "id": "KmAqY9QWsrro",
        "outputId": "c3992afa-30ce-4b8f-8e7d-f5088d35a308",
        "colab": {
          "base_uri": "https://localhost:8080/",
          "height": 35
        }
      },
      "source": [
        "print('시험시간은 {} 시간입니다. '.format(t.seconds//3600))"
      ],
      "execution_count": null,
      "outputs": [
        {
          "output_type": "stream",
          "text": [
            "시험시간은 2 시간입니다. \n"
          ],
          "name": "stdout"
        }
      ]
    },
    {
      "cell_type": "markdown",
      "metadata": {
        "id": "-5Y-5CI9srrw"
      },
      "source": [
        "* weekday() 함수를 사용해서 요일을 가져올 수 있습니다. 월:0 ~일:6"
      ]
    },
    {
      "cell_type": "code",
      "metadata": {
        "id": "1W7eXtW7srrx",
        "outputId": "c5d5dc8f-8a25-4ed7-93ca-27582615ea4c",
        "colab": {
          "base_uri": "https://localhost:8080/",
          "height": 35
        }
      },
      "source": [
        "퀴즈시작.weekday()"
      ],
      "execution_count": null,
      "outputs": [
        {
          "output_type": "execute_result",
          "data": {
            "text/plain": [
              "4"
            ]
          },
          "metadata": {
            "tags": []
          },
          "execution_count": 52
        }
      ]
    },
    {
      "cell_type": "markdown",
      "metadata": {
        "id": "5DojzS1Msrr2"
      },
      "source": [
        "# 활용\n",
        "* D - day를 알려주는 코드를 만들어봅시다"
      ]
    },
    {
      "cell_type": "code",
      "metadata": {
        "id": "u7HtlxL0srr3"
      },
      "source": [
        "from datetime import datetime, timedelta"
      ],
      "execution_count": null,
      "outputs": []
    },
    {
      "cell_type": "code",
      "metadata": {
        "id": "r8j35xsqsrr-",
        "outputId": "25acc4ab-f3db-4dd7-df3b-ed89a6d856f1",
        "colab": {
          "base_uri": "https://localhost:8080/",
          "height": 53
        }
      },
      "source": [
        "d_day = input('당신에게 중요한 날은 (Ex 생일, 시험 등)? ')\n",
        "d_date = input('언제인가요? (Ex 2021-01-01) ')"
      ],
      "execution_count": null,
      "outputs": [
        {
          "output_type": "stream",
          "text": [
            "당신에게 중요한 날은 (Ex 생일, 시험 등)? 입학\n",
            "언제인가요? (Ex 2021-01-01) 2019-03-01\n"
          ],
          "name": "stdout"
        }
      ]
    },
    {
      "cell_type": "code",
      "metadata": {
        "id": "6n-qylVPsrsI",
        "outputId": "34c558d4-8434-44f7-d253-950e0fa87e6b",
        "colab": {
          "base_uri": "https://localhost:8080/",
          "height": 35
        }
      },
      "source": [
        "d_date"
      ],
      "execution_count": null,
      "outputs": [
        {
          "output_type": "execute_result",
          "data": {
            "application/vnd.google.colaboratory.intrinsic+json": {
              "type": "string"
            },
            "text/plain": [
              "'2020-12-20'"
            ]
          },
          "metadata": {
            "tags": []
          },
          "execution_count": 54
        }
      ]
    },
    {
      "cell_type": "code",
      "metadata": {
        "id": "Owqzhv6isrsa"
      },
      "source": [
        "date = datetime.strptime(d_date, '%Y-%m-%d')"
      ],
      "execution_count": null,
      "outputs": []
    },
    {
      "cell_type": "code",
      "metadata": {
        "id": "DZztJ_icsrsl"
      },
      "source": [
        "today = datetime.now()"
      ],
      "execution_count": null,
      "outputs": []
    },
    {
      "cell_type": "code",
      "metadata": {
        "id": "ch4HpEgesrsr",
        "outputId": "4c6bdcc8-992f-4ab1-e955-9a38195360be",
        "colab": {
          "base_uri": "https://localhost:8080/",
          "height": 35
        }
      },
      "source": [
        "today"
      ],
      "execution_count": null,
      "outputs": [
        {
          "output_type": "execute_result",
          "data": {
            "text/plain": [
              "datetime.datetime(2020, 10, 4, 20, 11, 6, 594776)"
            ]
          },
          "metadata": {
            "tags": []
          },
          "execution_count": 57
        }
      ]
    },
    {
      "cell_type": "code",
      "metadata": {
        "id": "PdACfQCCsrsy"
      },
      "source": [
        "n_day = (date-today).days"
      ],
      "execution_count": null,
      "outputs": []
    },
    {
      "cell_type": "code",
      "metadata": {
        "id": "e5tWFY_sTzF1",
        "outputId": "afb59b07-3deb-4536-f21d-9cfd22f5a365",
        "colab": {
          "base_uri": "https://localhost:8080/",
          "height": 35
        }
      },
      "source": [
        "n_day"
      ],
      "execution_count": null,
      "outputs": [
        {
          "output_type": "execute_result",
          "data": {
            "text/plain": [
              "-584"
            ]
          },
          "metadata": {
            "tags": []
          },
          "execution_count": 66
        }
      ]
    },
    {
      "cell_type": "code",
      "metadata": {
        "id": "ThBgjHmCsrs6",
        "outputId": "e57f15b0-bcf6-4005-fb5f-da60b6317eb3",
        "colab": {
          "base_uri": "https://localhost:8080/",
          "height": 35
        }
      },
      "source": [
        "if n_day==0:\n",
        "    print('{}: 바로 오늘입니다. '.format(d_day))\n",
        "elif n_day>0:\n",
        "    print('{}: {}일 남았습니다. '.format(d_day, n_day))\n",
        "elif n_day<0:\n",
        "    print('{}: {}일 지났습니다. '.format(d_day, -n_day))"
      ],
      "execution_count": null,
      "outputs": [
        {
          "output_type": "stream",
          "text": [
            "입학: 584일 지났습니다. \n"
          ],
          "name": "stdout"
        }
      ]
    },
    {
      "cell_type": "code",
      "metadata": {
        "id": "LOLMIe-usrtD"
      },
      "source": [
        ""
      ],
      "execution_count": null,
      "outputs": []
    }
  ]
}