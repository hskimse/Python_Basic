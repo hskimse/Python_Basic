{
  "nbformat": 4,
  "nbformat_minor": 0,
  "metadata": {
    "kernelspec": {
      "name": "python36",
      "display_name": "Python 3.6",
      "language": "python"
    },
    "language_info": {
      "mimetype": "text/x-python",
      "nbconvert_exporter": "python",
      "name": "python",
      "pygments_lexer": "ipython3",
      "version": "3.6.6",
      "file_extension": ".py",
      "codemirror_mode": {
        "version": 3,
        "name": "ipython"
      }
    },
    "colab": {
      "name": "2-2. Input.ipynb",
      "provenance": [],
      "include_colab_link": true
    }
  },
  "cells": [
    {
      "cell_type": "markdown",
      "metadata": {
        "id": "view-in-github",
        "colab_type": "text"
      },
      "source": [
        "<a href=\"https://colab.research.google.com/github/joohoshin/Python_Basic/blob/master/2_2_Input.ipynb\" target=\"_parent\"><img src=\"https://colab.research.google.com/assets/colab-badge.svg\" alt=\"Open In Colab\"/></a>"
      ]
    },
    {
      "cell_type": "markdown",
      "metadata": {
        "collapsed": true,
        "id": "HXPmyrzJjMa0",
        "colab_type": "text"
      },
      "source": [
        "# Input\n",
        "* input() 명령을 사용하면 컴퓨터에 값을 입력할 수 있습니다. \n",
        "* 입력받은 값은 문자로 저장됩니다. "
      ]
    },
    {
      "cell_type": "code",
      "metadata": {
        "trusted": true,
        "id": "Jqw11wkUjMa2",
        "colab_type": "code",
        "colab": {
          "base_uri": "https://localhost:8080/",
          "height": 53
        },
        "outputId": "600f0f78-2ef7-4625-e484-db80482f7c8e"
      },
      "source": [
        "input()"
      ],
      "execution_count": null,
      "outputs": [
        {
          "output_type": "stream",
          "text": [
            "10\n"
          ],
          "name": "stdout"
        },
        {
          "output_type": "execute_result",
          "data": {
            "application/vnd.google.colaboratory.intrinsic+json": {
              "type": "string"
            },
            "text/plain": [
              "'10'"
            ]
          },
          "metadata": {
            "tags": []
          },
          "execution_count": 1
        }
      ]
    },
    {
      "cell_type": "code",
      "metadata": {
        "trusted": true,
        "id": "6HPzSYFijMa9",
        "colab_type": "code",
        "colab": {
          "base_uri": "https://localhost:8080/",
          "height": 35
        },
        "outputId": "f9958046-e465-4d65-cfd9-e8b88009d9f5"
      },
      "source": [
        "id = input('id를 입력하세요: ')"
      ],
      "execution_count": null,
      "outputs": [
        {
          "output_type": "stream",
          "text": [
            "id를 입력하세요: abc\n"
          ],
          "name": "stdout"
        }
      ]
    },
    {
      "cell_type": "code",
      "metadata": {
        "trusted": true,
        "id": "-qP91xQijMbB",
        "colab_type": "code",
        "colab": {
          "base_uri": "https://localhost:8080/",
          "height": 35
        },
        "outputId": "ebdf23a0-d3bc-474c-cc3a-2429477ddc9e"
      },
      "source": [
        "print(id)"
      ],
      "execution_count": null,
      "outputs": [
        {
          "output_type": "stream",
          "text": [
            "abc\n"
          ],
          "name": "stdout"
        }
      ]
    },
    {
      "cell_type": "markdown",
      "metadata": {
        "id": "d1NO635PjMbF",
        "colab_type": "text"
      },
      "source": [
        "# Data Type\n",
        "* input으로 저장된 값은 문자로 저장이 되므로 문자를 숫자로 바꾸어야 계산이 됩니다. \n",
        "* str(): 문자로 변경합니다. string의 약자입니다. \n",
        "* int(): 정수로 변경합니다. integer의 약자입니다. \n",
        "* float(): 실수로 변경합니다. \n",
        "* type() 명령을 통해 변수나 값의 데이터 타입을 확인할 수 있습니다. "
      ]
    },
    {
      "cell_type": "code",
      "metadata": {
        "trusted": true,
        "id": "6L2pzddjjMbG",
        "colab_type": "code",
        "colab": {
          "base_uri": "https://localhost:8080/",
          "height": 35
        },
        "outputId": "9a2cfddc-90ce-42a3-c1ca-46e8757ca7a9"
      },
      "source": [
        "키 = input('당신의 키는 몇 cm 입니까? ')"
      ],
      "execution_count": null,
      "outputs": [
        {
          "output_type": "stream",
          "text": [
            "당신의 키는 몇 cm 입니까? 189\n"
          ],
          "name": "stdout"
        }
      ]
    },
    {
      "cell_type": "code",
      "metadata": {
        "trusted": true,
        "id": "h1oyj_aXjMbL",
        "colab_type": "code",
        "colab": {
          "base_uri": "https://localhost:8080/",
          "height": 35
        },
        "outputId": "4b33c6dd-66cc-479f-9900-29c3aef2bbec"
      },
      "source": [
        "키"
      ],
      "execution_count": null,
      "outputs": [
        {
          "output_type": "execute_result",
          "data": {
            "application/vnd.google.colaboratory.intrinsic+json": {
              "type": "string"
            },
            "text/plain": [
              "'189'"
            ]
          },
          "metadata": {
            "tags": []
          },
          "execution_count": 5
        }
      ]
    },
    {
      "cell_type": "code",
      "metadata": {
        "trusted": true,
        "id": "TjjqrLaAjMbR",
        "colab_type": "code",
        "colab": {
          "base_uri": "https://localhost:8080/",
          "height": 35
        },
        "outputId": "a3ee09e9-a47b-4047-845b-5c23b6d02c18"
      },
      "source": [
        "type(키)"
      ],
      "execution_count": null,
      "outputs": [
        {
          "output_type": "execute_result",
          "data": {
            "text/plain": [
              "str"
            ]
          },
          "metadata": {
            "tags": []
          },
          "execution_count": 6
        }
      ]
    },
    {
      "cell_type": "code",
      "metadata": {
        "trusted": true,
        "id": "hngwejfNjMbU",
        "colab_type": "code",
        "colab": {
          "base_uri": "https://localhost:8080/",
          "height": 35
        },
        "outputId": "eaa2e4a2-e5f3-4586-9557-a3b74d11e52e"
      },
      "source": [
        "키 + '3'"
      ],
      "execution_count": null,
      "outputs": [
        {
          "output_type": "execute_result",
          "data": {
            "application/vnd.google.colaboratory.intrinsic+json": {
              "type": "string"
            },
            "text/plain": [
              "'1893'"
            ]
          },
          "metadata": {
            "tags": []
          },
          "execution_count": 9
        }
      ]
    },
    {
      "cell_type": "markdown",
      "metadata": {
        "id": "52U9kasIjMbX",
        "colab_type": "text"
      },
      "source": [
        "* 숫자 연산을 하려면 문자인 입력값을 정수나 실수로 변경을 해야합니다. "
      ]
    },
    {
      "cell_type": "code",
      "metadata": {
        "trusted": true,
        "id": "ZdgpcW61jMbY",
        "colab_type": "code",
        "colab": {
          "base_uri": "https://localhost:8080/",
          "height": 35
        },
        "outputId": "2bc3667b-9429-4c81-8e73-ef9daff4fe1b"
      },
      "source": [
        "평균키 = 175\n",
        "차이 = float(키) - 평균키\n",
        "print('당신은 평균보다 {}cm 큽니다.'.format(차이))"
      ],
      "execution_count": null,
      "outputs": [
        {
          "output_type": "stream",
          "text": [
            "당신은 평균보다 14.0cm 큽니다.\n"
          ],
          "name": "stdout"
        }
      ]
    },
    {
      "cell_type": "markdown",
      "metadata": {
        "id": "VK3ADWUbjMba",
        "colab_type": "text"
      },
      "source": [
        "# 주석\n",
        "* 작성한 코드에 설명을 달기 위해서는 실행하지 않게 하는 것이 필요합니다. \n",
        "* Sharp 기호 뒤의 적힌 부분은 실행되지 않습니다. "
      ]
    },
    {
      "cell_type": "code",
      "metadata": {
        "trusted": true,
        "id": "jxhQMJiajMbb",
        "colab_type": "code",
        "colab": {
          "base_uri": "https://localhost:8080/",
          "height": 35
        },
        "outputId": "782b6a61-32e1-46b8-bd29-1dccec256fc5"
      },
      "source": [
        "#print('hello')\n",
        "print('good-bye')"
      ],
      "execution_count": null,
      "outputs": [
        {
          "output_type": "stream",
          "text": [
            "good-bye\n"
          ],
          "name": "stdout"
        }
      ]
    },
    {
      "cell_type": "markdown",
      "metadata": {
        "id": "LZyzvcNrjMbf",
        "colab_type": "text"
      },
      "source": [
        "* 여러 줄 주석은 ''' 또는 \"\"\"를 사용합니다. "
      ]
    },
    {
      "cell_type": "code",
      "metadata": {
        "trusted": true,
        "id": "v0uTRSAyjMbf",
        "colab_type": "code",
        "colab": {
          "base_uri": "https://localhost:8080/",
          "height": 35
        },
        "outputId": "e564df1e-aa53-4eb6-b5f1-edd39008291d"
      },
      "source": [
        "'''\n",
        "print(10)\n",
        "print(100)\n",
        "'''\n",
        "print(1000)"
      ],
      "execution_count": null,
      "outputs": [
        {
          "output_type": "stream",
          "text": [
            "1000\n"
          ],
          "name": "stdout"
        }
      ]
    },
    {
      "cell_type": "markdown",
      "metadata": {
        "id": "MZ7gcS3TjMbi",
        "colab_type": "text"
      },
      "source": [
        "# 활용"
      ]
    },
    {
      "cell_type": "code",
      "metadata": {
        "trusted": true,
        "id": "rNMJMwU0jMbj",
        "colab_type": "code",
        "colab": {
          "base_uri": "https://localhost:8080/",
          "height": 126
        },
        "outputId": "2a53c1ae-5e19-4be8-f6a9-e2668f606e74"
      },
      "source": [
        "id = input('id를 입력하세요: ')\n",
        "pw = input('비밀번호를 입력하세요: ')\n",
        "print('{}님 반갑습니다.'.format(id))\n",
        "print()  #빈줄 삽입\n",
        "수입 = input('이번달 수입은 얼마인가요? (만원) ')\n",
        "지난달 = 1000\n",
        "print('{}님 수입이 {}만원이 증가하였습니다.'.format(id, int(수입)-지난달)) #입력값을 숫자로 변경"
      ],
      "execution_count": null,
      "outputs": [
        {
          "output_type": "stream",
          "text": [
            "id를 입력하세요: abc\n",
            "비밀번호를 입력하세요: kw\n",
            "abc님 반갑습니다.\n",
            "\n",
            "이번달 수입은 얼마인가요? (만원) 1500\n",
            "abc님 수입이 500만원이 증가하였습니다.\n"
          ],
          "name": "stdout"
        }
      ]
    },
    {
      "cell_type": "code",
      "metadata": {
        "trusted": true,
        "id": "n9I2zZK3jMbn",
        "colab_type": "code",
        "colab": {}
      },
      "source": [
        ""
      ],
      "execution_count": null,
      "outputs": []
    }
  ]
}