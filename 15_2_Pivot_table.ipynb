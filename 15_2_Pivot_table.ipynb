{
  "nbformat": 4,
  "nbformat_minor": 0,
  "metadata": {
    "kernelspec": {
      "display_name": "Python 3",
      "language": "python",
      "name": "python3"
    },
    "language_info": {
      "codemirror_mode": {
        "name": "ipython",
        "version": 3
      },
      "file_extension": ".py",
      "mimetype": "text/x-python",
      "name": "python",
      "nbconvert_exporter": "python",
      "pygments_lexer": "ipython3",
      "version": "3.7.3"
    },
    "colab": {
      "name": "15-2. Pivot table.ipynb",
      "provenance": [],
      "collapsed_sections": [],
      "include_colab_link": true
    }
  },
  "cells": [
    {
      "cell_type": "markdown",
      "metadata": {
        "id": "view-in-github",
        "colab_type": "text"
      },
      "source": [
        "<a href=\"https://colab.research.google.com/github/joohoshin/Python_Basic/blob/master/15_2_Pivot_table.ipynb\" target=\"_parent\"><img src=\"https://colab.research.google.com/assets/colab-badge.svg\" alt=\"Open In Colab\"/></a>"
      ]
    },
    {
      "cell_type": "markdown",
      "metadata": {
        "id": "Bby6ClfcE4b1"
      },
      "source": [
        "# Pivot_table\n",
        "\n",
        "피벗테이블을 활용하면 테이터를 쉽게 정리할 수 있습니다. \n",
        "table = pd.pivot_table(df, values='D', index=['A', 'B'],\n",
        "                    columns=['C'], aggfunc=np.sum)\n",
        "\n",
        "https://pandas.pydata.org/pandas-docs/stable/reference/api/pandas.pivot_table.html\n",
        "\n",
        "아파트 실거래가를 데이터를 정리해봅시다. \n",
        "\n",
        "http://rtdown.molit.go.kr/"
      ]
    },
    {
      "cell_type": "code",
      "metadata": {
        "id": "bbx5GexoFevl",
        "outputId": "a87059fa-4f65-492a-c406-b66d8d1ef161",
        "colab": {
          "base_uri": "https://localhost:8080/"
        }
      },
      "source": [
        "from google.colab import drive\n",
        "drive.mount('/g')"
      ],
      "execution_count": 1,
      "outputs": [
        {
          "output_type": "stream",
          "text": [
            "Drive already mounted at /g; to attempt to forcibly remount, call drive.mount(\"/g\", force_remount=True).\n"
          ],
          "name": "stdout"
        }
      ]
    },
    {
      "cell_type": "code",
      "metadata": {
        "id": "AX0X9aZvE4b3"
      },
      "source": [
        "import pandas as pd\n",
        "\n",
        "# data 읽기\n",
        "data = pd.read_csv('/g/My Drive/Python_202002/아파트(매매)__실거래가_20200919105434.csv', encoding='cp949',\n",
        "                   skiprows = 15)  #skiprows 옵션을 통해 불필요한 행을 건너뛸수 있습니다"
      ],
      "execution_count": 2,
      "outputs": []
    },
    {
      "cell_type": "code",
      "metadata": {
        "id": "RgBH4R40E4b8",
        "outputId": "e4c635bb-3e61-4b29-c912-e9959943aefb",
        "colab": {
          "base_uri": "https://localhost:8080/",
          "height": 415
        }
      },
      "source": [
        "data"
      ],
      "execution_count": 3,
      "outputs": [
        {
          "output_type": "execute_result",
          "data": {
            "text/html": [
              "<div>\n",
              "<style scoped>\n",
              "    .dataframe tbody tr th:only-of-type {\n",
              "        vertical-align: middle;\n",
              "    }\n",
              "\n",
              "    .dataframe tbody tr th {\n",
              "        vertical-align: top;\n",
              "    }\n",
              "\n",
              "    .dataframe thead th {\n",
              "        text-align: right;\n",
              "    }\n",
              "</style>\n",
              "<table border=\"1\" class=\"dataframe\">\n",
              "  <thead>\n",
              "    <tr style=\"text-align: right;\">\n",
              "      <th></th>\n",
              "      <th>시군구</th>\n",
              "      <th>번지</th>\n",
              "      <th>본번</th>\n",
              "      <th>부번</th>\n",
              "      <th>단지명</th>\n",
              "      <th>전용면적(㎡)</th>\n",
              "      <th>계약년월</th>\n",
              "      <th>계약일</th>\n",
              "      <th>거래금액(만원)</th>\n",
              "      <th>층</th>\n",
              "      <th>건축년도</th>\n",
              "      <th>도로명</th>\n",
              "    </tr>\n",
              "  </thead>\n",
              "  <tbody>\n",
              "    <tr>\n",
              "      <th>0</th>\n",
              "      <td>강원도 강릉시 견소동</td>\n",
              "      <td>202</td>\n",
              "      <td>0202</td>\n",
              "      <td>0</td>\n",
              "      <td>송정한신</td>\n",
              "      <td>39.0800</td>\n",
              "      <td>202008</td>\n",
              "      <td>4</td>\n",
              "      <td>11,800</td>\n",
              "      <td>7</td>\n",
              "      <td>1997</td>\n",
              "      <td>경강로2539번길 8</td>\n",
              "    </tr>\n",
              "    <tr>\n",
              "      <th>1</th>\n",
              "      <td>강원도 강릉시 견소동</td>\n",
              "      <td>202</td>\n",
              "      <td>0202</td>\n",
              "      <td>0</td>\n",
              "      <td>송정한신</td>\n",
              "      <td>43.3800</td>\n",
              "      <td>202008</td>\n",
              "      <td>11</td>\n",
              "      <td>12,500</td>\n",
              "      <td>12</td>\n",
              "      <td>1997</td>\n",
              "      <td>경강로2539번길 8</td>\n",
              "    </tr>\n",
              "    <tr>\n",
              "      <th>2</th>\n",
              "      <td>강원도 강릉시 견소동</td>\n",
              "      <td>202</td>\n",
              "      <td>0202</td>\n",
              "      <td>0</td>\n",
              "      <td>송정한신</td>\n",
              "      <td>84.9150</td>\n",
              "      <td>202008</td>\n",
              "      <td>13</td>\n",
              "      <td>16,350</td>\n",
              "      <td>10</td>\n",
              "      <td>1997</td>\n",
              "      <td>경강로2539번길 8</td>\n",
              "    </tr>\n",
              "    <tr>\n",
              "      <th>3</th>\n",
              "      <td>강원도 강릉시 견소동</td>\n",
              "      <td>202</td>\n",
              "      <td>0202</td>\n",
              "      <td>0</td>\n",
              "      <td>송정한신</td>\n",
              "      <td>39.0800</td>\n",
              "      <td>202008</td>\n",
              "      <td>26</td>\n",
              "      <td>8,940</td>\n",
              "      <td>4</td>\n",
              "      <td>1997</td>\n",
              "      <td>경강로2539번길 8</td>\n",
              "    </tr>\n",
              "    <tr>\n",
              "      <th>4</th>\n",
              "      <td>강원도 강릉시 견소동</td>\n",
              "      <td>202</td>\n",
              "      <td>0202</td>\n",
              "      <td>0</td>\n",
              "      <td>송정한신</td>\n",
              "      <td>84.9300</td>\n",
              "      <td>202008</td>\n",
              "      <td>29</td>\n",
              "      <td>14,500</td>\n",
              "      <td>2</td>\n",
              "      <td>1997</td>\n",
              "      <td>경강로2539번길 8</td>\n",
              "    </tr>\n",
              "    <tr>\n",
              "      <th>...</th>\n",
              "      <td>...</td>\n",
              "      <td>...</td>\n",
              "      <td>...</td>\n",
              "      <td>...</td>\n",
              "      <td>...</td>\n",
              "      <td>...</td>\n",
              "      <td>...</td>\n",
              "      <td>...</td>\n",
              "      <td>...</td>\n",
              "      <td>...</td>\n",
              "      <td>...</td>\n",
              "      <td>...</td>\n",
              "    </tr>\n",
              "    <tr>\n",
              "      <th>48153</th>\n",
              "      <td>충청북도 충주시 호암동</td>\n",
              "      <td>1191</td>\n",
              "      <td>1191</td>\n",
              "      <td>0</td>\n",
              "      <td>호암 힐데스하임</td>\n",
              "      <td>84.8900</td>\n",
              "      <td>202008</td>\n",
              "      <td>15</td>\n",
              "      <td>32,700</td>\n",
              "      <td>9</td>\n",
              "      <td>2019</td>\n",
              "      <td>호암토성2로 1</td>\n",
              "    </tr>\n",
              "    <tr>\n",
              "      <th>48154</th>\n",
              "      <td>충청북도 충주시 호암동</td>\n",
              "      <td>905</td>\n",
              "      <td>0905</td>\n",
              "      <td>0</td>\n",
              "      <td>호암동수채</td>\n",
              "      <td>84.9289</td>\n",
              "      <td>202008</td>\n",
              "      <td>24</td>\n",
              "      <td>18,600</td>\n",
              "      <td>1</td>\n",
              "      <td>2007</td>\n",
              "      <td>호암중앙1로 47</td>\n",
              "    </tr>\n",
              "    <tr>\n",
              "      <th>48155</th>\n",
              "      <td>충청북도 충주시 호암동</td>\n",
              "      <td>221-23</td>\n",
              "      <td>0221</td>\n",
              "      <td>23</td>\n",
              "      <td>호암리버빌(1단지)</td>\n",
              "      <td>84.6800</td>\n",
              "      <td>202008</td>\n",
              "      <td>8</td>\n",
              "      <td>15,000</td>\n",
              "      <td>7</td>\n",
              "      <td>2002</td>\n",
              "      <td>원호암5길 32</td>\n",
              "    </tr>\n",
              "    <tr>\n",
              "      <th>48156</th>\n",
              "      <td>충청북도 충주시 호암동</td>\n",
              "      <td>221-23</td>\n",
              "      <td>0221</td>\n",
              "      <td>23</td>\n",
              "      <td>호암리버빌(1단지)</td>\n",
              "      <td>84.6800</td>\n",
              "      <td>202008</td>\n",
              "      <td>31</td>\n",
              "      <td>16,450</td>\n",
              "      <td>5</td>\n",
              "      <td>2002</td>\n",
              "      <td>원호암5길 32</td>\n",
              "    </tr>\n",
              "    <tr>\n",
              "      <th>48157</th>\n",
              "      <td>충청북도 충주시 호암동</td>\n",
              "      <td>221-1</td>\n",
              "      <td>0221</td>\n",
              "      <td>1</td>\n",
              "      <td>호암리버빌(2단지)</td>\n",
              "      <td>84.6800</td>\n",
              "      <td>202008</td>\n",
              "      <td>19</td>\n",
              "      <td>15,500</td>\n",
              "      <td>9</td>\n",
              "      <td>2002</td>\n",
              "      <td>호암중앙2로 5</td>\n",
              "    </tr>\n",
              "  </tbody>\n",
              "</table>\n",
              "<p>48158 rows × 12 columns</p>\n",
              "</div>"
            ],
            "text/plain": [
              "                시군구      번지    본번  부번  ... 거래금액(만원)   층  건축년도          도로명\n",
              "0       강원도 강릉시 견소동     202  0202   0  ...   11,800   7  1997  경강로2539번길 8\n",
              "1       강원도 강릉시 견소동     202  0202   0  ...   12,500  12  1997  경강로2539번길 8\n",
              "2       강원도 강릉시 견소동     202  0202   0  ...   16,350  10  1997  경강로2539번길 8\n",
              "3       강원도 강릉시 견소동     202  0202   0  ...    8,940   4  1997  경강로2539번길 8\n",
              "4       강원도 강릉시 견소동     202  0202   0  ...   14,500   2  1997  경강로2539번길 8\n",
              "...             ...     ...   ...  ..  ...      ...  ..   ...          ...\n",
              "48153  충청북도 충주시 호암동    1191  1191   0  ...   32,700   9  2019     호암토성2로 1\n",
              "48154  충청북도 충주시 호암동     905  0905   0  ...   18,600   1  2007    호암중앙1로 47\n",
              "48155  충청북도 충주시 호암동  221-23  0221  23  ...   15,000   7  2002     원호암5길 32\n",
              "48156  충청북도 충주시 호암동  221-23  0221  23  ...   16,450   5  2002     원호암5길 32\n",
              "48157  충청북도 충주시 호암동   221-1  0221   1  ...   15,500   9  2002     호암중앙2로 5\n",
              "\n",
              "[48158 rows x 12 columns]"
            ]
          },
          "metadata": {
            "tags": []
          },
          "execution_count": 3
        }
      ]
    },
    {
      "cell_type": "code",
      "metadata": {
        "id": "E358pSnIGjd_",
        "outputId": "8e4b93eb-2d42-46b9-db45-a155d9698d0a",
        "colab": {
          "base_uri": "https://localhost:8080/"
        }
      },
      "source": [
        "data.columns"
      ],
      "execution_count": 4,
      "outputs": [
        {
          "output_type": "execute_result",
          "data": {
            "text/plain": [
              "Index(['시군구', '번지', '본번', '부번', '단지명', '전용면적(㎡)', '계약년월', '계약일', '거래금액(만원)',\n",
              "       '층', '건축년도', '도로명'],\n",
              "      dtype='object')"
            ]
          },
          "metadata": {
            "tags": []
          },
          "execution_count": 4
        }
      ]
    },
    {
      "cell_type": "code",
      "metadata": {
        "id": "bAtvBJKnE4cP",
        "outputId": "d54d1454-ac2a-4b32-f9bb-bf53bbe2918c",
        "colab": {
          "base_uri": "https://localhost:8080/"
        }
      },
      "source": [
        "# 연산을 위해 숫자형으로 되어 있는지 확인\n",
        "data.dtypes"
      ],
      "execution_count": 5,
      "outputs": [
        {
          "output_type": "execute_result",
          "data": {
            "text/plain": [
              "시군구          object\n",
              "번지           object\n",
              "본번           object\n",
              "부번            int64\n",
              "단지명          object\n",
              "전용면적(㎡)     float64\n",
              "계약년월          int64\n",
              "계약일           int64\n",
              "거래금액(만원)     object\n",
              "층             int64\n",
              "건축년도          int64\n",
              "도로명          object\n",
              "dtype: object"
            ]
          },
          "metadata": {
            "tags": []
          },
          "execution_count": 5
        }
      ]
    },
    {
      "cell_type": "markdown",
      "metadata": {
        "id": "XcxXshx2G-hx"
      },
      "source": [
        "df.str.replace를 통해 한번에 컬럼의 문자열을 변경할 수 있다"
      ]
    },
    {
      "cell_type": "code",
      "metadata": {
        "id": "-YTdDXVHE4cS"
      },
      "source": [
        "# 문자로 인식된 것을 숫자로 바꾼다. 그러려면 ,를 먼저 삭제해야 한다\n",
        "data['거래금액(만원)'] = data['거래금액(만원)'].str.replace(',','')   \n"
      ],
      "execution_count": 6,
      "outputs": []
    },
    {
      "cell_type": "code",
      "metadata": {
        "id": "nG-FLqQOq04a",
        "outputId": "6016e498-19cd-4136-e58a-667d8e9720cb",
        "colab": {
          "base_uri": "https://localhost:8080/"
        }
      },
      "source": [
        "data['거래금액(만원)']"
      ],
      "execution_count": 7,
      "outputs": [
        {
          "output_type": "execute_result",
          "data": {
            "text/plain": [
              "0        11800\n",
              "1        12500\n",
              "2        16350\n",
              "3         8940\n",
              "4        14500\n",
              "         ...  \n",
              "48153    32700\n",
              "48154    18600\n",
              "48155    15000\n",
              "48156    16450\n",
              "48157    15500\n",
              "Name: 거래금액(만원), Length: 48158, dtype: object"
            ]
          },
          "metadata": {
            "tags": []
          },
          "execution_count": 7
        }
      ]
    },
    {
      "cell_type": "markdown",
      "metadata": {
        "id": "Fz9I3ANpHNrV"
      },
      "source": [
        "astype()을 통해서 데이터 타입 변경이 가능하다"
      ]
    },
    {
      "cell_type": "code",
      "metadata": {
        "id": "Uq4VUxAlE4cU"
      },
      "source": [
        "data['거래금액(만원)'] = data['거래금액(만원)'].astype('int')"
      ],
      "execution_count": 8,
      "outputs": []
    },
    {
      "cell_type": "code",
      "metadata": {
        "id": "DFs8DTQLE4cX"
      },
      "source": [
        "# 비교를 위해 평당가격을 계산한다. \n",
        "df = data.assign(평당단가 = data['거래금액(만원)']/data['전용면적(㎡)'])"
      ],
      "execution_count": 9,
      "outputs": []
    },
    {
      "cell_type": "code",
      "metadata": {
        "id": "WZBHzBepE4cZ",
        "outputId": "06f6dd70-2456-43de-d881-1aeaf1f86bb4",
        "colab": {
          "base_uri": "https://localhost:8080/",
          "height": 606
        }
      },
      "source": [
        "df"
      ],
      "execution_count": 10,
      "outputs": [
        {
          "output_type": "execute_result",
          "data": {
            "text/html": [
              "<div>\n",
              "<style scoped>\n",
              "    .dataframe tbody tr th:only-of-type {\n",
              "        vertical-align: middle;\n",
              "    }\n",
              "\n",
              "    .dataframe tbody tr th {\n",
              "        vertical-align: top;\n",
              "    }\n",
              "\n",
              "    .dataframe thead th {\n",
              "        text-align: right;\n",
              "    }\n",
              "</style>\n",
              "<table border=\"1\" class=\"dataframe\">\n",
              "  <thead>\n",
              "    <tr style=\"text-align: right;\">\n",
              "      <th></th>\n",
              "      <th>시군구</th>\n",
              "      <th>번지</th>\n",
              "      <th>본번</th>\n",
              "      <th>부번</th>\n",
              "      <th>단지명</th>\n",
              "      <th>전용면적(㎡)</th>\n",
              "      <th>계약년월</th>\n",
              "      <th>계약일</th>\n",
              "      <th>거래금액(만원)</th>\n",
              "      <th>층</th>\n",
              "      <th>건축년도</th>\n",
              "      <th>도로명</th>\n",
              "      <th>평당단가</th>\n",
              "    </tr>\n",
              "  </thead>\n",
              "  <tbody>\n",
              "    <tr>\n",
              "      <th>0</th>\n",
              "      <td>강원도 강릉시 견소동</td>\n",
              "      <td>202</td>\n",
              "      <td>0202</td>\n",
              "      <td>0</td>\n",
              "      <td>송정한신</td>\n",
              "      <td>39.0800</td>\n",
              "      <td>202008</td>\n",
              "      <td>4</td>\n",
              "      <td>11800</td>\n",
              "      <td>7</td>\n",
              "      <td>1997</td>\n",
              "      <td>경강로2539번길 8</td>\n",
              "      <td>301.944729</td>\n",
              "    </tr>\n",
              "    <tr>\n",
              "      <th>1</th>\n",
              "      <td>강원도 강릉시 견소동</td>\n",
              "      <td>202</td>\n",
              "      <td>0202</td>\n",
              "      <td>0</td>\n",
              "      <td>송정한신</td>\n",
              "      <td>43.3800</td>\n",
              "      <td>202008</td>\n",
              "      <td>11</td>\n",
              "      <td>12500</td>\n",
              "      <td>12</td>\n",
              "      <td>1997</td>\n",
              "      <td>경강로2539번길 8</td>\n",
              "      <td>288.151222</td>\n",
              "    </tr>\n",
              "    <tr>\n",
              "      <th>2</th>\n",
              "      <td>강원도 강릉시 견소동</td>\n",
              "      <td>202</td>\n",
              "      <td>0202</td>\n",
              "      <td>0</td>\n",
              "      <td>송정한신</td>\n",
              "      <td>84.9150</td>\n",
              "      <td>202008</td>\n",
              "      <td>13</td>\n",
              "      <td>16350</td>\n",
              "      <td>10</td>\n",
              "      <td>1997</td>\n",
              "      <td>경강로2539번길 8</td>\n",
              "      <td>192.545487</td>\n",
              "    </tr>\n",
              "    <tr>\n",
              "      <th>3</th>\n",
              "      <td>강원도 강릉시 견소동</td>\n",
              "      <td>202</td>\n",
              "      <td>0202</td>\n",
              "      <td>0</td>\n",
              "      <td>송정한신</td>\n",
              "      <td>39.0800</td>\n",
              "      <td>202008</td>\n",
              "      <td>26</td>\n",
              "      <td>8940</td>\n",
              "      <td>4</td>\n",
              "      <td>1997</td>\n",
              "      <td>경강로2539번길 8</td>\n",
              "      <td>228.761515</td>\n",
              "    </tr>\n",
              "    <tr>\n",
              "      <th>4</th>\n",
              "      <td>강원도 강릉시 견소동</td>\n",
              "      <td>202</td>\n",
              "      <td>0202</td>\n",
              "      <td>0</td>\n",
              "      <td>송정한신</td>\n",
              "      <td>84.9300</td>\n",
              "      <td>202008</td>\n",
              "      <td>29</td>\n",
              "      <td>14500</td>\n",
              "      <td>2</td>\n",
              "      <td>1997</td>\n",
              "      <td>경강로2539번길 8</td>\n",
              "      <td>170.728836</td>\n",
              "    </tr>\n",
              "    <tr>\n",
              "      <th>...</th>\n",
              "      <td>...</td>\n",
              "      <td>...</td>\n",
              "      <td>...</td>\n",
              "      <td>...</td>\n",
              "      <td>...</td>\n",
              "      <td>...</td>\n",
              "      <td>...</td>\n",
              "      <td>...</td>\n",
              "      <td>...</td>\n",
              "      <td>...</td>\n",
              "      <td>...</td>\n",
              "      <td>...</td>\n",
              "      <td>...</td>\n",
              "    </tr>\n",
              "    <tr>\n",
              "      <th>48153</th>\n",
              "      <td>충청북도 충주시 호암동</td>\n",
              "      <td>1191</td>\n",
              "      <td>1191</td>\n",
              "      <td>0</td>\n",
              "      <td>호암 힐데스하임</td>\n",
              "      <td>84.8900</td>\n",
              "      <td>202008</td>\n",
              "      <td>15</td>\n",
              "      <td>32700</td>\n",
              "      <td>9</td>\n",
              "      <td>2019</td>\n",
              "      <td>호암토성2로 1</td>\n",
              "      <td>385.204382</td>\n",
              "    </tr>\n",
              "    <tr>\n",
              "      <th>48154</th>\n",
              "      <td>충청북도 충주시 호암동</td>\n",
              "      <td>905</td>\n",
              "      <td>0905</td>\n",
              "      <td>0</td>\n",
              "      <td>호암동수채</td>\n",
              "      <td>84.9289</td>\n",
              "      <td>202008</td>\n",
              "      <td>24</td>\n",
              "      <td>18600</td>\n",
              "      <td>1</td>\n",
              "      <td>2007</td>\n",
              "      <td>호암중앙1로 47</td>\n",
              "      <td>219.006722</td>\n",
              "    </tr>\n",
              "    <tr>\n",
              "      <th>48155</th>\n",
              "      <td>충청북도 충주시 호암동</td>\n",
              "      <td>221-23</td>\n",
              "      <td>0221</td>\n",
              "      <td>23</td>\n",
              "      <td>호암리버빌(1단지)</td>\n",
              "      <td>84.6800</td>\n",
              "      <td>202008</td>\n",
              "      <td>8</td>\n",
              "      <td>15000</td>\n",
              "      <td>7</td>\n",
              "      <td>2002</td>\n",
              "      <td>원호암5길 32</td>\n",
              "      <td>177.137459</td>\n",
              "    </tr>\n",
              "    <tr>\n",
              "      <th>48156</th>\n",
              "      <td>충청북도 충주시 호암동</td>\n",
              "      <td>221-23</td>\n",
              "      <td>0221</td>\n",
              "      <td>23</td>\n",
              "      <td>호암리버빌(1단지)</td>\n",
              "      <td>84.6800</td>\n",
              "      <td>202008</td>\n",
              "      <td>31</td>\n",
              "      <td>16450</td>\n",
              "      <td>5</td>\n",
              "      <td>2002</td>\n",
              "      <td>원호암5길 32</td>\n",
              "      <td>194.260746</td>\n",
              "    </tr>\n",
              "    <tr>\n",
              "      <th>48157</th>\n",
              "      <td>충청북도 충주시 호암동</td>\n",
              "      <td>221-1</td>\n",
              "      <td>0221</td>\n",
              "      <td>1</td>\n",
              "      <td>호암리버빌(2단지)</td>\n",
              "      <td>84.6800</td>\n",
              "      <td>202008</td>\n",
              "      <td>19</td>\n",
              "      <td>15500</td>\n",
              "      <td>9</td>\n",
              "      <td>2002</td>\n",
              "      <td>호암중앙2로 5</td>\n",
              "      <td>183.042041</td>\n",
              "    </tr>\n",
              "  </tbody>\n",
              "</table>\n",
              "<p>48158 rows × 13 columns</p>\n",
              "</div>"
            ],
            "text/plain": [
              "                시군구      번지    본번  부번  ...   층  건축년도          도로명        평당단가\n",
              "0       강원도 강릉시 견소동     202  0202   0  ...   7  1997  경강로2539번길 8  301.944729\n",
              "1       강원도 강릉시 견소동     202  0202   0  ...  12  1997  경강로2539번길 8  288.151222\n",
              "2       강원도 강릉시 견소동     202  0202   0  ...  10  1997  경강로2539번길 8  192.545487\n",
              "3       강원도 강릉시 견소동     202  0202   0  ...   4  1997  경강로2539번길 8  228.761515\n",
              "4       강원도 강릉시 견소동     202  0202   0  ...   2  1997  경강로2539번길 8  170.728836\n",
              "...             ...     ...   ...  ..  ...  ..   ...          ...         ...\n",
              "48153  충청북도 충주시 호암동    1191  1191   0  ...   9  2019     호암토성2로 1  385.204382\n",
              "48154  충청북도 충주시 호암동     905  0905   0  ...   1  2007    호암중앙1로 47  219.006722\n",
              "48155  충청북도 충주시 호암동  221-23  0221  23  ...   7  2002     원호암5길 32  177.137459\n",
              "48156  충청북도 충주시 호암동  221-23  0221  23  ...   5  2002     원호암5길 32  194.260746\n",
              "48157  충청북도 충주시 호암동   221-1  0221   1  ...   9  2002     호암중앙2로 5  183.042041\n",
              "\n",
              "[48158 rows x 13 columns]"
            ]
          },
          "metadata": {
            "tags": []
          },
          "execution_count": 10
        }
      ]
    },
    {
      "cell_type": "markdown",
      "metadata": {
        "id": "CiXLUOqqE4cc"
      },
      "source": [
        "### 경기도 안양시 분석\n",
        "* 지역 편차가 크므로 한개의 시에 대해서 아파트 가격 요인을 분석해봅시다"
      ]
    },
    {
      "cell_type": "code",
      "metadata": {
        "id": "54ZPSwrVrXwB",
        "outputId": "a52bc531-1f19-44a9-90f8-1ca7ae479da4",
        "colab": {
          "base_uri": "https://localhost:8080/"
        }
      },
      "source": [
        "df.시군구.unique()"
      ],
      "execution_count": 11,
      "outputs": [
        {
          "output_type": "execute_result",
          "data": {
            "text/plain": [
              "array(['강원도 강릉시 견소동', '강원도 강릉시 교동', '강원도 강릉시 내곡동', ..., '충청북도 충주시 칠금동',\n",
              "       '충청북도 충주시 풍동', '충청북도 충주시 호암동'], dtype=object)"
            ]
          },
          "metadata": {
            "tags": []
          },
          "execution_count": 11
        }
      ]
    },
    {
      "cell_type": "code",
      "metadata": {
        "id": "iHWwUwDEE4cd"
      },
      "source": [
        "# 안양시 선택\n",
        "안양 = df.시군구.str.contains('안양')"
      ],
      "execution_count": 12,
      "outputs": []
    },
    {
      "cell_type": "code",
      "metadata": {
        "id": "TMbgOeo-E4cg",
        "outputId": "7daf8b90-4ef5-4bce-b471-85c1edbad30f",
        "colab": {
          "base_uri": "https://localhost:8080/"
        }
      },
      "source": [
        "안양"
      ],
      "execution_count": 13,
      "outputs": [
        {
          "output_type": "execute_result",
          "data": {
            "text/plain": [
              "0        False\n",
              "1        False\n",
              "2        False\n",
              "3        False\n",
              "4        False\n",
              "         ...  \n",
              "48153    False\n",
              "48154    False\n",
              "48155    False\n",
              "48156    False\n",
              "48157    False\n",
              "Name: 시군구, Length: 48158, dtype: bool"
            ]
          },
          "metadata": {
            "tags": []
          },
          "execution_count": 13
        }
      ]
    },
    {
      "cell_type": "code",
      "metadata": {
        "id": "NlnOPx5QE4cj"
      },
      "source": [
        "anyang_df = df[안양]"
      ],
      "execution_count": 14,
      "outputs": []
    },
    {
      "cell_type": "code",
      "metadata": {
        "id": "GcCEshVZE4cl",
        "outputId": "27da9df0-97b5-4287-f2ad-5d7997ef6505",
        "colab": {
          "base_uri": "https://localhost:8080/",
          "height": 202
        }
      },
      "source": [
        "anyang_df.head()"
      ],
      "execution_count": 15,
      "outputs": [
        {
          "output_type": "execute_result",
          "data": {
            "text/html": [
              "<div>\n",
              "<style scoped>\n",
              "    .dataframe tbody tr th:only-of-type {\n",
              "        vertical-align: middle;\n",
              "    }\n",
              "\n",
              "    .dataframe tbody tr th {\n",
              "        vertical-align: top;\n",
              "    }\n",
              "\n",
              "    .dataframe thead th {\n",
              "        text-align: right;\n",
              "    }\n",
              "</style>\n",
              "<table border=\"1\" class=\"dataframe\">\n",
              "  <thead>\n",
              "    <tr style=\"text-align: right;\">\n",
              "      <th></th>\n",
              "      <th>시군구</th>\n",
              "      <th>번지</th>\n",
              "      <th>본번</th>\n",
              "      <th>부번</th>\n",
              "      <th>단지명</th>\n",
              "      <th>전용면적(㎡)</th>\n",
              "      <th>계약년월</th>\n",
              "      <th>계약일</th>\n",
              "      <th>거래금액(만원)</th>\n",
              "      <th>층</th>\n",
              "      <th>건축년도</th>\n",
              "      <th>도로명</th>\n",
              "      <th>평당단가</th>\n",
              "    </tr>\n",
              "  </thead>\n",
              "  <tbody>\n",
              "    <tr>\n",
              "      <th>9176</th>\n",
              "      <td>경기도 안양동안구 관양동</td>\n",
              "      <td>1587</td>\n",
              "      <td>1587</td>\n",
              "      <td>0</td>\n",
              "      <td>공작럭키</td>\n",
              "      <td>49.8</td>\n",
              "      <td>202008</td>\n",
              "      <td>8</td>\n",
              "      <td>33000</td>\n",
              "      <td>20</td>\n",
              "      <td>1993</td>\n",
              "      <td>학의로 168</td>\n",
              "      <td>662.650602</td>\n",
              "    </tr>\n",
              "    <tr>\n",
              "      <th>9177</th>\n",
              "      <td>경기도 안양동안구 관양동</td>\n",
              "      <td>1587</td>\n",
              "      <td>1587</td>\n",
              "      <td>0</td>\n",
              "      <td>공작럭키</td>\n",
              "      <td>49.8</td>\n",
              "      <td>202008</td>\n",
              "      <td>15</td>\n",
              "      <td>35000</td>\n",
              "      <td>3</td>\n",
              "      <td>1993</td>\n",
              "      <td>학의로 168</td>\n",
              "      <td>702.811245</td>\n",
              "    </tr>\n",
              "    <tr>\n",
              "      <th>9178</th>\n",
              "      <td>경기도 안양동안구 관양동</td>\n",
              "      <td>1587</td>\n",
              "      <td>1587</td>\n",
              "      <td>0</td>\n",
              "      <td>공작럭키</td>\n",
              "      <td>49.8</td>\n",
              "      <td>202008</td>\n",
              "      <td>21</td>\n",
              "      <td>36900</td>\n",
              "      <td>6</td>\n",
              "      <td>1993</td>\n",
              "      <td>학의로 168</td>\n",
              "      <td>740.963855</td>\n",
              "    </tr>\n",
              "    <tr>\n",
              "      <th>9179</th>\n",
              "      <td>경기도 안양동안구 관양동</td>\n",
              "      <td>1587</td>\n",
              "      <td>1587</td>\n",
              "      <td>0</td>\n",
              "      <td>공작럭키</td>\n",
              "      <td>49.8</td>\n",
              "      <td>202008</td>\n",
              "      <td>21</td>\n",
              "      <td>31900</td>\n",
              "      <td>2</td>\n",
              "      <td>1993</td>\n",
              "      <td>학의로 168</td>\n",
              "      <td>640.562249</td>\n",
              "    </tr>\n",
              "    <tr>\n",
              "      <th>9180</th>\n",
              "      <td>경기도 안양동안구 관양동</td>\n",
              "      <td>1587</td>\n",
              "      <td>1587</td>\n",
              "      <td>0</td>\n",
              "      <td>공작럭키</td>\n",
              "      <td>49.8</td>\n",
              "      <td>202008</td>\n",
              "      <td>21</td>\n",
              "      <td>35800</td>\n",
              "      <td>14</td>\n",
              "      <td>1993</td>\n",
              "      <td>학의로 168</td>\n",
              "      <td>718.875502</td>\n",
              "    </tr>\n",
              "  </tbody>\n",
              "</table>\n",
              "</div>"
            ],
            "text/plain": [
              "                시군구    번지    본번  부번  ...   층  건축년도      도로명        평당단가\n",
              "9176  경기도 안양동안구 관양동  1587  1587   0  ...  20  1993  학의로 168  662.650602\n",
              "9177  경기도 안양동안구 관양동  1587  1587   0  ...   3  1993  학의로 168  702.811245\n",
              "9178  경기도 안양동안구 관양동  1587  1587   0  ...   6  1993  학의로 168  740.963855\n",
              "9179  경기도 안양동안구 관양동  1587  1587   0  ...   2  1993  학의로 168  640.562249\n",
              "9180  경기도 안양동안구 관양동  1587  1587   0  ...  14  1993  학의로 168  718.875502\n",
              "\n",
              "[5 rows x 13 columns]"
            ]
          },
          "metadata": {
            "tags": []
          },
          "execution_count": 15
        }
      ]
    },
    {
      "cell_type": "code",
      "metadata": {
        "id": "J8678YVUE4co",
        "outputId": "c39f4576-fbbf-4eb5-fdb0-18702eecdf5e",
        "colab": {
          "base_uri": "https://localhost:8080/"
        }
      },
      "source": [
        "# 경기도 안양시 이외에 안양이 들어간 곳이 있는 확인\n",
        "anyang_df.시군구.unique()"
      ],
      "execution_count": 16,
      "outputs": [
        {
          "output_type": "execute_result",
          "data": {
            "text/plain": [
              "array(['경기도 안양동안구 관양동', '경기도 안양동안구 비산동', '경기도 안양동안구 평촌동', '경기도 안양동안구 호계동',\n",
              "       '경기도 안양만안구 박달동', '경기도 안양만안구 석수동', '경기도 안양만안구 안양동'], dtype=object)"
            ]
          },
          "metadata": {
            "tags": []
          },
          "execution_count": 16
        }
      ]
    },
    {
      "cell_type": "code",
      "metadata": {
        "id": "OV0Gpix7E4cq"
      },
      "source": [
        "# 분석에 활용할 데이터만 선택\n",
        "anyang_df = anyang_df.filter(['층','건축년도','전용면적','평당단가'])"
      ],
      "execution_count": 17,
      "outputs": []
    },
    {
      "cell_type": "code",
      "metadata": {
        "id": "SbGgejVPE4cs",
        "outputId": "c0b55db3-285b-4d1c-8e3f-02c34f654351",
        "colab": {
          "base_uri": "https://localhost:8080/",
          "height": 202
        }
      },
      "source": [
        "anyang_df.head()"
      ],
      "execution_count": 18,
      "outputs": [
        {
          "output_type": "execute_result",
          "data": {
            "text/html": [
              "<div>\n",
              "<style scoped>\n",
              "    .dataframe tbody tr th:only-of-type {\n",
              "        vertical-align: middle;\n",
              "    }\n",
              "\n",
              "    .dataframe tbody tr th {\n",
              "        vertical-align: top;\n",
              "    }\n",
              "\n",
              "    .dataframe thead th {\n",
              "        text-align: right;\n",
              "    }\n",
              "</style>\n",
              "<table border=\"1\" class=\"dataframe\">\n",
              "  <thead>\n",
              "    <tr style=\"text-align: right;\">\n",
              "      <th></th>\n",
              "      <th>층</th>\n",
              "      <th>건축년도</th>\n",
              "      <th>평당단가</th>\n",
              "    </tr>\n",
              "  </thead>\n",
              "  <tbody>\n",
              "    <tr>\n",
              "      <th>9176</th>\n",
              "      <td>20</td>\n",
              "      <td>1993</td>\n",
              "      <td>662.650602</td>\n",
              "    </tr>\n",
              "    <tr>\n",
              "      <th>9177</th>\n",
              "      <td>3</td>\n",
              "      <td>1993</td>\n",
              "      <td>702.811245</td>\n",
              "    </tr>\n",
              "    <tr>\n",
              "      <th>9178</th>\n",
              "      <td>6</td>\n",
              "      <td>1993</td>\n",
              "      <td>740.963855</td>\n",
              "    </tr>\n",
              "    <tr>\n",
              "      <th>9179</th>\n",
              "      <td>2</td>\n",
              "      <td>1993</td>\n",
              "      <td>640.562249</td>\n",
              "    </tr>\n",
              "    <tr>\n",
              "      <th>9180</th>\n",
              "      <td>14</td>\n",
              "      <td>1993</td>\n",
              "      <td>718.875502</td>\n",
              "    </tr>\n",
              "  </tbody>\n",
              "</table>\n",
              "</div>"
            ],
            "text/plain": [
              "       층  건축년도        평당단가\n",
              "9176  20  1993  662.650602\n",
              "9177   3  1993  702.811245\n",
              "9178   6  1993  740.963855\n",
              "9179   2  1993  640.562249\n",
              "9180  14  1993  718.875502"
            ]
          },
          "metadata": {
            "tags": []
          },
          "execution_count": 18
        }
      ]
    },
    {
      "cell_type": "code",
      "metadata": {
        "id": "E2OC4os7E4cw",
        "outputId": "2134b96e-c251-420a-934b-9b3727639d83",
        "colab": {
          "base_uri": "https://localhost:8080/"
        }
      },
      "source": [
        "anyang_df.dtypes"
      ],
      "execution_count": 19,
      "outputs": [
        {
          "output_type": "execute_result",
          "data": {
            "text/plain": [
              "층         int64\n",
              "건축년도      int64\n",
              "평당단가    float64\n",
              "dtype: object"
            ]
          },
          "metadata": {
            "tags": []
          },
          "execution_count": 19
        }
      ]
    },
    {
      "cell_type": "code",
      "metadata": {
        "id": "ol2qap1IE4cz"
      },
      "source": [
        "anyang_df = anyang_df.astype({'층':'float', '건축년도':'int'})"
      ],
      "execution_count": 20,
      "outputs": []
    },
    {
      "cell_type": "code",
      "metadata": {
        "id": "xvhspUrAE4c1",
        "outputId": "89f5c0c2-0b06-4306-e90b-a4ddd0f028aa",
        "colab": {
          "base_uri": "https://localhost:8080/"
        }
      },
      "source": [
        "anyang_df.dtypes"
      ],
      "execution_count": 21,
      "outputs": [
        {
          "output_type": "execute_result",
          "data": {
            "text/plain": [
              "층       float64\n",
              "건축년도      int64\n",
              "평당단가    float64\n",
              "dtype: object"
            ]
          },
          "metadata": {
            "tags": []
          },
          "execution_count": 21
        }
      ]
    },
    {
      "cell_type": "code",
      "metadata": {
        "id": "DUdHlJHtIw2w"
      },
      "source": [
        "pivot = pd.pivot_table(anyang_df, values='평당단가', index=['건축년도'], aggfunc='mean')"
      ],
      "execution_count": 22,
      "outputs": []
    },
    {
      "cell_type": "code",
      "metadata": {
        "id": "SOMaJ-9YI-Wn",
        "outputId": "aa10a296-3e3a-4475-f52e-e718e0b4db85",
        "colab": {
          "base_uri": "https://localhost:8080/",
          "height": 1000
        }
      },
      "source": [
        "pivot"
      ],
      "execution_count": 23,
      "outputs": [
        {
          "output_type": "execute_result",
          "data": {
            "text/html": [
              "<div>\n",
              "<style scoped>\n",
              "    .dataframe tbody tr th:only-of-type {\n",
              "        vertical-align: middle;\n",
              "    }\n",
              "\n",
              "    .dataframe tbody tr th {\n",
              "        vertical-align: top;\n",
              "    }\n",
              "\n",
              "    .dataframe thead th {\n",
              "        text-align: right;\n",
              "    }\n",
              "</style>\n",
              "<table border=\"1\" class=\"dataframe\">\n",
              "  <thead>\n",
              "    <tr style=\"text-align: right;\">\n",
              "      <th></th>\n",
              "      <th>평당단가</th>\n",
              "    </tr>\n",
              "    <tr>\n",
              "      <th>건축년도</th>\n",
              "      <th></th>\n",
              "    </tr>\n",
              "  </thead>\n",
              "  <tbody>\n",
              "    <tr>\n",
              "      <th>1978</th>\n",
              "      <td>420.168067</td>\n",
              "    </tr>\n",
              "    <tr>\n",
              "      <th>1979</th>\n",
              "      <td>547.639818</td>\n",
              "    </tr>\n",
              "    <tr>\n",
              "      <th>1981</th>\n",
              "      <td>706.530615</td>\n",
              "    </tr>\n",
              "    <tr>\n",
              "      <th>1982</th>\n",
              "      <td>402.140055</td>\n",
              "    </tr>\n",
              "    <tr>\n",
              "      <th>1983</th>\n",
              "      <td>553.238810</td>\n",
              "    </tr>\n",
              "    <tr>\n",
              "      <th>1984</th>\n",
              "      <td>509.410147</td>\n",
              "    </tr>\n",
              "    <tr>\n",
              "      <th>1985</th>\n",
              "      <td>608.440718</td>\n",
              "    </tr>\n",
              "    <tr>\n",
              "      <th>1987</th>\n",
              "      <td>344.014672</td>\n",
              "    </tr>\n",
              "    <tr>\n",
              "      <th>1988</th>\n",
              "      <td>451.349083</td>\n",
              "    </tr>\n",
              "    <tr>\n",
              "      <th>1989</th>\n",
              "      <td>1155.115512</td>\n",
              "    </tr>\n",
              "    <tr>\n",
              "      <th>1990</th>\n",
              "      <td>523.509684</td>\n",
              "    </tr>\n",
              "    <tr>\n",
              "      <th>1991</th>\n",
              "      <td>399.362745</td>\n",
              "    </tr>\n",
              "    <tr>\n",
              "      <th>1992</th>\n",
              "      <td>828.252065</td>\n",
              "    </tr>\n",
              "    <tr>\n",
              "      <th>1993</th>\n",
              "      <td>794.938568</td>\n",
              "    </tr>\n",
              "    <tr>\n",
              "      <th>1994</th>\n",
              "      <td>794.447901</td>\n",
              "    </tr>\n",
              "    <tr>\n",
              "      <th>1995</th>\n",
              "      <td>657.967326</td>\n",
              "    </tr>\n",
              "    <tr>\n",
              "      <th>1996</th>\n",
              "      <td>679.440193</td>\n",
              "    </tr>\n",
              "    <tr>\n",
              "      <th>1997</th>\n",
              "      <td>446.837349</td>\n",
              "    </tr>\n",
              "    <tr>\n",
              "      <th>1998</th>\n",
              "      <td>1076.395985</td>\n",
              "    </tr>\n",
              "    <tr>\n",
              "      <th>1999</th>\n",
              "      <td>681.941652</td>\n",
              "    </tr>\n",
              "    <tr>\n",
              "      <th>2000</th>\n",
              "      <td>594.175438</td>\n",
              "    </tr>\n",
              "    <tr>\n",
              "      <th>2001</th>\n",
              "      <td>796.704305</td>\n",
              "    </tr>\n",
              "    <tr>\n",
              "      <th>2002</th>\n",
              "      <td>784.524650</td>\n",
              "    </tr>\n",
              "    <tr>\n",
              "      <th>2003</th>\n",
              "      <td>629.361874</td>\n",
              "    </tr>\n",
              "    <tr>\n",
              "      <th>2004</th>\n",
              "      <td>811.885720</td>\n",
              "    </tr>\n",
              "    <tr>\n",
              "      <th>2005</th>\n",
              "      <td>572.270474</td>\n",
              "    </tr>\n",
              "    <tr>\n",
              "      <th>2006</th>\n",
              "      <td>546.493442</td>\n",
              "    </tr>\n",
              "    <tr>\n",
              "      <th>2007</th>\n",
              "      <td>587.664055</td>\n",
              "    </tr>\n",
              "    <tr>\n",
              "      <th>2008</th>\n",
              "      <td>884.558084</td>\n",
              "    </tr>\n",
              "    <tr>\n",
              "      <th>2009</th>\n",
              "      <td>752.179302</td>\n",
              "    </tr>\n",
              "    <tr>\n",
              "      <th>2010</th>\n",
              "      <td>773.806439</td>\n",
              "    </tr>\n",
              "    <tr>\n",
              "      <th>2012</th>\n",
              "      <td>949.024984</td>\n",
              "    </tr>\n",
              "    <tr>\n",
              "      <th>2013</th>\n",
              "      <td>597.993897</td>\n",
              "    </tr>\n",
              "    <tr>\n",
              "      <th>2015</th>\n",
              "      <td>722.124167</td>\n",
              "    </tr>\n",
              "    <tr>\n",
              "      <th>2016</th>\n",
              "      <td>1119.672352</td>\n",
              "    </tr>\n",
              "    <tr>\n",
              "      <th>2017</th>\n",
              "      <td>626.188378</td>\n",
              "    </tr>\n",
              "    <tr>\n",
              "      <th>2018</th>\n",
              "      <td>619.910331</td>\n",
              "    </tr>\n",
              "    <tr>\n",
              "      <th>2019</th>\n",
              "      <td>944.165451</td>\n",
              "    </tr>\n",
              "  </tbody>\n",
              "</table>\n",
              "</div>"
            ],
            "text/plain": [
              "             평당단가\n",
              "건축년도             \n",
              "1978   420.168067\n",
              "1979   547.639818\n",
              "1981   706.530615\n",
              "1982   402.140055\n",
              "1983   553.238810\n",
              "1984   509.410147\n",
              "1985   608.440718\n",
              "1987   344.014672\n",
              "1988   451.349083\n",
              "1989  1155.115512\n",
              "1990   523.509684\n",
              "1991   399.362745\n",
              "1992   828.252065\n",
              "1993   794.938568\n",
              "1994   794.447901\n",
              "1995   657.967326\n",
              "1996   679.440193\n",
              "1997   446.837349\n",
              "1998  1076.395985\n",
              "1999   681.941652\n",
              "2000   594.175438\n",
              "2001   796.704305\n",
              "2002   784.524650\n",
              "2003   629.361874\n",
              "2004   811.885720\n",
              "2005   572.270474\n",
              "2006   546.493442\n",
              "2007   587.664055\n",
              "2008   884.558084\n",
              "2009   752.179302\n",
              "2010   773.806439\n",
              "2012   949.024984\n",
              "2013   597.993897\n",
              "2015   722.124167\n",
              "2016  1119.672352\n",
              "2017   626.188378\n",
              "2018   619.910331\n",
              "2019   944.165451"
            ]
          },
          "metadata": {
            "tags": []
          },
          "execution_count": 23
        }
      ]
    },
    {
      "cell_type": "markdown",
      "metadata": {
        "id": "xNqqTgudJVaN"
      },
      "source": [
        "colab에서 한글 출력 해결\n",
        "\n",
        "https://pinkwink.kr/1255"
      ]
    },
    {
      "cell_type": "code",
      "metadata": {
        "id": "uQ4m5sKHJEEj",
        "outputId": "3b898dd1-5b24-4ba2-a41f-0691a0df54a3",
        "colab": {
          "base_uri": "https://localhost:8080/"
        }
      },
      "source": [
        "import matplotlib as mpl\n",
        "import matplotlib.pyplot as plt\n",
        " \n",
        "%config InlineBackend.figure_format = 'retina'\n",
        " \n",
        "!apt -qq -y install fonts-nanum\n",
        " \n",
        "import matplotlib.font_manager as fm\n",
        "fontpath = '/usr/share/fonts/truetype/nanum/NanumBarunGothic.ttf'\n",
        "font = fm.FontProperties(fname=fontpath, size=9)\n",
        "plt.rc('font', family='NanumBarunGothic') \n",
        "mpl.font_manager._rebuild()\n"
      ],
      "execution_count": 24,
      "outputs": [
        {
          "output_type": "stream",
          "text": [
            "fonts-nanum is already the newest version (20170925-1).\n",
            "0 upgraded, 0 newly installed, 0 to remove and 11 not upgraded.\n"
          ],
          "name": "stdout"
        }
      ]
    },
    {
      "cell_type": "code",
      "metadata": {
        "id": "Kf5Jni14I_fe",
        "outputId": "6ae83ad4-cff2-46b3-9494-415c7a75067f",
        "colab": {
          "base_uri": "https://localhost:8080/",
          "height": 314
        }
      },
      "source": [
        "pivot.plot.bar()"
      ],
      "execution_count": 25,
      "outputs": [
        {
          "output_type": "execute_result",
          "data": {
            "text/plain": [
              "<matplotlib.axes._subplots.AxesSubplot at 0x7fb3b66f7470>"
            ]
          },
          "metadata": {
            "tags": []
          },
          "execution_count": 25
        },
        {
          "output_type": "display_data",
          "data": {
            "image/png": "[encoded data removed]",
            "text/plain": [
              "<Figure size 432x288 with 1 Axes>"
            ]
          },
          "metadata": {
            "tags": [],
            "image/png": {
              "width": 380,
              "height": 278
            },
            "needs_background": "light"
          }
        }
      ]
    },
    {
      "cell_type": "markdown",
      "metadata": {
        "id": "sq95Ov5gMWUo"
      },
      "source": [
        "단지별로 가격을 알아봅시다"
      ]
    },
    {
      "cell_type": "code",
      "metadata": {
        "id": "TJEKEFJvMARo"
      },
      "source": [
        "pivot2 = pd.pivot_table(df, values='평당단가', index=['시군구','단지명'], aggfunc='mean')"
      ],
      "execution_count": 26,
      "outputs": []
    },
    {
      "cell_type": "code",
      "metadata": {
        "id": "Gchb_oHrMkIn",
        "outputId": "af76f0ef-d2df-4a6c-88b9-5d283bec0478",
        "colab": {
          "base_uri": "https://localhost:8080/",
          "height": 233
        }
      },
      "source": [
        "pivot2.head()"
      ],
      "execution_count": 27,
      "outputs": [
        {
          "output_type": "execute_result",
          "data": {
            "text/html": [
              "<div>\n",
              "<style scoped>\n",
              "    .dataframe tbody tr th:only-of-type {\n",
              "        vertical-align: middle;\n",
              "    }\n",
              "\n",
              "    .dataframe tbody tr th {\n",
              "        vertical-align: top;\n",
              "    }\n",
              "\n",
              "    .dataframe thead th {\n",
              "        text-align: right;\n",
              "    }\n",
              "</style>\n",
              "<table border=\"1\" class=\"dataframe\">\n",
              "  <thead>\n",
              "    <tr style=\"text-align: right;\">\n",
              "      <th></th>\n",
              "      <th></th>\n",
              "      <th>평당단가</th>\n",
              "    </tr>\n",
              "    <tr>\n",
              "      <th>시군구</th>\n",
              "      <th>단지명</th>\n",
              "      <th></th>\n",
              "    </tr>\n",
              "  </thead>\n",
              "  <tbody>\n",
              "    <tr>\n",
              "      <th rowspan=\"2\" valign=\"top\">강원도 강릉시 견소동</th>\n",
              "      <th>송정한신</th>\n",
              "      <td>236.426358</td>\n",
              "    </tr>\n",
              "    <tr>\n",
              "      <th>송정해변신도브래뉴아파트</th>\n",
              "      <td>281.362024</td>\n",
              "    </tr>\n",
              "    <tr>\n",
              "      <th rowspan=\"3\" valign=\"top\">강원도 강릉시 교동</th>\n",
              "      <th>강릉 교동 풍림아이원 아파트</th>\n",
              "      <td>393.707941</td>\n",
              "    </tr>\n",
              "    <tr>\n",
              "      <th>강릉교동롯데캐슬1단지</th>\n",
              "      <td>260.330187</td>\n",
              "    </tr>\n",
              "    <tr>\n",
              "      <th>강릉교동롯데캐슬2단지</th>\n",
              "      <td>364.768108</td>\n",
              "    </tr>\n",
              "  </tbody>\n",
              "</table>\n",
              "</div>"
            ],
            "text/plain": [
              "                                   평당단가\n",
              "시군구         단지명                        \n",
              "강원도 강릉시 견소동 송정한신             236.426358\n",
              "            송정해변신도브래뉴아파트     281.362024\n",
              "강원도 강릉시 교동  강릉 교동 풍림아이원 아파트  393.707941\n",
              "            강릉교동롯데캐슬1단지      260.330187\n",
              "            강릉교동롯데캐슬2단지      364.768108"
            ]
          },
          "metadata": {
            "tags": []
          },
          "execution_count": 27
        }
      ]
    },
    {
      "cell_type": "code",
      "metadata": {
        "id": "plJp0l-rMl9D",
        "outputId": "a1fbcb27-3975-4447-e1c9-b472fee7c04a",
        "colab": {
          "base_uri": "https://localhost:8080/",
          "height": 386
        }
      },
      "source": [
        "# 가장 비싼 단지\n",
        "pivot2.sort_values('평당단가', ascending= False)[:10]"
      ],
      "execution_count": 28,
      "outputs": [
        {
          "output_type": "execute_result",
          "data": {
            "text/html": [
              "<div>\n",
              "<style scoped>\n",
              "    .dataframe tbody tr th:only-of-type {\n",
              "        vertical-align: middle;\n",
              "    }\n",
              "\n",
              "    .dataframe tbody tr th {\n",
              "        vertical-align: top;\n",
              "    }\n",
              "\n",
              "    .dataframe thead th {\n",
              "        text-align: right;\n",
              "    }\n",
              "</style>\n",
              "<table border=\"1\" class=\"dataframe\">\n",
              "  <thead>\n",
              "    <tr style=\"text-align: right;\">\n",
              "      <th></th>\n",
              "      <th></th>\n",
              "      <th>평당단가</th>\n",
              "    </tr>\n",
              "    <tr>\n",
              "      <th>시군구</th>\n",
              "      <th>단지명</th>\n",
              "      <th></th>\n",
              "    </tr>\n",
              "  </thead>\n",
              "  <tbody>\n",
              "    <tr>\n",
              "      <th>서울특별시 성동구 성수동1가</th>\n",
              "      <th>트리마제</th>\n",
              "      <td>3829.693151</td>\n",
              "    </tr>\n",
              "    <tr>\n",
              "      <th>서울특별시 송파구 잠실동</th>\n",
              "      <th>리센츠</th>\n",
              "      <td>3549.494220</td>\n",
              "    </tr>\n",
              "    <tr>\n",
              "      <th>서울특별시 서초구 잠원동</th>\n",
              "      <th>아크로리버뷰신반포</th>\n",
              "      <td>3466.424730</td>\n",
              "    </tr>\n",
              "    <tr>\n",
              "      <th>서울특별시 강남구 압구정동</th>\n",
              "      <th>현대5차(71,72동)</th>\n",
              "      <td>3465.888362</td>\n",
              "    </tr>\n",
              "    <tr>\n",
              "      <th>서울특별시 강남구 대치동</th>\n",
              "      <th>래미안대치팰리스</th>\n",
              "      <td>3460.683670</td>\n",
              "    </tr>\n",
              "    <tr>\n",
              "      <th>서울특별시 서초구 반포동</th>\n",
              "      <th>반포 주공1단지</th>\n",
              "      <td>3361.937553</td>\n",
              "    </tr>\n",
              "    <tr>\n",
              "      <th>서울특별시 서초구 잠원동</th>\n",
              "      <th>신반포10</th>\n",
              "      <td>3343.663597</td>\n",
              "    </tr>\n",
              "    <tr>\n",
              "      <th>서울특별시 강남구 압구정동</th>\n",
              "      <th>현대14차(203,204,205,206동)</th>\n",
              "      <td>3334.635043</td>\n",
              "    </tr>\n",
              "    <tr>\n",
              "      <th>서울특별시 강남구 개포동</th>\n",
              "      <th>디에이치아너힐즈</th>\n",
              "      <td>3319.108582</td>\n",
              "    </tr>\n",
              "    <tr>\n",
              "      <th>서울특별시 강남구 삼성동</th>\n",
              "      <th>삼성동힐스테이트 1단지</th>\n",
              "      <td>3301.545726</td>\n",
              "    </tr>\n",
              "  </tbody>\n",
              "</table>\n",
              "</div>"
            ],
            "text/plain": [
              "                                                평당단가\n",
              "시군구             단지명                                 \n",
              "서울특별시 성동구 성수동1가 트리마제                     3829.693151\n",
              "서울특별시 송파구 잠실동   리센츠                      3549.494220\n",
              "서울특별시 서초구 잠원동   아크로리버뷰신반포                3466.424730\n",
              "서울특별시 강남구 압구정동  현대5차(71,72동)             3465.888362\n",
              "서울특별시 강남구 대치동   래미안대치팰리스                 3460.683670\n",
              "서울특별시 서초구 반포동   반포 주공1단지                 3361.937553\n",
              "서울특별시 서초구 잠원동   신반포10                    3343.663597\n",
              "서울특별시 강남구 압구정동  현대14차(203,204,205,206동)  3334.635043\n",
              "서울특별시 강남구 개포동   디에이치아너힐즈                 3319.108582\n",
              "서울특별시 강남구 삼성동   삼성동힐스테이트 1단지             3301.545726"
            ]
          },
          "metadata": {
            "tags": []
          },
          "execution_count": 28
        }
      ]
    },
    {
      "cell_type": "code",
      "metadata": {
        "id": "uPB7sPSVMus3",
        "outputId": "3330889e-9bd8-4843-fe74-8d3874d86802",
        "colab": {
          "base_uri": "https://localhost:8080/",
          "height": 386
        }
      },
      "source": [
        "# 가장 저렴한 단지\n",
        "pivot2.sort_values('평당단가')[:10]"
      ],
      "execution_count": 29,
      "outputs": [
        {
          "output_type": "execute_result",
          "data": {
            "text/html": [
              "<div>\n",
              "<style scoped>\n",
              "    .dataframe tbody tr th:only-of-type {\n",
              "        vertical-align: middle;\n",
              "    }\n",
              "\n",
              "    .dataframe tbody tr th {\n",
              "        vertical-align: top;\n",
              "    }\n",
              "\n",
              "    .dataframe thead th {\n",
              "        text-align: right;\n",
              "    }\n",
              "</style>\n",
              "<table border=\"1\" class=\"dataframe\">\n",
              "  <thead>\n",
              "    <tr style=\"text-align: right;\">\n",
              "      <th></th>\n",
              "      <th></th>\n",
              "      <th>평당단가</th>\n",
              "    </tr>\n",
              "    <tr>\n",
              "      <th>시군구</th>\n",
              "      <th>단지명</th>\n",
              "      <th></th>\n",
              "    </tr>\n",
              "  </thead>\n",
              "  <tbody>\n",
              "    <tr>\n",
              "      <th>전라남도 강진군 병영면 성남리</th>\n",
              "      <th>상우빌라</th>\n",
              "      <td>17.674090</td>\n",
              "    </tr>\n",
              "    <tr>\n",
              "      <th>전라남도 광양시 태인동</th>\n",
              "      <th>동광(부영)</th>\n",
              "      <td>20.263425</td>\n",
              "    </tr>\n",
              "    <tr>\n",
              "      <th>전라북도 군산시 나운동</th>\n",
              "      <th>현대1</th>\n",
              "      <td>29.239766</td>\n",
              "    </tr>\n",
              "    <tr>\n",
              "      <th>경상북도 구미시 선산읍 화조리</th>\n",
              "      <th>청자</th>\n",
              "      <td>29.274145</td>\n",
              "    </tr>\n",
              "    <tr>\n",
              "      <th>전라북도 익산시 황등면 율촌리</th>\n",
              "      <th>황등</th>\n",
              "      <td>29.891304</td>\n",
              "    </tr>\n",
              "    <tr>\n",
              "      <th>충청남도 홍성군 구항면 오봉리</th>\n",
              "      <th>온누리</th>\n",
              "      <td>32.917533</td>\n",
              "    </tr>\n",
              "    <tr>\n",
              "      <th>경상북도 경주시 외동읍 모화리</th>\n",
              "      <th>삼원그린</th>\n",
              "      <td>32.974662</td>\n",
              "    </tr>\n",
              "    <tr>\n",
              "      <th>전라북도 군산시 나운동</th>\n",
              "      <th>명성맨션</th>\n",
              "      <td>33.502648</td>\n",
              "    </tr>\n",
              "    <tr>\n",
              "      <th>강원도 삼척시 도계읍 도계리</th>\n",
              "      <th>한림</th>\n",
              "      <td>34.113060</td>\n",
              "    </tr>\n",
              "    <tr>\n",
              "      <th>충청남도 천안서북구 성환읍 수향리</th>\n",
              "      <th>근로자복지</th>\n",
              "      <td>34.292246</td>\n",
              "    </tr>\n",
              "  </tbody>\n",
              "</table>\n",
              "</div>"
            ],
            "text/plain": [
              "                                평당단가\n",
              "시군구                단지명              \n",
              "전라남도 강진군 병영면 성남리   상우빌라    17.674090\n",
              "전라남도 광양시 태인동       동광(부영)  20.263425\n",
              "전라북도 군산시 나운동       현대1     29.239766\n",
              "경상북도 구미시 선산읍 화조리   청자      29.274145\n",
              "전라북도 익산시 황등면 율촌리   황등      29.891304\n",
              "충청남도 홍성군 구항면 오봉리   온누리     32.917533\n",
              "경상북도 경주시 외동읍 모화리   삼원그린    32.974662\n",
              "전라북도 군산시 나운동       명성맨션    33.502648\n",
              "강원도 삼척시 도계읍 도계리    한림      34.113060\n",
              "충청남도 천안서북구 성환읍 수향리 근로자복지   34.292246"
            ]
          },
          "metadata": {
            "tags": []
          },
          "execution_count": 29
        }
      ]
    },
    {
      "cell_type": "code",
      "metadata": {
        "id": "Ckxn-MKGM-A-"
      },
      "source": [
        "pivot2 = pivot2.sort_values('평당단가', ascending= False)"
      ],
      "execution_count": 30,
      "outputs": []
    },
    {
      "cell_type": "code",
      "metadata": {
        "id": "7yNEn5R2NFWB",
        "outputId": "61de4b3d-9b84-4f8d-9747-3bb7c5375fa0",
        "colab": {
          "base_uri": "https://localhost:8080/",
          "height": 553
        }
      },
      "source": [
        "pivot2[:30].plot.bar()"
      ],
      "execution_count": 31,
      "outputs": [
        {
          "output_type": "execute_result",
          "data": {
            "text/plain": [
              "<matplotlib.axes._subplots.AxesSubplot at 0x7fb3b60830f0>"
            ]
          },
          "metadata": {
            "tags": []
          },
          "execution_count": 31
        },
        {
          "output_type": "display_data",
          "data": {
            "image/png": "[encoded data removed]",
            "text/plain": [
              "<Figure size 432x288 with 1 Axes>"
            ]
          },
          "metadata": {
            "tags": [],
            "image/png": {
              "width": 379,
              "height": 517
            },
            "needs_background": "light"
          }
        }
      ]
    },
    {
      "cell_type": "code",
      "metadata": {
        "id": "tblPSP7QNebC"
      },
      "source": [
        ""
      ],
      "execution_count": 31,
      "outputs": []
    }
  ]
}