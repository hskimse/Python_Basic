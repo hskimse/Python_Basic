{
  "nbformat": 4,
  "nbformat_minor": 0,
  "metadata": {
    "colab": {
      "name": "5-3. 예제_자판기2.ipynb",
      "provenance": [],
      "collapsed_sections": [],
      "authorship_tag": "ABX9TyOd8x/BKfyIQgP8Opmwe2zJ",
      "include_colab_link": true
    },
    "kernelspec": {
      "name": "python3",
      "display_name": "Python 3"
    }
  },
  "cells": [
    {
      "cell_type": "markdown",
      "metadata": {
        "id": "view-in-github",
        "colab_type": "text"
      },
      "source": [
        "<a href=\"https://colab.research.google.com/github/joohoshin/Python_Basic/blob/master/5_3_%EC%98%88%EC%A0%9C_%EC%9E%90%ED%8C%90%EA%B8%B02.ipynb\" target=\"_parent\"><img src=\"https://colab.research.google.com/assets/colab-badge.svg\" alt=\"Open In Colab\"/></a>"
      ]
    },
    {
      "cell_type": "markdown",
      "metadata": {
        "id": "0QCMGyfkTop0",
        "colab_type": "text"
      },
      "source": [
        "### 딕셔너리와 리스트를 활용해서 자판기 예제를 만들어 봅시다"
      ]
    },
    {
      "cell_type": "code",
      "metadata": {
        "id": "jtWw6kZfTkFO",
        "colab_type": "code",
        "colab": {}
      },
      "source": [
        "# 음료 이름, 가격 저장하기\n",
        "음료 = [{'상품명':'밀크티', '가격':700}, \n",
        "        {'상품명':'에너지드링크', '가격':800},\n",
        "        {'상품명':'콜라', '가격':600}]"
      ],
      "execution_count": null,
      "outputs": []
    },
    {
      "cell_type": "code",
      "metadata": {
        "id": "mDwBVjttYyop",
        "colab_type": "code",
        "colab": {}
      },
      "source": [
        "a=음료[0]"
      ],
      "execution_count": null,
      "outputs": []
    },
    {
      "cell_type": "code",
      "metadata": {
        "id": "t_lftoOTY7wW",
        "colab_type": "code",
        "colab": {
          "base_uri": "https://localhost:8080/",
          "height": 34
        },
        "outputId": "64db3c5f-eaff-4882-baed-76e8771ef70f"
      },
      "source": [
        "type(a)"
      ],
      "execution_count": null,
      "outputs": [
        {
          "output_type": "execute_result",
          "data": {
            "text/plain": [
              "dict"
            ]
          },
          "metadata": {
            "tags": []
          },
          "execution_count": 25
        }
      ]
    },
    {
      "cell_type": "code",
      "metadata": {
        "id": "4lTCtZvmY_kp",
        "colab_type": "code",
        "colab": {
          "base_uri": "https://localhost:8080/",
          "height": 34
        },
        "outputId": "2b25334f-13d3-446d-fcdb-0989aa6c0bc2"
      },
      "source": [
        "a['가격']"
      ],
      "execution_count": null,
      "outputs": [
        {
          "output_type": "execute_result",
          "data": {
            "text/plain": [
              "700"
            ]
          },
          "metadata": {
            "tags": []
          },
          "execution_count": 26
        }
      ]
    },
    {
      "cell_type": "code",
      "metadata": {
        "id": "6_3_AR46ZEpT",
        "colab_type": "code",
        "colab": {
          "base_uri": "https://localhost:8080/",
          "height": 34
        },
        "outputId": "3e045731-b666-4764-8c9e-2bfc80df32cc"
      },
      "source": [
        "음료[0]['가격']"
      ],
      "execution_count": null,
      "outputs": [
        {
          "output_type": "execute_result",
          "data": {
            "text/plain": [
              "700"
            ]
          },
          "metadata": {
            "tags": []
          },
          "execution_count": 27
        }
      ]
    },
    {
      "cell_type": "code",
      "metadata": {
        "id": "Ghqq8oB5Tw72",
        "colab_type": "code",
        "colab": {
          "base_uri": "https://localhost:8080/",
          "height": 122
        },
        "outputId": "6d94d3d8-faca-4804-f66a-f999b6352c52"
      },
      "source": [
        "# 금액 입력 받기\n",
        "print('''\n",
        "바람쐬러 나왔더니 자판기가..\n",
        "\n",
        "얼마를 넣을지 입력하세요\n",
        "''')\n",
        "잔액 = int(input())"
      ],
      "execution_count": null,
      "outputs": [
        {
          "output_type": "stream",
          "text": [
            "\n",
            "바람쐬러 나왔더니 자판기가..\n",
            "\n",
            "얼마를 넣을지 입력하세요\n",
            "\n",
            "1000\n"
          ],
          "name": "stdout"
        }
      ]
    },
    {
      "cell_type": "code",
      "metadata": {
        "id": "uYXFJk8NT9Jz",
        "colab_type": "code",
        "colab": {}
      },
      "source": [
        "def 음료받기(잔액, 음료):\n",
        "  print('덜커덩~ {}'.format(음료))\n",
        "  print('딸그락~'*(잔액//100), str(잔액) + '원을 돌려받았다')"
      ],
      "execution_count": null,
      "outputs": []
    },
    {
      "cell_type": "code",
      "metadata": {
        "id": "_9JfNRz3UB2L",
        "colab_type": "code",
        "colab": {
          "base_uri": "https://localhost:8080/",
          "height": 70
        },
        "outputId": "498d4b3b-5e5f-4e38-98fb-a9443908207a"
      },
      "source": [
        "# 음료 선택하기\n",
        "print('''\n",
        "음료를 선택하세요. 현재 잔액은 {}원입니다. \n",
        "'''.format(잔액))\n"
      ],
      "execution_count": null,
      "outputs": [
        {
          "output_type": "stream",
          "text": [
            "\n",
            "음료를 선택하세요. 현재 잔액은 1000원입니다. \n",
            "\n"
          ],
          "name": "stdout"
        }
      ]
    },
    {
      "cell_type": "code",
      "metadata": {
        "id": "LxlJwY0CZZPF",
        "colab_type": "code",
        "colab": {
          "base_uri": "https://localhost:8080/",
          "height": 105
        },
        "outputId": "d66485b2-cf98-4ba5-a9e0-3b8a801d9443"
      },
      "source": [
        "# 음료 출력\n",
        "cnt = 0\n",
        "for i in 음료:\n",
        "  cnt += 1\n",
        "  print(cnt, ')', i['상품명'],':', i['가격'])\n",
        "\n",
        "print() \n",
        "선택=input()"
      ],
      "execution_count": null,
      "outputs": [
        {
          "output_type": "stream",
          "text": [
            "1 ) 밀크티 : 700\n",
            "2 ) 에너지드링크 : 800\n",
            "3 ) 콜라 : 600\n",
            "\n",
            "1\n"
          ],
          "name": "stdout"
        }
      ]
    },
    {
      "cell_type": "code",
      "metadata": {
        "id": "V2-e7nHFUnBD",
        "colab_type": "code",
        "colab": {}
      },
      "source": [
        "선택 = int(선택)-1"
      ],
      "execution_count": null,
      "outputs": []
    },
    {
      "cell_type": "code",
      "metadata": {
        "id": "7mf4R1B6VzHL",
        "colab_type": "code",
        "colab": {
          "base_uri": "https://localhost:8080/",
          "height": 52
        },
        "outputId": "72b108cf-eff2-40e2-b838-625c924cdb24"
      },
      "source": [
        "if 0<=선택<len(음료):\n",
        "  if 잔액>= 음료[선택]['가격']:\n",
        "    잔액 -= 음료[선택]['가격']\n",
        "    음료받기(잔액, 음료[선택]['상품명'])\n",
        "  else:\n",
        "    print('잔액이 부족합니다')\n",
        "else:\n",
        "  print('취소되었습니다')"
      ],
      "execution_count": null,
      "outputs": [
        {
          "output_type": "stream",
          "text": [
            "덜커덩~ 밀크티\n",
            "딸그락~딸그락~딸그락~ 300원을 돌려받았다\n"
          ],
          "name": "stdout"
        }
      ]
    },
    {
      "cell_type": "code",
      "metadata": {
        "id": "_-MBSbwoWJVV",
        "colab_type": "code",
        "colab": {
          "base_uri": "https://localhost:8080/",
          "height": 34
        },
        "outputId": "6458fc6f-07c3-4b69-b6be-0b8edfbd9498"
      },
      "source": [
        "잔액"
      ],
      "execution_count": null,
      "outputs": [
        {
          "output_type": "execute_result",
          "data": {
            "text/plain": [
              "300"
            ]
          },
          "metadata": {
            "tags": []
          },
          "execution_count": 16
        }
      ]
    },
    {
      "cell_type": "code",
      "metadata": {
        "id": "qA4CIgRAWJ_l",
        "colab_type": "code",
        "colab": {
          "base_uri": "https://localhost:8080/",
          "height": 316
        },
        "outputId": "21ce2ed7-1899-4b4b-c376-55cf6766f9e6"
      },
      "source": [
        "# 음료 이름, 가격 저장하기\n",
        "음료 = [{'상품명':'밀크티', '가격':700}, \n",
        "        {'상품명':'에너지드링크', '가격':800},\n",
        "        {'상품명':'콜라', '가격':600},\n",
        "        {'상품명':'커피', '가격':1500}]\n",
        "\n",
        "# 금액 입력 받기\n",
        "print('''\n",
        "바람쐬러 나왔더니 자판기가..\n",
        "\n",
        "얼마를 넣을지 입력하세요\n",
        "''')\n",
        "잔액 = int(input())\n",
        "\n",
        "def 음료받기(잔액, 음료):\n",
        "  print('덜커덩~ {}'.format(음료))\n",
        "  print('딸그락~'*(잔액//100), str(잔액) + '원을 돌려받았다')\n",
        "\n",
        "# 음료 선택하기\n",
        "print('''\n",
        "음료를 선택하세요. 현재 잔액은 {}원입니다. \n",
        "'''.format(잔액))\n",
        "\n",
        "# 음료 출력\n",
        "cnt = 0\n",
        "for i in 음료:\n",
        "  cnt += 1\n",
        "  print(cnt, ')', i['상품명'],':', i['가격'])\n",
        "\n",
        "print() \n",
        "선택=input()\n",
        "\n",
        "선택 = int(선택)-1\n",
        "\n",
        "if 0<=선택<len(음료):\n",
        "  if 잔액>= 음료[선택]['가격']:\n",
        "    잔액 -= 음료[선택]['가격']\n",
        "    음료받기(잔액, 음료[선택]['상품명'])\n",
        "  else:\n",
        "    print('잔액이 부족합니다')\n",
        "else:\n",
        "  print('취소되었습니다')"
      ],
      "execution_count": null,
      "outputs": [
        {
          "output_type": "stream",
          "text": [
            "\n",
            "바람쐬러 나왔더니 자판기가..\n",
            "\n",
            "얼마를 넣을지 입력하세요\n",
            "\n",
            "3000\n",
            "\n",
            "음료를 선택하세요. 현재 잔액은 3000원입니다. \n",
            "\n",
            "1 ) 밀크티 : 700\n",
            "2 ) 에너지드링크 : 800\n",
            "3 ) 콜라 : 600\n",
            "4 ) 커피 : 1500\n",
            "\n",
            "4\n",
            "덜커덩~ 커피\n",
            "딸그락~딸그락~딸그락~딸그락~딸그락~딸그락~딸그락~딸그락~딸그락~딸그락~딸그락~딸그락~딸그락~딸그락~딸그락~ 1500원을 돌려받았다\n"
          ],
          "name": "stdout"
        }
      ]
    }
  ]
}