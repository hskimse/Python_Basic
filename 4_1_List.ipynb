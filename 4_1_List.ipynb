{
  "nbformat": 4,
  "nbformat_minor": 0,
  "metadata": {
    "kernelspec": {
      "name": "python36",
      "display_name": "Python 3.6",
      "language": "python"
    },
    "language_info": {
      "mimetype": "text/x-python",
      "nbconvert_exporter": "python",
      "name": "python",
      "pygments_lexer": "ipython3",
      "version": "3.6.6",
      "file_extension": ".py",
      "codemirror_mode": {
        "version": 3,
        "name": "ipython"
      }
    },
    "colab": {
      "name": "4-1.List.ipynb",
      "provenance": [],
      "include_colab_link": true
    }
  },
  "cells": [
    {
      "cell_type": "markdown",
      "metadata": {
        "id": "view-in-github",
        "colab_type": "text"
      },
      "source": [
        "<a href=\"https://colab.research.google.com/github/joohoshin/Python_Basic/blob/master/4_1_List.ipynb\" target=\"_parent\"><img src=\"https://colab.research.google.com/assets/colab-badge.svg\" alt=\"Open In Colab\"/></a>"
      ]
    },
    {
      "cell_type": "markdown",
      "metadata": {
        "id": "8Ja8w5o1qg5D",
        "colab_type": "text"
      },
      "source": [
        "# List\n",
        "* 한개의 변수명에 여러개의 값을 저장할 수 있습니다. \n",
        "* [] 기호 안에 값을 넣어줍니다. ,로 값들을 구분합니다. "
      ]
    },
    {
      "cell_type": "code",
      "metadata": {
        "trusted": true,
        "id": "E0IqAxfdqg5E",
        "colab_type": "code",
        "colab": {
          "base_uri": "https://localhost:8080/",
          "height": 34
        },
        "outputId": "a5630df4-5129-49fc-89a6-c359f4d78b71"
      },
      "source": [
        "colors = ['red', 'blue', 'black']\n",
        "colors"
      ],
      "execution_count": null,
      "outputs": [
        {
          "output_type": "execute_result",
          "data": {
            "text/plain": [
              "['red', 'blue', 'black']"
            ]
          },
          "metadata": {
            "tags": []
          },
          "execution_count": 1
        }
      ]
    },
    {
      "cell_type": "code",
      "metadata": {
        "trusted": true,
        "id": "PrUiaFQ7qg5L",
        "colab_type": "code",
        "colab": {
          "base_uri": "https://localhost:8080/",
          "height": 34
        },
        "outputId": "0c9a3921-1fb7-4dc0-a11d-3688f1186ce3"
      },
      "source": [
        "prime_numbers = [1,3,5,7,11]\n",
        "prime_numbers"
      ],
      "execution_count": null,
      "outputs": [
        {
          "output_type": "execute_result",
          "data": {
            "text/plain": [
              "[1, 3, 5, 7, 11]"
            ]
          },
          "metadata": {
            "tags": []
          },
          "execution_count": 2
        }
      ]
    },
    {
      "cell_type": "markdown",
      "metadata": {
        "id": "eBldMWPLqg5O",
        "colab_type": "text"
      },
      "source": [
        "* 리스트의 특정 값을 불러올 때는 변수명[1]과 같이 불러옵니다. \n",
        "* 주의할 점은 첫번째 값이 0부터 시작한다는 것입니다"
      ]
    },
    {
      "cell_type": "code",
      "metadata": {
        "trusted": true,
        "id": "o6fccZx9qg5O",
        "colab_type": "code",
        "colab": {
          "base_uri": "https://localhost:8080/",
          "height": 34
        },
        "outputId": "8e584d55-38e8-4b75-9ca5-4bca2e6cef7d"
      },
      "source": [
        "prime_numbers[1]"
      ],
      "execution_count": null,
      "outputs": [
        {
          "output_type": "execute_result",
          "data": {
            "text/plain": [
              "3"
            ]
          },
          "metadata": {
            "tags": []
          },
          "execution_count": 3
        }
      ]
    },
    {
      "cell_type": "code",
      "metadata": {
        "trusted": true,
        "id": "8ZBN3K4Lqg5R",
        "colab_type": "code",
        "colab": {
          "base_uri": "https://localhost:8080/",
          "height": 34
        },
        "outputId": "e547eae0-771e-4ff1-9dd7-4aec62731ee3"
      },
      "source": [
        "prime_numbers[0]"
      ],
      "execution_count": null,
      "outputs": [
        {
          "output_type": "execute_result",
          "data": {
            "text/plain": [
              "1"
            ]
          },
          "metadata": {
            "tags": []
          },
          "execution_count": 4
        }
      ]
    },
    {
      "cell_type": "markdown",
      "metadata": {
        "id": "dInvDhW2qg5U",
        "colab_type": "text"
      },
      "source": [
        "* 마지막 항목은 -1입니다. 뒤에서 두번째 항목은 -2입니다."
      ]
    },
    {
      "cell_type": "code",
      "metadata": {
        "trusted": true,
        "id": "2fKWbaSIqg5V",
        "colab_type": "code",
        "colab": {
          "base_uri": "https://localhost:8080/",
          "height": 34
        },
        "outputId": "db3e7901-7c1c-4a59-dc4b-a25b99b428d9"
      },
      "source": [
        "prime_numbers[-2]"
      ],
      "execution_count": null,
      "outputs": [
        {
          "output_type": "execute_result",
          "data": {
            "text/plain": [
              "7"
            ]
          },
          "metadata": {
            "tags": []
          },
          "execution_count": 6
        }
      ]
    },
    {
      "cell_type": "markdown",
      "metadata": {
        "id": "SLaBQKSWqg5Y",
        "colab_type": "text"
      },
      "source": [
        "* 항목추가하기: .append()"
      ]
    },
    {
      "cell_type": "code",
      "metadata": {
        "trusted": true,
        "id": "-ATjaAD2qg5Y",
        "colab_type": "code",
        "colab": {
          "base_uri": "https://localhost:8080/",
          "height": 34
        },
        "outputId": "737a4bcf-4bbc-40dd-8664-fc7d0a9da4bf"
      },
      "source": [
        "prime_numbers.append(13)\n",
        "prime_numbers"
      ],
      "execution_count": null,
      "outputs": [
        {
          "output_type": "execute_result",
          "data": {
            "text/plain": [
              "[1, 3, 5, 7, 11, 13]"
            ]
          },
          "metadata": {
            "tags": []
          },
          "execution_count": 7
        }
      ]
    },
    {
      "cell_type": "markdown",
      "metadata": {
        "id": "ZrdUmE8zqg5c",
        "colab_type": "text"
      },
      "source": [
        "* 항목 삭제하기: del을 사용하여 변수를 삭제하거나, 특정 값을 삭제할 수 있습니다. "
      ]
    },
    {
      "cell_type": "code",
      "metadata": {
        "trusted": true,
        "id": "hlY3GlN7qg5c",
        "colab_type": "code",
        "colab": {
          "base_uri": "https://localhost:8080/",
          "height": 34
        },
        "outputId": "46bc447c-157b-4015-cfca-522e3af273b6"
      },
      "source": [
        "del prime_numbers[0]\n",
        "prime_numbers"
      ],
      "execution_count": null,
      "outputs": [
        {
          "output_type": "execute_result",
          "data": {
            "text/plain": [
              "[3, 5, 7, 11, 13]"
            ]
          },
          "metadata": {
            "tags": []
          },
          "execution_count": 8
        }
      ]
    },
    {
      "cell_type": "code",
      "metadata": {
        "trusted": true,
        "id": "FVXUShNEqg5g",
        "colab_type": "code",
        "colab": {
          "base_uri": "https://localhost:8080/",
          "height": 186
        },
        "outputId": "d00cff29-a4a4-4117-d1c3-5fd48a17641d"
      },
      "source": [
        "del prime_numbers\n",
        "prime_numbers"
      ],
      "execution_count": null,
      "outputs": [
        {
          "output_type": "error",
          "ename": "NameError",
          "evalue": "ignored",
          "traceback": [
            "\u001b[0;31m---------------------------------------------------------------------------\u001b[0m",
            "\u001b[0;31mNameError\u001b[0m                                 Traceback (most recent call last)",
            "\u001b[0;32m<ipython-input-9-9ca6ac238f18>\u001b[0m in \u001b[0;36m<module>\u001b[0;34m()\u001b[0m\n\u001b[1;32m      1\u001b[0m \u001b[0;32mdel\u001b[0m \u001b[0mprime_numbers\u001b[0m\u001b[0;34m\u001b[0m\u001b[0;34m\u001b[0m\u001b[0m\n\u001b[0;32m----> 2\u001b[0;31m \u001b[0mprime_numbers\u001b[0m\u001b[0;34m\u001b[0m\u001b[0;34m\u001b[0m\u001b[0m\n\u001b[0m",
            "\u001b[0;31mNameError\u001b[0m: name 'prime_numbers' is not defined"
          ]
        }
      ]
    },
    {
      "cell_type": "markdown",
      "metadata": {
        "id": "9j3KoACiqg5i",
        "colab_type": "text"
      },
      "source": [
        "* 리스트에는 여러 데이터 타입을 저장할 수 있습니다. \n",
        "* 리스트 안에 리스트 저장도 됩니다."
      ]
    },
    {
      "cell_type": "code",
      "metadata": {
        "trusted": true,
        "id": "gdYTjlXBqg5j",
        "colab_type": "code",
        "colab": {}
      },
      "source": [
        "mixed_list=[1,2,'파이썬', True, [3,4,5]]"
      ],
      "execution_count": null,
      "outputs": []
    },
    {
      "cell_type": "code",
      "metadata": {
        "trusted": true,
        "id": "3pQoOJ51qg5q",
        "colab_type": "code",
        "colab": {},
        "outputId": "a88a2a41-8ea1-4e80-da56-a62f4513c1de"
      },
      "source": [
        "mixed_list"
      ],
      "execution_count": null,
      "outputs": [
        {
          "output_type": "execute_result",
          "data": {
            "text/plain": [
              "[1, 2, '파이썬', True, [3, 4, 5]]"
            ]
          },
          "metadata": {
            "tags": []
          },
          "execution_count": 46
        }
      ]
    },
    {
      "cell_type": "code",
      "metadata": {
        "trusted": true,
        "id": "PtVoDuT9qg5t",
        "colab_type": "code",
        "colab": {
          "base_uri": "https://localhost:8080/",
          "height": 34
        },
        "outputId": "2a9d5007-820e-4185-c42d-9e2bdf88e0ca"
      },
      "source": [
        "mixed_list[4]"
      ],
      "execution_count": null,
      "outputs": [
        {
          "output_type": "execute_result",
          "data": {
            "text/plain": [
              "[3, 4, 5]"
            ]
          },
          "metadata": {
            "tags": []
          },
          "execution_count": 11
        }
      ]
    },
    {
      "cell_type": "code",
      "metadata": {
        "trusted": true,
        "id": "ADNk6Joyqg5w",
        "colab_type": "code",
        "colab": {
          "base_uri": "https://localhost:8080/",
          "height": 34
        },
        "outputId": "b4b457fa-6d6d-4066-90ee-2f1f38cc8333"
      },
      "source": [
        "mixed_list[4][2]"
      ],
      "execution_count": null,
      "outputs": [
        {
          "output_type": "execute_result",
          "data": {
            "text/plain": [
              "5"
            ]
          },
          "metadata": {
            "tags": []
          },
          "execution_count": 12
        }
      ]
    },
    {
      "cell_type": "markdown",
      "metadata": {
        "trusted": true,
        "id": "fBHbrHUDqg5z",
        "colab_type": "text"
      },
      "source": [
        "* 항목의 개수 확인은 len()을 사용합니다. "
      ]
    },
    {
      "cell_type": "code",
      "metadata": {
        "trusted": true,
        "id": "2-AboCl7qg50",
        "colab_type": "code",
        "colab": {
          "base_uri": "https://localhost:8080/",
          "height": 34
        },
        "outputId": "0139f8e0-d503-4f62-ec29-c707cf130816"
      },
      "source": [
        "len(mixed_list)"
      ],
      "execution_count": null,
      "outputs": [
        {
          "output_type": "execute_result",
          "data": {
            "text/plain": [
              "5"
            ]
          },
          "metadata": {
            "tags": []
          },
          "execution_count": 13
        }
      ]
    },
    {
      "cell_type": "markdown",
      "metadata": {
        "id": "VntHZIdSqg52",
        "colab_type": "text"
      },
      "source": [
        "* 오름차순 정렬은 sort, 내림차순은 reverse를 사용합니다"
      ]
    },
    {
      "cell_type": "code",
      "metadata": {
        "trusted": true,
        "id": "AIErtbloqg52",
        "colab_type": "code",
        "colab": {}
      },
      "source": [
        "list1 = [3,5,10,-1]"
      ],
      "execution_count": null,
      "outputs": []
    },
    {
      "cell_type": "code",
      "metadata": {
        "trusted": true,
        "id": "cEjwUIXZqg55",
        "colab_type": "code",
        "colab": {
          "base_uri": "https://localhost:8080/",
          "height": 35
        },
        "outputId": "0982dc60-cf2c-4c31-fb8c-1bec186f75c2"
      },
      "source": [
        "list1.sort()\n",
        "list1"
      ],
      "execution_count": null,
      "outputs": [
        {
          "output_type": "execute_result",
          "data": {
            "text/plain": [
              "[-1, 3, 5, 10]"
            ]
          },
          "metadata": {
            "tags": []
          },
          "execution_count": 15
        }
      ]
    },
    {
      "cell_type": "code",
      "metadata": {
        "trusted": true,
        "id": "aCBSr7Eeqg58",
        "colab_type": "code",
        "colab": {
          "base_uri": "https://localhost:8080/",
          "height": 35
        },
        "outputId": "11f99302-7fa7-4bb5-a107-43452e4491d2"
      },
      "source": [
        "list1.reverse()\n",
        "list1"
      ],
      "execution_count": null,
      "outputs": [
        {
          "output_type": "execute_result",
          "data": {
            "text/plain": [
              "[10, 5, 3, -1]"
            ]
          },
          "metadata": {
            "tags": []
          },
          "execution_count": 16
        }
      ]
    },
    {
      "cell_type": "markdown",
      "metadata": {
        "id": "rn4qRyJlqg5_",
        "colab_type": "text"
      },
      "source": [
        "# 활용: 메모장 예제"
      ]
    },
    {
      "cell_type": "code",
      "metadata": {
        "trusted": true,
        "id": "FIqfBeX3qg6A",
        "colab_type": "code",
        "colab": {
          "base_uri": "https://localhost:8080/",
          "height": 143
        },
        "outputId": "1bb2db56-b372-4bc3-bdee-475bddb555f4"
      },
      "source": [
        "memo = [] #[] 안에 값이 없으면 빈 리스트가 생성됨\n",
        "\n",
        "while True: #무한 반복\n",
        "    menu = input('0:종료, 1: 메모추가, 2:메모보기 >> ')\n",
        "    if menu=='0': break\n",
        "    elif menu=='1': \n",
        "        new_memo = input('메모를 입력하세요 >> ')\n",
        "        memo.append(new_memo)\n",
        "    elif menu=='2':        \n",
        "        print(memo)\n",
        "    else:\n",
        "        print('메뉴 번호를 잘못입력하였습니다. ')            \n"
      ],
      "execution_count": null,
      "outputs": [
        {
          "output_type": "stream",
          "text": [
            "0:종료, 1: 메모추가, 2:메모보기 >> 1\n",
            "메모를 입력하세요 >> 오늘은 기분이 좋다\n",
            "0:종료, 1: 메모추가, 2:메모보기 >> 1\n",
            "메모를 입력하세요 >> 날씨가 좋아지고 있다\n",
            "0:종료, 1: 메모추가, 2:메모보기 >> 2\n",
            "['오늘은 기분이 좋다', '날씨가 좋아지고 있다']\n",
            "0:종료, 1: 메모추가, 2:메모보기 >> 0\n"
          ],
          "name": "stdout"
        }
      ]
    },
    {
      "cell_type": "code",
      "metadata": {
        "trusted": true,
        "id": "eNtSTFnFqg6D",
        "colab_type": "code",
        "colab": {}
      },
      "source": [
        ""
      ],
      "execution_count": null,
      "outputs": []
    }
  ]
}