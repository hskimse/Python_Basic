{
  "nbformat": 4,
  "nbformat_minor": 0,
  "metadata": {
    "colab": {
      "name": "6-2. 예제 곰과나무꾼.ipynb",
      "provenance": [],
      "authorship_tag": "ABX9TyMiXk7BCnZwNajDHdBNjki2",
      "include_colab_link": true
    },
    "kernelspec": {
      "name": "python3",
      "display_name": "Python 3"
    }
  },
  "cells": [
    {
      "cell_type": "markdown",
      "metadata": {
        "id": "view-in-github",
        "colab_type": "text"
      },
      "source": [
        "<a href=\"https://colab.research.google.com/github/joohoshin/Python_Basic/blob/master/6_2_%EC%98%88%EC%A0%9C_%EA%B3%B0%EA%B3%BC%EB%82%98%EB%AC%B4%EA%BE%BC.ipynb\" target=\"_parent\"><img src=\"https://colab.research.google.com/assets/colab-badge.svg\" alt=\"Open In Colab\"/></a>"
      ]
    },
    {
      "cell_type": "markdown",
      "metadata": {
        "id": "TFrBEEe-fxNT",
        "colab_type": "text"
      },
      "source": [
        "### 교재 p117 곰과 나무꾼 1단계\n",
        "* p118에 세부적인 요구사항을 참고하세요"
      ]
    },
    {
      "cell_type": "code",
      "metadata": {
        "id": "xa0BcMXEfrcE",
        "colab_type": "code",
        "colab": {}
      },
      "source": [
        "print('''\n",
        "당신은 나무꾼\n",
        "나무를 찍읍시다\n",
        "''')"
      ],
      "execution_count": null,
      "outputs": []
    },
    {
      "cell_type": "code",
      "metadata": {
        "id": "ctIpW4vog5Xi",
        "colab_type": "code",
        "colab": {}
      },
      "source": [
        "import random\n",
        "곰 = random. randint(1,10)"
      ],
      "execution_count": null,
      "outputs": []
    },
    {
      "cell_type": "code",
      "metadata": {
        "id": "oaBRnJ2Gg_iK",
        "colab_type": "code",
        "colab": {
          "base_uri": "https://localhost:8080/",
          "height": 34
        },
        "outputId": "4f613a25-8c86-444f-e184-92c5ef68e69a"
      },
      "source": [
        "곰"
      ],
      "execution_count": null,
      "outputs": [
        {
          "output_type": "execute_result",
          "data": {
            "text/plain": [
              "3"
            ]
          },
          "metadata": {
            "tags": []
          },
          "execution_count": 2
        }
      ]
    },
    {
      "cell_type": "code",
      "metadata": {
        "id": "ALg0_W0bhDss",
        "colab_type": "code",
        "colab": {
          "base_uri": "https://localhost:8080/",
          "height": 158
        },
        "outputId": "358a6297-d4e2-47f3-a6cc-fd55e94acef7"
      },
      "source": [
        "for i in range(1,11):\n",
        "  print('나무를 {}번 찍었습니다.'.format(i))\n",
        "  if i==곰:\n",
        "    선택 = input('1) 도망 2) 싸운다 >> ') #2번은 추후 구현\n",
        "    if 선택=='1':\n",
        "      cnt = 1\n",
        "      while cnt<=3:\n",
        "        print('더'* cnt, '빨리~')\n",
        "        cnt+=1\n",
        "      결과 = random.randint(0,1)\n",
        "      if 결과==0: print('곰에게 잡혔네요')\n",
        "      if 결과==1: print('휴~ 무사히 도망')\n",
        "      break\n"
      ],
      "execution_count": null,
      "outputs": [
        {
          "output_type": "stream",
          "text": [
            "나무를 1번 찍었습니다.\n",
            "나무를 2번 찍었습니다.\n",
            "나무를 3번 찍었습니다.\n",
            "1) 도망 2) 싸운다 >> 1\n",
            "더 빨리~\n",
            "더더 빨리~\n",
            "더더더 빨리~\n",
            "휴~ 무사히 도망\n"
          ],
          "name": "stdout"
        }
      ]
    },
    {
      "cell_type": "code",
      "metadata": {
        "id": "jA2Vbjs4iRnE",
        "colab_type": "code",
        "colab": {
          "base_uri": "https://localhost:8080/",
          "height": 210
        },
        "outputId": "b5a3751e-e353-4cf9-be70-89d8ccf7a9cd"
      },
      "source": [
        "import random\n",
        "\n",
        "print('''\n",
        "당신은 나무꾼\n",
        "나무를 찍읍시다\n",
        "''')\n",
        "\n",
        "곰 = random. randint(1,10)\n",
        "\n",
        "for i in range(1,11):\n",
        "  print('나무를 {}번 찍었습니다.'.format(i))\n",
        "  if i==곰:\n",
        "    선택 = input('1) 도망 2) 싸운다 >> ') #2번은 추후 구현\n",
        "    if 선택=='1':\n",
        "      cnt = 1\n",
        "      while cnt<=3:\n",
        "        print('더'* cnt, '빨리~')\n",
        "        cnt+=1\n",
        "      결과 = random.randint(0,1)\n",
        "      if 결과==0: print('곰에게 잡혔네요')\n",
        "      if 결과==1: print('휴~ 무사히 도망')\n",
        "      break\n"
      ],
      "execution_count": null,
      "outputs": [
        {
          "output_type": "stream",
          "text": [
            "\n",
            "당신은 나무꾼\n",
            "나무를 찍읍시다\n",
            "\n",
            "나무를 1번 찍었습니다.\n",
            "나무를 2번 찍었습니다.\n",
            "1) 도망 2) 싸운다 >> 1\n",
            "더 빨리~\n",
            "더더 빨리~\n",
            "더더더 빨리~\n",
            "곰에게 잡혔네요\n"
          ],
          "name": "stdout"
        }
      ]
    },
    {
      "cell_type": "code",
      "metadata": {
        "id": "wiwaiXD_jFrI",
        "colab_type": "code",
        "colab": {
          "base_uri": "https://localhost:8080/",
          "height": 316
        },
        "outputId": "71cd1912-f366-40a9-d74f-a0343dabfc1a"
      },
      "source": [
        "import random\n",
        "\n",
        "print('''\n",
        "당신은 나무꾼\n",
        "나무를 찍읍시다\n",
        "''')\n",
        "\n",
        "곰 = random. randint(1,10)\n",
        "\n",
        "def 도망():\n",
        "  cnt = 1\n",
        "  while cnt<=3:\n",
        "    print('더'* cnt, '빨리~')\n",
        "    cnt+=1\n",
        "  결과 = random.randint(0,1)\n",
        "  if 결과==0: print('곰에게 잡혔네요')\n",
        "  if 결과==1: print('휴~ 무사히 도망')\n",
        "\n",
        "for i in range(1,11):\n",
        "  print('나무를 {}번 찍었습니다.'.format(i))\n",
        "  if i==곰:\n",
        "    선택 = input('1) 도망 2) 싸운다 >> ') #2번은 추후 구현\n",
        "    if 선택=='1':\n",
        "      도망()\n",
        "      break\n"
      ],
      "execution_count": null,
      "outputs": [
        {
          "output_type": "stream",
          "text": [
            "\n",
            "당신은 나무꾼\n",
            "나무를 찍읍시다\n",
            "\n",
            "나무를 1번 찍었습니다.\n",
            "나무를 2번 찍었습니다.\n",
            "나무를 3번 찍었습니다.\n",
            "나무를 4번 찍었습니다.\n",
            "나무를 5번 찍었습니다.\n",
            "나무를 6번 찍었습니다.\n",
            "나무를 7번 찍었습니다.\n",
            "나무를 8번 찍었습니다.\n",
            "1) 도망 2) 싸운다 >> 1\n",
            "더 빨리~\n",
            "더더 빨리~\n",
            "더더더 빨리~\n",
            "휴~ 무사히 도망\n"
          ],
          "name": "stdout"
        }
      ]
    },
    {
      "cell_type": "code",
      "metadata": {
        "id": "nco_Xm-SjlOd",
        "colab_type": "code",
        "colab": {}
      },
      "source": [
        "\n",
        "def 도망():\n",
        "  cnt = 1\n",
        "  while cnt<=3:\n",
        "    print('더'* cnt, '빨리~'+'3')\n",
        "    cnt+=1\n",
        "  결과 = random.randint(0,1)\n",
        "  if 결과==0: print('곰에게 잡혔네요')\n",
        "  if 결과==1: print('휴~ 무사히 도망')"
      ],
      "execution_count": null,
      "outputs": []
    },
    {
      "cell_type": "code",
      "metadata": {
        "id": "uIYyNB6Vjwww",
        "colab_type": "code",
        "colab": {
          "base_uri": "https://localhost:8080/",
          "height": 87
        },
        "outputId": "f662425e-5e35-4108-d266-cdf206d88897"
      },
      "source": [
        "도망()"
      ],
      "execution_count": null,
      "outputs": [
        {
          "output_type": "stream",
          "text": [
            "더 빨리~3\n",
            "더더 빨리~3\n",
            "더더더 빨리~3\n",
            "곰에게 잡혔네요\n"
          ],
          "name": "stdout"
        }
      ]
    }
  ]
}