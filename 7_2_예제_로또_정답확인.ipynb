{
  "nbformat": 4,
  "nbformat_minor": 0,
  "metadata": {
    "kernelspec": {
      "name": "python36",
      "display_name": "Python 3.6",
      "language": "python"
    },
    "language_info": {
      "mimetype": "text/x-python",
      "nbconvert_exporter": "python",
      "name": "python",
      "pygments_lexer": "ipython3",
      "version": "3.6.6",
      "file_extension": ".py",
      "codemirror_mode": {
        "version": 3,
        "name": "ipython"
      }
    },
    "colab": {
      "name": "7-2. 예제 - 로또 정답확인.ipynb",
      "provenance": [],
      "include_colab_link": true
    }
  },
  "cells": [
    {
      "cell_type": "markdown",
      "metadata": {
        "id": "view-in-github",
        "colab_type": "text"
      },
      "source": [
        "<a href=\"https://colab.research.google.com/github/joohoshin/Python_Basic/blob/master/7_2_%EC%98%88%EC%A0%9C_%EB%A1%9C%EB%98%90_%EC%A0%95%EB%8B%B5%ED%99%95%EC%9D%B8.ipynb\" target=\"_parent\"><img src=\"https://colab.research.google.com/assets/colab-badge.svg\" alt=\"Open In Colab\"/></a>"
      ]
    },
    {
      "cell_type": "markdown",
      "metadata": {
        "collapsed": true,
        "id": "NFOz-mYtfJbu",
        "colab_type": "text"
      },
      "source": [
        "# 예제: 로또정답 확인"
      ]
    },
    {
      "cell_type": "code",
      "metadata": {
        "trusted": true,
        "id": "KvK6OiCOfJbw",
        "colab_type": "code",
        "colab": {
          "base_uri": "https://localhost:8080/",
          "height": 35
        },
        "outputId": "997648c3-c4c1-4421-9362-b00af5e212b9"
      },
      "source": [
        "import random\n",
        "pick = random.sample(range(1,46), 6)  # 정답 생성 및  출력\n",
        "print('이번주의 당첨번호는 {}입니다'.format(pick) )\n"
      ],
      "execution_count": null,
      "outputs": [
        {
          "output_type": "stream",
          "text": [
            "이번주의 당첨번호는 [26, 20, 37, 2, 19, 43]입니다\n"
          ],
          "name": "stdout"
        }
      ]
    },
    {
      "cell_type": "code",
      "metadata": {
        "trusted": true,
        "id": "MFYxN1CWfJb3",
        "colab_type": "code",
        "colab": {
          "base_uri": "https://localhost:8080/",
          "height": 144
        },
        "outputId": "5929d383-d83c-433c-af33-1bf32618131a"
      },
      "source": [
        "your_lot=[]\n",
        "for i in range(6):\n",
        "    lot = input('당신의 {}번째 로또 번호를 입력하세요 >> '.format(i+1))\n",
        "    your_lot.append(int(lot))\n",
        "print('당신이 입력한 번호는 {}입니다. '.format(your_lot))"
      ],
      "execution_count": null,
      "outputs": [
        {
          "output_type": "stream",
          "text": [
            "당신의 1번째 로또 번호를 입력하세요 >> 37\n",
            "당신의 2번째 로또 번호를 입력하세요 >> 19\n",
            "당신의 3번째 로또 번호를 입력하세요 >> 1\n",
            "당신의 4번째 로또 번호를 입력하세요 >> 3\n",
            "당신의 5번째 로또 번호를 입력하세요 >> 45\n",
            "당신의 6번째 로또 번호를 입력하세요 >> 11\n",
            "당신이 입력한 번호는 [37, 19, 1, 3, 45, 11]입니다. \n"
          ],
          "name": "stdout"
        }
      ]
    },
    {
      "cell_type": "code",
      "metadata": {
        "trusted": true,
        "id": "Aw4jvbSBfJb6",
        "colab_type": "code",
        "colab": {
          "base_uri": "https://localhost:8080/",
          "height": 35
        },
        "outputId": "c93969e1-f0e9-4de6-bdf1-7478312aca33"
      },
      "source": [
        "type(pick)"
      ],
      "execution_count": null,
      "outputs": [
        {
          "output_type": "execute_result",
          "data": {
            "text/plain": [
              "list"
            ]
          },
          "metadata": {
            "tags": []
          },
          "execution_count": 11
        }
      ]
    },
    {
      "cell_type": "markdown",
      "metadata": {
        "id": "x9Z0-B4cfJb9",
        "colab_type": "text"
      },
      "source": [
        "### * 정답확인은 set을 활용\n",
        "* list를 set으로 변경을 위해서는 set()을 사용합니다\n",
        "* set을 list로 변경은 list() 사용"
      ]
    },
    {
      "cell_type": "code",
      "metadata": {
        "trusted": true,
        "id": "cloQUa6lfJb-",
        "colab_type": "code",
        "colab": {}
      },
      "source": [
        "pick_set = set(pick)"
      ],
      "execution_count": null,
      "outputs": []
    },
    {
      "cell_type": "code",
      "metadata": {
        "trusted": true,
        "id": "bP8aEIW_fJcB",
        "colab_type": "code",
        "colab": {
          "base_uri": "https://localhost:8080/",
          "height": 35
        },
        "outputId": "15c35d21-f4e2-467f-de04-26a17de28323"
      },
      "source": [
        "pick_set"
      ],
      "execution_count": null,
      "outputs": [
        {
          "output_type": "execute_result",
          "data": {
            "text/plain": [
              "{2, 19, 20, 26, 37, 43}"
            ]
          },
          "metadata": {
            "tags": []
          },
          "execution_count": 13
        }
      ]
    },
    {
      "cell_type": "code",
      "metadata": {
        "trusted": true,
        "id": "vWzukM2MfJcE",
        "colab_type": "code",
        "colab": {
          "base_uri": "https://localhost:8080/",
          "height": 35
        },
        "outputId": "f837f933-f323-467e-fa05-d242884508f4"
      },
      "source": [
        "your_lot = set(your_lot)\n",
        "your_lot"
      ],
      "execution_count": null,
      "outputs": [
        {
          "output_type": "execute_result",
          "data": {
            "text/plain": [
              "{1, 3, 11, 19, 37, 45}"
            ]
          },
          "metadata": {
            "tags": []
          },
          "execution_count": 14
        }
      ]
    },
    {
      "cell_type": "code",
      "metadata": {
        "trusted": true,
        "id": "SR5A9daKfJcH",
        "colab_type": "code",
        "colab": {
          "base_uri": "https://localhost:8080/",
          "height": 35
        },
        "outputId": "67b36c96-1d59-46be-d29d-01563bc85e4b"
      },
      "source": [
        "same = pick_set & your_lot\n",
        "print(same)"
      ],
      "execution_count": null,
      "outputs": [
        {
          "output_type": "stream",
          "text": [
            "{19, 37}\n"
          ],
          "name": "stdout"
        }
      ]
    },
    {
      "cell_type": "code",
      "metadata": {
        "trusted": true,
        "id": "JsXQdEF4fJcK",
        "colab_type": "code",
        "colab": {
          "base_uri": "https://localhost:8080/",
          "height": 35
        },
        "outputId": "91737655-5068-4e42-d20e-de3e11860fba"
      },
      "source": [
        "len(same)"
      ],
      "execution_count": null,
      "outputs": [
        {
          "output_type": "execute_result",
          "data": {
            "text/plain": [
              "2"
            ]
          },
          "metadata": {
            "tags": []
          },
          "execution_count": 16
        }
      ]
    },
    {
      "cell_type": "code",
      "metadata": {
        "trusted": true,
        "id": "XTUCg6ehfJcN",
        "colab_type": "code",
        "colab": {
          "base_uri": "https://localhost:8080/",
          "height": 35
        },
        "outputId": "715b9318-2391-48eb-efc0-cb947a86c408"
      },
      "source": [
        "print('당신이 맞춘 개수는 {}입니다'.format(len(same)))"
      ],
      "execution_count": null,
      "outputs": [
        {
          "output_type": "stream",
          "text": [
            "당신이 맞춘 개수는 2입니다\n"
          ],
          "name": "stdout"
        }
      ]
    },
    {
      "cell_type": "code",
      "metadata": {
        "trusted": true,
        "id": "HrFTWYFefJcQ",
        "colab_type": "code",
        "colab": {}
      },
      "source": [
        ""
      ],
      "execution_count": null,
      "outputs": []
    }
  ]
}