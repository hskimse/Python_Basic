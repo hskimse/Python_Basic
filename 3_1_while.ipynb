{
  "nbformat": 4,
  "nbformat_minor": 0,
  "metadata": {
    "kernelspec": {
      "name": "python36",
      "display_name": "Python 3.6",
      "language": "python"
    },
    "language_info": {
      "mimetype": "text/x-python",
      "nbconvert_exporter": "python",
      "name": "python",
      "pygments_lexer": "ipython3",
      "version": "3.6.6",
      "file_extension": ".py",
      "codemirror_mode": {
        "version": 3,
        "name": "ipython"
      }
    },
    "colab": {
      "name": "3-1. while.ipynb",
      "provenance": [],
      "include_colab_link": true
    }
  },
  "cells": [
    {
      "cell_type": "markdown",
      "metadata": {
        "id": "view-in-github",
        "colab_type": "text"
      },
      "source": [
        "<a href=\"https://colab.research.google.com/github/joohoshin/Python_Basic/blob/master/3_1_while.ipynb\" target=\"_parent\"><img src=\"https://colab.research.google.com/assets/colab-badge.svg\" alt=\"Open In Colab\"/></a>"
      ]
    },
    {
      "cell_type": "markdown",
      "metadata": {
        "collapsed": true,
        "id": "wL3a1B-NlRaK",
        "colab_type": "text"
      },
      "source": [
        "# 반복문 (while)\n",
        "* while 조건: \n",
        "  조건을 만족하는 동안 반복된다. "
      ]
    },
    {
      "cell_type": "code",
      "metadata": {
        "trusted": true,
        "id": "MKR4WMlAlRaL",
        "colab_type": "code",
        "colab": {
          "base_uri": "https://localhost:8080/",
          "height": 193
        },
        "outputId": "27708b15-32f2-4a4c-ddcd-9fc3d963fa47"
      },
      "source": [
        "# 1~10까지 출력\n",
        "number = 1\n",
        "while number <=10: # 10보다 작거나 같은 동안 실행\n",
        "    print(number)\n",
        "    number = number + 1 #숫자를 1씩 증가 시킴"
      ],
      "execution_count": null,
      "outputs": [
        {
          "output_type": "stream",
          "text": [
            "1\n",
            "2\n",
            "3\n",
            "4\n",
            "5\n",
            "6\n",
            "7\n",
            "8\n",
            "9\n",
            "10\n"
          ],
          "name": "stdout"
        }
      ]
    },
    {
      "cell_type": "code",
      "metadata": {
        "trusted": true,
        "id": "0v0T1jRslRaS",
        "colab_type": "code",
        "colab": {
          "base_uri": "https://localhost:8080/",
          "height": 175
        },
        "outputId": "a7c37ed7-6a69-45c3-cd60-3fb6d9a4faca"
      },
      "source": [
        "# 구구단의 2단을 출력해보자\n",
        "number1 = 2\n",
        "number2 = 2\n",
        "print(number1, '단')\n",
        "while number2<=9:\n",
        "    print('{} * {} = '.format(number1, number2), number1*number2)\n",
        "    number2 = number2 + 1"
      ],
      "execution_count": null,
      "outputs": [
        {
          "output_type": "stream",
          "text": [
            "2 단\n",
            "2 * 2 =  4\n",
            "2 * 3 =  6\n",
            "2 * 4 =  8\n",
            "2 * 5 =  10\n",
            "2 * 6 =  12\n",
            "2 * 7 =  14\n",
            "2 * 8 =  16\n",
            "2 * 9 =  18\n"
          ],
          "name": "stdout"
        }
      ]
    },
    {
      "cell_type": "markdown",
      "metadata": {
        "id": "Q5pmBaE0lRaW",
        "colab_type": "text"
      },
      "source": [
        "* break문을 통해 while문을 벗어날 수 있다. "
      ]
    },
    {
      "cell_type": "code",
      "metadata": {
        "trusted": true,
        "scrolled": true,
        "id": "y9tvsKCmlRaW",
        "colab_type": "code",
        "colab": {
          "base_uri": "https://localhost:8080/",
          "height": 52
        },
        "outputId": "3570aebf-e75c-4d05-de05-c60869fbb55a"
      },
      "source": [
        "# 비밀번호를 5번까지 다시 입력할 수 있는 프로그램을 만들어보자\n",
        "password = '123'\n",
        "count = 1\n",
        "while count<=5:\n",
        "    pw = input('패스워드를 입력하세요: ')\n",
        "    if pw==password:\n",
        "        print('로그인 성공')\n",
        "        break\n",
        "    else:\n",
        "        print('비번을 {}번 틀렸습니다. '.format(count))\n",
        "        if count ==5:\n",
        "            print('잠시 후에 다시 접속하세요')\n",
        "            break\n",
        "    count = count + 1"
      ],
      "execution_count": null,
      "outputs": [
        {
          "output_type": "stream",
          "text": [
            "패스워드를 입력하세요: 123\n",
            "로그인 성공\n"
          ],
          "name": "stdout"
        }
      ]
    },
    {
      "cell_type": "code",
      "metadata": {
        "id": "DN_7KezmjlsF",
        "colab_type": "code",
        "colab": {}
      },
      "source": [
        ""
      ],
      "execution_count": null,
      "outputs": []
    }
  ]
}