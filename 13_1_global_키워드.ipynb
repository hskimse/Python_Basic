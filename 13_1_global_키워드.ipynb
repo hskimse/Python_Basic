{
  "nbformat": 4,
  "nbformat_minor": 0,
  "metadata": {
    "colab": {
      "name": "13-1. global 키워드.ipynb",
      "provenance": [],
      "collapsed_sections": [],
      "authorship_tag": "ABX9TyMDreg5GhHMGGg1/HgzcgLj",
      "include_colab_link": true
    },
    "kernelspec": {
      "name": "python3",
      "display_name": "Python 3"
    }
  },
  "cells": [
    {
      "cell_type": "markdown",
      "metadata": {
        "id": "view-in-github",
        "colab_type": "text"
      },
      "source": [
        "<a href=\"https://colab.research.google.com/github/joohoshin/Python_Basic/blob/master/13_1_global_%ED%82%A4%EC%9B%8C%EB%93%9C.ipynb\" target=\"_parent\"><img src=\"https://colab.research.google.com/assets/colab-badge.svg\" alt=\"Open In Colab\"/></a>"
      ]
    },
    {
      "cell_type": "markdown",
      "metadata": {
        "id": "wDlpc3u17t8M"
      },
      "source": [
        "# 전역변수/ 지역변수\n",
        "\n",
        "함수 안에 선언된 변수는 함수 내에서만 유효합니다. \n",
        "함수 밖에 선언된 변수를 사용하려면 global 키워드를 사용합니다. "
      ]
    },
    {
      "cell_type": "code",
      "metadata": {
        "id": "yuIxhhHUZu8Y"
      },
      "source": [
        "# 포인트를 함수에서 증가시키고 감소시키는 코드를 짜봅시다. \n",
        "\n",
        "points = 0\n",
        "\n",
        "def point_up(point):\n",
        "  points += point\n",
        "\n",
        "def point_down(point):\n",
        "  points -=point"
      ],
      "execution_count": null,
      "outputs": []
    },
    {
      "cell_type": "code",
      "metadata": {
        "id": "wXSMmuYcZ0ri",
        "outputId": "53fa531b-5ceb-4485-eba1-9948cb9aab57",
        "colab": {
          "base_uri": "https://localhost:8080/",
          "height": 307
        }
      },
      "source": [
        "point_up(100)  # 아래처럼 오류가 발생합니다. "
      ],
      "execution_count": null,
      "outputs": [
        {
          "output_type": "error",
          "ename": "UnboundLocalError",
          "evalue": "ignored",
          "traceback": [
            "\u001b[0;31m---------------------------------------------------------------------------\u001b[0m",
            "\u001b[0;31mUnboundLocalError\u001b[0m                         Traceback (most recent call last)",
            "\u001b[0;32m<ipython-input-31-347ef8bbabf7>\u001b[0m in \u001b[0;36m<module>\u001b[0;34m()\u001b[0m\n\u001b[0;32m----> 1\u001b[0;31m \u001b[0mpoint_up\u001b[0m\u001b[0;34m(\u001b[0m\u001b[0;36m100\u001b[0m\u001b[0;34m)\u001b[0m  \u001b[0;31m# 아래처럼 오류가 발생합니다.\u001b[0m\u001b[0;34m\u001b[0m\u001b[0;34m\u001b[0m\u001b[0m\n\u001b[0m",
            "\u001b[0;32m<ipython-input-30-5579a5719df6>\u001b[0m in \u001b[0;36mpoint_up\u001b[0;34m(point)\u001b[0m\n\u001b[1;32m      4\u001b[0m \u001b[0;34m\u001b[0m\u001b[0m\n\u001b[1;32m      5\u001b[0m \u001b[0;32mdef\u001b[0m \u001b[0mpoint_up\u001b[0m\u001b[0;34m(\u001b[0m\u001b[0mpoint\u001b[0m\u001b[0;34m)\u001b[0m\u001b[0;34m:\u001b[0m\u001b[0;34m\u001b[0m\u001b[0;34m\u001b[0m\u001b[0m\n\u001b[0;32m----> 6\u001b[0;31m   \u001b[0mpoints\u001b[0m \u001b[0;34m+=\u001b[0m \u001b[0mpoint\u001b[0m\u001b[0;34m\u001b[0m\u001b[0;34m\u001b[0m\u001b[0m\n\u001b[0m\u001b[1;32m      7\u001b[0m \u001b[0;34m\u001b[0m\u001b[0m\n\u001b[1;32m      8\u001b[0m \u001b[0;32mdef\u001b[0m \u001b[0mpoint_down\u001b[0m\u001b[0;34m(\u001b[0m\u001b[0mpoint\u001b[0m\u001b[0;34m)\u001b[0m\u001b[0;34m:\u001b[0m\u001b[0;34m\u001b[0m\u001b[0;34m\u001b[0m\u001b[0m\n",
            "\u001b[0;31mUnboundLocalError\u001b[0m: local variable 'points' referenced before assignment"
          ]
        }
      ]
    },
    {
      "cell_type": "markdown",
      "metadata": {
        "id": "XAUP1m9m8bC4"
      },
      "source": [
        "위의 오류는 함수내에서 증가시키는 points 변수가 함수 내에서 선언된 적이 없어서 입니다. \n",
        "\n",
        "함수 밖의 변수라는 것을 알려주기 위해서는 global 키워드를 사용합니다."
      ]
    },
    {
      "cell_type": "code",
      "metadata": {
        "id": "IuXGoOKZ8PXl"
      },
      "source": [
        "# 포인트를 함수에서 증가시키고 감소시키는 코드를 짜봅시다. \n",
        "\n",
        "points = 0\n",
        "\n",
        "def point_up(point):\n",
        "  global points\n",
        "  points += point\n",
        "\n",
        "def point_down(point):\n",
        "  global points\n",
        "  points -=point"
      ],
      "execution_count": null,
      "outputs": []
    },
    {
      "cell_type": "code",
      "metadata": {
        "id": "ZJXj0an-8scF"
      },
      "source": [
        "point_up(100)"
      ],
      "execution_count": null,
      "outputs": []
    },
    {
      "cell_type": "code",
      "metadata": {
        "id": "635ns0Mg8t8s",
        "outputId": "252f1f7e-a8be-4f21-a044-62fddb241e5b",
        "colab": {
          "base_uri": "https://localhost:8080/",
          "height": 36
        }
      },
      "source": [
        "points"
      ],
      "execution_count": null,
      "outputs": [
        {
          "output_type": "execute_result",
          "data": {
            "text/plain": [
              "100"
            ]
          },
          "metadata": {
            "tags": []
          },
          "execution_count": 34
        }
      ]
    },
    {
      "cell_type": "code",
      "metadata": {
        "id": "SLZHwGx08ver"
      },
      "source": [
        "point_down(50)"
      ],
      "execution_count": null,
      "outputs": []
    },
    {
      "cell_type": "code",
      "metadata": {
        "id": "j9oWpMQi8xfj",
        "outputId": "c131acd9-f005-4c6e-e92f-9bb2e93106b0",
        "colab": {
          "base_uri": "https://localhost:8080/",
          "height": 36
        }
      },
      "source": [
        "points"
      ],
      "execution_count": null,
      "outputs": [
        {
          "output_type": "execute_result",
          "data": {
            "text/plain": [
              "50"
            ]
          },
          "metadata": {
            "tags": []
          },
          "execution_count": 36
        }
      ]
    },
    {
      "cell_type": "markdown",
      "metadata": {
        "id": "XTbE_yVI9IQF"
      },
      "source": [
        "list, dictionary 의 경우에는 global 키워드를 사용하지 않아도 함수 내에 선언된게 없으면, 함수 밖의 전역변수를 인식합니다"
      ]
    },
    {
      "cell_type": "code",
      "metadata": {
        "id": "Xz1swXQ78yyD"
      },
      "source": [
        "# 변수가 dictionary인 경우\n",
        "\n",
        "points = {'user1':0}\n",
        "\n",
        "def point_up(point):  \n",
        "  points['user1'] += point\n",
        "\n",
        "def point_down(point):  \n",
        "  points['user1'] -=point"
      ],
      "execution_count": null,
      "outputs": []
    },
    {
      "cell_type": "code",
      "metadata": {
        "id": "q2haIk2w8_WD"
      },
      "source": [
        "point_up(100)"
      ],
      "execution_count": null,
      "outputs": []
    },
    {
      "cell_type": "code",
      "metadata": {
        "id": "kQgcqDts9EX7",
        "outputId": "655480cb-2405-4174-99c5-825e7103f489",
        "colab": {
          "base_uri": "https://localhost:8080/",
          "height": 36
        }
      },
      "source": [
        "points['user1']"
      ],
      "execution_count": null,
      "outputs": [
        {
          "output_type": "execute_result",
          "data": {
            "text/plain": [
              "100"
            ]
          },
          "metadata": {
            "tags": []
          },
          "execution_count": 39
        }
      ]
    },
    {
      "cell_type": "code",
      "metadata": {
        "id": "9AEM-cgx9FwK"
      },
      "source": [
        "# 변수가 list인 경우\n",
        "points = [0]\n",
        "\n",
        "def point_up(point):  \n",
        "  points[0] += point\n",
        "\n",
        "def point_down(point):  \n",
        "  points[0] -=point"
      ],
      "execution_count": null,
      "outputs": []
    },
    {
      "cell_type": "code",
      "metadata": {
        "id": "0FT4KFWg9clg"
      },
      "source": [
        "point_up(100)"
      ],
      "execution_count": null,
      "outputs": []
    },
    {
      "cell_type": "code",
      "metadata": {
        "id": "x6EnmLgr9_Ve",
        "outputId": "63505da4-84d8-4871-8fd4-5d49927fd12b",
        "colab": {
          "base_uri": "https://localhost:8080/",
          "height": 36
        }
      },
      "source": [
        "points"
      ],
      "execution_count": null,
      "outputs": [
        {
          "output_type": "execute_result",
          "data": {
            "text/plain": [
              "[100]"
            ]
          },
          "metadata": {
            "tags": []
          },
          "execution_count": 42
        }
      ]
    },
    {
      "cell_type": "code",
      "metadata": {
        "id": "CNBpME6J-Ae0",
        "outputId": "9664c514-cb3c-465d-c035-4608319e89aa",
        "colab": {
          "base_uri": "https://localhost:8080/",
          "height": 36
        }
      },
      "source": [
        "points[0]"
      ],
      "execution_count": null,
      "outputs": [
        {
          "output_type": "execute_result",
          "data": {
            "text/plain": [
              "100"
            ]
          },
          "metadata": {
            "tags": []
          },
          "execution_count": 43
        }
      ]
    },
    {
      "cell_type": "code",
      "metadata": {
        "id": "sbgt_WPI-JB-"
      },
      "source": [
        ""
      ],
      "execution_count": null,
      "outputs": []
    }
  ]
}