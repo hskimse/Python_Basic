{
  "nbformat": 4,
  "nbformat_minor": 0,
  "metadata": {
    "kernelspec": {
      "display_name": "Python 3",
      "language": "python",
      "name": "python3"
    },
    "language_info": {
      "codemirror_mode": {
        "name": "ipython",
        "version": 3
      },
      "file_extension": ".py",
      "mimetype": "text/x-python",
      "name": "python",
      "nbconvert_exporter": "python",
      "pygments_lexer": "ipython3",
      "version": "3.7.6"
    },
    "colab": {
      "name": "11-1. 퀴즈 리뷰.ipynb",
      "provenance": [],
      "include_colab_link": true
    }
  },
  "cells": [
    {
      "cell_type": "markdown",
      "metadata": {
        "id": "view-in-github",
        "colab_type": "text"
      },
      "source": [
        "<a href=\"https://colab.research.google.com/github/joohoshin/Python_Basic/blob/master/11_1_%ED%80%B4%EC%A6%88_%EB%A6%AC%EB%B7%B0.ipynb\" target=\"_parent\"><img src=\"https://colab.research.google.com/assets/colab-badge.svg\" alt=\"Open In Colab\"/></a>"
      ]
    },
    {
      "cell_type": "markdown",
      "metadata": {
        "id": "o2rmYt33iMTc"
      },
      "source": [
        "### 1. 숫자를 출력하다가 3의 배수가 나오면 '짝'을 출력하는 코드를 작성하세요.  (5점)"
      ]
    },
    {
      "cell_type": "code",
      "metadata": {
        "id": "q5g3dacTiMTf",
        "outputId": "5e59fa31-4bfa-4ae5-ddf5-9d501ce0d36a",
        "colab": {
          "base_uri": "https://localhost:8080/",
          "height": 263
        }
      },
      "source": [
        "start = int(input('시작 숫자를 입력하세요>> '))\n",
        "end = int(input('끝 숫자를 입력하세요>> '))\n",
        "\n",
        "print()\n",
        "for i in range(start, end+1):\n",
        "    if i % 3==0:\n",
        "        print('짝')\n",
        "    else:\n",
        "        print(i)   \n"
      ],
      "execution_count": null,
      "outputs": [
        {
          "output_type": "stream",
          "text": [
            "시작 숫자를 입력하세요>> 10\n",
            "끝 숫자를 입력하세요>> 20\n",
            "\n",
            "10\n",
            "11\n",
            "짝\n",
            "13\n",
            "14\n",
            "짝\n",
            "16\n",
            "17\n",
            "짝\n",
            "19\n",
            "20\n"
          ],
          "name": "stdout"
        }
      ]
    },
    {
      "cell_type": "markdown",
      "metadata": {
        "id": "KwN-sywfiMTq"
      },
      "source": [
        "### 2. 환율 계산기를 만들어봅시다. 아래 환율을 참고하여 계산기를 만들어 보세요. (8점)\n",
        "\n",
        "* 1 달러 = 1,175 원\t(1 달러 기준)\n",
        "* 100 엔 = 1,114 원 (100엔 기준)\n",
        "* 1 유로 = 1,367 원 (1 유로 기준)"
      ]
    },
    {
      "cell_type": "code",
      "metadata": {
        "id": "TBE72_GTiMTs",
        "outputId": "c4d36eb6-7a63-4d27-8ae3-37067a386b5b"
      },
      "source": [
        "달러환율 = 1175\n",
        "엔환율 = 11.14\n",
        "유로환율 = 1367\n",
        "\n",
        "while True:    \n",
        "    print()\n",
        "    print('원하는 메뉴를 선택하세요')\n",
        "    menu1 = input('0.종료, 1.외화 --> 원화, 2. 원화 --> 외화 >> ')\n",
        "    if menu1=='0': \n",
        "        print('종료합니다 ')\n",
        "        break\n",
        "    elif menu1=='1':\n",
        "        menu2 = input('1. 달러 --> 원화 2. 엔 --> 원화, 3. 유로 --> 원화 >> ')\n",
        "        if menu2=='1':\n",
        "            달러 = input('몇 달러인가요? ')            \n",
        "            print('{}달러는 {}원입니다. '.format(달러, 달러환율*int(달러) ))\n",
        "        elif menu2=='2':\n",
        "            엔 = input('몇 엔인가요? ')            \n",
        "            print('{}엔은 {}원입니다. '.format(엔, 엔환율*int(엔) ))\n",
        "        elif menu2 =='3':\n",
        "            유로 = input('몇 유로인가요? ')            \n",
        "            print('{}유로는 {}원입니다. '.format(유로, 유로환율*int(유로) ))\n",
        "    elif menu1=='2':\n",
        "        원화 = int(input('몇 원인가요? ' ))        \n",
        "        print('{}원은 {}달러입니다.'.format(원화, 원화/달러환율))\n",
        "        print('{}원은 {}엔입니다.'.format(원화, 원화/엔환율))\n",
        "        print('{}원은 {}유로입니다.'.format(원화, 원화/유로환율))\n",
        "        \n",
        "    else: print('입력이 잘못되었습니다 ')\n",
        "        "
      ],
      "execution_count": null,
      "outputs": [
        {
          "output_type": "stream",
          "text": [
            "\n",
            "원하는 메뉴를 선택하세요\n",
            "0.종료, 1.외화 --> 원화, 2. 원화 --> 외화 >> 1\n",
            "1. 달러 --> 원화 2. 엔 --> 원화, 3. 유로 --> 원화 >> 1\n",
            "몇 달러인가요? 10\n",
            "10달러는 11750원입니다. \n",
            "\n",
            "원하는 메뉴를 선택하세요\n",
            "0.종료, 1.외화 --> 원화, 2. 원화 --> 외화 >> 1\n",
            "1. 달러 --> 원화 2. 엔 --> 원화, 3. 유로 --> 원화 >> 2\n",
            "몇 엔인가요? 30\n",
            "30엔은 334.20000000000005원입니다. \n",
            "\n",
            "원하는 메뉴를 선택하세요\n",
            "0.종료, 1.외화 --> 원화, 2. 원화 --> 외화 >> 1\n",
            "1. 달러 --> 원화 2. 엔 --> 원화, 3. 유로 --> 원화 >> 3\n",
            "몇 유로인가요? 40\n",
            "40유로는 54680원입니다. \n",
            "\n",
            "원하는 메뉴를 선택하세요\n",
            "0.종료, 1.외화 --> 원화, 2. 원화 --> 외화 >> 2\n",
            "몇 원인가요? 30000\n",
            "30000원은 25.53191489361702달러입니다.\n",
            "30000원은 2692.9982046678633엔입니다.\n",
            "30000원은 21.945866861741038유로입니다.\n",
            "\n",
            "원하는 메뉴를 선택하세요\n",
            "0.종료, 1.외화 --> 원화, 2. 원화 --> 외화 >> 0\n",
            "종료합니다 \n"
          ],
          "name": "stdout"
        }
      ]
    },
    {
      "cell_type": "markdown",
      "metadata": {
        "id": "CX3Q5BHxiMTz"
      },
      "source": [
        "### 3. 이벤트 상품을 추첨하는 코드를 만들어 보세요. (8점)\n",
        "* 상품은 아래와 같으며, **랜덤으로 중복없이 선정됩니다.**\n",
        "    * 에어팟, 태블릿, 상품권, 사탕, 과자\n",
        "* 이벤트는 5명이 참가하며, 5명의 이름을 입력받습니다. "
      ]
    },
    {
      "cell_type": "code",
      "metadata": {
        "id": "wgODFleJiMT0",
        "outputId": "1ac6adef-e6a7-4cec-c8f9-f5a33bde74c6"
      },
      "source": [
        "import random\n",
        "\n",
        "상품 = random.sample(['에어팟', '태블릿', '상품권', '사탕','과자'], 5)\n",
        "\n",
        "for i in range(5):\n",
        "    이름 = input('참가하는 사람의 이름을 입력하세요 >> ')    \n",
        "    print('{}: {} 당첨. '.format(이름, 상품[i]))\n",
        "    print()"
      ],
      "execution_count": null,
      "outputs": [
        {
          "output_type": "stream",
          "text": [
            "참가하는 사람의 이름을 입력하세요 >> 신\n",
            "신: 태블릿 당첨. \n",
            "\n",
            "참가하는 사람의 이름을 입력하세요 >> 김\n",
            "김: 과자 당첨. \n",
            "\n",
            "참가하는 사람의 이름을 입력하세요 >> 이\n",
            "이: 상품권 당첨. \n",
            "\n",
            "참가하는 사람의 이름을 입력하세요 >> 박\n",
            "박: 사탕 당첨. \n",
            "\n",
            "참가하는 사람의 이름을 입력하세요 >> 최\n",
            "최: 에어팟 당첨. \n",
            "\n"
          ],
          "name": "stdout"
        }
      ]
    },
    {
      "cell_type": "markdown",
      "metadata": {
        "id": "yMnp9IBtiMT3"
      },
      "source": [
        "### 4. 식사 메뉴 추천 프로그램입니다. 아래의 메뉴를 참고하여 랜덤으로 추천하는 코드를 작성하세요 (5점)\n",
        "* 메인메뉴 = ['토스트', '스테이크', '비빔밥']\n",
        "* 디저트 = ['케이크', '아이스크림', '과일']\n",
        "* 음료 = ['콜라', '커피', '맥주']\n"
      ]
    },
    {
      "cell_type": "code",
      "metadata": {
        "id": "c4qJWvEtiMT4",
        "outputId": "f8f4db1c-74e2-4c72-e413-2c57c4bbeff3"
      },
      "source": [
        "메인메뉴 = ['토스트', '스테이크', '비빔밥']\n",
        "디저트 = ['케이크', '아이스크림', '과일']\n",
        "음료 = ['콜라', '커피', '맥주']\n",
        "\n",
        "import random\n",
        "\n",
        "메인메뉴_ = random.sample(메인메뉴, 1)[0]\n",
        "디저트_ = random.sample(디저트, 1)[0]\n",
        "음료_ = random.sample(음료, 1)[0]\n",
        "\n",
        "print('오늘의 메인메뉴는 {}, 디저트는 {}, 음료는 {} 입니다. '.format(메인메뉴_, 디저트_, 음료_))"
      ],
      "execution_count": null,
      "outputs": [
        {
          "output_type": "stream",
          "text": [
            "오늘의 메인메뉴는 스테이크, 디저트는 케이크, 음료는 콜라 입니다. \n"
          ],
          "name": "stdout"
        }
      ]
    },
    {
      "cell_type": "code",
      "metadata": {
        "id": "JqYJIRgtj62k",
        "outputId": "062423b5-fd97-4958-8612-b73f9a26cf71",
        "colab": {
          "base_uri": "https://localhost:8080/",
          "height": 34
        }
      },
      "source": [
        "import random\n",
        "random.sample(range(10),1)[0]"
      ],
      "execution_count": null,
      "outputs": [
        {
          "output_type": "execute_result",
          "data": {
            "text/plain": [
              "6"
            ]
          },
          "metadata": {
            "tags": []
          },
          "execution_count": 5
        }
      ]
    },
    {
      "cell_type": "markdown",
      "metadata": {
        "id": "midaxRryiMT8"
      },
      "source": [
        "### 5. 동전 던지기 확률을 분석하는 코드입니다. 3개의 동전을 던질 때 합계를 확률로 계산합니다. (8점)\n",
        "1. 정상적인 동전: 앞뒤가 나올 확률이 동일\n",
        "2. 비정상적인 동전: 앞:뒤 = 1:2의 비율로 나오는 동전을 던질 때 (Random.choice 활용, 중복 존재)"
      ]
    },
    {
      "cell_type": "code",
      "metadata": {
        "id": "dv5M4vOhiMT9",
        "outputId": "75d8e591-e33a-4a44-eaf7-3f55fef86eed",
        "colab": {
          "base_uri": "https://localhost:8080/",
          "height": 210
        }
      },
      "source": [
        "import random\n",
        "\n",
        "# 정상적인 주사위\n",
        "iter = 1000\n",
        "result = []\n",
        "for i in range(iter):\n",
        "    choices = random.choices(range(2), k=3)    \n",
        "    result.append(sum(choices))\n",
        "\n",
        "print('정상적인 동전 3개의 합계입니다. 앞면은 1, 뒷면은 0입니다')\n",
        "max_ = max(result)\n",
        "for i in range(max_+1):\n",
        "    print('{}은 {}% 나왔습니다. '.format(i, result.count(i)/iter*100))\n",
        "    \n",
        "print()\n",
        "\n",
        "# 비정상 주사위\n",
        "result = []\n",
        "for i in range(iter):\n",
        "    choices = random.choices([0,0,1], k=3)    \n",
        "    result.append(sum(choices))\n",
        "\n",
        "print('앞면:뒷면 = 1:2인 동전의 3개의 합계입니다. 앞면은 1, 뒷면은 0입니다')\n",
        "max_ = max(result)\n",
        "for i in range(max_+1):\n",
        "    print('{}은 {}% 나왔습니다. '.format(i, result.count(i)/iter*100))\n",
        "\n",
        "    "
      ],
      "execution_count": null,
      "outputs": [
        {
          "output_type": "stream",
          "text": [
            "정상적인 동전 3개의 합계입니다. 앞면은 1, 뒷면은 0입니다\n",
            "0은 12.0% 나왔습니다. \n",
            "1은 37.5% 나왔습니다. \n",
            "2은 36.3% 나왔습니다. \n",
            "3은 14.2% 나왔습니다. \n",
            "\n",
            "앞면:뒷면 = 1:2인 동전의 3개의 합계입니다. 앞면은 1, 뒷면은 0입니다\n",
            "0은 30.5% 나왔습니다. \n",
            "1은 42.8% 나왔습니다. \n",
            "2은 23.200000000000003% 나왔습니다. \n",
            "3은 3.5000000000000004% 나왔습니다. \n"
          ],
          "name": "stdout"
        }
      ]
    },
    {
      "cell_type": "markdown",
      "metadata": {
        "id": "eC9WSuQViMUA"
      },
      "source": [
        "### 6. 아래와 같은 결과를 출력하는 로그인 코드를 작성하세요 (5점)\n",
        "* id: abc, 비밀번호는 bbb입니다. "
      ]
    },
    {
      "cell_type": "code",
      "metadata": {
        "id": "bxyT5tQ7iMUB",
        "outputId": "4d1057ed-c296-491c-b516-0c1958420299"
      },
      "source": [
        "id_ = 'abc'\n",
        "pw_ = 'bbb'\n",
        "\n",
        "input_id = input('id를 입력하세요 >> ')\n",
        "input_pw = input('비밀번호를 입력하세요 >> ')\n",
        "\n",
        "if input_id == id_ and input_pw == pw_:\n",
        "    print('로그인 성공!!')\n",
        "else:\n",
        "    print('id 또는 비밀번호가 일치하지 않습니다.')"
      ],
      "execution_count": null,
      "outputs": [
        {
          "output_type": "stream",
          "text": [
            "id를 입력하세요 >> aaa\n",
            "비밀번호를 입력하세요 >> bbb\n",
            "id 또는 비밀번호가 일치하지 않습니다.\n"
          ],
          "name": "stdout"
        }
      ]
    },
    {
      "cell_type": "code",
      "metadata": {
        "id": "2qKcl_kOiMUF",
        "outputId": "8b3edd62-f19b-4cb9-cf46-55614439b09e"
      },
      "source": [
        "id_ = 'abc'\n",
        "pw_ = 'bbb'\n",
        "\n",
        "input_id = input('id를 입력하세요 >> ')\n",
        "input_pw = input('비밀번호를 입력하세요 >> ')\n",
        "\n",
        "if input_id == id_ and input_pw == pw_:\n",
        "    print('로그인 성공!!')\n",
        "else:\n",
        "    print('id 또는 비밀번호가 일치하지 않습니다.')"
      ],
      "execution_count": null,
      "outputs": [
        {
          "output_type": "stream",
          "text": [
            "id를 입력하세요 >> abc\n",
            "비밀번호를 입력하세요 >> bbb\n",
            "로그인 성공!!\n"
          ],
          "name": "stdout"
        }
      ]
    },
    {
      "cell_type": "code",
      "metadata": {
        "id": "7HAAzuxHiMUL"
      },
      "source": [
        ""
      ],
      "execution_count": null,
      "outputs": []
    }
  ]
}