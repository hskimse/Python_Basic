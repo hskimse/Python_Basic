{
  "nbformat": 4,
  "nbformat_minor": 0,
  "metadata": {
    "kernelspec": {
      "name": "python3",
      "display_name": "Python 3",
      "language": "python"
    },
    "language_info": {
      "mimetype": "text/x-python",
      "nbconvert_exporter": "python",
      "name": "python",
      "pygments_lexer": "ipython3",
      "version": "3.5.4",
      "file_extension": ".py",
      "codemirror_mode": {
        "version": 3,
        "name": "ipython"
      }
    },
    "colab": {
      "name": "12-2. 조건 검색.ipynb",
      "provenance": [],
      "include_colab_link": true
    }
  },
  "cells": [
    {
      "cell_type": "markdown",
      "metadata": {
        "id": "view-in-github",
        "colab_type": "text"
      },
      "source": [
        "<a href=\"https://colab.research.google.com/github/joohoshin/Python_Basic/blob/master/12_2_%EC%A1%B0%EA%B1%B4_%EA%B2%80%EC%83%89.ipynb\" target=\"_parent\"><img src=\"https://colab.research.google.com/assets/colab-badge.svg\" alt=\"Open In Colab\"/></a>"
      ]
    },
    {
      "cell_type": "markdown",
      "metadata": {
        "id": "5VP9b7lir_8d"
      },
      "source": [
        "# 조건 검색\n",
        "* pandas에서는 특정 조건을 만족하는 행만 쉽게 추출할 수 있습니다\n",
        "* 가상의 성적 데이터를 만들고 특정 조건만 가져와 봅시다"
      ]
    },
    {
      "cell_type": "code",
      "metadata": {
        "trusted": false,
        "id": "5xHVBdGzr_8f"
      },
      "source": [
        "import pandas as pd\n",
        "import numpy as np\n",
        "\n",
        "# numpy.random을 활용해서 가상의 성적을 만듭시다\n",
        "n_student = 100\n",
        "\n",
        "# random 라이브러리와 약간 다름\n",
        "# 학생 아이디는 중복이 있으면 안됨, numpy는 choice를 사용해서 샘플링 가능, \n",
        "# 중복 없이 선택시는 replace=False 옵션 활용\n",
        "student_id = np.random.choice(range(10000, 20000), n_student, replace = False) \n",
        "공창컴 = np.random.choice(range(70, 101), n_student)\n",
        "화학 = np.random.choice(range(50, 101), n_student)\n",
        "영어 = np.random.choice(range(40, 101), n_student)\n"
      ],
      "execution_count": null,
      "outputs": []
    },
    {
      "cell_type": "code",
      "metadata": {
        "id": "ARV-FwxbdxKZ",
        "outputId": "01a34a93-1f14-4076-f43b-5c3bfecdf8b8",
        "colab": {
          "base_uri": "https://localhost:8080/",
          "height": 34
        }
      },
      "source": [
        "type(student_id)"
      ],
      "execution_count": null,
      "outputs": [
        {
          "output_type": "execute_result",
          "data": {
            "text/plain": [
              "numpy.ndarray"
            ]
          },
          "metadata": {
            "tags": []
          },
          "execution_count": 3
        }
      ]
    },
    {
      "cell_type": "code",
      "metadata": {
        "id": "dnZXFlMmdJQL",
        "outputId": "4ac6feb4-3883-43e2-90f6-bb2291ed13c9",
        "colab": {
          "base_uri": "https://localhost:8080/",
          "height": 175
        }
      },
      "source": [
        "# pandas dataframe으로 만들어봅시다\n",
        "grade = pd.DataFrame({'id':student_id, '공창컴':공창컴, '화학':화학, '영어':영어})\n",
        "print(grade.describe())"
      ],
      "execution_count": null,
      "outputs": [
        {
          "output_type": "stream",
          "text": [
            "                 id         공창컴          화학          영어\n",
            "count    100.000000  100.000000  100.000000  100.000000\n",
            "mean   14470.760000   84.900000   76.100000   69.030000\n",
            "std     2776.405223    8.520326   14.918973   18.073618\n",
            "min    10056.000000   70.000000   50.000000   40.000000\n",
            "25%    12131.500000   77.750000   63.000000   52.750000\n",
            "50%    14264.000000   85.000000   75.000000   70.000000\n",
            "75%    16726.500000   92.000000   87.500000   82.250000\n",
            "max    19747.000000  100.000000  100.000000  100.000000\n"
          ],
          "name": "stdout"
        }
      ]
    },
    {
      "cell_type": "code",
      "metadata": {
        "trusted": false,
        "id": "B6u2gqhRr_8k",
        "outputId": "2e82eaf6-67fe-46fa-a8bd-2f69144ec521",
        "colab": {
          "base_uri": "https://localhost:8080/",
          "height": 402
        }
      },
      "source": [
        "grade"
      ],
      "execution_count": null,
      "outputs": [
        {
          "output_type": "execute_result",
          "data": {
            "text/html": [
              "<div>\n",
              "<style scoped>\n",
              "    .dataframe tbody tr th:only-of-type {\n",
              "        vertical-align: middle;\n",
              "    }\n",
              "\n",
              "    .dataframe tbody tr th {\n",
              "        vertical-align: top;\n",
              "    }\n",
              "\n",
              "    .dataframe thead th {\n",
              "        text-align: right;\n",
              "    }\n",
              "</style>\n",
              "<table border=\"1\" class=\"dataframe\">\n",
              "  <thead>\n",
              "    <tr style=\"text-align: right;\">\n",
              "      <th></th>\n",
              "      <th>id</th>\n",
              "      <th>공창컴</th>\n",
              "      <th>화학</th>\n",
              "      <th>영어</th>\n",
              "    </tr>\n",
              "  </thead>\n",
              "  <tbody>\n",
              "    <tr>\n",
              "      <th>0</th>\n",
              "      <td>13019</td>\n",
              "      <td>73</td>\n",
              "      <td>61</td>\n",
              "      <td>47</td>\n",
              "    </tr>\n",
              "    <tr>\n",
              "      <th>1</th>\n",
              "      <td>10241</td>\n",
              "      <td>92</td>\n",
              "      <td>61</td>\n",
              "      <td>97</td>\n",
              "    </tr>\n",
              "    <tr>\n",
              "      <th>2</th>\n",
              "      <td>13119</td>\n",
              "      <td>93</td>\n",
              "      <td>89</td>\n",
              "      <td>95</td>\n",
              "    </tr>\n",
              "    <tr>\n",
              "      <th>3</th>\n",
              "      <td>15565</td>\n",
              "      <td>90</td>\n",
              "      <td>56</td>\n",
              "      <td>51</td>\n",
              "    </tr>\n",
              "    <tr>\n",
              "      <th>4</th>\n",
              "      <td>11138</td>\n",
              "      <td>80</td>\n",
              "      <td>93</td>\n",
              "      <td>70</td>\n",
              "    </tr>\n",
              "    <tr>\n",
              "      <th>...</th>\n",
              "      <td>...</td>\n",
              "      <td>...</td>\n",
              "      <td>...</td>\n",
              "      <td>...</td>\n",
              "    </tr>\n",
              "    <tr>\n",
              "      <th>95</th>\n",
              "      <td>13988</td>\n",
              "      <td>99</td>\n",
              "      <td>63</td>\n",
              "      <td>89</td>\n",
              "    </tr>\n",
              "    <tr>\n",
              "      <th>96</th>\n",
              "      <td>10880</td>\n",
              "      <td>72</td>\n",
              "      <td>67</td>\n",
              "      <td>70</td>\n",
              "    </tr>\n",
              "    <tr>\n",
              "      <th>97</th>\n",
              "      <td>17470</td>\n",
              "      <td>70</td>\n",
              "      <td>79</td>\n",
              "      <td>40</td>\n",
              "    </tr>\n",
              "    <tr>\n",
              "      <th>98</th>\n",
              "      <td>15573</td>\n",
              "      <td>92</td>\n",
              "      <td>50</td>\n",
              "      <td>97</td>\n",
              "    </tr>\n",
              "    <tr>\n",
              "      <th>99</th>\n",
              "      <td>18138</td>\n",
              "      <td>84</td>\n",
              "      <td>77</td>\n",
              "      <td>75</td>\n",
              "    </tr>\n",
              "  </tbody>\n",
              "</table>\n",
              "<p>100 rows × 4 columns</p>\n",
              "</div>"
            ],
            "text/plain": [
              "       id  공창컴  화학  영어\n",
              "0   13019   73  61  47\n",
              "1   10241   92  61  97\n",
              "2   13119   93  89  95\n",
              "3   15565   90  56  51\n",
              "4   11138   80  93  70\n",
              "..    ...  ...  ..  ..\n",
              "95  13988   99  63  89\n",
              "96  10880   72  67  70\n",
              "97  17470   70  79  40\n",
              "98  15573   92  50  97\n",
              "99  18138   84  77  75\n",
              "\n",
              "[100 rows x 4 columns]"
            ]
          },
          "metadata": {
            "tags": []
          },
          "execution_count": 5
        }
      ]
    },
    {
      "cell_type": "markdown",
      "metadata": {
        "id": "Ix-U4KzJr_8p"
      },
      "source": [
        "* .query()를 사용해서 특정 조건만 추출할 수 있습니다"
      ]
    },
    {
      "cell_type": "code",
      "metadata": {
        "trusted": false,
        "id": "lh_aR10Lr_8q"
      },
      "source": [
        "공창컴A = grade.query('공창컴>=90')"
      ],
      "execution_count": null,
      "outputs": []
    },
    {
      "cell_type": "code",
      "metadata": {
        "trusted": false,
        "id": "e-xA_ktQr_8s",
        "outputId": "0fa69d3c-46b5-4e3d-f718-3acaa29baafc",
        "colab": {
          "base_uri": "https://localhost:8080/",
          "height": 1000
        }
      },
      "source": [
        "공창컴A"
      ],
      "execution_count": null,
      "outputs": [
        {
          "output_type": "execute_result",
          "data": {
            "text/html": [
              "<div>\n",
              "<style scoped>\n",
              "    .dataframe tbody tr th:only-of-type {\n",
              "        vertical-align: middle;\n",
              "    }\n",
              "\n",
              "    .dataframe tbody tr th {\n",
              "        vertical-align: top;\n",
              "    }\n",
              "\n",
              "    .dataframe thead th {\n",
              "        text-align: right;\n",
              "    }\n",
              "</style>\n",
              "<table border=\"1\" class=\"dataframe\">\n",
              "  <thead>\n",
              "    <tr style=\"text-align: right;\">\n",
              "      <th></th>\n",
              "      <th>id</th>\n",
              "      <th>공창컴</th>\n",
              "      <th>화학</th>\n",
              "      <th>영어</th>\n",
              "    </tr>\n",
              "  </thead>\n",
              "  <tbody>\n",
              "    <tr>\n",
              "      <th>1</th>\n",
              "      <td>10241</td>\n",
              "      <td>92</td>\n",
              "      <td>61</td>\n",
              "      <td>97</td>\n",
              "    </tr>\n",
              "    <tr>\n",
              "      <th>2</th>\n",
              "      <td>13119</td>\n",
              "      <td>93</td>\n",
              "      <td>89</td>\n",
              "      <td>95</td>\n",
              "    </tr>\n",
              "    <tr>\n",
              "      <th>3</th>\n",
              "      <td>15565</td>\n",
              "      <td>90</td>\n",
              "      <td>56</td>\n",
              "      <td>51</td>\n",
              "    </tr>\n",
              "    <tr>\n",
              "      <th>5</th>\n",
              "      <td>11013</td>\n",
              "      <td>99</td>\n",
              "      <td>96</td>\n",
              "      <td>44</td>\n",
              "    </tr>\n",
              "    <tr>\n",
              "      <th>6</th>\n",
              "      <td>13387</td>\n",
              "      <td>91</td>\n",
              "      <td>64</td>\n",
              "      <td>89</td>\n",
              "    </tr>\n",
              "    <tr>\n",
              "      <th>12</th>\n",
              "      <td>14146</td>\n",
              "      <td>97</td>\n",
              "      <td>56</td>\n",
              "      <td>44</td>\n",
              "    </tr>\n",
              "    <tr>\n",
              "      <th>16</th>\n",
              "      <td>10481</td>\n",
              "      <td>96</td>\n",
              "      <td>73</td>\n",
              "      <td>43</td>\n",
              "    </tr>\n",
              "    <tr>\n",
              "      <th>17</th>\n",
              "      <td>13915</td>\n",
              "      <td>93</td>\n",
              "      <td>50</td>\n",
              "      <td>40</td>\n",
              "    </tr>\n",
              "    <tr>\n",
              "      <th>22</th>\n",
              "      <td>10927</td>\n",
              "      <td>90</td>\n",
              "      <td>85</td>\n",
              "      <td>94</td>\n",
              "    </tr>\n",
              "    <tr>\n",
              "      <th>24</th>\n",
              "      <td>10125</td>\n",
              "      <td>97</td>\n",
              "      <td>90</td>\n",
              "      <td>75</td>\n",
              "    </tr>\n",
              "    <tr>\n",
              "      <th>28</th>\n",
              "      <td>15111</td>\n",
              "      <td>93</td>\n",
              "      <td>75</td>\n",
              "      <td>56</td>\n",
              "    </tr>\n",
              "    <tr>\n",
              "      <th>30</th>\n",
              "      <td>10768</td>\n",
              "      <td>95</td>\n",
              "      <td>67</td>\n",
              "      <td>53</td>\n",
              "    </tr>\n",
              "    <tr>\n",
              "      <th>32</th>\n",
              "      <td>11628</td>\n",
              "      <td>98</td>\n",
              "      <td>100</td>\n",
              "      <td>66</td>\n",
              "    </tr>\n",
              "    <tr>\n",
              "      <th>40</th>\n",
              "      <td>19370</td>\n",
              "      <td>92</td>\n",
              "      <td>73</td>\n",
              "      <td>70</td>\n",
              "    </tr>\n",
              "    <tr>\n",
              "      <th>41</th>\n",
              "      <td>14318</td>\n",
              "      <td>90</td>\n",
              "      <td>57</td>\n",
              "      <td>96</td>\n",
              "    </tr>\n",
              "    <tr>\n",
              "      <th>46</th>\n",
              "      <td>13155</td>\n",
              "      <td>95</td>\n",
              "      <td>85</td>\n",
              "      <td>99</td>\n",
              "    </tr>\n",
              "    <tr>\n",
              "      <th>50</th>\n",
              "      <td>15112</td>\n",
              "      <td>99</td>\n",
              "      <td>64</td>\n",
              "      <td>50</td>\n",
              "    </tr>\n",
              "    <tr>\n",
              "      <th>51</th>\n",
              "      <td>12162</td>\n",
              "      <td>100</td>\n",
              "      <td>59</td>\n",
              "      <td>47</td>\n",
              "    </tr>\n",
              "    <tr>\n",
              "      <th>52</th>\n",
              "      <td>12077</td>\n",
              "      <td>94</td>\n",
              "      <td>96</td>\n",
              "      <td>47</td>\n",
              "    </tr>\n",
              "    <tr>\n",
              "      <th>53</th>\n",
              "      <td>11347</td>\n",
              "      <td>95</td>\n",
              "      <td>69</td>\n",
              "      <td>53</td>\n",
              "    </tr>\n",
              "    <tr>\n",
              "      <th>54</th>\n",
              "      <td>13630</td>\n",
              "      <td>91</td>\n",
              "      <td>84</td>\n",
              "      <td>51</td>\n",
              "    </tr>\n",
              "    <tr>\n",
              "      <th>68</th>\n",
              "      <td>10715</td>\n",
              "      <td>95</td>\n",
              "      <td>67</td>\n",
              "      <td>100</td>\n",
              "    </tr>\n",
              "    <tr>\n",
              "      <th>69</th>\n",
              "      <td>15120</td>\n",
              "      <td>97</td>\n",
              "      <td>59</td>\n",
              "      <td>90</td>\n",
              "    </tr>\n",
              "    <tr>\n",
              "      <th>70</th>\n",
              "      <td>16095</td>\n",
              "      <td>96</td>\n",
              "      <td>51</td>\n",
              "      <td>68</td>\n",
              "    </tr>\n",
              "    <tr>\n",
              "      <th>74</th>\n",
              "      <td>12793</td>\n",
              "      <td>92</td>\n",
              "      <td>85</td>\n",
              "      <td>93</td>\n",
              "    </tr>\n",
              "    <tr>\n",
              "      <th>75</th>\n",
              "      <td>16794</td>\n",
              "      <td>90</td>\n",
              "      <td>100</td>\n",
              "      <td>61</td>\n",
              "    </tr>\n",
              "    <tr>\n",
              "      <th>76</th>\n",
              "      <td>12132</td>\n",
              "      <td>91</td>\n",
              "      <td>71</td>\n",
              "      <td>82</td>\n",
              "    </tr>\n",
              "    <tr>\n",
              "      <th>77</th>\n",
              "      <td>15527</td>\n",
              "      <td>97</td>\n",
              "      <td>61</td>\n",
              "      <td>63</td>\n",
              "    </tr>\n",
              "    <tr>\n",
              "      <th>79</th>\n",
              "      <td>12709</td>\n",
              "      <td>92</td>\n",
              "      <td>56</td>\n",
              "      <td>95</td>\n",
              "    </tr>\n",
              "    <tr>\n",
              "      <th>83</th>\n",
              "      <td>11795</td>\n",
              "      <td>94</td>\n",
              "      <td>96</td>\n",
              "      <td>44</td>\n",
              "    </tr>\n",
              "    <tr>\n",
              "      <th>86</th>\n",
              "      <td>18461</td>\n",
              "      <td>96</td>\n",
              "      <td>83</td>\n",
              "      <td>88</td>\n",
              "    </tr>\n",
              "    <tr>\n",
              "      <th>89</th>\n",
              "      <td>19497</td>\n",
              "      <td>91</td>\n",
              "      <td>73</td>\n",
              "      <td>77</td>\n",
              "    </tr>\n",
              "    <tr>\n",
              "      <th>91</th>\n",
              "      <td>17371</td>\n",
              "      <td>97</td>\n",
              "      <td>72</td>\n",
              "      <td>52</td>\n",
              "    </tr>\n",
              "    <tr>\n",
              "      <th>92</th>\n",
              "      <td>18107</td>\n",
              "      <td>96</td>\n",
              "      <td>63</td>\n",
              "      <td>95</td>\n",
              "    </tr>\n",
              "    <tr>\n",
              "      <th>94</th>\n",
              "      <td>15907</td>\n",
              "      <td>90</td>\n",
              "      <td>100</td>\n",
              "      <td>99</td>\n",
              "    </tr>\n",
              "    <tr>\n",
              "      <th>95</th>\n",
              "      <td>13988</td>\n",
              "      <td>99</td>\n",
              "      <td>63</td>\n",
              "      <td>89</td>\n",
              "    </tr>\n",
              "    <tr>\n",
              "      <th>98</th>\n",
              "      <td>15573</td>\n",
              "      <td>92</td>\n",
              "      <td>50</td>\n",
              "      <td>97</td>\n",
              "    </tr>\n",
              "  </tbody>\n",
              "</table>\n",
              "</div>"
            ],
            "text/plain": [
              "       id  공창컴   화학   영어\n",
              "1   10241   92   61   97\n",
              "2   13119   93   89   95\n",
              "3   15565   90   56   51\n",
              "5   11013   99   96   44\n",
              "6   13387   91   64   89\n",
              "12  14146   97   56   44\n",
              "16  10481   96   73   43\n",
              "17  13915   93   50   40\n",
              "22  10927   90   85   94\n",
              "24  10125   97   90   75\n",
              "28  15111   93   75   56\n",
              "30  10768   95   67   53\n",
              "32  11628   98  100   66\n",
              "40  19370   92   73   70\n",
              "41  14318   90   57   96\n",
              "46  13155   95   85   99\n",
              "50  15112   99   64   50\n",
              "51  12162  100   59   47\n",
              "52  12077   94   96   47\n",
              "53  11347   95   69   53\n",
              "54  13630   91   84   51\n",
              "68  10715   95   67  100\n",
              "69  15120   97   59   90\n",
              "70  16095   96   51   68\n",
              "74  12793   92   85   93\n",
              "75  16794   90  100   61\n",
              "76  12132   91   71   82\n",
              "77  15527   97   61   63\n",
              "79  12709   92   56   95\n",
              "83  11795   94   96   44\n",
              "86  18461   96   83   88\n",
              "89  19497   91   73   77\n",
              "91  17371   97   72   52\n",
              "92  18107   96   63   95\n",
              "94  15907   90  100   99\n",
              "95  13988   99   63   89\n",
              "98  15573   92   50   97"
            ]
          },
          "metadata": {
            "tags": []
          },
          "execution_count": 8
        }
      ]
    },
    {
      "cell_type": "code",
      "metadata": {
        "id": "URlFA8OZeajy",
        "outputId": "fe17939e-37ae-431d-f769-4e4a9e8344a7",
        "colab": {
          "base_uri": "https://localhost:8080/",
          "height": 34
        }
      },
      "source": [
        "len(공창컴A)"
      ],
      "execution_count": null,
      "outputs": [
        {
          "output_type": "execute_result",
          "data": {
            "text/plain": [
              "37"
            ]
          },
          "metadata": {
            "tags": []
          },
          "execution_count": 9
        }
      ]
    },
    {
      "cell_type": "code",
      "metadata": {
        "trusted": false,
        "id": "vTJNUkGRr_8v",
        "outputId": "dfc7c3be-ec7b-41de-96aa-a5273535b27b",
        "colab": {
          "base_uri": "https://localhost:8080/",
          "height": 34
        }
      },
      "source": [
        "print('공창컴 A 학점 학생수: ',len(공창컴A), '명')"
      ],
      "execution_count": null,
      "outputs": [
        {
          "output_type": "stream",
          "text": [
            "공창컴 A 학점 학생수:  37 명\n"
          ],
          "name": "stdout"
        }
      ]
    },
    {
      "cell_type": "markdown",
      "metadata": {
        "id": "YpKhXg-Cr_8x"
      },
      "source": [
        "* &, and 나 |, or를 사용해서 다양한 조건을 검색할 수 있습니다. "
      ]
    },
    {
      "cell_type": "code",
      "metadata": {
        "trusted": false,
        "id": "pLuk2dIlr_8y",
        "outputId": "f038fae0-ab1e-4f49-db79-1565af7593a8",
        "colab": {
          "base_uri": "https://localhost:8080/",
          "height": 314
        }
      },
      "source": [
        "# 3과목 모두 80점 이상인 학생 추출\n",
        "all_A = grade.query('공창컴>=80 and 화학 >=80 and 영어 >=80')\n",
        "all_A"
      ],
      "execution_count": null,
      "outputs": [
        {
          "output_type": "execute_result",
          "data": {
            "text/html": [
              "<div>\n",
              "<style scoped>\n",
              "    .dataframe tbody tr th:only-of-type {\n",
              "        vertical-align: middle;\n",
              "    }\n",
              "\n",
              "    .dataframe tbody tr th {\n",
              "        vertical-align: top;\n",
              "    }\n",
              "\n",
              "    .dataframe thead th {\n",
              "        text-align: right;\n",
              "    }\n",
              "</style>\n",
              "<table border=\"1\" class=\"dataframe\">\n",
              "  <thead>\n",
              "    <tr style=\"text-align: right;\">\n",
              "      <th></th>\n",
              "      <th>id</th>\n",
              "      <th>공창컴</th>\n",
              "      <th>화학</th>\n",
              "      <th>영어</th>\n",
              "    </tr>\n",
              "  </thead>\n",
              "  <tbody>\n",
              "    <tr>\n",
              "      <th>2</th>\n",
              "      <td>13119</td>\n",
              "      <td>93</td>\n",
              "      <td>89</td>\n",
              "      <td>95</td>\n",
              "    </tr>\n",
              "    <tr>\n",
              "      <th>22</th>\n",
              "      <td>10927</td>\n",
              "      <td>90</td>\n",
              "      <td>85</td>\n",
              "      <td>94</td>\n",
              "    </tr>\n",
              "    <tr>\n",
              "      <th>27</th>\n",
              "      <td>17913</td>\n",
              "      <td>87</td>\n",
              "      <td>93</td>\n",
              "      <td>87</td>\n",
              "    </tr>\n",
              "    <tr>\n",
              "      <th>39</th>\n",
              "      <td>19747</td>\n",
              "      <td>85</td>\n",
              "      <td>87</td>\n",
              "      <td>88</td>\n",
              "    </tr>\n",
              "    <tr>\n",
              "      <th>44</th>\n",
              "      <td>15945</td>\n",
              "      <td>83</td>\n",
              "      <td>99</td>\n",
              "      <td>83</td>\n",
              "    </tr>\n",
              "    <tr>\n",
              "      <th>46</th>\n",
              "      <td>13155</td>\n",
              "      <td>95</td>\n",
              "      <td>85</td>\n",
              "      <td>99</td>\n",
              "    </tr>\n",
              "    <tr>\n",
              "      <th>74</th>\n",
              "      <td>12793</td>\n",
              "      <td>92</td>\n",
              "      <td>85</td>\n",
              "      <td>93</td>\n",
              "    </tr>\n",
              "    <tr>\n",
              "      <th>86</th>\n",
              "      <td>18461</td>\n",
              "      <td>96</td>\n",
              "      <td>83</td>\n",
              "      <td>88</td>\n",
              "    </tr>\n",
              "    <tr>\n",
              "      <th>94</th>\n",
              "      <td>15907</td>\n",
              "      <td>90</td>\n",
              "      <td>100</td>\n",
              "      <td>99</td>\n",
              "    </tr>\n",
              "  </tbody>\n",
              "</table>\n",
              "</div>"
            ],
            "text/plain": [
              "       id  공창컴   화학  영어\n",
              "2   13119   93   89  95\n",
              "22  10927   90   85  94\n",
              "27  17913   87   93  87\n",
              "39  19747   85   87  88\n",
              "44  15945   83   99  83\n",
              "46  13155   95   85  99\n",
              "74  12793   92   85  93\n",
              "86  18461   96   83  88\n",
              "94  15907   90  100  99"
            ]
          },
          "metadata": {
            "tags": []
          },
          "execution_count": 11
        }
      ]
    },
    {
      "cell_type": "code",
      "metadata": {
        "trusted": false,
        "id": "vmp7zJc4r_80",
        "outputId": "e058018d-d2d1-482b-8452-eb726964961e",
        "colab": {
          "base_uri": "https://localhost:8080/",
          "height": 402
        }
      },
      "source": [
        "# 1과목이라도 70점 이하가 있는 학생 추출\n",
        "\n",
        "below70 = grade.query('공창컴<70 or 화학 <70 or 영어 <70')\n",
        "below70"
      ],
      "execution_count": null,
      "outputs": [
        {
          "output_type": "execute_result",
          "data": {
            "text/html": [
              "<div>\n",
              "<style scoped>\n",
              "    .dataframe tbody tr th:only-of-type {\n",
              "        vertical-align: middle;\n",
              "    }\n",
              "\n",
              "    .dataframe tbody tr th {\n",
              "        vertical-align: top;\n",
              "    }\n",
              "\n",
              "    .dataframe thead th {\n",
              "        text-align: right;\n",
              "    }\n",
              "</style>\n",
              "<table border=\"1\" class=\"dataframe\">\n",
              "  <thead>\n",
              "    <tr style=\"text-align: right;\">\n",
              "      <th></th>\n",
              "      <th>id</th>\n",
              "      <th>공창컴</th>\n",
              "      <th>화학</th>\n",
              "      <th>영어</th>\n",
              "    </tr>\n",
              "  </thead>\n",
              "  <tbody>\n",
              "    <tr>\n",
              "      <th>0</th>\n",
              "      <td>13019</td>\n",
              "      <td>73</td>\n",
              "      <td>61</td>\n",
              "      <td>47</td>\n",
              "    </tr>\n",
              "    <tr>\n",
              "      <th>1</th>\n",
              "      <td>10241</td>\n",
              "      <td>92</td>\n",
              "      <td>61</td>\n",
              "      <td>97</td>\n",
              "    </tr>\n",
              "    <tr>\n",
              "      <th>3</th>\n",
              "      <td>15565</td>\n",
              "      <td>90</td>\n",
              "      <td>56</td>\n",
              "      <td>51</td>\n",
              "    </tr>\n",
              "    <tr>\n",
              "      <th>5</th>\n",
              "      <td>11013</td>\n",
              "      <td>99</td>\n",
              "      <td>96</td>\n",
              "      <td>44</td>\n",
              "    </tr>\n",
              "    <tr>\n",
              "      <th>6</th>\n",
              "      <td>13387</td>\n",
              "      <td>91</td>\n",
              "      <td>64</td>\n",
              "      <td>89</td>\n",
              "    </tr>\n",
              "    <tr>\n",
              "      <th>...</th>\n",
              "      <td>...</td>\n",
              "      <td>...</td>\n",
              "      <td>...</td>\n",
              "      <td>...</td>\n",
              "    </tr>\n",
              "    <tr>\n",
              "      <th>93</th>\n",
              "      <td>18850</td>\n",
              "      <td>74</td>\n",
              "      <td>92</td>\n",
              "      <td>41</td>\n",
              "    </tr>\n",
              "    <tr>\n",
              "      <th>95</th>\n",
              "      <td>13988</td>\n",
              "      <td>99</td>\n",
              "      <td>63</td>\n",
              "      <td>89</td>\n",
              "    </tr>\n",
              "    <tr>\n",
              "      <th>96</th>\n",
              "      <td>10880</td>\n",
              "      <td>72</td>\n",
              "      <td>67</td>\n",
              "      <td>70</td>\n",
              "    </tr>\n",
              "    <tr>\n",
              "      <th>97</th>\n",
              "      <td>17470</td>\n",
              "      <td>70</td>\n",
              "      <td>79</td>\n",
              "      <td>40</td>\n",
              "    </tr>\n",
              "    <tr>\n",
              "      <th>98</th>\n",
              "      <td>15573</td>\n",
              "      <td>92</td>\n",
              "      <td>50</td>\n",
              "      <td>97</td>\n",
              "    </tr>\n",
              "  </tbody>\n",
              "</table>\n",
              "<p>66 rows × 4 columns</p>\n",
              "</div>"
            ],
            "text/plain": [
              "       id  공창컴  화학  영어\n",
              "0   13019   73  61  47\n",
              "1   10241   92  61  97\n",
              "3   15565   90  56  51\n",
              "5   11013   99  96  44\n",
              "6   13387   91  64  89\n",
              "..    ...  ...  ..  ..\n",
              "93  18850   74  92  41\n",
              "95  13988   99  63  89\n",
              "96  10880   72  67  70\n",
              "97  17470   70  79  40\n",
              "98  15573   92  50  97\n",
              "\n",
              "[66 rows x 4 columns]"
            ]
          },
          "metadata": {
            "tags": []
          },
          "execution_count": 12
        }
      ]
    },
    {
      "cell_type": "code",
      "metadata": {
        "id": "AXyc_zh3tLzU",
        "outputId": "1f6e23a4-5334-4716-e2a6-344466e437b0",
        "colab": {
          "base_uri": "https://localhost:8080/",
          "height": 34
        }
      },
      "source": [
        "from google.colab import drive\n",
        "drive.mount('/g')"
      ],
      "execution_count": null,
      "outputs": [
        {
          "output_type": "stream",
          "text": [
            "Mounted at /g\n"
          ],
          "name": "stdout"
        }
      ]
    },
    {
      "cell_type": "code",
      "metadata": {
        "id": "lnS89c8_t08K"
      },
      "source": [
        "grade.to_csv('/g/My Drive/Python_202002/grade.csv', index = False, encoding='cp949')"
      ],
      "execution_count": null,
      "outputs": []
    },
    {
      "cell_type": "code",
      "metadata": {
        "id": "XHH9h3eFuElH",
        "outputId": "2277645b-d841-49d0-c12b-79336ed6efcf",
        "colab": {
          "base_uri": "https://localhost:8080/",
          "height": 316
        }
      },
      "source": [
        "!ls '/g/My Drive/Python_202002'"
      ],
      "execution_count": null,
      "outputs": [
        {
          "output_type": "stream",
          "text": [
            "'10-1. 날짜 다루기.ipynb'\t        5-1.Function.ipynb\n",
            "'10-2. 예외처리.ipynb'\t\t       '5-2. 예제-자판기.ipynb'\n",
            "'11-1. 퀴즈 리뷰.ipynb'\t\t       '5-3. 예제_자판기2.ipynb'\n",
            "'11-2. Pandas intro.ipynb'\t       '6-1. 최대최소값 구하기.ipynb'\n",
            "'11-3. 데이터 읽기 쓰기(Colab).ipynb'  '6-2. 예제 곰과나무꾼.ipynb'\n",
            "'12-1. Pandas 데이터 확인.ipynb'       '6-3. 예제 메모장.ipynb'\n",
            "'12-2. 조건 검색.ipynb'\t\t       '7-1. Set.ipynb'\n",
            "'12-3. 연산하기.ipynb'\t\t       '7-2. 예제 - 로또 정답확인.ipynb'\n",
            "'2-1. Variables.ipynb'\t\t       '7-3. 예제 로또번호 분석기.ipynb'\n",
            "'2-2. Input.ipynb'\t\t       '8-1. 그래프.ipynb'\n",
            "'2-3. If.ipynb'\t\t\t       '8-2. 수학 그래프.ipynb'\n",
            "'3-1. while.ipynb'\t\t       '8-3 그래프 활용.ipynb'\n",
            "'3-2. for.ipynb'\t\t       '9-1. Numpy 기초.ipynb'\n",
            " 3-3.random.ipynb\t\t       '9-2. Numpy 기초 2.ipynb'\n",
            " 4-1.List.ipynb\t\t\t       '9-3 Numpy 활용.ipynb'\n",
            " 4-2.Dictionary.ipynb\t\t        grade.csv\n",
            "'4-3. 연습.ipynb'\t\t        report.txt\n"
          ],
          "name": "stdout"
        }
      ]
    },
    {
      "cell_type": "code",
      "metadata": {
        "id": "wcdxdpdXwNfd",
        "outputId": "30da86af-f0b9-495b-be04-121941372696",
        "colab": {
          "base_uri": "https://localhost:8080/",
          "height": 415
        }
      },
      "source": [
        "grade"
      ],
      "execution_count": null,
      "outputs": [
        {
          "output_type": "execute_result",
          "data": {
            "text/html": [
              "<div>\n",
              "<style scoped>\n",
              "    .dataframe tbody tr th:only-of-type {\n",
              "        vertical-align: middle;\n",
              "    }\n",
              "\n",
              "    .dataframe tbody tr th {\n",
              "        vertical-align: top;\n",
              "    }\n",
              "\n",
              "    .dataframe thead th {\n",
              "        text-align: right;\n",
              "    }\n",
              "</style>\n",
              "<table border=\"1\" class=\"dataframe\">\n",
              "  <thead>\n",
              "    <tr style=\"text-align: right;\">\n",
              "      <th></th>\n",
              "      <th>id</th>\n",
              "      <th>공창컴</th>\n",
              "      <th>화학</th>\n",
              "      <th>영어</th>\n",
              "    </tr>\n",
              "  </thead>\n",
              "  <tbody>\n",
              "    <tr>\n",
              "      <th>0</th>\n",
              "      <td>16808</td>\n",
              "      <td>74</td>\n",
              "      <td>100</td>\n",
              "      <td>96</td>\n",
              "    </tr>\n",
              "    <tr>\n",
              "      <th>1</th>\n",
              "      <td>11246</td>\n",
              "      <td>93</td>\n",
              "      <td>52</td>\n",
              "      <td>51</td>\n",
              "    </tr>\n",
              "    <tr>\n",
              "      <th>2</th>\n",
              "      <td>14482</td>\n",
              "      <td>76</td>\n",
              "      <td>50</td>\n",
              "      <td>40</td>\n",
              "    </tr>\n",
              "    <tr>\n",
              "      <th>3</th>\n",
              "      <td>19881</td>\n",
              "      <td>96</td>\n",
              "      <td>95</td>\n",
              "      <td>56</td>\n",
              "    </tr>\n",
              "    <tr>\n",
              "      <th>4</th>\n",
              "      <td>13831</td>\n",
              "      <td>71</td>\n",
              "      <td>79</td>\n",
              "      <td>91</td>\n",
              "    </tr>\n",
              "    <tr>\n",
              "      <th>...</th>\n",
              "      <td>...</td>\n",
              "      <td>...</td>\n",
              "      <td>...</td>\n",
              "      <td>...</td>\n",
              "    </tr>\n",
              "    <tr>\n",
              "      <th>95</th>\n",
              "      <td>15374</td>\n",
              "      <td>94</td>\n",
              "      <td>84</td>\n",
              "      <td>61</td>\n",
              "    </tr>\n",
              "    <tr>\n",
              "      <th>96</th>\n",
              "      <td>14818</td>\n",
              "      <td>86</td>\n",
              "      <td>62</td>\n",
              "      <td>49</td>\n",
              "    </tr>\n",
              "    <tr>\n",
              "      <th>97</th>\n",
              "      <td>19564</td>\n",
              "      <td>84</td>\n",
              "      <td>84</td>\n",
              "      <td>76</td>\n",
              "    </tr>\n",
              "    <tr>\n",
              "      <th>98</th>\n",
              "      <td>18058</td>\n",
              "      <td>83</td>\n",
              "      <td>94</td>\n",
              "      <td>67</td>\n",
              "    </tr>\n",
              "    <tr>\n",
              "      <th>99</th>\n",
              "      <td>18539</td>\n",
              "      <td>89</td>\n",
              "      <td>77</td>\n",
              "      <td>57</td>\n",
              "    </tr>\n",
              "  </tbody>\n",
              "</table>\n",
              "<p>100 rows × 4 columns</p>\n",
              "</div>"
            ],
            "text/plain": [
              "       id  공창컴   화학  영어\n",
              "0   16808   74  100  96\n",
              "1   11246   93   52  51\n",
              "2   14482   76   50  40\n",
              "3   19881   96   95  56\n",
              "4   13831   71   79  91\n",
              "..    ...  ...  ...  ..\n",
              "95  15374   94   84  61\n",
              "96  14818   86   62  49\n",
              "97  19564   84   84  76\n",
              "98  18058   83   94  67\n",
              "99  18539   89   77  57\n",
              "\n",
              "[100 rows x 4 columns]"
            ]
          },
          "metadata": {
            "tags": []
          },
          "execution_count": 44
        }
      ]
    },
    {
      "cell_type": "code",
      "metadata": {
        "id": "u4iP8g2ewQWe"
      },
      "source": [
        "grade.to_csv('/g/My Drive/Python_202002/grade2.csv', index = False)"
      ],
      "execution_count": null,
      "outputs": []
    },
    {
      "cell_type": "code",
      "metadata": {
        "id": "d6cMa3_Uf2TD"
      },
      "source": [
        ""
      ],
      "execution_count": null,
      "outputs": []
    }
  ]
}