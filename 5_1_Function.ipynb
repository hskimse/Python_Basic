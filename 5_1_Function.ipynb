{
  "nbformat": 4,
  "nbformat_minor": 0,
  "metadata": {
    "kernelspec": {
      "name": "python36",
      "display_name": "Python 3.6",
      "language": "python"
    },
    "language_info": {
      "mimetype": "text/x-python",
      "nbconvert_exporter": "python",
      "name": "python",
      "pygments_lexer": "ipython3",
      "version": "3.6.6",
      "file_extension": ".py",
      "codemirror_mode": {
        "version": 3,
        "name": "ipython"
      }
    },
    "colab": {
      "name": "5-1.Function.ipynb",
      "provenance": [],
      "include_colab_link": true
    }
  },
  "cells": [
    {
      "cell_type": "markdown",
      "metadata": {
        "id": "view-in-github",
        "colab_type": "text"
      },
      "source": [
        "<a href=\"https://colab.research.google.com/github/joohoshin/Python_Basic/blob/master/5_1_Function.ipynb\" target=\"_parent\"><img src=\"https://colab.research.google.com/assets/colab-badge.svg\" alt=\"Open In Colab\"/></a>"
      ]
    },
    {
      "cell_type": "markdown",
      "metadata": {
        "collapsed": true,
        "id": "ILT5nxoo_fkO",
        "colab_type": "text"
      },
      "source": [
        "# Function\n",
        "* 함수를 만들어서 반복적인 코딩을 줄일 수 있다. \n",
        "* def 함수명(입력변수):\n",
        "     - 실행문"
      ]
    },
    {
      "cell_type": "code",
      "metadata": {
        "trusted": true,
        "id": "4oL9spgF_fkQ",
        "colab_type": "code",
        "colab": {}
      },
      "source": [
        "def 직사각형넓이(가로, 세로):\n",
        "    area = 가로 * 세로\n",
        "    print(area)"
      ],
      "execution_count": null,
      "outputs": []
    },
    {
      "cell_type": "code",
      "metadata": {
        "trusted": true,
        "id": "IdIeifQh_fkU",
        "colab_type": "code",
        "colab": {
          "base_uri": "https://localhost:8080/",
          "height": 34
        },
        "outputId": "de5a62a2-22a7-4bf7-d4bc-78a1d55137c9"
      },
      "source": [
        "직사각형넓이(10,20)"
      ],
      "execution_count": null,
      "outputs": [
        {
          "output_type": "stream",
          "text": [
            "200\n"
          ],
          "name": "stdout"
        }
      ]
    },
    {
      "cell_type": "code",
      "metadata": {
        "trusted": true,
        "id": "4ZDU0tjz_fkY",
        "colab_type": "code",
        "colab": {
          "base_uri": "https://localhost:8080/",
          "height": 34
        },
        "outputId": "3d8d6967-e3fa-4c3e-9c8f-259d76889fd3"
      },
      "source": [
        "직사각형넓이(100,300)"
      ],
      "execution_count": null,
      "outputs": [
        {
          "output_type": "stream",
          "text": [
            "30000\n"
          ],
          "name": "stdout"
        }
      ]
    },
    {
      "cell_type": "markdown",
      "metadata": {
        "id": "-bup0doV_fkb",
        "colab_type": "text"
      },
      "source": [
        "* return 반환값을 적어주면 함수의 값을 변수로 넘겨받아서 사용할 수 있다"
      ]
    },
    {
      "cell_type": "code",
      "metadata": {
        "trusted": true,
        "id": "L-gTRaIv_fkb",
        "colab_type": "code",
        "colab": {}
      },
      "source": [
        "def BMI(체중, 신장): # 체중은 kg, 신장은 cm로 입력 받는다고 가정\n",
        "    return 체중/(신장/100)**2"
      ],
      "execution_count": null,
      "outputs": []
    },
    {
      "cell_type": "code",
      "metadata": {
        "trusted": true,
        "id": "GiIZKRde_fkg",
        "colab_type": "code",
        "colab": {
          "base_uri": "https://localhost:8080/",
          "height": 34
        },
        "outputId": "e14739a4-e296-4c8a-ad94-e8ec344799fa"
      },
      "source": [
        "bmi1 = BMI(80, 175)\n",
        "bmi2 = BMI(60, 180)\n",
        "\n",
        "if bmi1>bmi2: \n",
        "    print('bmi1이 더 큽니다')\n",
        "else: \n",
        "    print('bmi2가 더 큽니다 ')\n",
        "\n"
      ],
      "execution_count": null,
      "outputs": [
        {
          "output_type": "stream",
          "text": [
            "bmi1이 더 큽니다\n"
          ],
          "name": "stdout"
        }
      ]
    },
    {
      "cell_type": "markdown",
      "metadata": {
        "id": "RrFK1lQj_fkj",
        "colab_type": "text"
      },
      "source": [
        "* ??함수명 을 사용하면 함수의 도움말이나 함수의 코드가 나온다"
      ]
    },
    {
      "cell_type": "code",
      "metadata": {
        "trusted": true,
        "id": "KjkrE0wU_fkj",
        "colab_type": "code",
        "colab": {}
      },
      "source": [
        "??print"
      ],
      "execution_count": null,
      "outputs": []
    },
    {
      "cell_type": "code",
      "metadata": {
        "trusted": true,
        "id": "a_KDWtX9_fkm",
        "colab_type": "code",
        "colab": {}
      },
      "source": [
        "??BMI"
      ],
      "execution_count": null,
      "outputs": []
    },
    {
      "cell_type": "markdown",
      "metadata": {
        "id": "xy1M-8WH_fkq",
        "colab_type": "text"
      },
      "source": [
        "# 활용: 숫자의 합을 구하는 함수 만들기"
      ]
    },
    {
      "cell_type": "markdown",
      "metadata": {
        "id": "a-djEiKe_fkr",
        "colab_type": "text"
      },
      "source": [
        "* 함수 미 사용시"
      ]
    },
    {
      "cell_type": "code",
      "metadata": {
        "trusted": true,
        "id": "xcITAV9k_fkr",
        "colab_type": "code",
        "colab": {
          "base_uri": "https://localhost:8080/",
          "height": 34
        },
        "outputId": "493ccae7-ead3-4324-9069-b15c2e58275c"
      },
      "source": [
        "start_num = 300\n",
        "end_num = 5000\n",
        "sum_ = 0\n",
        "for i in range(start_num, end_num+1):\n",
        "    sum_ += i # sum_ = sum_ + i\n",
        "print(sum_)"
      ],
      "execution_count": null,
      "outputs": [
        {
          "output_type": "stream",
          "text": [
            "12457650\n"
          ],
          "name": "stdout"
        }
      ]
    },
    {
      "cell_type": "markdown",
      "metadata": {
        "id": "OatPe6Vo_fku",
        "colab_type": "text"
      },
      "source": [
        "* 함수 사용 시"
      ]
    },
    {
      "cell_type": "code",
      "metadata": {
        "trusted": true,
        "id": "REqTGH8E_fkv",
        "colab_type": "code",
        "colab": {
          "base_uri": "https://localhost:8080/",
          "height": 34
        },
        "outputId": "674a73c7-6cd7-4bdc-bede-790f6e7a8fcb"
      },
      "source": [
        "def sum_num(start_num, end_num):\n",
        "    sum_=0\n",
        "    for i in range(start_num, end_num+1):\n",
        "        sum_ += i\n",
        "    return sum_\n",
        "\n",
        "sum1 = sum_num(1,100)\n",
        "sum2 = sum_num(50, 110)\n",
        "if sum1> sum2:\n",
        "    print('sum1이 큽니다')\n",
        "else: print('sum2가 큽니다')"
      ],
      "execution_count": null,
      "outputs": [
        {
          "output_type": "stream",
          "text": [
            "sum1이 큽니다\n"
          ],
          "name": "stdout"
        }
      ]
    },
    {
      "cell_type": "markdown",
      "metadata": {
        "id": "VwLXaktO_fky",
        "colab_type": "text"
      },
      "source": [
        "* 함수사용 , 입력한 숫자의 배수 합계 구하기"
      ]
    },
    {
      "cell_type": "code",
      "metadata": {
        "trusted": true,
        "id": "zWRb9EYY_fky",
        "colab_type": "code",
        "colab": {
          "base_uri": "https://localhost:8080/",
          "height": 34
        },
        "outputId": "c301be11-f771-4eec-9731-bccd701aa8d3"
      },
      "source": [
        "def sum_num2(start_num, end_num, n):\n",
        "    sum_=0\n",
        "    for i in range(start_num, end_num+1):\n",
        "        if i % n==0:\n",
        "            #print(i)\n",
        "            sum_ += i\n",
        "    return sum_\n",
        "sum1 = sum_num2(1,20,3)\n",
        "print('총합계는',sum1)"
      ],
      "execution_count": null,
      "outputs": [
        {
          "output_type": "stream",
          "text": [
            "총합계는 63\n"
          ],
          "name": "stdout"
        }
      ]
    },
    {
      "cell_type": "code",
      "metadata": {
        "trusted": true,
        "id": "TouDH12Q_fk1",
        "colab_type": "code",
        "colab": {
          "base_uri": "https://localhost:8080/",
          "height": 34
        },
        "outputId": "e6e465f8-708c-4fe2-df1a-bdeb08aa7ac4"
      },
      "source": [
        "sum2 = sum_num2(3,1000, 7)\n",
        "print('sum2 합계', sum2)"
      ],
      "execution_count": null,
      "outputs": [
        {
          "output_type": "stream",
          "text": [
            "sum2 합계 71071\n"
          ],
          "name": "stdout"
        }
      ]
    },
    {
      "cell_type": "code",
      "metadata": {
        "trusted": true,
        "id": "cgclLwyw_fk4",
        "colab_type": "code",
        "colab": {}
      },
      "source": [
        ""
      ],
      "execution_count": null,
      "outputs": []
    }
  ]
}