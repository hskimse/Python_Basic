{
  "nbformat": 4,
  "nbformat_minor": 0,
  "metadata": {
    "kernelspec": {
      "display_name": "Python 3",
      "language": "python",
      "name": "python3"
    },
    "language_info": {
      "codemirror_mode": {
        "name": "ipython",
        "version": 3
      },
      "file_extension": ".py",
      "mimetype": "text/x-python",
      "name": "python",
      "nbconvert_exporter": "python",
      "pygments_lexer": "ipython3",
      "version": "3.7.6"
    },
    "colab": {
      "name": "9-1. Numpy 기초.ipynb",
      "provenance": [],
      "include_colab_link": true
    }
  },
  "cells": [
    {
      "cell_type": "markdown",
      "metadata": {
        "id": "view-in-github",
        "colab_type": "text"
      },
      "source": [
        "<a href=\"https://colab.research.google.com/github/joohoshin/Python_Basic/blob/master/9_1_Numpy_%EA%B8%B0%EC%B4%88.ipynb\" target=\"_parent\"><img src=\"https://colab.research.google.com/assets/colab-badge.svg\" alt=\"Open In Colab\"/></a>"
      ]
    },
    {
      "cell_type": "markdown",
      "metadata": {
        "id": "xemEvyAvrBlS"
      },
      "source": [
        "# Numpy Basic\n",
        "* numpy의 array는 list와 유사하나 특화 기능이 조금 다릅니다. \n",
        "* numpy 배열과 list는 쉽게 변환 가능합니다\n",
        "* 리스트는 문자, 숫자, 리스트 등 다양한 요소를 넣을 수 있으나, numpy array는 한가지 데이터 타입만 저장 가능합니다"
      ]
    },
    {
      "cell_type": "markdown",
      "metadata": {
        "id": "T5Cy1KGTrBlU"
      },
      "source": [
        "* numpy array는 list와 달리 배열이 바로 연산 가능합니다"
      ]
    },
    {
      "cell_type": "code",
      "metadata": {
        "id": "9uhzIzKjrBlW",
        "outputId": "6dc463c5-db67-4340-f2f7-9e617e1a12da",
        "colab": {
          "base_uri": "https://localhost:8080/",
          "height": 35
        }
      },
      "source": [
        "# 리스트에서 각각의 요소에 100을 더하는 경우\n",
        "num = [1,3,4,8,-1]\n",
        "num_100 = [i+100 for i in num]\n",
        "print(num_100)"
      ],
      "execution_count": null,
      "outputs": [
        {
          "output_type": "stream",
          "text": [
            "[101, 103, 104, 108, 99]\n"
          ],
          "name": "stdout"
        }
      ]
    },
    {
      "cell_type": "markdown",
      "metadata": {
        "id": "Gt4MZpCbrBlf"
      },
      "source": [
        "* np.array()를 통해 리스트를 numpy array로 바꿀 수 있습니다"
      ]
    },
    {
      "cell_type": "code",
      "metadata": {
        "id": "T_hj_RFbrBlh",
        "outputId": "c511f28c-54c9-4482-9aeb-eef17727d4d0",
        "colab": {
          "base_uri": "https://localhost:8080/",
          "height": 35
        }
      },
      "source": [
        "# numpy array 연산\n",
        "import numpy as np\n",
        "num = [1,3,4,8,-1]\n",
        "num_arr = np.array(num) # 리스트를 numpy array로 변경\n",
        "num_100 = num_arr + 100\n",
        "print(num_100)"
      ],
      "execution_count": null,
      "outputs": [
        {
          "output_type": "stream",
          "text": [
            "[101 103 104 108  99]\n"
          ],
          "name": "stdout"
        }
      ]
    },
    {
      "cell_type": "markdown",
      "metadata": {
        "id": "pHi1mf_ArBlm"
      },
      "source": [
        "##### array 연산\n",
        "* 배열끼리의 연산이 되므로 코딩이 매우 간결해집니다"
      ]
    },
    {
      "cell_type": "code",
      "metadata": {
        "id": "EIiegWjrrBln",
        "outputId": "5b456be9-7e7f-41be-b327-facebf17844d"
      },
      "source": [
        "# 리스트에 18, 19년 1,2,3,4분기 매출이 저장되어 있어\n",
        "# 얼마나 늘었는지 보려고 합니다\n",
        "\n",
        "year_18 = [100,200,210, 300]\n",
        "year_19 = [110,220,300, 350]\n",
        "\n",
        "# 리스트는 같은 위치끼리 연산이 안되므로\n",
        "rev_diff = [] \n",
        "for i in range(4):\n",
        "    diff = year_19[i] - year_18[i]\n",
        "    rev_diff.append(diff)\n",
        "    \n",
        "print(rev_diff)"
      ],
      "execution_count": null,
      "outputs": [
        {
          "output_type": "stream",
          "text": [
            "[10, 20, 90, 50]\n"
          ],
          "name": "stdout"
        }
      ]
    },
    {
      "cell_type": "code",
      "metadata": {
        "id": "dspQuGghrBlt",
        "outputId": "764c203b-3465-415a-afc3-eec04d4bb69f",
        "colab": {
          "base_uri": "https://localhost:8080/",
          "height": 35
        }
      },
      "source": [
        "# numpy 활용\n",
        "year_18 = [100,200,210, 300]\n",
        "year_19 = [110,220,300, 350]\n",
        "\n",
        "# np array는 같은 위치끼리 연산이 되므로\n",
        "year_18_np = np.array(year_18)\n",
        "year_19_np = np.array(year_19)\n",
        "rev_diff = year_19_np-year_18_np\n",
        "print(rev_diff)"
      ],
      "execution_count": null,
      "outputs": [
        {
          "output_type": "stream",
          "text": [
            "[10 20 90 50]\n"
          ],
          "name": "stdout"
        }
      ]
    },
    {
      "cell_type": "markdown",
      "metadata": {
        "id": "9smhyCfIrBl2"
      },
      "source": [
        "##### 2차 배열(행렬) 만들기\n",
        "* numpy는 행렬 연산이 가능합니다"
      ]
    },
    {
      "cell_type": "code",
      "metadata": {
        "id": "TUnhgMeNrBl2",
        "outputId": "9226364f-aac3-49ae-93a7-51045fe1df91",
        "colab": {
          "base_uri": "https://localhost:8080/",
          "height": 53
        }
      },
      "source": [
        "# 리스트 2차 배열 형태로 만들기\n",
        "data_2d = [[1,2,3], [4,5,6], [7,8,9]]\n",
        "print(data_2d)\n",
        "print(data_2d[0][1])"
      ],
      "execution_count": null,
      "outputs": [
        {
          "output_type": "stream",
          "text": [
            "[[1, 2, 3], [4, 5, 6], [7, 8, 9]]\n",
            "2\n"
          ],
          "name": "stdout"
        }
      ]
    },
    {
      "cell_type": "code",
      "metadata": {
        "id": "S_mnCoD7x7eG",
        "outputId": "f44436bd-fe8e-4a6e-c765-e08f6e8a4910",
        "colab": {
          "base_uri": "https://localhost:8080/",
          "height": 35
        }
      },
      "source": [
        "data_2d[0]"
      ],
      "execution_count": null,
      "outputs": [
        {
          "output_type": "execute_result",
          "data": {
            "text/plain": [
              "[1, 2, 3]"
            ]
          },
          "metadata": {
            "tags": []
          },
          "execution_count": 5
        }
      ]
    },
    {
      "cell_type": "code",
      "metadata": {
        "id": "6va4b9TxyANQ",
        "outputId": "915114c8-5f91-4dfa-d7a1-77d7069649fc",
        "colab": {
          "base_uri": "https://localhost:8080/",
          "height": 35
        }
      },
      "source": [
        "data_2d[0][1]"
      ],
      "execution_count": null,
      "outputs": [
        {
          "output_type": "execute_result",
          "data": {
            "text/plain": [
              "2"
            ]
          },
          "metadata": {
            "tags": []
          },
          "execution_count": 6
        }
      ]
    },
    {
      "cell_type": "code",
      "metadata": {
        "id": "1489crBkrBl6",
        "outputId": "71f72ad5-c3af-405c-ebaf-d5c30e909150",
        "colab": {
          "base_uri": "https://localhost:8080/",
          "height": 89
        }
      },
      "source": [
        "# numpy 2d array로 변경\n",
        "data_2d_arr = np.array(data_2d)\n",
        "print(data_2d_arr)\n",
        "print(data_2d_arr[0][1])"
      ],
      "execution_count": null,
      "outputs": [
        {
          "output_type": "stream",
          "text": [
            "[[1 2 3]\n",
            " [4 5 6]\n",
            " [7 8 9]]\n",
            "2\n"
          ],
          "name": "stdout"
        }
      ]
    },
    {
      "cell_type": "markdown",
      "metadata": {
        "id": "eMc-ef5FrBl-"
      },
      "source": [
        "##### 행렬 연산\n",
        "* 2d array도 연산이 가능합니다"
      ]
    },
    {
      "cell_type": "code",
      "metadata": {
        "id": "Num_Cwf7rBl_",
        "outputId": "0ab507c4-c018-4066-f497-2df8fc956614",
        "colab": {
          "base_uri": "https://localhost:8080/",
          "height": 289
        }
      },
      "source": [
        "arr1 = np.array([[1,2,3],[4,5,6],[7,8,9]])\n",
        "arr2 = np.array([[3,4,5],[6,7,8],[9,10,11]])\n",
        "print(arr1)\n",
        "print(arr2)\n",
        "print(arr2-arr1)\n",
        "print(arr2*arr1)\n",
        "print(arr2/arr1)"
      ],
      "execution_count": null,
      "outputs": [
        {
          "output_type": "stream",
          "text": [
            "[[1 2 3]\n",
            " [4 5 6]\n",
            " [7 8 9]]\n",
            "[[ 3  4  5]\n",
            " [ 6  7  8]\n",
            " [ 9 10 11]]\n",
            "[[2 2 2]\n",
            " [2 2 2]\n",
            " [2 2 2]]\n",
            "[[ 3  8 15]\n",
            " [24 35 48]\n",
            " [63 80 99]]\n",
            "[[3.         2.         1.66666667]\n",
            " [1.5        1.4        1.33333333]\n",
            " [1.28571429 1.25       1.22222222]]\n"
          ],
          "name": "stdout"
        }
      ]
    },
    {
      "cell_type": "markdown",
      "metadata": {
        "id": "YEIdBO9jrBmC"
      },
      "source": [
        "* 행렬 연산도 가능합니다\n",
        "* 행렬 곱은 @ 또는 np.dot()을 사용하면 됩니다"
      ]
    },
    {
      "cell_type": "code",
      "metadata": {
        "id": "eHRKEsx7rBmC",
        "outputId": "63e66882-8b37-4149-a6bf-db24924fa2bd",
        "colab": {
          "base_uri": "https://localhost:8080/",
          "height": 71
        }
      },
      "source": [
        "arr1 @ arr2"
      ],
      "execution_count": null,
      "outputs": [
        {
          "output_type": "execute_result",
          "data": {
            "text/plain": [
              "array([[ 42,  48,  54],\n",
              "       [ 96, 111, 126],\n",
              "       [150, 174, 198]])"
            ]
          },
          "metadata": {
            "tags": []
          },
          "execution_count": 9
        }
      ]
    },
    {
      "cell_type": "code",
      "metadata": {
        "id": "xzxAL7rdrBmE",
        "outputId": "17e180c1-1953-4887-aa17-01f5049214c0",
        "colab": {
          "base_uri": "https://localhost:8080/",
          "height": 71
        }
      },
      "source": [
        "np.dot(arr1, arr2)"
      ],
      "execution_count": null,
      "outputs": [
        {
          "output_type": "execute_result",
          "data": {
            "text/plain": [
              "array([[ 42,  48,  54],\n",
              "       [ 96, 111, 126],\n",
              "       [150, 174, 198]])"
            ]
          },
          "metadata": {
            "tags": []
          },
          "execution_count": 10
        }
      ]
    },
    {
      "cell_type": "code",
      "metadata": {
        "id": "_4VZDHjbrBmH",
        "outputId": "10cecf96-0310-482f-c931-922afca6e03c",
        "colab": {
          "base_uri": "https://localhost:8080/",
          "height": 71
        }
      },
      "source": [
        "# transpose (전치행렬)\n",
        "# 행렬을 바꿈\n",
        "arr1.transpose()"
      ],
      "execution_count": null,
      "outputs": [
        {
          "output_type": "execute_result",
          "data": {
            "text/plain": [
              "array([[1, 4, 7],\n",
              "       [2, 5, 8],\n",
              "       [3, 6, 9]])"
            ]
          },
          "metadata": {
            "tags": []
          },
          "execution_count": 11
        }
      ]
    },
    {
      "cell_type": "markdown",
      "metadata": {
        "id": "d_wZ7uuirBmJ"
      },
      "source": [
        "* np.linspace()는 범위를 입력 개수로 등간격으로 나누어줍니다\n",
        "* 그래프를 그릴 때 유용합니다"
      ]
    },
    {
      "cell_type": "code",
      "metadata": {
        "id": "ueIJzyvXrBmK",
        "outputId": "f81125dd-153f-4ed2-a488-305764e90226"
      },
      "source": [
        "np.linspace(1,3, num=100)"
      ],
      "execution_count": null,
      "outputs": [
        {
          "output_type": "execute_result",
          "data": {
            "text/plain": [
              "array([1.        , 1.02020202, 1.04040404, 1.06060606, 1.08080808,\n",
              "       1.1010101 , 1.12121212, 1.14141414, 1.16161616, 1.18181818,\n",
              "       1.2020202 , 1.22222222, 1.24242424, 1.26262626, 1.28282828,\n",
              "       1.3030303 , 1.32323232, 1.34343434, 1.36363636, 1.38383838,\n",
              "       1.4040404 , 1.42424242, 1.44444444, 1.46464646, 1.48484848,\n",
              "       1.50505051, 1.52525253, 1.54545455, 1.56565657, 1.58585859,\n",
              "       1.60606061, 1.62626263, 1.64646465, 1.66666667, 1.68686869,\n",
              "       1.70707071, 1.72727273, 1.74747475, 1.76767677, 1.78787879,\n",
              "       1.80808081, 1.82828283, 1.84848485, 1.86868687, 1.88888889,\n",
              "       1.90909091, 1.92929293, 1.94949495, 1.96969697, 1.98989899,\n",
              "       2.01010101, 2.03030303, 2.05050505, 2.07070707, 2.09090909,\n",
              "       2.11111111, 2.13131313, 2.15151515, 2.17171717, 2.19191919,\n",
              "       2.21212121, 2.23232323, 2.25252525, 2.27272727, 2.29292929,\n",
              "       2.31313131, 2.33333333, 2.35353535, 2.37373737, 2.39393939,\n",
              "       2.41414141, 2.43434343, 2.45454545, 2.47474747, 2.49494949,\n",
              "       2.51515152, 2.53535354, 2.55555556, 2.57575758, 2.5959596 ,\n",
              "       2.61616162, 2.63636364, 2.65656566, 2.67676768, 2.6969697 ,\n",
              "       2.71717172, 2.73737374, 2.75757576, 2.77777778, 2.7979798 ,\n",
              "       2.81818182, 2.83838384, 2.85858586, 2.87878788, 2.8989899 ,\n",
              "       2.91919192, 2.93939394, 2.95959596, 2.97979798, 3.        ])"
            ]
          },
          "metadata": {
            "tags": []
          },
          "execution_count": 27
        }
      ]
    },
    {
      "cell_type": "code",
      "metadata": {
        "id": "TsciK1bRrBmN"
      },
      "source": [
        ""
      ],
      "execution_count": null,
      "outputs": []
    }
  ]
}