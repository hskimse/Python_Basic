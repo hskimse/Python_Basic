{
  "nbformat": 4,
  "nbformat_minor": 0,
  "metadata": {
    "kernelspec": {
      "name": "python36",
      "display_name": "Python 3.6",
      "language": "python"
    },
    "language_info": {
      "mimetype": "text/x-python",
      "nbconvert_exporter": "python",
      "name": "python",
      "pygments_lexer": "ipython3",
      "version": "3.6.6",
      "file_extension": ".py",
      "codemirror_mode": {
        "version": 3,
        "name": "ipython"
      }
    },
    "colab": {
      "name": "3-3.random.ipynb",
      "provenance": [],
      "include_colab_link": true
    }
  },
  "cells": [
    {
      "cell_type": "markdown",
      "metadata": {
        "id": "view-in-github",
        "colab_type": "text"
      },
      "source": [
        "<a href=\"https://colab.research.google.com/github/joohoshin/Python_Basic/blob/master/3_3_random.ipynb\" target=\"_parent\"><img src=\"https://colab.research.google.com/assets/colab-badge.svg\" alt=\"Open In Colab\"/></a>"
      ]
    },
    {
      "cell_type": "markdown",
      "metadata": {
        "collapsed": true,
        "id": "lm4ooLabmWhS",
        "colab_type": "text"
      },
      "source": [
        "# random \n",
        "* random 라이브러리를 불러오면 난수를 발생할 수 있다\n",
        "* 정수의 난수 생성은 randint()를 사용한다. "
      ]
    },
    {
      "cell_type": "code",
      "metadata": {
        "trusted": true,
        "id": "r52XgEdwmWhT",
        "colab_type": "code",
        "colab": {
          "base_uri": "https://localhost:8080/",
          "height": 34
        },
        "outputId": "9c6c23de-15af-4066-c5e1-25d19d12894b"
      },
      "source": [
        "# 난수 발생\n",
        "import random \n",
        "print(random.randint(1,2))"
      ],
      "execution_count": null,
      "outputs": [
        {
          "output_type": "stream",
          "text": [
            "1\n"
          ],
          "name": "stdout"
        }
      ]
    },
    {
      "cell_type": "markdown",
      "metadata": {
        "id": "P_tQYQQfmWha",
        "colab_type": "text"
      },
      "source": [
        "* 지금까지 배운것들을 활용하면 숫자 맞추기 게임을 만들 수 있다.\n",
        "* 1~100 사이의 숫자를 큰지 작은지 알려주며 맞추도록 유도한다. "
      ]
    },
    {
      "cell_type": "code",
      "metadata": {
        "trusted": true,
        "id": "3AoBcNp2mWhb",
        "colab_type": "code",
        "colab": {
          "base_uri": "https://localhost:8080/",
          "height": 562
        },
        "outputId": "c6ab4170-9171-469b-b238-8fbe64eb6279"
      },
      "source": [
        "import random\n",
        "\n",
        "pick = random.randint(1,100)\n",
        "for count in range(10):  #최대 10번까지 입력\n",
        "    print()\n",
        "    number = int(input('숫자를 입력하세요: '))\n",
        "    if number==pick: \n",
        "        print('정답입니다')\n",
        "        break\n",
        "    elif number <pick:\n",
        "        print('더 큰 숫자입니다. ')\n",
        "        if count==9:\n",
        "            print('아쉽게도 못 맞추셨군요')\n",
        "    elif number >pick:\n",
        "        print('더 작은 숫자입니다')\n",
        "        if count==9:\n",
        "            print('아쉽게도 못 맞추셨군요')"
      ],
      "execution_count": null,
      "outputs": [
        {
          "output_type": "stream",
          "text": [
            "\n",
            "숫자를 입력하세요: 100\n",
            "더 작은 숫자입니다\n",
            "\n",
            "숫자를 입력하세요: 80\n",
            "더 큰 숫자입니다. \n",
            "\n",
            "숫자를 입력하세요: 90\n",
            "더 큰 숫자입니다. \n",
            "\n",
            "숫자를 입력하세요: 91\n",
            "더 큰 숫자입니다. \n",
            "\n",
            "숫자를 입력하세요: 92\n",
            "더 큰 숫자입니다. \n",
            "\n",
            "숫자를 입력하세요: 93\n",
            "더 큰 숫자입니다. \n",
            "\n",
            "숫자를 입력하세요: 94\n",
            "더 큰 숫자입니다. \n",
            "\n",
            "숫자를 입력하세요: 95\n",
            "더 큰 숫자입니다. \n",
            "\n",
            "숫자를 입력하세요: 96\n",
            "더 큰 숫자입니다. \n",
            "\n",
            "숫자를 입력하세요: 97\n",
            "더 큰 숫자입니다. \n",
            "아쉽게도 못 맞추셨군요\n"
          ],
          "name": "stdout"
        }
      ]
    },
    {
      "cell_type": "markdown",
      "metadata": {
        "id": "mmsCpdttmWhe",
        "colab_type": "text"
      },
      "source": [
        "# 계산기 예제\n",
        "* math 라이브러리에서 pi값을 가져올 수 있다. "
      ]
    },
    {
      "cell_type": "code",
      "metadata": {
        "trusted": true,
        "id": "BFvGBApvmWhf",
        "colab_type": "code",
        "colab": {
          "base_uri": "https://localhost:8080/",
          "height": 34
        },
        "outputId": "e8afca2e-eecb-4e5d-84f9-39cf38daf96e"
      },
      "source": [
        "import math\n",
        "math.pi"
      ],
      "execution_count": null,
      "outputs": [
        {
          "output_type": "execute_result",
          "data": {
            "text/plain": [
              "3.141592653589793"
            ]
          },
          "metadata": {
            "tags": []
          },
          "execution_count": 6
        }
      ]
    },
    {
      "cell_type": "markdown",
      "metadata": {
        "id": "vGXwjd3LmWhk",
        "colab_type": "text"
      },
      "source": [
        "* 조건식의 결과는 True, False이다\n",
        "* and, or를 써서 여러 개 조건을 동시에 비교할 수 있다\n",
        "* 같지 않다는 것은 != 이다"
      ]
    },
    {
      "cell_type": "code",
      "metadata": {
        "trusted": true,
        "id": "pJiWRYSLmWhk",
        "colab_type": "code",
        "colab": {
          "base_uri": "https://localhost:8080/",
          "height": 35
        },
        "outputId": "ed6f2ee9-1502-48a3-bde2-edc67e7e360d"
      },
      "source": [
        "3>1"
      ],
      "execution_count": null,
      "outputs": [
        {
          "output_type": "execute_result",
          "data": {
            "text/plain": [
              "True"
            ]
          },
          "metadata": {
            "tags": []
          },
          "execution_count": 11
        }
      ]
    },
    {
      "cell_type": "code",
      "metadata": {
        "trusted": true,
        "id": "WL0wI5o9mWho",
        "colab_type": "code",
        "colab": {
          "base_uri": "https://localhost:8080/",
          "height": 35
        },
        "outputId": "c5efb161-9084-46c1-9764-32364b943950"
      },
      "source": [
        "id = 'a'\n",
        "pw = 'b'\n",
        "if id=='a' and pw == 'b':\n",
        "    print('로그인 성공')"
      ],
      "execution_count": null,
      "outputs": [
        {
          "output_type": "stream",
          "text": [
            "로그인 성공\n"
          ],
          "name": "stdout"
        }
      ]
    },
    {
      "cell_type": "code",
      "metadata": {
        "trusted": true,
        "id": "xZ1S3OBimWhs",
        "colab_type": "code",
        "colab": {
          "base_uri": "https://localhost:8080/",
          "height": 35
        },
        "outputId": "088720b9-7af1-4442-8ec0-42fad01e2cb7"
      },
      "source": [
        "a = 1\n",
        "b = 2\n",
        "if a!=b: \n",
        "    print('두 값은 다릅니다')"
      ],
      "execution_count": null,
      "outputs": [
        {
          "output_type": "stream",
          "text": [
            "두 값은 다릅니다\n"
          ],
          "name": "stdout"
        }
      ]
    },
    {
      "cell_type": "code",
      "metadata": {
        "trusted": true,
        "id": "Gp0yE3Q0mWhv",
        "colab_type": "code",
        "colab": {
          "base_uri": "https://localhost:8080/",
          "height": 197
        },
        "outputId": "5d07c966-ab23-4916-b413-fead8f2eb0c5"
      },
      "source": [
        "import math  # 수학 관련 라이브러리, 파이값을 불러올수 있다 .\n",
        "\n",
        "while True: # 조건식에 True를 넣으면 무한반복\n",
        "    print()\n",
        "    menu = input('계산하고 싶은 것은? 0. 종료 1.직사각형 넓이, 2.삼각형 넓이, 3.원의 넓이')\n",
        "    if menu =='1':\n",
        "        가로 = float(input('가로를 입력하세요'))\n",
        "        세로 = float(input('세로를 입력하세요'))\n",
        "        print('직사각형의 넓이는 {} 입니다. '.format(가로* 세로))\n",
        "    elif menu =='2':\n",
        "        밑변 = float(input('밑변을 입력하세요'))\n",
        "        높이 = float(input('높이를 입력하세요'))\n",
        "        print('삼각형의 넓이는 {} 입니다. '.format(밑변* 높이/2))\n",
        "    elif menu =='3':\n",
        "        반지름 = float(input('반지름을 입력하세요'))\n",
        "        print('원의 넓이는 {} 입니다. '.format(math.pi*반지름**2))\n",
        "    elif menu =='0':\n",
        "        break\n",
        "    else:\n",
        "        print('다시입력하세요')"
      ],
      "execution_count": null,
      "outputs": [
        {
          "output_type": "stream",
          "text": [
            "\n",
            "계산하고 싶은 것은? 0. 종료 1.직사각형 넓이, 2.삼각형 넓이, 3.원의 넓이2\n",
            "밑변을 입력하세요20\n",
            "높이를 입력하세요10\n",
            "삼각형의 넓이는 100.0 입니다. \n",
            "\n",
            "계산하고 싶은 것은? 0. 종료 1.직사각형 넓이, 2.삼각형 넓이, 3.원의 넓이5\n",
            "다시입력하세요\n",
            "\n",
            "계산하고 싶은 것은? 0. 종료 1.직사각형 넓이, 2.삼각형 넓이, 3.원의 넓이0\n"
          ],
          "name": "stdout"
        }
      ]
    },
    {
      "cell_type": "code",
      "metadata": {
        "trusted": true,
        "id": "_w-yChjimWhy",
        "colab_type": "code",
        "colab": {}
      },
      "source": [
        ""
      ],
      "execution_count": null,
      "outputs": []
    }
  ]
}